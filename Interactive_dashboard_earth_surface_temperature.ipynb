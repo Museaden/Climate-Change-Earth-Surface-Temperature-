{
 "cells": [
  {
   "cell_type": "markdown",
   "id": "f113670d-5ff5-4896-ab20-579ced5a6f47",
   "metadata": {},
   "source": [
    "# Climate Change: Earth Surface Temperature\n",
    "\n",
    "You found data from https://www.kaggle.com/datasets/berkeleyearth/climate-change-earth-surface-temperature-data/code and you can get more information from the website. I want know how the Earth Surface Temperature  change in 1791 up to 2013. "
   ]
  },
  {
   "cell_type": "markdown",
   "id": "91ce1b68-11af-4950-a9a2-baeb212d46e8",
   "metadata": {},
   "source": [
    "## About Data\n",
    "\n",
    "* Date: starts in 1750 for average land temperature\n",
    "* LandAverageTemperature: global average land temperature in celsius\n",
    "* LandAverageTemperatureUncertainty: the 95% confidence interval around the average\n",
    "* City\n",
    "* Country"
   ]
  },
  {
   "cell_type": "markdown",
   "id": "9d5bd87a-19b9-44d1-beb0-c60219f861ba",
   "metadata": {},
   "source": [
    "# Objectives\n",
    "\n",
    "By the end of this case study, you will be able to answer the following questions:\n",
    "* How the average temperature change in 1791 up to 2013\n",
    "* Hotest cities in the world \n",
    "* Hotest country in the world"
   ]
  },
  {
   "cell_type": "markdown",
   "id": "386a3b10-b4dc-4c2c-967d-2ce3f97ba131",
   "metadata": {},
   "source": [
    "# Data Analysis\n",
    "Data is one of the key features of any organization because it helps business leaders make informed decisions about statistics and trends. Due to this growing data, data science has entered the picture which is a multidisciplinary field. It uses scientific approaches, procedure, algorithms, and framework to extract the knowledge and insight from a huge amount of data."
   ]
  },
  {
   "cell_type": "code",
   "execution_count": 51,
   "id": "f3915990-038f-462f-b7e4-6c80eefd8dda",
   "metadata": {},
   "outputs": [],
   "source": [
    "import pandas as pd\n",
    "import numpy as np\n",
    "import panel as pn\n",
    "pn.extension('tabulator')\n",
    "import holoviews as hv\n",
    "import datetime as dt\n",
    "import geopandas as gpd\n",
    "import hvplot.pandas\n",
    "import plotly.graph_objects as go\n",
    "import pycountry_convert as pc\n",
    "import plotly_express as px\n",
    "import warnings\n",
    "from pycountry_convert import country_alpha2_to_continent_code, country_name_to_country_alpha2\n",
    "import plotly.express as px\n",
    "import plotly.graph_objects as go\n",
    "%matplotlib inline\n",
    "import matplotlib.pyplot as plt\n",
    "#pn.extension('tabulator', sizing_mode=\"stretch_width\")"
   ]
  },
  {
   "cell_type": "markdown",
   "id": "2554c372-d6d4-46ed-9432-0614e8c27082",
   "metadata": {},
   "source": [
    "# To define function"
   ]
  },
  {
   "cell_type": "code",
   "execution_count": 57,
   "id": "7208d9ef-deef-462e-a8b8-57b4dd80974d",
   "metadata": {},
   "outputs": [
    {
     "data": {
      "text/plain": [
       "'notebook'"
      ]
     },
     "execution_count": 57,
     "metadata": {},
     "output_type": "execute_result"
    }
   ],
   "source": [
    "def environment():\n",
    "    try:\n",
    "        get_ipython()\n",
    "        return \"notebook\"\n",
    "    except:\n",
    "        return \"server\"\n",
    "environment()"
   ]
  },
  {
   "cell_type": "markdown",
   "id": "95f0ba58-4e1a-44ff-a77d-a240583f0065",
   "metadata": {},
   "source": [
    "# Load data into pandas frame"
   ]
  },
  {
   "cell_type": "code",
   "execution_count": 36,
   "id": "9def24cd-6031-488f-b7cd-fb349d454677",
   "metadata": {},
   "outputs": [
    {
     "data": {
      "text/html": [
       "<div>\n",
       "<style scoped>\n",
       "    .dataframe tbody tr th:only-of-type {\n",
       "        vertical-align: middle;\n",
       "    }\n",
       "\n",
       "    .dataframe tbody tr th {\n",
       "        vertical-align: top;\n",
       "    }\n",
       "\n",
       "    .dataframe thead th {\n",
       "        text-align: right;\n",
       "    }\n",
       "</style>\n",
       "<table border=\"1\" class=\"dataframe\">\n",
       "  <thead>\n",
       "    <tr style=\"text-align: right;\">\n",
       "      <th></th>\n",
       "      <th>dt</th>\n",
       "      <th>AverageTemperature</th>\n",
       "      <th>AverageTemperatureUncertainty</th>\n",
       "      <th>City</th>\n",
       "      <th>Country</th>\n",
       "      <th>Latitude</th>\n",
       "      <th>Longitude</th>\n",
       "    </tr>\n",
       "  </thead>\n",
       "  <tbody>\n",
       "    <tr>\n",
       "      <th>0</th>\n",
       "      <td>1849-01-01</td>\n",
       "      <td>26.704</td>\n",
       "      <td>1.435</td>\n",
       "      <td>Abidjan</td>\n",
       "      <td>Côte D'Ivoire</td>\n",
       "      <td>5.63N</td>\n",
       "      <td>3.23W</td>\n",
       "    </tr>\n",
       "    <tr>\n",
       "      <th>1</th>\n",
       "      <td>1849-02-01</td>\n",
       "      <td>27.434</td>\n",
       "      <td>1.362</td>\n",
       "      <td>Abidjan</td>\n",
       "      <td>Côte D'Ivoire</td>\n",
       "      <td>5.63N</td>\n",
       "      <td>3.23W</td>\n",
       "    </tr>\n",
       "    <tr>\n",
       "      <th>2</th>\n",
       "      <td>1849-03-01</td>\n",
       "      <td>28.101</td>\n",
       "      <td>1.612</td>\n",
       "      <td>Abidjan</td>\n",
       "      <td>Côte D'Ivoire</td>\n",
       "      <td>5.63N</td>\n",
       "      <td>3.23W</td>\n",
       "    </tr>\n",
       "    <tr>\n",
       "      <th>3</th>\n",
       "      <td>1849-04-01</td>\n",
       "      <td>26.140</td>\n",
       "      <td>1.387</td>\n",
       "      <td>Abidjan</td>\n",
       "      <td>Côte D'Ivoire</td>\n",
       "      <td>5.63N</td>\n",
       "      <td>3.23W</td>\n",
       "    </tr>\n",
       "    <tr>\n",
       "      <th>4</th>\n",
       "      <td>1849-05-01</td>\n",
       "      <td>25.427</td>\n",
       "      <td>1.200</td>\n",
       "      <td>Abidjan</td>\n",
       "      <td>Côte D'Ivoire</td>\n",
       "      <td>5.63N</td>\n",
       "      <td>3.23W</td>\n",
       "    </tr>\n",
       "    <tr>\n",
       "      <th>...</th>\n",
       "      <td>...</td>\n",
       "      <td>...</td>\n",
       "      <td>...</td>\n",
       "      <td>...</td>\n",
       "      <td>...</td>\n",
       "      <td>...</td>\n",
       "      <td>...</td>\n",
       "    </tr>\n",
       "    <tr>\n",
       "      <th>239172</th>\n",
       "      <td>2013-05-01</td>\n",
       "      <td>18.979</td>\n",
       "      <td>0.807</td>\n",
       "      <td>Xian</td>\n",
       "      <td>China</td>\n",
       "      <td>34.56N</td>\n",
       "      <td>108.97E</td>\n",
       "    </tr>\n",
       "    <tr>\n",
       "      <th>239173</th>\n",
       "      <td>2013-06-01</td>\n",
       "      <td>23.522</td>\n",
       "      <td>0.647</td>\n",
       "      <td>Xian</td>\n",
       "      <td>China</td>\n",
       "      <td>34.56N</td>\n",
       "      <td>108.97E</td>\n",
       "    </tr>\n",
       "    <tr>\n",
       "      <th>239174</th>\n",
       "      <td>2013-07-01</td>\n",
       "      <td>25.251</td>\n",
       "      <td>1.042</td>\n",
       "      <td>Xian</td>\n",
       "      <td>China</td>\n",
       "      <td>34.56N</td>\n",
       "      <td>108.97E</td>\n",
       "    </tr>\n",
       "    <tr>\n",
       "      <th>239175</th>\n",
       "      <td>2013-08-01</td>\n",
       "      <td>24.528</td>\n",
       "      <td>0.840</td>\n",
       "      <td>Xian</td>\n",
       "      <td>China</td>\n",
       "      <td>34.56N</td>\n",
       "      <td>108.97E</td>\n",
       "    </tr>\n",
       "    <tr>\n",
       "      <th>239176</th>\n",
       "      <td>2013-09-01</td>\n",
       "      <td>NaN</td>\n",
       "      <td>NaN</td>\n",
       "      <td>Xian</td>\n",
       "      <td>China</td>\n",
       "      <td>34.56N</td>\n",
       "      <td>108.97E</td>\n",
       "    </tr>\n",
       "  </tbody>\n",
       "</table>\n",
       "<p>239177 rows × 7 columns</p>\n",
       "</div>"
      ],
      "text/plain": [
       "                dt  AverageTemperature  AverageTemperatureUncertainty  \\\n",
       "0       1849-01-01              26.704                          1.435   \n",
       "1       1849-02-01              27.434                          1.362   \n",
       "2       1849-03-01              28.101                          1.612   \n",
       "3       1849-04-01              26.140                          1.387   \n",
       "4       1849-05-01              25.427                          1.200   \n",
       "...            ...                 ...                            ...   \n",
       "239172  2013-05-01              18.979                          0.807   \n",
       "239173  2013-06-01              23.522                          0.647   \n",
       "239174  2013-07-01              25.251                          1.042   \n",
       "239175  2013-08-01              24.528                          0.840   \n",
       "239176  2013-09-01                 NaN                            NaN   \n",
       "\n",
       "           City        Country Latitude Longitude  \n",
       "0       Abidjan  Côte D'Ivoire    5.63N     3.23W  \n",
       "1       Abidjan  Côte D'Ivoire    5.63N     3.23W  \n",
       "2       Abidjan  Côte D'Ivoire    5.63N     3.23W  \n",
       "3       Abidjan  Côte D'Ivoire    5.63N     3.23W  \n",
       "4       Abidjan  Côte D'Ivoire    5.63N     3.23W  \n",
       "...         ...            ...      ...       ...  \n",
       "239172     Xian          China   34.56N   108.97E  \n",
       "239173     Xian          China   34.56N   108.97E  \n",
       "239174     Xian          China   34.56N   108.97E  \n",
       "239175     Xian          China   34.56N   108.97E  \n",
       "239176     Xian          China   34.56N   108.97E  \n",
       "\n",
       "[239177 rows x 7 columns]"
      ]
     },
     "execution_count": 36,
     "metadata": {},
     "output_type": "execute_result"
    }
   ],
   "source": [
    "df = pd.read_csv(\"GlobalLandTemperaturesByMajorCity.csv\")\n",
    "df"
   ]
  },
  {
   "cell_type": "code",
   "execution_count": 37,
   "id": "84abf7f9-0413-408b-bfb7-b3742b13acfd",
   "metadata": {},
   "outputs": [],
   "source": [
    "df['dt'] =  pd.to_datetime(df['dt'], format='%Y-%m-%d')"
   ]
  },
  {
   "cell_type": "code",
   "execution_count": 38,
   "id": "c919bc83-2362-4c50-a87f-536bbe8f9137",
   "metadata": {},
   "outputs": [],
   "source": [
    "#df[df['Country'] == \"Congo (Democratic Republic Of The)\"] "
   ]
  },
  {
   "cell_type": "code",
   "execution_count": 39,
   "id": "d11b0819-3eec-4f43-a8f8-feb66d1bee4f",
   "metadata": {},
   "outputs": [],
   "source": [
    "df['year']= df['dt'].dt.year\n",
    "df['month']= df['dt'].dt.month\n",
    "df['day']= df['dt'].dt.day"
   ]
  },
  {
   "cell_type": "code",
   "execution_count": 40,
   "id": "84331d49-8027-4dc4-a0ba-655d0c42c5b6",
   "metadata": {},
   "outputs": [],
   "source": [
    "df['Country'].replace(\"Côte D'Ivoire\",\"Côte d'Ivoire\", inplace=True)\n",
    "df['Country'].replace('Congo (Democratic Republic Of The)','Democratic Republic of the Congo', inplace=True)\n",
    "df['Country'].replace(\"Burma\",\"Myanmar\", inplace=True)\n",
    "#df['Country'].replace('Congo (the Democratic Republic of the)','Congo (the Democratic Republic of the)', inplace=True)"
   ]
  },
  {
   "cell_type": "code",
   "execution_count": 41,
   "id": "3203ef21-64a8-460d-b3d1-3ddd00cbef56",
   "metadata": {},
   "outputs": [
    {
     "data": {
      "text/html": [
       "<div>\n",
       "<style scoped>\n",
       "    .dataframe tbody tr th:only-of-type {\n",
       "        vertical-align: middle;\n",
       "    }\n",
       "\n",
       "    .dataframe tbody tr th {\n",
       "        vertical-align: top;\n",
       "    }\n",
       "\n",
       "    .dataframe thead th {\n",
       "        text-align: right;\n",
       "    }\n",
       "</style>\n",
       "<table border=\"1\" class=\"dataframe\">\n",
       "  <thead>\n",
       "    <tr style=\"text-align: right;\">\n",
       "      <th></th>\n",
       "      <th>dt</th>\n",
       "      <th>AverageTemperature</th>\n",
       "      <th>AverageTemperatureUncertainty</th>\n",
       "      <th>City</th>\n",
       "      <th>Country</th>\n",
       "      <th>Latitude</th>\n",
       "      <th>Longitude</th>\n",
       "      <th>year</th>\n",
       "      <th>month</th>\n",
       "      <th>day</th>\n",
       "      <th>Country_code</th>\n",
       "      <th>Country_continent</th>\n",
       "    </tr>\n",
       "  </thead>\n",
       "  <tbody>\n",
       "    <tr>\n",
       "      <th>0</th>\n",
       "      <td>1849-01-01</td>\n",
       "      <td>26.704</td>\n",
       "      <td>1.435</td>\n",
       "      <td>Abidjan</td>\n",
       "      <td>Côte d'Ivoire</td>\n",
       "      <td>5.63N</td>\n",
       "      <td>3.23W</td>\n",
       "      <td>1849</td>\n",
       "      <td>1</td>\n",
       "      <td>1</td>\n",
       "      <td>CI</td>\n",
       "      <td>AF</td>\n",
       "    </tr>\n",
       "    <tr>\n",
       "      <th>1</th>\n",
       "      <td>1849-02-01</td>\n",
       "      <td>27.434</td>\n",
       "      <td>1.362</td>\n",
       "      <td>Abidjan</td>\n",
       "      <td>Côte d'Ivoire</td>\n",
       "      <td>5.63N</td>\n",
       "      <td>3.23W</td>\n",
       "      <td>1849</td>\n",
       "      <td>2</td>\n",
       "      <td>1</td>\n",
       "      <td>CI</td>\n",
       "      <td>AF</td>\n",
       "    </tr>\n",
       "    <tr>\n",
       "      <th>2</th>\n",
       "      <td>1849-03-01</td>\n",
       "      <td>28.101</td>\n",
       "      <td>1.612</td>\n",
       "      <td>Abidjan</td>\n",
       "      <td>Côte d'Ivoire</td>\n",
       "      <td>5.63N</td>\n",
       "      <td>3.23W</td>\n",
       "      <td>1849</td>\n",
       "      <td>3</td>\n",
       "      <td>1</td>\n",
       "      <td>CI</td>\n",
       "      <td>AF</td>\n",
       "    </tr>\n",
       "  </tbody>\n",
       "</table>\n",
       "</div>"
      ],
      "text/plain": [
       "          dt  AverageTemperature  AverageTemperatureUncertainty     City  \\\n",
       "0 1849-01-01              26.704                          1.435  Abidjan   \n",
       "1 1849-02-01              27.434                          1.362  Abidjan   \n",
       "2 1849-03-01              28.101                          1.612  Abidjan   \n",
       "\n",
       "         Country Latitude Longitude  year  month  day Country_code  \\\n",
       "0  Côte d'Ivoire    5.63N     3.23W  1849      1    1           CI   \n",
       "1  Côte d'Ivoire    5.63N     3.23W  1849      2    1           CI   \n",
       "2  Côte d'Ivoire    5.63N     3.23W  1849      3    1           CI   \n",
       "\n",
       "  Country_continent  \n",
       "0                AF  \n",
       "1                AF  \n",
       "2                AF  "
      ]
     },
     "execution_count": 41,
     "metadata": {},
     "output_type": "execute_result"
    }
   ],
   "source": [
    "# Now, we add 2 new columns to for Country code and Continent that the country belongs \n",
    "df['Country_code']= df['Country'].apply(lambda x: pc.country_name_to_country_alpha2(x, cn_name_format=\"default\"))\n",
    "mask= df['Country_code']=='TL' \n",
    "df=df[~mask]\n",
    "df['Country_continent']= df['Country_code'].apply(lambda x: pc.country_alpha2_to_continent_code(x))\n",
    "df.head(3)"
   ]
  },
  {
   "cell_type": "markdown",
   "id": "8a467e18-a9f6-40ca-bf25-efc310c8dddc",
   "metadata": {},
   "source": [
    "# Cleaning data"
   ]
  },
  {
   "cell_type": "code",
   "execution_count": 42,
   "id": "a073ec3f-b646-4f2d-8493-ed8f373b8534",
   "metadata": {},
   "outputs": [
    {
     "data": {
      "text/plain": [
       "dt                                   0\n",
       "AverageTemperature               11002\n",
       "AverageTemperatureUncertainty    11002\n",
       "City                                 0\n",
       "Country                              0\n",
       "Latitude                             0\n",
       "Longitude                            0\n",
       "year                                 0\n",
       "month                                0\n",
       "day                                  0\n",
       "Country_code                         0\n",
       "Country_continent                    0\n",
       "dtype: int64"
      ]
     },
     "execution_count": 42,
     "metadata": {},
     "output_type": "execute_result"
    }
   ],
   "source": [
    "df.isnull().sum()"
   ]
  },
  {
   "cell_type": "code",
   "execution_count": 43,
   "id": "930a8153-4655-4034-8ed1-74f44ac8e3af",
   "metadata": {},
   "outputs": [],
   "source": [
    "#Fill NaNs with 0 and then drop all countries with Latitude = 0.\n",
    "df.fillna(0, inplace = True)\n",
    "df.drop(df.index[df['Country_code'] == 0], inplace = True)"
   ]
  },
  {
   "cell_type": "code",
   "execution_count": 44,
   "id": "1b2d6edd-eee0-4b3e-8d46-9880a756c337",
   "metadata": {},
   "outputs": [
    {
     "data": {
      "text/html": [
       "<div>\n",
       "<style scoped>\n",
       "    .dataframe tbody tr th:only-of-type {\n",
       "        vertical-align: middle;\n",
       "    }\n",
       "\n",
       "    .dataframe tbody tr th {\n",
       "        vertical-align: top;\n",
       "    }\n",
       "\n",
       "    .dataframe thead th {\n",
       "        text-align: right;\n",
       "    }\n",
       "</style>\n",
       "<table border=\"1\" class=\"dataframe\">\n",
       "  <thead>\n",
       "    <tr style=\"text-align: right;\">\n",
       "      <th></th>\n",
       "      <th>AverageTemperature</th>\n",
       "      <th>AverageTemperatureUncertainty</th>\n",
       "      <th>year</th>\n",
       "      <th>month</th>\n",
       "      <th>day</th>\n",
       "    </tr>\n",
       "  </thead>\n",
       "  <tbody>\n",
       "    <tr>\n",
       "      <th>count</th>\n",
       "      <td>239177.000000</td>\n",
       "      <td>239177.000000</td>\n",
       "      <td>239177.000000</td>\n",
       "      <td>239177.000000</td>\n",
       "      <td>239177.0</td>\n",
       "    </tr>\n",
       "    <tr>\n",
       "      <th>mean</th>\n",
       "      <td>17.292185</td>\n",
       "      <td>0.924754</td>\n",
       "      <td>1910.394800</td>\n",
       "      <td>6.496156</td>\n",
       "      <td>1.0</td>\n",
       "    </tr>\n",
       "    <tr>\n",
       "      <th>std</th>\n",
       "      <td>10.501991</td>\n",
       "      <td>0.978157</td>\n",
       "      <td>63.230923</td>\n",
       "      <td>3.450576</td>\n",
       "      <td>0.0</td>\n",
       "    </tr>\n",
       "    <tr>\n",
       "      <th>min</th>\n",
       "      <td>-26.772000</td>\n",
       "      <td>0.000000</td>\n",
       "      <td>1743.000000</td>\n",
       "      <td>1.000000</td>\n",
       "      <td>1.0</td>\n",
       "    </tr>\n",
       "    <tr>\n",
       "      <th>25%</th>\n",
       "      <td>10.853000</td>\n",
       "      <td>0.315000</td>\n",
       "      <td>1864.000000</td>\n",
       "      <td>3.000000</td>\n",
       "      <td>1.0</td>\n",
       "    </tr>\n",
       "    <tr>\n",
       "      <th>50%</th>\n",
       "      <td>19.841000</td>\n",
       "      <td>0.556000</td>\n",
       "      <td>1914.000000</td>\n",
       "      <td>6.000000</td>\n",
       "      <td>1.0</td>\n",
       "    </tr>\n",
       "    <tr>\n",
       "      <th>75%</th>\n",
       "      <td>25.719000</td>\n",
       "      <td>1.271000</td>\n",
       "      <td>1963.000000</td>\n",
       "      <td>9.000000</td>\n",
       "      <td>1.0</td>\n",
       "    </tr>\n",
       "    <tr>\n",
       "      <th>max</th>\n",
       "      <td>38.283000</td>\n",
       "      <td>14.037000</td>\n",
       "      <td>2013.000000</td>\n",
       "      <td>12.000000</td>\n",
       "      <td>1.0</td>\n",
       "    </tr>\n",
       "  </tbody>\n",
       "</table>\n",
       "</div>"
      ],
      "text/plain": [
       "       AverageTemperature  AverageTemperatureUncertainty           year  \\\n",
       "count       239177.000000                  239177.000000  239177.000000   \n",
       "mean            17.292185                       0.924754    1910.394800   \n",
       "std             10.501991                       0.978157      63.230923   \n",
       "min            -26.772000                       0.000000    1743.000000   \n",
       "25%             10.853000                       0.315000    1864.000000   \n",
       "50%             19.841000                       0.556000    1914.000000   \n",
       "75%             25.719000                       1.271000    1963.000000   \n",
       "max             38.283000                      14.037000    2013.000000   \n",
       "\n",
       "               month       day  \n",
       "count  239177.000000  239177.0  \n",
       "mean        6.496156       1.0  \n",
       "std         3.450576       0.0  \n",
       "min         1.000000       1.0  \n",
       "25%         3.000000       1.0  \n",
       "50%         6.000000       1.0  \n",
       "75%         9.000000       1.0  \n",
       "max        12.000000       1.0  "
      ]
     },
     "execution_count": 44,
     "metadata": {},
     "output_type": "execute_result"
    }
   ],
   "source": [
    "#To describe our data\n",
    "df.describe()"
   ]
  },
  {
   "cell_type": "code",
   "execution_count": 45,
   "id": "0e7dfea4-02a0-4367-9ac0-3551735eb969",
   "metadata": {},
   "outputs": [
    {
     "name": "stdout",
     "output_type": "stream",
     "text": [
      "<class 'pandas.core.frame.DataFrame'>\n",
      "Int64Index: 239177 entries, 0 to 239176\n",
      "Data columns (total 12 columns):\n",
      " #   Column                         Non-Null Count   Dtype         \n",
      "---  ------                         --------------   -----         \n",
      " 0   dt                             239177 non-null  datetime64[ns]\n",
      " 1   AverageTemperature             239177 non-null  float64       \n",
      " 2   AverageTemperatureUncertainty  239177 non-null  float64       \n",
      " 3   City                           239177 non-null  object        \n",
      " 4   Country                        239177 non-null  object        \n",
      " 5   Latitude                       239177 non-null  object        \n",
      " 6   Longitude                      239177 non-null  object        \n",
      " 7   year                           239177 non-null  int64         \n",
      " 8   month                          239177 non-null  int64         \n",
      " 9   day                            239177 non-null  int64         \n",
      " 10  Country_code                   239177 non-null  object        \n",
      " 11  Country_continent              239177 non-null  object        \n",
      "dtypes: datetime64[ns](1), float64(2), int64(3), object(6)\n",
      "memory usage: 31.8+ MB\n"
     ]
    }
   ],
   "source": [
    "df.info()"
   ]
  },
  {
   "cell_type": "code",
   "execution_count": 46,
   "id": "614a24a1-0505-4fec-bd59-7a088a56b968",
   "metadata": {},
   "outputs": [],
   "source": [
    "# dp3= df.copy()\n",
    "# # Create 1 collumn for country code of alpha3\n",
    "# dp3['alpha3']= dp3['Country'].apply(lambda x: pc.country_name_to_country_alpha3(x))\n",
    "# dp3.head(3)"
   ]
  },
  {
   "cell_type": "markdown",
   "id": "5d6b3ef6-5bba-4183-888d-59181114f155",
   "metadata": {},
   "source": [
    "# Top Hottest City in the world"
   ]
  },
  {
   "cell_type": "code",
   "execution_count": 63,
   "id": "d0dd2728-83a6-4308-801e-26fc95db6f36",
   "metadata": {},
   "outputs": [
    {
     "data": {
      "text/html": [
       "<div>\n",
       "<style scoped>\n",
       "    .dataframe tbody tr th:only-of-type {\n",
       "        vertical-align: middle;\n",
       "    }\n",
       "\n",
       "    .dataframe tbody tr th {\n",
       "        vertical-align: top;\n",
       "    }\n",
       "\n",
       "    .dataframe thead th {\n",
       "        text-align: right;\n",
       "    }\n",
       "</style>\n",
       "<table border=\"1\" class=\"dataframe\">\n",
       "  <thead>\n",
       "    <tr style=\"text-align: right;\">\n",
       "      <th></th>\n",
       "      <th>City</th>\n",
       "      <th>dt</th>\n",
       "      <th>AverageTemperature</th>\n",
       "      <th>AverageTemperatureUncertainty</th>\n",
       "      <th>Country</th>\n",
       "      <th>Latitude</th>\n",
       "      <th>Longitude</th>\n",
       "      <th>year</th>\n",
       "      <th>month</th>\n",
       "      <th>day</th>\n",
       "      <th>Country_code</th>\n",
       "      <th>Country_continent</th>\n",
       "    </tr>\n",
       "  </thead>\n",
       "  <tbody>\n",
       "    <tr>\n",
       "      <th>0</th>\n",
       "      <td>Baghdad</td>\n",
       "      <td>2013-09-01</td>\n",
       "      <td>38.283</td>\n",
       "      <td>4.752</td>\n",
       "      <td>Iraq</td>\n",
       "      <td>32.95N</td>\n",
       "      <td>45.00E</td>\n",
       "      <td>2013</td>\n",
       "      <td>12</td>\n",
       "      <td>1</td>\n",
       "      <td>IQ</td>\n",
       "      <td>AS</td>\n",
       "    </tr>\n",
       "    <tr>\n",
       "      <th>1</th>\n",
       "      <td>Riyadh</td>\n",
       "      <td>2013-09-01</td>\n",
       "      <td>37.859</td>\n",
       "      <td>4.399</td>\n",
       "      <td>Saudi Arabia</td>\n",
       "      <td>24.92N</td>\n",
       "      <td>46.11E</td>\n",
       "      <td>2013</td>\n",
       "      <td>12</td>\n",
       "      <td>1</td>\n",
       "      <td>SA</td>\n",
       "      <td>AS</td>\n",
       "    </tr>\n",
       "    <tr>\n",
       "      <th>2</th>\n",
       "      <td>Jaipur</td>\n",
       "      <td>2013-09-01</td>\n",
       "      <td>36.477</td>\n",
       "      <td>5.551</td>\n",
       "      <td>India</td>\n",
       "      <td>26.52N</td>\n",
       "      <td>75.22E</td>\n",
       "      <td>2013</td>\n",
       "      <td>12</td>\n",
       "      <td>1</td>\n",
       "      <td>IN</td>\n",
       "      <td>AS</td>\n",
       "    </tr>\n",
       "    <tr>\n",
       "      <th>3</th>\n",
       "      <td>Lahore</td>\n",
       "      <td>2013-09-01</td>\n",
       "      <td>36.346</td>\n",
       "      <td>4.973</td>\n",
       "      <td>Pakistan</td>\n",
       "      <td>31.35N</td>\n",
       "      <td>73.51E</td>\n",
       "      <td>2013</td>\n",
       "      <td>12</td>\n",
       "      <td>1</td>\n",
       "      <td>PK</td>\n",
       "      <td>AS</td>\n",
       "    </tr>\n",
       "    <tr>\n",
       "      <th>4</th>\n",
       "      <td>Faisalabad</td>\n",
       "      <td>2013-09-01</td>\n",
       "      <td>36.346</td>\n",
       "      <td>4.973</td>\n",
       "      <td>Pakistan</td>\n",
       "      <td>31.35N</td>\n",
       "      <td>73.51E</td>\n",
       "      <td>2013</td>\n",
       "      <td>12</td>\n",
       "      <td>1</td>\n",
       "      <td>PK</td>\n",
       "      <td>AS</td>\n",
       "    </tr>\n",
       "    <tr>\n",
       "      <th>5</th>\n",
       "      <td>New Delhi</td>\n",
       "      <td>2013-09-01</td>\n",
       "      <td>36.339</td>\n",
       "      <td>5.548</td>\n",
       "      <td>India</td>\n",
       "      <td>28.13N</td>\n",
       "      <td>77.27E</td>\n",
       "      <td>2013</td>\n",
       "      <td>12</td>\n",
       "      <td>1</td>\n",
       "      <td>IN</td>\n",
       "      <td>AS</td>\n",
       "    </tr>\n",
       "    <tr>\n",
       "      <th>6</th>\n",
       "      <td>Delhi</td>\n",
       "      <td>2013-09-01</td>\n",
       "      <td>36.339</td>\n",
       "      <td>5.548</td>\n",
       "      <td>India</td>\n",
       "      <td>28.13N</td>\n",
       "      <td>77.27E</td>\n",
       "      <td>2013</td>\n",
       "      <td>12</td>\n",
       "      <td>1</td>\n",
       "      <td>IN</td>\n",
       "      <td>AS</td>\n",
       "    </tr>\n",
       "    <tr>\n",
       "      <th>7</th>\n",
       "      <td>Nagpur</td>\n",
       "      <td>2013-09-01</td>\n",
       "      <td>36.052</td>\n",
       "      <td>6.478</td>\n",
       "      <td>India</td>\n",
       "      <td>21.70N</td>\n",
       "      <td>78.75E</td>\n",
       "      <td>2013</td>\n",
       "      <td>12</td>\n",
       "      <td>1</td>\n",
       "      <td>IN</td>\n",
       "      <td>AS</td>\n",
       "    </tr>\n",
       "    <tr>\n",
       "      <th>8</th>\n",
       "      <td>Umm Durman</td>\n",
       "      <td>2013-09-01</td>\n",
       "      <td>35.700</td>\n",
       "      <td>4.663</td>\n",
       "      <td>Sudan</td>\n",
       "      <td>15.27N</td>\n",
       "      <td>32.50E</td>\n",
       "      <td>2013</td>\n",
       "      <td>12</td>\n",
       "      <td>1</td>\n",
       "      <td>SD</td>\n",
       "      <td>AF</td>\n",
       "    </tr>\n",
       "    <tr>\n",
       "      <th>9</th>\n",
       "      <td>Lakhnau</td>\n",
       "      <td>2013-09-01</td>\n",
       "      <td>35.618</td>\n",
       "      <td>6.085</td>\n",
       "      <td>India</td>\n",
       "      <td>26.52N</td>\n",
       "      <td>80.60E</td>\n",
       "      <td>2013</td>\n",
       "      <td>12</td>\n",
       "      <td>1</td>\n",
       "      <td>IN</td>\n",
       "      <td>AS</td>\n",
       "    </tr>\n",
       "  </tbody>\n",
       "</table>\n",
       "</div>"
      ],
      "text/plain": [
       "         City         dt  AverageTemperature  AverageTemperatureUncertainty  \\\n",
       "0     Baghdad 2013-09-01              38.283                          4.752   \n",
       "1      Riyadh 2013-09-01              37.859                          4.399   \n",
       "2      Jaipur 2013-09-01              36.477                          5.551   \n",
       "3      Lahore 2013-09-01              36.346                          4.973   \n",
       "4  Faisalabad 2013-09-01              36.346                          4.973   \n",
       "5   New Delhi 2013-09-01              36.339                          5.548   \n",
       "6       Delhi 2013-09-01              36.339                          5.548   \n",
       "7      Nagpur 2013-09-01              36.052                          6.478   \n",
       "8  Umm Durman 2013-09-01              35.700                          4.663   \n",
       "9     Lakhnau 2013-09-01              35.618                          6.085   \n",
       "\n",
       "        Country Latitude Longitude  year  month  day Country_code  \\\n",
       "0          Iraq   32.95N    45.00E  2013     12    1           IQ   \n",
       "1  Saudi Arabia   24.92N    46.11E  2013     12    1           SA   \n",
       "2         India   26.52N    75.22E  2013     12    1           IN   \n",
       "3      Pakistan   31.35N    73.51E  2013     12    1           PK   \n",
       "4      Pakistan   31.35N    73.51E  2013     12    1           PK   \n",
       "5         India   28.13N    77.27E  2013     12    1           IN   \n",
       "6         India   28.13N    77.27E  2013     12    1           IN   \n",
       "7         India   21.70N    78.75E  2013     12    1           IN   \n",
       "8         Sudan   15.27N    32.50E  2013     12    1           SD   \n",
       "9         India   26.52N    80.60E  2013     12    1           IN   \n",
       "\n",
       "  Country_continent  \n",
       "0                AS  \n",
       "1                AS  \n",
       "2                AS  \n",
       "3                AS  \n",
       "4                AS  \n",
       "5                AS  \n",
       "6                AS  \n",
       "7                AS  \n",
       "8                AF  \n",
       "9                AS  "
      ]
     },
     "execution_count": 63,
     "metadata": {},
     "output_type": "execute_result"
    }
   ],
   "source": [
    "# By grouping total vaccinations given by country and sort descending to identify the top 10 countries. \n",
    "most_temp_by_city = df.groupby('City').max().sort_values('AverageTemperature', ascending=False)\n",
    "most_temp_by_city = most_temp_by_country.iloc[:10]\n",
    "most_temp_by_city"
   ]
  },
  {
   "cell_type": "code",
   "execution_count": 64,
   "id": "82c9ae09-5f77-4ae5-86b6-57071c1318c0",
   "metadata": {},
   "outputs": [
    {
     "data": {
      "text/html": [
       "<div>\n",
       "<style scoped>\n",
       "    .dataframe tbody tr th:only-of-type {\n",
       "        vertical-align: middle;\n",
       "    }\n",
       "\n",
       "    .dataframe tbody tr th {\n",
       "        vertical-align: top;\n",
       "    }\n",
       "\n",
       "    .dataframe thead th {\n",
       "        text-align: right;\n",
       "    }\n",
       "</style>\n",
       "<table border=\"1\" class=\"dataframe\">\n",
       "  <thead>\n",
       "    <tr style=\"text-align: right;\">\n",
       "      <th></th>\n",
       "      <th>index</th>\n",
       "      <th>City</th>\n",
       "      <th>dt</th>\n",
       "      <th>AverageTemperature</th>\n",
       "      <th>AverageTemperatureUncertainty</th>\n",
       "      <th>Country</th>\n",
       "      <th>Latitude</th>\n",
       "      <th>Longitude</th>\n",
       "      <th>year</th>\n",
       "      <th>month</th>\n",
       "      <th>day</th>\n",
       "      <th>Country_code</th>\n",
       "      <th>Country_continent</th>\n",
       "    </tr>\n",
       "  </thead>\n",
       "  <tbody>\n",
       "    <tr>\n",
       "      <th>0</th>\n",
       "      <td>0</td>\n",
       "      <td>Baghdad</td>\n",
       "      <td>2013-09-01</td>\n",
       "      <td>38.283</td>\n",
       "      <td>4.752</td>\n",
       "      <td>Iraq</td>\n",
       "      <td>32.95N</td>\n",
       "      <td>45.00E</td>\n",
       "      <td>2013</td>\n",
       "      <td>12</td>\n",
       "      <td>1</td>\n",
       "      <td>IQ</td>\n",
       "      <td>AS</td>\n",
       "    </tr>\n",
       "    <tr>\n",
       "      <th>1</th>\n",
       "      <td>1</td>\n",
       "      <td>Riyadh</td>\n",
       "      <td>2013-09-01</td>\n",
       "      <td>37.859</td>\n",
       "      <td>4.399</td>\n",
       "      <td>Saudi Arabia</td>\n",
       "      <td>24.92N</td>\n",
       "      <td>46.11E</td>\n",
       "      <td>2013</td>\n",
       "      <td>12</td>\n",
       "      <td>1</td>\n",
       "      <td>SA</td>\n",
       "      <td>AS</td>\n",
       "    </tr>\n",
       "    <tr>\n",
       "      <th>2</th>\n",
       "      <td>2</td>\n",
       "      <td>Jaipur</td>\n",
       "      <td>2013-09-01</td>\n",
       "      <td>36.477</td>\n",
       "      <td>5.551</td>\n",
       "      <td>India</td>\n",
       "      <td>26.52N</td>\n",
       "      <td>75.22E</td>\n",
       "      <td>2013</td>\n",
       "      <td>12</td>\n",
       "      <td>1</td>\n",
       "      <td>IN</td>\n",
       "      <td>AS</td>\n",
       "    </tr>\n",
       "    <tr>\n",
       "      <th>3</th>\n",
       "      <td>3</td>\n",
       "      <td>Lahore</td>\n",
       "      <td>2013-09-01</td>\n",
       "      <td>36.346</td>\n",
       "      <td>4.973</td>\n",
       "      <td>Pakistan</td>\n",
       "      <td>31.35N</td>\n",
       "      <td>73.51E</td>\n",
       "      <td>2013</td>\n",
       "      <td>12</td>\n",
       "      <td>1</td>\n",
       "      <td>PK</td>\n",
       "      <td>AS</td>\n",
       "    </tr>\n",
       "    <tr>\n",
       "      <th>4</th>\n",
       "      <td>4</td>\n",
       "      <td>Faisalabad</td>\n",
       "      <td>2013-09-01</td>\n",
       "      <td>36.346</td>\n",
       "      <td>4.973</td>\n",
       "      <td>Pakistan</td>\n",
       "      <td>31.35N</td>\n",
       "      <td>73.51E</td>\n",
       "      <td>2013</td>\n",
       "      <td>12</td>\n",
       "      <td>1</td>\n",
       "      <td>PK</td>\n",
       "      <td>AS</td>\n",
       "    </tr>\n",
       "    <tr>\n",
       "      <th>5</th>\n",
       "      <td>5</td>\n",
       "      <td>New Delhi</td>\n",
       "      <td>2013-09-01</td>\n",
       "      <td>36.339</td>\n",
       "      <td>5.548</td>\n",
       "      <td>India</td>\n",
       "      <td>28.13N</td>\n",
       "      <td>77.27E</td>\n",
       "      <td>2013</td>\n",
       "      <td>12</td>\n",
       "      <td>1</td>\n",
       "      <td>IN</td>\n",
       "      <td>AS</td>\n",
       "    </tr>\n",
       "    <tr>\n",
       "      <th>6</th>\n",
       "      <td>6</td>\n",
       "      <td>Delhi</td>\n",
       "      <td>2013-09-01</td>\n",
       "      <td>36.339</td>\n",
       "      <td>5.548</td>\n",
       "      <td>India</td>\n",
       "      <td>28.13N</td>\n",
       "      <td>77.27E</td>\n",
       "      <td>2013</td>\n",
       "      <td>12</td>\n",
       "      <td>1</td>\n",
       "      <td>IN</td>\n",
       "      <td>AS</td>\n",
       "    </tr>\n",
       "    <tr>\n",
       "      <th>7</th>\n",
       "      <td>7</td>\n",
       "      <td>Nagpur</td>\n",
       "      <td>2013-09-01</td>\n",
       "      <td>36.052</td>\n",
       "      <td>6.478</td>\n",
       "      <td>India</td>\n",
       "      <td>21.70N</td>\n",
       "      <td>78.75E</td>\n",
       "      <td>2013</td>\n",
       "      <td>12</td>\n",
       "      <td>1</td>\n",
       "      <td>IN</td>\n",
       "      <td>AS</td>\n",
       "    </tr>\n",
       "    <tr>\n",
       "      <th>8</th>\n",
       "      <td>8</td>\n",
       "      <td>Umm Durman</td>\n",
       "      <td>2013-09-01</td>\n",
       "      <td>35.700</td>\n",
       "      <td>4.663</td>\n",
       "      <td>Sudan</td>\n",
       "      <td>15.27N</td>\n",
       "      <td>32.50E</td>\n",
       "      <td>2013</td>\n",
       "      <td>12</td>\n",
       "      <td>1</td>\n",
       "      <td>SD</td>\n",
       "      <td>AF</td>\n",
       "    </tr>\n",
       "    <tr>\n",
       "      <th>9</th>\n",
       "      <td>9</td>\n",
       "      <td>Lakhnau</td>\n",
       "      <td>2013-09-01</td>\n",
       "      <td>35.618</td>\n",
       "      <td>6.085</td>\n",
       "      <td>India</td>\n",
       "      <td>26.52N</td>\n",
       "      <td>80.60E</td>\n",
       "      <td>2013</td>\n",
       "      <td>12</td>\n",
       "      <td>1</td>\n",
       "      <td>IN</td>\n",
       "      <td>AS</td>\n",
       "    </tr>\n",
       "  </tbody>\n",
       "</table>\n",
       "</div>"
      ],
      "text/plain": [
       "   index        City         dt  AverageTemperature  \\\n",
       "0      0     Baghdad 2013-09-01              38.283   \n",
       "1      1      Riyadh 2013-09-01              37.859   \n",
       "2      2      Jaipur 2013-09-01              36.477   \n",
       "3      3      Lahore 2013-09-01              36.346   \n",
       "4      4  Faisalabad 2013-09-01              36.346   \n",
       "5      5   New Delhi 2013-09-01              36.339   \n",
       "6      6       Delhi 2013-09-01              36.339   \n",
       "7      7      Nagpur 2013-09-01              36.052   \n",
       "8      8  Umm Durman 2013-09-01              35.700   \n",
       "9      9     Lakhnau 2013-09-01              35.618   \n",
       "\n",
       "   AverageTemperatureUncertainty       Country Latitude Longitude  year  \\\n",
       "0                          4.752          Iraq   32.95N    45.00E  2013   \n",
       "1                          4.399  Saudi Arabia   24.92N    46.11E  2013   \n",
       "2                          5.551         India   26.52N    75.22E  2013   \n",
       "3                          4.973      Pakistan   31.35N    73.51E  2013   \n",
       "4                          4.973      Pakistan   31.35N    73.51E  2013   \n",
       "5                          5.548         India   28.13N    77.27E  2013   \n",
       "6                          5.548         India   28.13N    77.27E  2013   \n",
       "7                          6.478         India   21.70N    78.75E  2013   \n",
       "8                          4.663         Sudan   15.27N    32.50E  2013   \n",
       "9                          6.085         India   26.52N    80.60E  2013   \n",
       "\n",
       "   month  day Country_code Country_continent  \n",
       "0     12    1           IQ                AS  \n",
       "1     12    1           SA                AS  \n",
       "2     12    1           IN                AS  \n",
       "3     12    1           PK                AS  \n",
       "4     12    1           PK                AS  \n",
       "5     12    1           IN                AS  \n",
       "6     12    1           IN                AS  \n",
       "7     12    1           IN                AS  \n",
       "8     12    1           SD                AF  \n",
       "9     12    1           IN                AS  "
      ]
     },
     "execution_count": 64,
     "metadata": {},
     "output_type": "execute_result"
    }
   ],
   "source": [
    "most_temp_by_city= most_temp_by_country.reset_index()\n",
    "most_temp_by_city"
   ]
  },
  {
   "cell_type": "code",
   "execution_count": 65,
   "id": "374284e3-2025-460c-a932-7bda41ec250d",
   "metadata": {},
   "outputs": [
    {
     "data": {
      "application/vnd.plotly.v1+json": {
       "config": {
        "plotlyServerURL": "https://plot.ly"
       },
       "data": [
        {
         "alignmentgroup": "True",
         "hovertemplate": "City=%{x}<br>AverageTemperature=%{y}<extra></extra>",
         "legendgroup": "",
         "marker": {
          "color": "#636efa",
          "pattern": {
           "shape": ""
          }
         },
         "name": "",
         "offsetgroup": "",
         "orientation": "v",
         "showlegend": false,
         "textposition": "auto",
         "type": "bar",
         "x": [
          "Baghdad",
          "Riyadh",
          "Jaipur",
          "Lahore",
          "Faisalabad",
          "New Delhi",
          "Delhi",
          "Nagpur",
          "Umm Durman",
          "Lakhnau"
         ],
         "xaxis": "x",
         "y": [
          38.283,
          37.859,
          36.477,
          36.346,
          36.346,
          36.33900000000001,
          36.33900000000001,
          36.052,
          35.7,
          35.61799999999999
         ],
         "yaxis": "y"
        }
       ],
       "layout": {
        "autosize": true,
        "barmode": "relative",
        "legend": {
         "tracegroupgap": 0
        },
        "margin": {
         "t": 60
        },
        "template": {
         "data": {
          "bar": [
           {
            "error_x": {
             "color": "#2a3f5f"
            },
            "error_y": {
             "color": "#2a3f5f"
            },
            "marker": {
             "line": {
              "color": "#E5ECF6",
              "width": 0.5
             },
             "pattern": {
              "fillmode": "overlay",
              "size": 10,
              "solidity": 0.2
             }
            },
            "type": "bar"
           }
          ],
          "barpolar": [
           {
            "marker": {
             "line": {
              "color": "#E5ECF6",
              "width": 0.5
             },
             "pattern": {
              "fillmode": "overlay",
              "size": 10,
              "solidity": 0.2
             }
            },
            "type": "barpolar"
           }
          ],
          "carpet": [
           {
            "aaxis": {
             "endlinecolor": "#2a3f5f",
             "gridcolor": "white",
             "linecolor": "white",
             "minorgridcolor": "white",
             "startlinecolor": "#2a3f5f"
            },
            "baxis": {
             "endlinecolor": "#2a3f5f",
             "gridcolor": "white",
             "linecolor": "white",
             "minorgridcolor": "white",
             "startlinecolor": "#2a3f5f"
            },
            "type": "carpet"
           }
          ],
          "choropleth": [
           {
            "colorbar": {
             "outlinewidth": 0,
             "ticks": ""
            },
            "type": "choropleth"
           }
          ],
          "contour": [
           {
            "colorbar": {
             "outlinewidth": 0,
             "ticks": ""
            },
            "colorscale": [
             [
              0,
              "#0d0887"
             ],
             [
              0.1111111111111111,
              "#46039f"
             ],
             [
              0.2222222222222222,
              "#7201a8"
             ],
             [
              0.3333333333333333,
              "#9c179e"
             ],
             [
              0.4444444444444444,
              "#bd3786"
             ],
             [
              0.5555555555555556,
              "#d8576b"
             ],
             [
              0.6666666666666666,
              "#ed7953"
             ],
             [
              0.7777777777777778,
              "#fb9f3a"
             ],
             [
              0.8888888888888888,
              "#fdca26"
             ],
             [
              1,
              "#f0f921"
             ]
            ],
            "type": "contour"
           }
          ],
          "contourcarpet": [
           {
            "colorbar": {
             "outlinewidth": 0,
             "ticks": ""
            },
            "type": "contourcarpet"
           }
          ],
          "heatmap": [
           {
            "colorbar": {
             "outlinewidth": 0,
             "ticks": ""
            },
            "colorscale": [
             [
              0,
              "#0d0887"
             ],
             [
              0.1111111111111111,
              "#46039f"
             ],
             [
              0.2222222222222222,
              "#7201a8"
             ],
             [
              0.3333333333333333,
              "#9c179e"
             ],
             [
              0.4444444444444444,
              "#bd3786"
             ],
             [
              0.5555555555555556,
              "#d8576b"
             ],
             [
              0.6666666666666666,
              "#ed7953"
             ],
             [
              0.7777777777777778,
              "#fb9f3a"
             ],
             [
              0.8888888888888888,
              "#fdca26"
             ],
             [
              1,
              "#f0f921"
             ]
            ],
            "type": "heatmap"
           }
          ],
          "heatmapgl": [
           {
            "colorbar": {
             "outlinewidth": 0,
             "ticks": ""
            },
            "colorscale": [
             [
              0,
              "#0d0887"
             ],
             [
              0.1111111111111111,
              "#46039f"
             ],
             [
              0.2222222222222222,
              "#7201a8"
             ],
             [
              0.3333333333333333,
              "#9c179e"
             ],
             [
              0.4444444444444444,
              "#bd3786"
             ],
             [
              0.5555555555555556,
              "#d8576b"
             ],
             [
              0.6666666666666666,
              "#ed7953"
             ],
             [
              0.7777777777777778,
              "#fb9f3a"
             ],
             [
              0.8888888888888888,
              "#fdca26"
             ],
             [
              1,
              "#f0f921"
             ]
            ],
            "type": "heatmapgl"
           }
          ],
          "histogram": [
           {
            "marker": {
             "pattern": {
              "fillmode": "overlay",
              "size": 10,
              "solidity": 0.2
             }
            },
            "type": "histogram"
           }
          ],
          "histogram2d": [
           {
            "colorbar": {
             "outlinewidth": 0,
             "ticks": ""
            },
            "colorscale": [
             [
              0,
              "#0d0887"
             ],
             [
              0.1111111111111111,
              "#46039f"
             ],
             [
              0.2222222222222222,
              "#7201a8"
             ],
             [
              0.3333333333333333,
              "#9c179e"
             ],
             [
              0.4444444444444444,
              "#bd3786"
             ],
             [
              0.5555555555555556,
              "#d8576b"
             ],
             [
              0.6666666666666666,
              "#ed7953"
             ],
             [
              0.7777777777777778,
              "#fb9f3a"
             ],
             [
              0.8888888888888888,
              "#fdca26"
             ],
             [
              1,
              "#f0f921"
             ]
            ],
            "type": "histogram2d"
           }
          ],
          "histogram2dcontour": [
           {
            "colorbar": {
             "outlinewidth": 0,
             "ticks": ""
            },
            "colorscale": [
             [
              0,
              "#0d0887"
             ],
             [
              0.1111111111111111,
              "#46039f"
             ],
             [
              0.2222222222222222,
              "#7201a8"
             ],
             [
              0.3333333333333333,
              "#9c179e"
             ],
             [
              0.4444444444444444,
              "#bd3786"
             ],
             [
              0.5555555555555556,
              "#d8576b"
             ],
             [
              0.6666666666666666,
              "#ed7953"
             ],
             [
              0.7777777777777778,
              "#fb9f3a"
             ],
             [
              0.8888888888888888,
              "#fdca26"
             ],
             [
              1,
              "#f0f921"
             ]
            ],
            "type": "histogram2dcontour"
           }
          ],
          "mesh3d": [
           {
            "colorbar": {
             "outlinewidth": 0,
             "ticks": ""
            },
            "type": "mesh3d"
           }
          ],
          "parcoords": [
           {
            "line": {
             "colorbar": {
              "outlinewidth": 0,
              "ticks": ""
             }
            },
            "type": "parcoords"
           }
          ],
          "pie": [
           {
            "automargin": true,
            "type": "pie"
           }
          ],
          "scatter": [
           {
            "marker": {
             "colorbar": {
              "outlinewidth": 0,
              "ticks": ""
             }
            },
            "type": "scatter"
           }
          ],
          "scatter3d": [
           {
            "line": {
             "colorbar": {
              "outlinewidth": 0,
              "ticks": ""
             }
            },
            "marker": {
             "colorbar": {
              "outlinewidth": 0,
              "ticks": ""
             }
            },
            "type": "scatter3d"
           }
          ],
          "scattercarpet": [
           {
            "marker": {
             "colorbar": {
              "outlinewidth": 0,
              "ticks": ""
             }
            },
            "type": "scattercarpet"
           }
          ],
          "scattergeo": [
           {
            "marker": {
             "colorbar": {
              "outlinewidth": 0,
              "ticks": ""
             }
            },
            "type": "scattergeo"
           }
          ],
          "scattergl": [
           {
            "marker": {
             "colorbar": {
              "outlinewidth": 0,
              "ticks": ""
             }
            },
            "type": "scattergl"
           }
          ],
          "scattermapbox": [
           {
            "marker": {
             "colorbar": {
              "outlinewidth": 0,
              "ticks": ""
             }
            },
            "type": "scattermapbox"
           }
          ],
          "scatterpolar": [
           {
            "marker": {
             "colorbar": {
              "outlinewidth": 0,
              "ticks": ""
             }
            },
            "type": "scatterpolar"
           }
          ],
          "scatterpolargl": [
           {
            "marker": {
             "colorbar": {
              "outlinewidth": 0,
              "ticks": ""
             }
            },
            "type": "scatterpolargl"
           }
          ],
          "scatterternary": [
           {
            "marker": {
             "colorbar": {
              "outlinewidth": 0,
              "ticks": ""
             }
            },
            "type": "scatterternary"
           }
          ],
          "surface": [
           {
            "colorbar": {
             "outlinewidth": 0,
             "ticks": ""
            },
            "colorscale": [
             [
              0,
              "#0d0887"
             ],
             [
              0.1111111111111111,
              "#46039f"
             ],
             [
              0.2222222222222222,
              "#7201a8"
             ],
             [
              0.3333333333333333,
              "#9c179e"
             ],
             [
              0.4444444444444444,
              "#bd3786"
             ],
             [
              0.5555555555555556,
              "#d8576b"
             ],
             [
              0.6666666666666666,
              "#ed7953"
             ],
             [
              0.7777777777777778,
              "#fb9f3a"
             ],
             [
              0.8888888888888888,
              "#fdca26"
             ],
             [
              1,
              "#f0f921"
             ]
            ],
            "type": "surface"
           }
          ],
          "table": [
           {
            "cells": {
             "fill": {
              "color": "#EBF0F8"
             },
             "line": {
              "color": "white"
             }
            },
            "header": {
             "fill": {
              "color": "#C8D4E3"
             },
             "line": {
              "color": "white"
             }
            },
            "type": "table"
           }
          ]
         },
         "layout": {
          "annotationdefaults": {
           "arrowcolor": "#2a3f5f",
           "arrowhead": 0,
           "arrowwidth": 1
          },
          "autotypenumbers": "strict",
          "coloraxis": {
           "colorbar": {
            "outlinewidth": 0,
            "ticks": ""
           }
          },
          "colorscale": {
           "diverging": [
            [
             0,
             "#8e0152"
            ],
            [
             0.1,
             "#c51b7d"
            ],
            [
             0.2,
             "#de77ae"
            ],
            [
             0.3,
             "#f1b6da"
            ],
            [
             0.4,
             "#fde0ef"
            ],
            [
             0.5,
             "#f7f7f7"
            ],
            [
             0.6,
             "#e6f5d0"
            ],
            [
             0.7,
             "#b8e186"
            ],
            [
             0.8,
             "#7fbc41"
            ],
            [
             0.9,
             "#4d9221"
            ],
            [
             1,
             "#276419"
            ]
           ],
           "sequential": [
            [
             0,
             "#0d0887"
            ],
            [
             0.1111111111111111,
             "#46039f"
            ],
            [
             0.2222222222222222,
             "#7201a8"
            ],
            [
             0.3333333333333333,
             "#9c179e"
            ],
            [
             0.4444444444444444,
             "#bd3786"
            ],
            [
             0.5555555555555556,
             "#d8576b"
            ],
            [
             0.6666666666666666,
             "#ed7953"
            ],
            [
             0.7777777777777778,
             "#fb9f3a"
            ],
            [
             0.8888888888888888,
             "#fdca26"
            ],
            [
             1,
             "#f0f921"
            ]
           ],
           "sequentialminus": [
            [
             0,
             "#0d0887"
            ],
            [
             0.1111111111111111,
             "#46039f"
            ],
            [
             0.2222222222222222,
             "#7201a8"
            ],
            [
             0.3333333333333333,
             "#9c179e"
            ],
            [
             0.4444444444444444,
             "#bd3786"
            ],
            [
             0.5555555555555556,
             "#d8576b"
            ],
            [
             0.6666666666666666,
             "#ed7953"
            ],
            [
             0.7777777777777778,
             "#fb9f3a"
            ],
            [
             0.8888888888888888,
             "#fdca26"
            ],
            [
             1,
             "#f0f921"
            ]
           ]
          },
          "colorway": [
           "#636efa",
           "#EF553B",
           "#00cc96",
           "#ab63fa",
           "#FFA15A",
           "#19d3f3",
           "#FF6692",
           "#B6E880",
           "#FF97FF",
           "#FECB52"
          ],
          "font": {
           "color": "#2a3f5f"
          },
          "geo": {
           "bgcolor": "white",
           "lakecolor": "white",
           "landcolor": "#E5ECF6",
           "showlakes": true,
           "showland": true,
           "subunitcolor": "white"
          },
          "hoverlabel": {
           "align": "left"
          },
          "hovermode": "closest",
          "mapbox": {
           "style": "light"
          },
          "paper_bgcolor": "white",
          "plot_bgcolor": "#E5ECF6",
          "polar": {
           "angularaxis": {
            "gridcolor": "white",
            "linecolor": "white",
            "ticks": ""
           },
           "bgcolor": "#E5ECF6",
           "radialaxis": {
            "gridcolor": "white",
            "linecolor": "white",
            "ticks": ""
           }
          },
          "scene": {
           "xaxis": {
            "backgroundcolor": "#E5ECF6",
            "gridcolor": "white",
            "gridwidth": 2,
            "linecolor": "white",
            "showbackground": true,
            "ticks": "",
            "zerolinecolor": "white"
           },
           "yaxis": {
            "backgroundcolor": "#E5ECF6",
            "gridcolor": "white",
            "gridwidth": 2,
            "linecolor": "white",
            "showbackground": true,
            "ticks": "",
            "zerolinecolor": "white"
           },
           "zaxis": {
            "backgroundcolor": "#E5ECF6",
            "gridcolor": "white",
            "gridwidth": 2,
            "linecolor": "white",
            "showbackground": true,
            "ticks": "",
            "zerolinecolor": "white"
           }
          },
          "shapedefaults": {
           "line": {
            "color": "#2a3f5f"
           }
          },
          "ternary": {
           "aaxis": {
            "gridcolor": "white",
            "linecolor": "white",
            "ticks": ""
           },
           "baxis": {
            "gridcolor": "white",
            "linecolor": "white",
            "ticks": ""
           },
           "bgcolor": "#E5ECF6",
           "caxis": {
            "gridcolor": "white",
            "linecolor": "white",
            "ticks": ""
           }
          },
          "title": {
           "x": 0.05
          },
          "xaxis": {
           "automargin": true,
           "gridcolor": "white",
           "linecolor": "white",
           "ticks": "",
           "title": {
            "standoff": 15
           },
           "zerolinecolor": "white",
           "zerolinewidth": 2
          },
          "yaxis": {
           "automargin": true,
           "gridcolor": "white",
           "linecolor": "white",
           "ticks": "",
           "title": {
            "standoff": 15
           },
           "zerolinecolor": "white",
           "zerolinewidth": 2
          }
         }
        },
        "xaxis": {
         "anchor": "y",
         "autorange": true,
         "domain": [
          0,
          1
         ],
         "range": [
          -0.5,
          9.5
         ],
         "title": {
          "text": "City"
         },
         "type": "category"
        },
        "yaxis": {
         "anchor": "x",
         "autorange": true,
         "domain": [
          0,
          1
         ],
         "range": [
          0,
          40.29789473684211
         ],
         "title": {
          "text": "AverageTemperature"
         },
         "type": "linear"
        }
       }
      },
      "image/png": "[encoded data removed]",
      "text/html": [
       "<div>                            <div id=\"9a028018-d42d-4007-96ba-b37e06a6ac99\" class=\"plotly-graph-div\" style=\"height:525px; width:100%;\"></div>            <script type=\"text/javascript\">                require([\"plotly\"], function(Plotly) {                    window.PLOTLYENV=window.PLOTLYENV || {};                                    if (document.getElementById(\"9a028018-d42d-4007-96ba-b37e06a6ac99\")) {                    Plotly.newPlot(                        \"9a028018-d42d-4007-96ba-b37e06a6ac99\",                        [{\"alignmentgroup\":\"True\",\"hovertemplate\":\"City=%{x}<br>AverageTemperature=%{y}<extra></extra>\",\"legendgroup\":\"\",\"marker\":{\"color\":\"#636efa\",\"pattern\":{\"shape\":\"\"}},\"name\":\"\",\"offsetgroup\":\"\",\"orientation\":\"v\",\"showlegend\":false,\"textposition\":\"auto\",\"x\":[\"Baghdad\",\"Riyadh\",\"Jaipur\",\"Lahore\",\"Faisalabad\",\"New Delhi\",\"Delhi\",\"Nagpur\",\"Umm Durman\",\"Lakhnau\"],\"xaxis\":\"x\",\"y\":[38.283,37.859,36.477,36.346,36.346,36.33900000000001,36.33900000000001,36.052,35.7,35.61799999999999],\"yaxis\":\"y\",\"type\":\"bar\"}],                        {\"template\":{\"data\":{\"bar\":[{\"error_x\":{\"color\":\"#2a3f5f\"},\"error_y\":{\"color\":\"#2a3f5f\"},\"marker\":{\"line\":{\"color\":\"#E5ECF6\",\"width\":0.5},\"pattern\":{\"fillmode\":\"overlay\",\"size\":10,\"solidity\":0.2}},\"type\":\"bar\"}],\"barpolar\":[{\"marker\":{\"line\":{\"color\":\"#E5ECF6\",\"width\":0.5},\"pattern\":{\"fillmode\":\"overlay\",\"size\":10,\"solidity\":0.2}},\"type\":\"barpolar\"}],\"carpet\":[{\"aaxis\":{\"endlinecolor\":\"#2a3f5f\",\"gridcolor\":\"white\",\"linecolor\":\"white\",\"minorgridcolor\":\"white\",\"startlinecolor\":\"#2a3f5f\"},\"baxis\":{\"endlinecolor\":\"#2a3f5f\",\"gridcolor\":\"white\",\"linecolor\":\"white\",\"minorgridcolor\":\"white\",\"startlinecolor\":\"#2a3f5f\"},\"type\":\"carpet\"}],\"choropleth\":[{\"colorbar\":{\"outlinewidth\":0,\"ticks\":\"\"},\"type\":\"choropleth\"}],\"contour\":[{\"colorbar\":{\"outlinewidth\":0,\"ticks\":\"\"},\"colorscale\":[[0.0,\"#0d0887\"],[0.1111111111111111,\"#46039f\"],[0.2222222222222222,\"#7201a8\"],[0.3333333333333333,\"#9c179e\"],[0.4444444444444444,\"#bd3786\"],[0.5555555555555556,\"#d8576b\"],[0.6666666666666666,\"#ed7953\"],[0.7777777777777778,\"#fb9f3a\"],[0.8888888888888888,\"#fdca26\"],[1.0,\"#f0f921\"]],\"type\":\"contour\"}],\"contourcarpet\":[{\"colorbar\":{\"outlinewidth\":0,\"ticks\":\"\"},\"type\":\"contourcarpet\"}],\"heatmap\":[{\"colorbar\":{\"outlinewidth\":0,\"ticks\":\"\"},\"colorscale\":[[0.0,\"#0d0887\"],[0.1111111111111111,\"#46039f\"],[0.2222222222222222,\"#7201a8\"],[0.3333333333333333,\"#9c179e\"],[0.4444444444444444,\"#bd3786\"],[0.5555555555555556,\"#d8576b\"],[0.6666666666666666,\"#ed7953\"],[0.7777777777777778,\"#fb9f3a\"],[0.8888888888888888,\"#fdca26\"],[1.0,\"#f0f921\"]],\"type\":\"heatmap\"}],\"heatmapgl\":[{\"colorbar\":{\"outlinewidth\":0,\"ticks\":\"\"},\"colorscale\":[[0.0,\"#0d0887\"],[0.1111111111111111,\"#46039f\"],[0.2222222222222222,\"#7201a8\"],[0.3333333333333333,\"#9c179e\"],[0.4444444444444444,\"#bd3786\"],[0.5555555555555556,\"#d8576b\"],[0.6666666666666666,\"#ed7953\"],[0.7777777777777778,\"#fb9f3a\"],[0.8888888888888888,\"#fdca26\"],[1.0,\"#f0f921\"]],\"type\":\"heatmapgl\"}],\"histogram\":[{\"marker\":{\"pattern\":{\"fillmode\":\"overlay\",\"size\":10,\"solidity\":0.2}},\"type\":\"histogram\"}],\"histogram2d\":[{\"colorbar\":{\"outlinewidth\":0,\"ticks\":\"\"},\"colorscale\":[[0.0,\"#0d0887\"],[0.1111111111111111,\"#46039f\"],[0.2222222222222222,\"#7201a8\"],[0.3333333333333333,\"#9c179e\"],[0.4444444444444444,\"#bd3786\"],[0.5555555555555556,\"#d8576b\"],[0.6666666666666666,\"#ed7953\"],[0.7777777777777778,\"#fb9f3a\"],[0.8888888888888888,\"#fdca26\"],[1.0,\"#f0f921\"]],\"type\":\"histogram2d\"}],\"histogram2dcontour\":[{\"colorbar\":{\"outlinewidth\":0,\"ticks\":\"\"},\"colorscale\":[[0.0,\"#0d0887\"],[0.1111111111111111,\"#46039f\"],[0.2222222222222222,\"#7201a8\"],[0.3333333333333333,\"#9c179e\"],[0.4444444444444444,\"#bd3786\"],[0.5555555555555556,\"#d8576b\"],[0.6666666666666666,\"#ed7953\"],[0.7777777777777778,\"#fb9f3a\"],[0.8888888888888888,\"#fdca26\"],[1.0,\"#f0f921\"]],\"type\":\"histogram2dcontour\"}],\"mesh3d\":[{\"colorbar\":{\"outlinewidth\":0,\"ticks\":\"\"},\"type\":\"mesh3d\"}],\"parcoords\":[{\"line\":{\"colorbar\":{\"outlinewidth\":0,\"ticks\":\"\"}},\"type\":\"parcoords\"}],\"pie\":[{\"automargin\":true,\"type\":\"pie\"}],\"scatter\":[{\"marker\":{\"colorbar\":{\"outlinewidth\":0,\"ticks\":\"\"}},\"type\":\"scatter\"}],\"scatter3d\":[{\"line\":{\"colorbar\":{\"outlinewidth\":0,\"ticks\":\"\"}},\"marker\":{\"colorbar\":{\"outlinewidth\":0,\"ticks\":\"\"}},\"type\":\"scatter3d\"}],\"scattercarpet\":[{\"marker\":{\"colorbar\":{\"outlinewidth\":0,\"ticks\":\"\"}},\"type\":\"scattercarpet\"}],\"scattergeo\":[{\"marker\":{\"colorbar\":{\"outlinewidth\":0,\"ticks\":\"\"}},\"type\":\"scattergeo\"}],\"scattergl\":[{\"marker\":{\"colorbar\":{\"outlinewidth\":0,\"ticks\":\"\"}},\"type\":\"scattergl\"}],\"scattermapbox\":[{\"marker\":{\"colorbar\":{\"outlinewidth\":0,\"ticks\":\"\"}},\"type\":\"scattermapbox\"}],\"scatterpolar\":[{\"marker\":{\"colorbar\":{\"outlinewidth\":0,\"ticks\":\"\"}},\"type\":\"scatterpolar\"}],\"scatterpolargl\":[{\"marker\":{\"colorbar\":{\"outlinewidth\":0,\"ticks\":\"\"}},\"type\":\"scatterpolargl\"}],\"scatterternary\":[{\"marker\":{\"colorbar\":{\"outlinewidth\":0,\"ticks\":\"\"}},\"type\":\"scatterternary\"}],\"surface\":[{\"colorbar\":{\"outlinewidth\":0,\"ticks\":\"\"},\"colorscale\":[[0.0,\"#0d0887\"],[0.1111111111111111,\"#46039f\"],[0.2222222222222222,\"#7201a8\"],[0.3333333333333333,\"#9c179e\"],[0.4444444444444444,\"#bd3786\"],[0.5555555555555556,\"#d8576b\"],[0.6666666666666666,\"#ed7953\"],[0.7777777777777778,\"#fb9f3a\"],[0.8888888888888888,\"#fdca26\"],[1.0,\"#f0f921\"]],\"type\":\"surface\"}],\"table\":[{\"cells\":{\"fill\":{\"color\":\"#EBF0F8\"},\"line\":{\"color\":\"white\"}},\"header\":{\"fill\":{\"color\":\"#C8D4E3\"},\"line\":{\"color\":\"white\"}},\"type\":\"table\"}]},\"layout\":{\"annotationdefaults\":{\"arrowcolor\":\"#2a3f5f\",\"arrowhead\":0,\"arrowwidth\":1},\"autotypenumbers\":\"strict\",\"coloraxis\":{\"colorbar\":{\"outlinewidth\":0,\"ticks\":\"\"}},\"colorscale\":{\"diverging\":[[0,\"#8e0152\"],[0.1,\"#c51b7d\"],[0.2,\"#de77ae\"],[0.3,\"#f1b6da\"],[0.4,\"#fde0ef\"],[0.5,\"#f7f7f7\"],[0.6,\"#e6f5d0\"],[0.7,\"#b8e186\"],[0.8,\"#7fbc41\"],[0.9,\"#4d9221\"],[1,\"#276419\"]],\"sequential\":[[0.0,\"#0d0887\"],[0.1111111111111111,\"#46039f\"],[0.2222222222222222,\"#7201a8\"],[0.3333333333333333,\"#9c179e\"],[0.4444444444444444,\"#bd3786\"],[0.5555555555555556,\"#d8576b\"],[0.6666666666666666,\"#ed7953\"],[0.7777777777777778,\"#fb9f3a\"],[0.8888888888888888,\"#fdca26\"],[1.0,\"#f0f921\"]],\"sequentialminus\":[[0.0,\"#0d0887\"],[0.1111111111111111,\"#46039f\"],[0.2222222222222222,\"#7201a8\"],[0.3333333333333333,\"#9c179e\"],[0.4444444444444444,\"#bd3786\"],[0.5555555555555556,\"#d8576b\"],[0.6666666666666666,\"#ed7953\"],[0.7777777777777778,\"#fb9f3a\"],[0.8888888888888888,\"#fdca26\"],[1.0,\"#f0f921\"]]},\"colorway\":[\"#636efa\",\"#EF553B\",\"#00cc96\",\"#ab63fa\",\"#FFA15A\",\"#19d3f3\",\"#FF6692\",\"#B6E880\",\"#FF97FF\",\"#FECB52\"],\"font\":{\"color\":\"#2a3f5f\"},\"geo\":{\"bgcolor\":\"white\",\"lakecolor\":\"white\",\"landcolor\":\"#E5ECF6\",\"showlakes\":true,\"showland\":true,\"subunitcolor\":\"white\"},\"hoverlabel\":{\"align\":\"left\"},\"hovermode\":\"closest\",\"mapbox\":{\"style\":\"light\"},\"paper_bgcolor\":\"white\",\"plot_bgcolor\":\"#E5ECF6\",\"polar\":{\"angularaxis\":{\"gridcolor\":\"white\",\"linecolor\":\"white\",\"ticks\":\"\"},\"bgcolor\":\"#E5ECF6\",\"radialaxis\":{\"gridcolor\":\"white\",\"linecolor\":\"white\",\"ticks\":\"\"}},\"scene\":{\"xaxis\":{\"backgroundcolor\":\"#E5ECF6\",\"gridcolor\":\"white\",\"gridwidth\":2,\"linecolor\":\"white\",\"showbackground\":true,\"ticks\":\"\",\"zerolinecolor\":\"white\"},\"yaxis\":{\"backgroundcolor\":\"#E5ECF6\",\"gridcolor\":\"white\",\"gridwidth\":2,\"linecolor\":\"white\",\"showbackground\":true,\"ticks\":\"\",\"zerolinecolor\":\"white\"},\"zaxis\":{\"backgroundcolor\":\"#E5ECF6\",\"gridcolor\":\"white\",\"gridwidth\":2,\"linecolor\":\"white\",\"showbackground\":true,\"ticks\":\"\",\"zerolinecolor\":\"white\"}},\"shapedefaults\":{\"line\":{\"color\":\"#2a3f5f\"}},\"ternary\":{\"aaxis\":{\"gridcolor\":\"white\",\"linecolor\":\"white\",\"ticks\":\"\"},\"baxis\":{\"gridcolor\":\"white\",\"linecolor\":\"white\",\"ticks\":\"\"},\"bgcolor\":\"#E5ECF6\",\"caxis\":{\"gridcolor\":\"white\",\"linecolor\":\"white\",\"ticks\":\"\"}},\"title\":{\"x\":0.05},\"xaxis\":{\"automargin\":true,\"gridcolor\":\"white\",\"linecolor\":\"white\",\"ticks\":\"\",\"title\":{\"standoff\":15},\"zerolinecolor\":\"white\",\"zerolinewidth\":2},\"yaxis\":{\"automargin\":true,\"gridcolor\":\"white\",\"linecolor\":\"white\",\"ticks\":\"\",\"title\":{\"standoff\":15},\"zerolinecolor\":\"white\",\"zerolinewidth\":2}}},\"xaxis\":{\"anchor\":\"y\",\"domain\":[0.0,1.0],\"title\":{\"text\":\"City\"}},\"yaxis\":{\"anchor\":\"x\",\"domain\":[0.0,1.0],\"title\":{\"text\":\"AverageTemperature\"}},\"legend\":{\"tracegroupgap\":0},\"margin\":{\"t\":60},\"barmode\":\"relative\"},                        {\"responsive\": true}                    ).then(function(){\n",
       "                            \n",
       "var gd = document.getElementById('9a028018-d42d-4007-96ba-b37e06a6ac99');\n",
       "var x = new MutationObserver(function (mutations, observer) {{\n",
       "        var display = window.getComputedStyle(gd).display;\n",
       "        if (!display || display === 'none') {{\n",
       "            console.log([gd, 'removed!']);\n",
       "            Plotly.purge(gd);\n",
       "            observer.disconnect();\n",
       "        }}\n",
       "}});\n",
       "\n",
       "// Listen for the removal of the full notebook cells\n",
       "var notebookContainer = gd.closest('#notebook-container');\n",
       "if (notebookContainer) {{\n",
       "    x.observe(notebookContainer, {childList: true});\n",
       "}}\n",
       "\n",
       "// Listen for the clearing of the current output cell\n",
       "var outputEl = gd.closest('.output');\n",
       "if (outputEl) {{\n",
       "    x.observe(outputEl, {childList: true});\n",
       "}}\n",
       "\n",
       "                        })                };                });            </script>        </div>"
      ]
     },
     "metadata": {},
     "output_type": "display_data"
    },
    {
     "data": {
      "image/png": "[encoded data removed]",
      "text/plain": [
       "<Figure size 1152x360 with 1 Axes>"
      ]
     },
     "metadata": {
      "needs_background": "light"
     },
     "output_type": "display_data"
    }
   ],
   "source": [
    "fig =px.bar(most_temp_by_city, x=\"City\", y=\"AverageTemperature\")\n",
    "fig.show()\n",
    "\n",
    "plt.figure(figsize=(16, 5))\n",
    "plt.bar(most_temp_by_city.City, most_temp_by_city.AverageTemperature)\n",
    "\n",
    "plt.xticks(rotation = 45)\n",
    "plt.ylabel('Average Temperature')\n",
    "plt.xlabel('City')\n",
    "plt.show()"
   ]
  },
  {
   "cell_type": "code",
   "execution_count": 59,
   "id": "1ae1b92e-2b1a-4a8b-b00b-16a4108e86a0",
   "metadata": {},
   "outputs": [
    {
     "data": {
      "text/html": [
       "<div>\n",
       "<style scoped>\n",
       "    .dataframe tbody tr th:only-of-type {\n",
       "        vertical-align: middle;\n",
       "    }\n",
       "\n",
       "    .dataframe tbody tr th {\n",
       "        vertical-align: top;\n",
       "    }\n",
       "\n",
       "    .dataframe thead th {\n",
       "        text-align: right;\n",
       "    }\n",
       "</style>\n",
       "<table border=\"1\" class=\"dataframe\">\n",
       "  <thead>\n",
       "    <tr style=\"text-align: right;\">\n",
       "      <th></th>\n",
       "      <th>dt</th>\n",
       "      <th>AverageTemperature</th>\n",
       "      <th>AverageTemperatureUncertainty</th>\n",
       "      <th>City</th>\n",
       "      <th>Latitude</th>\n",
       "      <th>Longitude</th>\n",
       "      <th>year</th>\n",
       "      <th>month</th>\n",
       "      <th>day</th>\n",
       "      <th>Country_code</th>\n",
       "      <th>Country_continent</th>\n",
       "    </tr>\n",
       "    <tr>\n",
       "      <th>Country</th>\n",
       "      <th></th>\n",
       "      <th></th>\n",
       "      <th></th>\n",
       "      <th></th>\n",
       "      <th></th>\n",
       "      <th></th>\n",
       "      <th></th>\n",
       "      <th></th>\n",
       "      <th></th>\n",
       "      <th></th>\n",
       "      <th></th>\n",
       "    </tr>\n",
       "  </thead>\n",
       "  <tbody>\n",
       "    <tr>\n",
       "      <th>Iraq</th>\n",
       "      <td>2013-09-01</td>\n",
       "      <td>38.283</td>\n",
       "      <td>4.752</td>\n",
       "      <td>Baghdad</td>\n",
       "      <td>32.95N</td>\n",
       "      <td>45.00E</td>\n",
       "      <td>2013</td>\n",
       "      <td>12</td>\n",
       "      <td>1</td>\n",
       "      <td>IQ</td>\n",
       "      <td>AS</td>\n",
       "    </tr>\n",
       "    <tr>\n",
       "      <th>Saudi Arabia</th>\n",
       "      <td>2013-09-01</td>\n",
       "      <td>37.859</td>\n",
       "      <td>4.399</td>\n",
       "      <td>Riyadh</td>\n",
       "      <td>24.92N</td>\n",
       "      <td>46.11E</td>\n",
       "      <td>2013</td>\n",
       "      <td>12</td>\n",
       "      <td>1</td>\n",
       "      <td>SA</td>\n",
       "      <td>AS</td>\n",
       "    </tr>\n",
       "    <tr>\n",
       "      <th>India</th>\n",
       "      <td>2013-09-01</td>\n",
       "      <td>36.477</td>\n",
       "      <td>7.781</td>\n",
       "      <td>Surat</td>\n",
       "      <td>28.13N</td>\n",
       "      <td>88.25E</td>\n",
       "      <td>2013</td>\n",
       "      <td>12</td>\n",
       "      <td>1</td>\n",
       "      <td>IN</td>\n",
       "      <td>AS</td>\n",
       "    </tr>\n",
       "    <tr>\n",
       "      <th>Pakistan</th>\n",
       "      <td>2013-09-01</td>\n",
       "      <td>36.346</td>\n",
       "      <td>4.973</td>\n",
       "      <td>Lahore</td>\n",
       "      <td>31.35N</td>\n",
       "      <td>73.51E</td>\n",
       "      <td>2013</td>\n",
       "      <td>12</td>\n",
       "      <td>1</td>\n",
       "      <td>PK</td>\n",
       "      <td>AS</td>\n",
       "    </tr>\n",
       "    <tr>\n",
       "      <th>Sudan</th>\n",
       "      <td>2013-09-01</td>\n",
       "      <td>35.700</td>\n",
       "      <td>4.663</td>\n",
       "      <td>Umm Durman</td>\n",
       "      <td>15.27N</td>\n",
       "      <td>32.50E</td>\n",
       "      <td>2013</td>\n",
       "      <td>12</td>\n",
       "      <td>1</td>\n",
       "      <td>SD</td>\n",
       "      <td>AF</td>\n",
       "    </tr>\n",
       "    <tr>\n",
       "      <th>Nigeria</th>\n",
       "      <td>2013-09-01</td>\n",
       "      <td>33.068</td>\n",
       "      <td>3.775</td>\n",
       "      <td>Lagos</td>\n",
       "      <td>7.23N</td>\n",
       "      <td>8.22E</td>\n",
       "      <td>2013</td>\n",
       "      <td>12</td>\n",
       "      <td>1</td>\n",
       "      <td>NG</td>\n",
       "      <td>AF</td>\n",
       "    </tr>\n",
       "    <tr>\n",
       "      <th>Syria</th>\n",
       "      <td>2013-09-01</td>\n",
       "      <td>32.629</td>\n",
       "      <td>5.450</td>\n",
       "      <td>Aleppo</td>\n",
       "      <td>36.17N</td>\n",
       "      <td>37.79E</td>\n",
       "      <td>2013</td>\n",
       "      <td>12</td>\n",
       "      <td>1</td>\n",
       "      <td>SY</td>\n",
       "      <td>AS</td>\n",
       "    </tr>\n",
       "    <tr>\n",
       "      <th>Myanmar</th>\n",
       "      <td>2013-09-01</td>\n",
       "      <td>31.960</td>\n",
       "      <td>5.806</td>\n",
       "      <td>Rangoon</td>\n",
       "      <td>16.87N</td>\n",
       "      <td>95.44E</td>\n",
       "      <td>2013</td>\n",
       "      <td>12</td>\n",
       "      <td>1</td>\n",
       "      <td>MM</td>\n",
       "      <td>AS</td>\n",
       "    </tr>\n",
       "    <tr>\n",
       "      <th>China</th>\n",
       "      <td>2013-09-01</td>\n",
       "      <td>31.233</td>\n",
       "      <td>6.870</td>\n",
       "      <td>Xian</td>\n",
       "      <td>45.81N</td>\n",
       "      <td>125.77E</td>\n",
       "      <td>2013</td>\n",
       "      <td>12</td>\n",
       "      <td>1</td>\n",
       "      <td>CN</td>\n",
       "      <td>AS</td>\n",
       "    </tr>\n",
       "    <tr>\n",
       "      <th>Thailand</th>\n",
       "      <td>2013-09-01</td>\n",
       "      <td>31.115</td>\n",
       "      <td>5.327</td>\n",
       "      <td>Bangkok</td>\n",
       "      <td>13.66N</td>\n",
       "      <td>99.91E</td>\n",
       "      <td>2013</td>\n",
       "      <td>12</td>\n",
       "      <td>1</td>\n",
       "      <td>TH</td>\n",
       "      <td>AS</td>\n",
       "    </tr>\n",
       "  </tbody>\n",
       "</table>\n",
       "</div>"
      ],
      "text/plain": [
       "                     dt  AverageTemperature  AverageTemperatureUncertainty  \\\n",
       "Country                                                                      \n",
       "Iraq         2013-09-01              38.283                          4.752   \n",
       "Saudi Arabia 2013-09-01              37.859                          4.399   \n",
       "India        2013-09-01              36.477                          7.781   \n",
       "Pakistan     2013-09-01              36.346                          4.973   \n",
       "Sudan        2013-09-01              35.700                          4.663   \n",
       "Nigeria      2013-09-01              33.068                          3.775   \n",
       "Syria        2013-09-01              32.629                          5.450   \n",
       "Myanmar      2013-09-01              31.960                          5.806   \n",
       "China        2013-09-01              31.233                          6.870   \n",
       "Thailand     2013-09-01              31.115                          5.327   \n",
       "\n",
       "                    City Latitude Longitude  year  month  day Country_code  \\\n",
       "Country                                                                      \n",
       "Iraq             Baghdad   32.95N    45.00E  2013     12    1           IQ   \n",
       "Saudi Arabia      Riyadh   24.92N    46.11E  2013     12    1           SA   \n",
       "India              Surat   28.13N    88.25E  2013     12    1           IN   \n",
       "Pakistan          Lahore   31.35N    73.51E  2013     12    1           PK   \n",
       "Sudan         Umm Durman   15.27N    32.50E  2013     12    1           SD   \n",
       "Nigeria            Lagos    7.23N     8.22E  2013     12    1           NG   \n",
       "Syria             Aleppo   36.17N    37.79E  2013     12    1           SY   \n",
       "Myanmar          Rangoon   16.87N    95.44E  2013     12    1           MM   \n",
       "China               Xian   45.81N   125.77E  2013     12    1           CN   \n",
       "Thailand         Bangkok   13.66N    99.91E  2013     12    1           TH   \n",
       "\n",
       "             Country_continent  \n",
       "Country                         \n",
       "Iraq                        AS  \n",
       "Saudi Arabia                AS  \n",
       "India                       AS  \n",
       "Pakistan                    AS  \n",
       "Sudan                       AF  \n",
       "Nigeria                     AF  \n",
       "Syria                       AS  \n",
       "Myanmar                     AS  \n",
       "China                       AS  \n",
       "Thailand                    AS  "
      ]
     },
     "execution_count": 59,
     "metadata": {},
     "output_type": "execute_result"
    }
   ],
   "source": [
    "# By grouping total vaccinations given by country and sort descending to identify the top 10 countries. \n",
    "hotest_country = df.groupby('Country').max().sort_values('AverageTemperature', ascending=False)\n",
    "hotest_country = hotest_country.iloc[:10]\n",
    "hotest_country"
   ]
  },
  {
   "cell_type": "code",
   "execution_count": 60,
   "id": "38ed96ff-f231-4b8e-b1fa-62ca90a67e16",
   "metadata": {},
   "outputs": [
    {
     "data": {
      "text/html": [
       "<div>\n",
       "<style scoped>\n",
       "    .dataframe tbody tr th:only-of-type {\n",
       "        vertical-align: middle;\n",
       "    }\n",
       "\n",
       "    .dataframe tbody tr th {\n",
       "        vertical-align: top;\n",
       "    }\n",
       "\n",
       "    .dataframe thead th {\n",
       "        text-align: right;\n",
       "    }\n",
       "</style>\n",
       "<table border=\"1\" class=\"dataframe\">\n",
       "  <thead>\n",
       "    <tr style=\"text-align: right;\">\n",
       "      <th></th>\n",
       "      <th>Country</th>\n",
       "      <th>dt</th>\n",
       "      <th>AverageTemperature</th>\n",
       "      <th>AverageTemperatureUncertainty</th>\n",
       "      <th>City</th>\n",
       "      <th>Latitude</th>\n",
       "      <th>Longitude</th>\n",
       "      <th>year</th>\n",
       "      <th>month</th>\n",
       "      <th>day</th>\n",
       "      <th>Country_code</th>\n",
       "      <th>Country_continent</th>\n",
       "    </tr>\n",
       "  </thead>\n",
       "  <tbody>\n",
       "    <tr>\n",
       "      <th>0</th>\n",
       "      <td>Iraq</td>\n",
       "      <td>2013-09-01</td>\n",
       "      <td>38.283</td>\n",
       "      <td>4.752</td>\n",
       "      <td>Baghdad</td>\n",
       "      <td>32.95N</td>\n",
       "      <td>45.00E</td>\n",
       "      <td>2013</td>\n",
       "      <td>12</td>\n",
       "      <td>1</td>\n",
       "      <td>IQ</td>\n",
       "      <td>AS</td>\n",
       "    </tr>\n",
       "    <tr>\n",
       "      <th>1</th>\n",
       "      <td>Saudi Arabia</td>\n",
       "      <td>2013-09-01</td>\n",
       "      <td>37.859</td>\n",
       "      <td>4.399</td>\n",
       "      <td>Riyadh</td>\n",
       "      <td>24.92N</td>\n",
       "      <td>46.11E</td>\n",
       "      <td>2013</td>\n",
       "      <td>12</td>\n",
       "      <td>1</td>\n",
       "      <td>SA</td>\n",
       "      <td>AS</td>\n",
       "    </tr>\n",
       "    <tr>\n",
       "      <th>2</th>\n",
       "      <td>India</td>\n",
       "      <td>2013-09-01</td>\n",
       "      <td>36.477</td>\n",
       "      <td>7.781</td>\n",
       "      <td>Surat</td>\n",
       "      <td>28.13N</td>\n",
       "      <td>88.25E</td>\n",
       "      <td>2013</td>\n",
       "      <td>12</td>\n",
       "      <td>1</td>\n",
       "      <td>IN</td>\n",
       "      <td>AS</td>\n",
       "    </tr>\n",
       "    <tr>\n",
       "      <th>3</th>\n",
       "      <td>Pakistan</td>\n",
       "      <td>2013-09-01</td>\n",
       "      <td>36.346</td>\n",
       "      <td>4.973</td>\n",
       "      <td>Lahore</td>\n",
       "      <td>31.35N</td>\n",
       "      <td>73.51E</td>\n",
       "      <td>2013</td>\n",
       "      <td>12</td>\n",
       "      <td>1</td>\n",
       "      <td>PK</td>\n",
       "      <td>AS</td>\n",
       "    </tr>\n",
       "    <tr>\n",
       "      <th>4</th>\n",
       "      <td>Sudan</td>\n",
       "      <td>2013-09-01</td>\n",
       "      <td>35.700</td>\n",
       "      <td>4.663</td>\n",
       "      <td>Umm Durman</td>\n",
       "      <td>15.27N</td>\n",
       "      <td>32.50E</td>\n",
       "      <td>2013</td>\n",
       "      <td>12</td>\n",
       "      <td>1</td>\n",
       "      <td>SD</td>\n",
       "      <td>AF</td>\n",
       "    </tr>\n",
       "    <tr>\n",
       "      <th>5</th>\n",
       "      <td>Nigeria</td>\n",
       "      <td>2013-09-01</td>\n",
       "      <td>33.068</td>\n",
       "      <td>3.775</td>\n",
       "      <td>Lagos</td>\n",
       "      <td>7.23N</td>\n",
       "      <td>8.22E</td>\n",
       "      <td>2013</td>\n",
       "      <td>12</td>\n",
       "      <td>1</td>\n",
       "      <td>NG</td>\n",
       "      <td>AF</td>\n",
       "    </tr>\n",
       "    <tr>\n",
       "      <th>6</th>\n",
       "      <td>Syria</td>\n",
       "      <td>2013-09-01</td>\n",
       "      <td>32.629</td>\n",
       "      <td>5.450</td>\n",
       "      <td>Aleppo</td>\n",
       "      <td>36.17N</td>\n",
       "      <td>37.79E</td>\n",
       "      <td>2013</td>\n",
       "      <td>12</td>\n",
       "      <td>1</td>\n",
       "      <td>SY</td>\n",
       "      <td>AS</td>\n",
       "    </tr>\n",
       "    <tr>\n",
       "      <th>7</th>\n",
       "      <td>Myanmar</td>\n",
       "      <td>2013-09-01</td>\n",
       "      <td>31.960</td>\n",
       "      <td>5.806</td>\n",
       "      <td>Rangoon</td>\n",
       "      <td>16.87N</td>\n",
       "      <td>95.44E</td>\n",
       "      <td>2013</td>\n",
       "      <td>12</td>\n",
       "      <td>1</td>\n",
       "      <td>MM</td>\n",
       "      <td>AS</td>\n",
       "    </tr>\n",
       "    <tr>\n",
       "      <th>8</th>\n",
       "      <td>China</td>\n",
       "      <td>2013-09-01</td>\n",
       "      <td>31.233</td>\n",
       "      <td>6.870</td>\n",
       "      <td>Xian</td>\n",
       "      <td>45.81N</td>\n",
       "      <td>125.77E</td>\n",
       "      <td>2013</td>\n",
       "      <td>12</td>\n",
       "      <td>1</td>\n",
       "      <td>CN</td>\n",
       "      <td>AS</td>\n",
       "    </tr>\n",
       "    <tr>\n",
       "      <th>9</th>\n",
       "      <td>Thailand</td>\n",
       "      <td>2013-09-01</td>\n",
       "      <td>31.115</td>\n",
       "      <td>5.327</td>\n",
       "      <td>Bangkok</td>\n",
       "      <td>13.66N</td>\n",
       "      <td>99.91E</td>\n",
       "      <td>2013</td>\n",
       "      <td>12</td>\n",
       "      <td>1</td>\n",
       "      <td>TH</td>\n",
       "      <td>AS</td>\n",
       "    </tr>\n",
       "  </tbody>\n",
       "</table>\n",
       "</div>"
      ],
      "text/plain": [
       "        Country         dt  AverageTemperature  AverageTemperatureUncertainty  \\\n",
       "0          Iraq 2013-09-01              38.283                          4.752   \n",
       "1  Saudi Arabia 2013-09-01              37.859                          4.399   \n",
       "2         India 2013-09-01              36.477                          7.781   \n",
       "3      Pakistan 2013-09-01              36.346                          4.973   \n",
       "4         Sudan 2013-09-01              35.700                          4.663   \n",
       "5       Nigeria 2013-09-01              33.068                          3.775   \n",
       "6         Syria 2013-09-01              32.629                          5.450   \n",
       "7       Myanmar 2013-09-01              31.960                          5.806   \n",
       "8         China 2013-09-01              31.233                          6.870   \n",
       "9      Thailand 2013-09-01              31.115                          5.327   \n",
       "\n",
       "         City Latitude Longitude  year  month  day Country_code  \\\n",
       "0     Baghdad   32.95N    45.00E  2013     12    1           IQ   \n",
       "1      Riyadh   24.92N    46.11E  2013     12    1           SA   \n",
       "2       Surat   28.13N    88.25E  2013     12    1           IN   \n",
       "3      Lahore   31.35N    73.51E  2013     12    1           PK   \n",
       "4  Umm Durman   15.27N    32.50E  2013     12    1           SD   \n",
       "5       Lagos    7.23N     8.22E  2013     12    1           NG   \n",
       "6      Aleppo   36.17N    37.79E  2013     12    1           SY   \n",
       "7     Rangoon   16.87N    95.44E  2013     12    1           MM   \n",
       "8        Xian   45.81N   125.77E  2013     12    1           CN   \n",
       "9     Bangkok   13.66N    99.91E  2013     12    1           TH   \n",
       "\n",
       "  Country_continent  \n",
       "0                AS  \n",
       "1                AS  \n",
       "2                AS  \n",
       "3                AS  \n",
       "4                AF  \n",
       "5                AF  \n",
       "6                AS  \n",
       "7                AS  \n",
       "8                AS  \n",
       "9                AS  "
      ]
     },
     "execution_count": 60,
     "metadata": {},
     "output_type": "execute_result"
    }
   ],
   "source": [
    "hotest_country= hotest_country.reset_index()\n",
    "hotest_country"
   ]
  },
  {
   "cell_type": "code",
   "execution_count": 61,
   "id": "8c3725f6-390c-40b1-9d49-e752c46f0213",
   "metadata": {},
   "outputs": [
    {
     "data": {
      "application/vnd.plotly.v1+json": {
       "config": {
        "plotlyServerURL": "https://plot.ly"
       },
       "data": [
        {
         "alignmentgroup": "True",
         "hovertemplate": "Country=%{x}<br>AverageTemperature=%{y}<extra></extra>",
         "legendgroup": "",
         "marker": {
          "color": "#636efa",
          "pattern": {
           "shape": ""
          }
         },
         "name": "",
         "offsetgroup": "",
         "orientation": "v",
         "showlegend": false,
         "textposition": "auto",
         "type": "bar",
         "x": [
          "Iraq",
          "Saudi Arabia",
          "India",
          "Pakistan",
          "Sudan",
          "Nigeria",
          "Syria",
          "Myanmar",
          "China",
          "Thailand"
         ],
         "xaxis": "x",
         "y": [
          38.283,
          37.859,
          36.477,
          36.346,
          35.7,
          33.068000000000005,
          32.629,
          31.96,
          31.233,
          31.115
         ],
         "yaxis": "y"
        }
       ],
       "layout": {
        "autosize": true,
        "barmode": "relative",
        "legend": {
         "tracegroupgap": 0
        },
        "margin": {
         "t": 60
        },
        "template": {
         "data": {
          "bar": [
           {
            "error_x": {
             "color": "#2a3f5f"
            },
            "error_y": {
             "color": "#2a3f5f"
            },
            "marker": {
             "line": {
              "color": "#E5ECF6",
              "width": 0.5
             },
             "pattern": {
              "fillmode": "overlay",
              "size": 10,
              "solidity": 0.2
             }
            },
            "type": "bar"
           }
          ],
          "barpolar": [
           {
            "marker": {
             "line": {
              "color": "#E5ECF6",
              "width": 0.5
             },
             "pattern": {
              "fillmode": "overlay",
              "size": 10,
              "solidity": 0.2
             }
            },
            "type": "barpolar"
           }
          ],
          "carpet": [
           {
            "aaxis": {
             "endlinecolor": "#2a3f5f",
             "gridcolor": "white",
             "linecolor": "white",
             "minorgridcolor": "white",
             "startlinecolor": "#2a3f5f"
            },
            "baxis": {
             "endlinecolor": "#2a3f5f",
             "gridcolor": "white",
             "linecolor": "white",
             "minorgridcolor": "white",
             "startlinecolor": "#2a3f5f"
            },
            "type": "carpet"
           }
          ],
          "choropleth": [
           {
            "colorbar": {
             "outlinewidth": 0,
             "ticks": ""
            },
            "type": "choropleth"
           }
          ],
          "contour": [
           {
            "colorbar": {
             "outlinewidth": 0,
             "ticks": ""
            },
            "colorscale": [
             [
              0,
              "#0d0887"
             ],
             [
              0.1111111111111111,
              "#46039f"
             ],
             [
              0.2222222222222222,
              "#7201a8"
             ],
             [
              0.3333333333333333,
              "#9c179e"
             ],
             [
              0.4444444444444444,
              "#bd3786"
             ],
             [
              0.5555555555555556,
              "#d8576b"
             ],
             [
              0.6666666666666666,
              "#ed7953"
             ],
             [
              0.7777777777777778,
              "#fb9f3a"
             ],
             [
              0.8888888888888888,
              "#fdca26"
             ],
             [
              1,
              "#f0f921"
             ]
            ],
            "type": "contour"
           }
          ],
          "contourcarpet": [
           {
            "colorbar": {
             "outlinewidth": 0,
             "ticks": ""
            },
            "type": "contourcarpet"
           }
          ],
          "heatmap": [
           {
            "colorbar": {
             "outlinewidth": 0,
             "ticks": ""
            },
            "colorscale": [
             [
              0,
              "#0d0887"
             ],
             [
              0.1111111111111111,
              "#46039f"
             ],
             [
              0.2222222222222222,
              "#7201a8"
             ],
             [
              0.3333333333333333,
              "#9c179e"
             ],
             [
              0.4444444444444444,
              "#bd3786"
             ],
             [
              0.5555555555555556,
              "#d8576b"
             ],
             [
              0.6666666666666666,
              "#ed7953"
             ],
             [
              0.7777777777777778,
              "#fb9f3a"
             ],
             [
              0.8888888888888888,
              "#fdca26"
             ],
             [
              1,
              "#f0f921"
             ]
            ],
            "type": "heatmap"
           }
          ],
          "heatmapgl": [
           {
            "colorbar": {
             "outlinewidth": 0,
             "ticks": ""
            },
            "colorscale": [
             [
              0,
              "#0d0887"
             ],
             [
              0.1111111111111111,
              "#46039f"
             ],
             [
              0.2222222222222222,
              "#7201a8"
             ],
             [
              0.3333333333333333,
              "#9c179e"
             ],
             [
              0.4444444444444444,
              "#bd3786"
             ],
             [
              0.5555555555555556,
              "#d8576b"
             ],
             [
              0.6666666666666666,
              "#ed7953"
             ],
             [
              0.7777777777777778,
              "#fb9f3a"
             ],
             [
              0.8888888888888888,
              "#fdca26"
             ],
             [
              1,
              "#f0f921"
             ]
            ],
            "type": "heatmapgl"
           }
          ],
          "histogram": [
           {
            "marker": {
             "pattern": {
              "fillmode": "overlay",
              "size": 10,
              "solidity": 0.2
             }
            },
            "type": "histogram"
           }
          ],
          "histogram2d": [
           {
            "colorbar": {
             "outlinewidth": 0,
             "ticks": ""
            },
            "colorscale": [
             [
              0,
              "#0d0887"
             ],
             [
              0.1111111111111111,
              "#46039f"
             ],
             [
              0.2222222222222222,
              "#7201a8"
             ],
             [
              0.3333333333333333,
              "#9c179e"
             ],
             [
              0.4444444444444444,
              "#bd3786"
             ],
             [
              0.5555555555555556,
              "#d8576b"
             ],
             [
              0.6666666666666666,
              "#ed7953"
             ],
             [
              0.7777777777777778,
              "#fb9f3a"
             ],
             [
              0.8888888888888888,
              "#fdca26"
             ],
             [
              1,
              "#f0f921"
             ]
            ],
            "type": "histogram2d"
           }
          ],
          "histogram2dcontour": [
           {
            "colorbar": {
             "outlinewidth": 0,
             "ticks": ""
            },
            "colorscale": [
             [
              0,
              "#0d0887"
             ],
             [
              0.1111111111111111,
              "#46039f"
             ],
             [
              0.2222222222222222,
              "#7201a8"
             ],
             [
              0.3333333333333333,
              "#9c179e"
             ],
             [
              0.4444444444444444,
              "#bd3786"
             ],
             [
              0.5555555555555556,
              "#d8576b"
             ],
             [
              0.6666666666666666,
              "#ed7953"
             ],
             [
              0.7777777777777778,
              "#fb9f3a"
             ],
             [
              0.8888888888888888,
              "#fdca26"
             ],
             [
              1,
              "#f0f921"
             ]
            ],
            "type": "histogram2dcontour"
           }
          ],
          "mesh3d": [
           {
            "colorbar": {
             "outlinewidth": 0,
             "ticks": ""
            },
            "type": "mesh3d"
           }
          ],
          "parcoords": [
           {
            "line": {
             "colorbar": {
              "outlinewidth": 0,
              "ticks": ""
             }
            },
            "type": "parcoords"
           }
          ],
          "pie": [
           {
            "automargin": true,
            "type": "pie"
           }
          ],
          "scatter": [
           {
            "marker": {
             "colorbar": {
              "outlinewidth": 0,
              "ticks": ""
             }
            },
            "type": "scatter"
           }
          ],
          "scatter3d": [
           {
            "line": {
             "colorbar": {
              "outlinewidth": 0,
              "ticks": ""
             }
            },
            "marker": {
             "colorbar": {
              "outlinewidth": 0,
              "ticks": ""
             }
            },
            "type": "scatter3d"
           }
          ],
          "scattercarpet": [
           {
            "marker": {
             "colorbar": {
              "outlinewidth": 0,
              "ticks": ""
             }
            },
            "type": "scattercarpet"
           }
          ],
          "scattergeo": [
           {
            "marker": {
             "colorbar": {
              "outlinewidth": 0,
              "ticks": ""
             }
            },
            "type": "scattergeo"
           }
          ],
          "scattergl": [
           {
            "marker": {
             "colorbar": {
              "outlinewidth": 0,
              "ticks": ""
             }
            },
            "type": "scattergl"
           }
          ],
          "scattermapbox": [
           {
            "marker": {
             "colorbar": {
              "outlinewidth": 0,
              "ticks": ""
             }
            },
            "type": "scattermapbox"
           }
          ],
          "scatterpolar": [
           {
            "marker": {
             "colorbar": {
              "outlinewidth": 0,
              "ticks": ""
             }
            },
            "type": "scatterpolar"
           }
          ],
          "scatterpolargl": [
           {
            "marker": {
             "colorbar": {
              "outlinewidth": 0,
              "ticks": ""
             }
            },
            "type": "scatterpolargl"
           }
          ],
          "scatterternary": [
           {
            "marker": {
             "colorbar": {
              "outlinewidth": 0,
              "ticks": ""
             }
            },
            "type": "scatterternary"
           }
          ],
          "surface": [
           {
            "colorbar": {
             "outlinewidth": 0,
             "ticks": ""
            },
            "colorscale": [
             [
              0,
              "#0d0887"
             ],
             [
              0.1111111111111111,
              "#46039f"
             ],
             [
              0.2222222222222222,
              "#7201a8"
             ],
             [
              0.3333333333333333,
              "#9c179e"
             ],
             [
              0.4444444444444444,
              "#bd3786"
             ],
             [
              0.5555555555555556,
              "#d8576b"
             ],
             [
              0.6666666666666666,
              "#ed7953"
             ],
             [
              0.7777777777777778,
              "#fb9f3a"
             ],
             [
              0.8888888888888888,
              "#fdca26"
             ],
             [
              1,
              "#f0f921"
             ]
            ],
            "type": "surface"
           }
          ],
          "table": [
           {
            "cells": {
             "fill": {
              "color": "#EBF0F8"
             },
             "line": {
              "color": "white"
             }
            },
            "header": {
             "fill": {
              "color": "#C8D4E3"
             },
             "line": {
              "color": "white"
             }
            },
            "type": "table"
           }
          ]
         },
         "layout": {
          "annotationdefaults": {
           "arrowcolor": "#2a3f5f",
           "arrowhead": 0,
           "arrowwidth": 1
          },
          "autotypenumbers": "strict",
          "coloraxis": {
           "colorbar": {
            "outlinewidth": 0,
            "ticks": ""
           }
          },
          "colorscale": {
           "diverging": [
            [
             0,
             "#8e0152"
            ],
            [
             0.1,
             "#c51b7d"
            ],
            [
             0.2,
             "#de77ae"
            ],
            [
             0.3,
             "#f1b6da"
            ],
            [
             0.4,
             "#fde0ef"
            ],
            [
             0.5,
             "#f7f7f7"
            ],
            [
             0.6,
             "#e6f5d0"
            ],
            [
             0.7,
             "#b8e186"
            ],
            [
             0.8,
             "#7fbc41"
            ],
            [
             0.9,
             "#4d9221"
            ],
            [
             1,
             "#276419"
            ]
           ],
           "sequential": [
            [
             0,
             "#0d0887"
            ],
            [
             0.1111111111111111,
             "#46039f"
            ],
            [
             0.2222222222222222,
             "#7201a8"
            ],
            [
             0.3333333333333333,
             "#9c179e"
            ],
            [
             0.4444444444444444,
             "#bd3786"
            ],
            [
             0.5555555555555556,
             "#d8576b"
            ],
            [
             0.6666666666666666,
             "#ed7953"
            ],
            [
             0.7777777777777778,
             "#fb9f3a"
            ],
            [
             0.8888888888888888,
             "#fdca26"
            ],
            [
             1,
             "#f0f921"
            ]
           ],
           "sequentialminus": [
            [
             0,
             "#0d0887"
            ],
            [
             0.1111111111111111,
             "#46039f"
            ],
            [
             0.2222222222222222,
             "#7201a8"
            ],
            [
             0.3333333333333333,
             "#9c179e"
            ],
            [
             0.4444444444444444,
             "#bd3786"
            ],
            [
             0.5555555555555556,
             "#d8576b"
            ],
            [
             0.6666666666666666,
             "#ed7953"
            ],
            [
             0.7777777777777778,
             "#fb9f3a"
            ],
            [
             0.8888888888888888,
             "#fdca26"
            ],
            [
             1,
             "#f0f921"
            ]
           ]
          },
          "colorway": [
           "#636efa",
           "#EF553B",
           "#00cc96",
           "#ab63fa",
           "#FFA15A",
           "#19d3f3",
           "#FF6692",
           "#B6E880",
           "#FF97FF",
           "#FECB52"
          ],
          "font": {
           "color": "#2a3f5f"
          },
          "geo": {
           "bgcolor": "white",
           "lakecolor": "white",
           "landcolor": "#E5ECF6",
           "showlakes": true,
           "showland": true,
           "subunitcolor": "white"
          },
          "hoverlabel": {
           "align": "left"
          },
          "hovermode": "closest",
          "mapbox": {
           "style": "light"
          },
          "paper_bgcolor": "white",
          "plot_bgcolor": "#E5ECF6",
          "polar": {
           "angularaxis": {
            "gridcolor": "white",
            "linecolor": "white",
            "ticks": ""
           },
           "bgcolor": "#E5ECF6",
           "radialaxis": {
            "gridcolor": "white",
            "linecolor": "white",
            "ticks": ""
           }
          },
          "scene": {
           "xaxis": {
            "backgroundcolor": "#E5ECF6",
            "gridcolor": "white",
            "gridwidth": 2,
            "linecolor": "white",
            "showbackground": true,
            "ticks": "",
            "zerolinecolor": "white"
           },
           "yaxis": {
            "backgroundcolor": "#E5ECF6",
            "gridcolor": "white",
            "gridwidth": 2,
            "linecolor": "white",
            "showbackground": true,
            "ticks": "",
            "zerolinecolor": "white"
           },
           "zaxis": {
            "backgroundcolor": "#E5ECF6",
            "gridcolor": "white",
            "gridwidth": 2,
            "linecolor": "white",
            "showbackground": true,
            "ticks": "",
            "zerolinecolor": "white"
           }
          },
          "shapedefaults": {
           "line": {
            "color": "#2a3f5f"
           }
          },
          "ternary": {
           "aaxis": {
            "gridcolor": "white",
            "linecolor": "white",
            "ticks": ""
           },
           "baxis": {
            "gridcolor": "white",
            "linecolor": "white",
            "ticks": ""
           },
           "bgcolor": "#E5ECF6",
           "caxis": {
            "gridcolor": "white",
            "linecolor": "white",
            "ticks": ""
           }
          },
          "title": {
           "x": 0.05
          },
          "xaxis": {
           "automargin": true,
           "gridcolor": "white",
           "linecolor": "white",
           "ticks": "",
           "title": {
            "standoff": 15
           },
           "zerolinecolor": "white",
           "zerolinewidth": 2
          },
          "yaxis": {
           "automargin": true,
           "gridcolor": "white",
           "linecolor": "white",
           "ticks": "",
           "title": {
            "standoff": 15
           },
           "zerolinecolor": "white",
           "zerolinewidth": 2
          }
         }
        },
        "xaxis": {
         "anchor": "y",
         "autorange": true,
         "domain": [
          0,
          1
         ],
         "range": [
          -0.5,
          9.5
         ],
         "title": {
          "text": "Country"
         },
         "type": "category"
        },
        "yaxis": {
         "anchor": "x",
         "autorange": true,
         "domain": [
          0,
          1
         ],
         "range": [
          0,
          40.29789473684211
         ],
         "title": {
          "text": "AverageTemperature"
         },
         "type": "linear"
        }
       }
      },
      "image/png": "[encoded data removed]",
      "text/html": [
       "<div>                            <div id=\"c0654311-cebe-46fa-82a8-3a6a8f9da4a9\" class=\"plotly-graph-div\" style=\"height:525px; width:100%;\"></div>            <script type=\"text/javascript\">                require([\"plotly\"], function(Plotly) {                    window.PLOTLYENV=window.PLOTLYENV || {};                                    if (document.getElementById(\"c0654311-cebe-46fa-82a8-3a6a8f9da4a9\")) {                    Plotly.newPlot(                        \"c0654311-cebe-46fa-82a8-3a6a8f9da4a9\",                        [{\"alignmentgroup\":\"True\",\"hovertemplate\":\"Country=%{x}<br>AverageTemperature=%{y}<extra></extra>\",\"legendgroup\":\"\",\"marker\":{\"color\":\"#636efa\",\"pattern\":{\"shape\":\"\"}},\"name\":\"\",\"offsetgroup\":\"\",\"orientation\":\"v\",\"showlegend\":false,\"textposition\":\"auto\",\"x\":[\"Iraq\",\"Saudi Arabia\",\"India\",\"Pakistan\",\"Sudan\",\"Nigeria\",\"Syria\",\"Myanmar\",\"China\",\"Thailand\"],\"xaxis\":\"x\",\"y\":[38.283,37.859,36.477,36.346,35.7,33.068000000000005,32.629,31.96,31.233,31.115],\"yaxis\":\"y\",\"type\":\"bar\"}],                        {\"template\":{\"data\":{\"bar\":[{\"error_x\":{\"color\":\"#2a3f5f\"},\"error_y\":{\"color\":\"#2a3f5f\"},\"marker\":{\"line\":{\"color\":\"#E5ECF6\",\"width\":0.5},\"pattern\":{\"fillmode\":\"overlay\",\"size\":10,\"solidity\":0.2}},\"type\":\"bar\"}],\"barpolar\":[{\"marker\":{\"line\":{\"color\":\"#E5ECF6\",\"width\":0.5},\"pattern\":{\"fillmode\":\"overlay\",\"size\":10,\"solidity\":0.2}},\"type\":\"barpolar\"}],\"carpet\":[{\"aaxis\":{\"endlinecolor\":\"#2a3f5f\",\"gridcolor\":\"white\",\"linecolor\":\"white\",\"minorgridcolor\":\"white\",\"startlinecolor\":\"#2a3f5f\"},\"baxis\":{\"endlinecolor\":\"#2a3f5f\",\"gridcolor\":\"white\",\"linecolor\":\"white\",\"minorgridcolor\":\"white\",\"startlinecolor\":\"#2a3f5f\"},\"type\":\"carpet\"}],\"choropleth\":[{\"colorbar\":{\"outlinewidth\":0,\"ticks\":\"\"},\"type\":\"choropleth\"}],\"contour\":[{\"colorbar\":{\"outlinewidth\":0,\"ticks\":\"\"},\"colorscale\":[[0.0,\"#0d0887\"],[0.1111111111111111,\"#46039f\"],[0.2222222222222222,\"#7201a8\"],[0.3333333333333333,\"#9c179e\"],[0.4444444444444444,\"#bd3786\"],[0.5555555555555556,\"#d8576b\"],[0.6666666666666666,\"#ed7953\"],[0.7777777777777778,\"#fb9f3a\"],[0.8888888888888888,\"#fdca26\"],[1.0,\"#f0f921\"]],\"type\":\"contour\"}],\"contourcarpet\":[{\"colorbar\":{\"outlinewidth\":0,\"ticks\":\"\"},\"type\":\"contourcarpet\"}],\"heatmap\":[{\"colorbar\":{\"outlinewidth\":0,\"ticks\":\"\"},\"colorscale\":[[0.0,\"#0d0887\"],[0.1111111111111111,\"#46039f\"],[0.2222222222222222,\"#7201a8\"],[0.3333333333333333,\"#9c179e\"],[0.4444444444444444,\"#bd3786\"],[0.5555555555555556,\"#d8576b\"],[0.6666666666666666,\"#ed7953\"],[0.7777777777777778,\"#fb9f3a\"],[0.8888888888888888,\"#fdca26\"],[1.0,\"#f0f921\"]],\"type\":\"heatmap\"}],\"heatmapgl\":[{\"colorbar\":{\"outlinewidth\":0,\"ticks\":\"\"},\"colorscale\":[[0.0,\"#0d0887\"],[0.1111111111111111,\"#46039f\"],[0.2222222222222222,\"#7201a8\"],[0.3333333333333333,\"#9c179e\"],[0.4444444444444444,\"#bd3786\"],[0.5555555555555556,\"#d8576b\"],[0.6666666666666666,\"#ed7953\"],[0.7777777777777778,\"#fb9f3a\"],[0.8888888888888888,\"#fdca26\"],[1.0,\"#f0f921\"]],\"type\":\"heatmapgl\"}],\"histogram\":[{\"marker\":{\"pattern\":{\"fillmode\":\"overlay\",\"size\":10,\"solidity\":0.2}},\"type\":\"histogram\"}],\"histogram2d\":[{\"colorbar\":{\"outlinewidth\":0,\"ticks\":\"\"},\"colorscale\":[[0.0,\"#0d0887\"],[0.1111111111111111,\"#46039f\"],[0.2222222222222222,\"#7201a8\"],[0.3333333333333333,\"#9c179e\"],[0.4444444444444444,\"#bd3786\"],[0.5555555555555556,\"#d8576b\"],[0.6666666666666666,\"#ed7953\"],[0.7777777777777778,\"#fb9f3a\"],[0.8888888888888888,\"#fdca26\"],[1.0,\"#f0f921\"]],\"type\":\"histogram2d\"}],\"histogram2dcontour\":[{\"colorbar\":{\"outlinewidth\":0,\"ticks\":\"\"},\"colorscale\":[[0.0,\"#0d0887\"],[0.1111111111111111,\"#46039f\"],[0.2222222222222222,\"#7201a8\"],[0.3333333333333333,\"#9c179e\"],[0.4444444444444444,\"#bd3786\"],[0.5555555555555556,\"#d8576b\"],[0.6666666666666666,\"#ed7953\"],[0.7777777777777778,\"#fb9f3a\"],[0.8888888888888888,\"#fdca26\"],[1.0,\"#f0f921\"]],\"type\":\"histogram2dcontour\"}],\"mesh3d\":[{\"colorbar\":{\"outlinewidth\":0,\"ticks\":\"\"},\"type\":\"mesh3d\"}],\"parcoords\":[{\"line\":{\"colorbar\":{\"outlinewidth\":0,\"ticks\":\"\"}},\"type\":\"parcoords\"}],\"pie\":[{\"automargin\":true,\"type\":\"pie\"}],\"scatter\":[{\"marker\":{\"colorbar\":{\"outlinewidth\":0,\"ticks\":\"\"}},\"type\":\"scatter\"}],\"scatter3d\":[{\"line\":{\"colorbar\":{\"outlinewidth\":0,\"ticks\":\"\"}},\"marker\":{\"colorbar\":{\"outlinewidth\":0,\"ticks\":\"\"}},\"type\":\"scatter3d\"}],\"scattercarpet\":[{\"marker\":{\"colorbar\":{\"outlinewidth\":0,\"ticks\":\"\"}},\"type\":\"scattercarpet\"}],\"scattergeo\":[{\"marker\":{\"colorbar\":{\"outlinewidth\":0,\"ticks\":\"\"}},\"type\":\"scattergeo\"}],\"scattergl\":[{\"marker\":{\"colorbar\":{\"outlinewidth\":0,\"ticks\":\"\"}},\"type\":\"scattergl\"}],\"scattermapbox\":[{\"marker\":{\"colorbar\":{\"outlinewidth\":0,\"ticks\":\"\"}},\"type\":\"scattermapbox\"}],\"scatterpolar\":[{\"marker\":{\"colorbar\":{\"outlinewidth\":0,\"ticks\":\"\"}},\"type\":\"scatterpolar\"}],\"scatterpolargl\":[{\"marker\":{\"colorbar\":{\"outlinewidth\":0,\"ticks\":\"\"}},\"type\":\"scatterpolargl\"}],\"scatterternary\":[{\"marker\":{\"colorbar\":{\"outlinewidth\":0,\"ticks\":\"\"}},\"type\":\"scatterternary\"}],\"surface\":[{\"colorbar\":{\"outlinewidth\":0,\"ticks\":\"\"},\"colorscale\":[[0.0,\"#0d0887\"],[0.1111111111111111,\"#46039f\"],[0.2222222222222222,\"#7201a8\"],[0.3333333333333333,\"#9c179e\"],[0.4444444444444444,\"#bd3786\"],[0.5555555555555556,\"#d8576b\"],[0.6666666666666666,\"#ed7953\"],[0.7777777777777778,\"#fb9f3a\"],[0.8888888888888888,\"#fdca26\"],[1.0,\"#f0f921\"]],\"type\":\"surface\"}],\"table\":[{\"cells\":{\"fill\":{\"color\":\"#EBF0F8\"},\"line\":{\"color\":\"white\"}},\"header\":{\"fill\":{\"color\":\"#C8D4E3\"},\"line\":{\"color\":\"white\"}},\"type\":\"table\"}]},\"layout\":{\"annotationdefaults\":{\"arrowcolor\":\"#2a3f5f\",\"arrowhead\":0,\"arrowwidth\":1},\"autotypenumbers\":\"strict\",\"coloraxis\":{\"colorbar\":{\"outlinewidth\":0,\"ticks\":\"\"}},\"colorscale\":{\"diverging\":[[0,\"#8e0152\"],[0.1,\"#c51b7d\"],[0.2,\"#de77ae\"],[0.3,\"#f1b6da\"],[0.4,\"#fde0ef\"],[0.5,\"#f7f7f7\"],[0.6,\"#e6f5d0\"],[0.7,\"#b8e186\"],[0.8,\"#7fbc41\"],[0.9,\"#4d9221\"],[1,\"#276419\"]],\"sequential\":[[0.0,\"#0d0887\"],[0.1111111111111111,\"#46039f\"],[0.2222222222222222,\"#7201a8\"],[0.3333333333333333,\"#9c179e\"],[0.4444444444444444,\"#bd3786\"],[0.5555555555555556,\"#d8576b\"],[0.6666666666666666,\"#ed7953\"],[0.7777777777777778,\"#fb9f3a\"],[0.8888888888888888,\"#fdca26\"],[1.0,\"#f0f921\"]],\"sequentialminus\":[[0.0,\"#0d0887\"],[0.1111111111111111,\"#46039f\"],[0.2222222222222222,\"#7201a8\"],[0.3333333333333333,\"#9c179e\"],[0.4444444444444444,\"#bd3786\"],[0.5555555555555556,\"#d8576b\"],[0.6666666666666666,\"#ed7953\"],[0.7777777777777778,\"#fb9f3a\"],[0.8888888888888888,\"#fdca26\"],[1.0,\"#f0f921\"]]},\"colorway\":[\"#636efa\",\"#EF553B\",\"#00cc96\",\"#ab63fa\",\"#FFA15A\",\"#19d3f3\",\"#FF6692\",\"#B6E880\",\"#FF97FF\",\"#FECB52\"],\"font\":{\"color\":\"#2a3f5f\"},\"geo\":{\"bgcolor\":\"white\",\"lakecolor\":\"white\",\"landcolor\":\"#E5ECF6\",\"showlakes\":true,\"showland\":true,\"subunitcolor\":\"white\"},\"hoverlabel\":{\"align\":\"left\"},\"hovermode\":\"closest\",\"mapbox\":{\"style\":\"light\"},\"paper_bgcolor\":\"white\",\"plot_bgcolor\":\"#E5ECF6\",\"polar\":{\"angularaxis\":{\"gridcolor\":\"white\",\"linecolor\":\"white\",\"ticks\":\"\"},\"bgcolor\":\"#E5ECF6\",\"radialaxis\":{\"gridcolor\":\"white\",\"linecolor\":\"white\",\"ticks\":\"\"}},\"scene\":{\"xaxis\":{\"backgroundcolor\":\"#E5ECF6\",\"gridcolor\":\"white\",\"gridwidth\":2,\"linecolor\":\"white\",\"showbackground\":true,\"ticks\":\"\",\"zerolinecolor\":\"white\"},\"yaxis\":{\"backgroundcolor\":\"#E5ECF6\",\"gridcolor\":\"white\",\"gridwidth\":2,\"linecolor\":\"white\",\"showbackground\":true,\"ticks\":\"\",\"zerolinecolor\":\"white\"},\"zaxis\":{\"backgroundcolor\":\"#E5ECF6\",\"gridcolor\":\"white\",\"gridwidth\":2,\"linecolor\":\"white\",\"showbackground\":true,\"ticks\":\"\",\"zerolinecolor\":\"white\"}},\"shapedefaults\":{\"line\":{\"color\":\"#2a3f5f\"}},\"ternary\":{\"aaxis\":{\"gridcolor\":\"white\",\"linecolor\":\"white\",\"ticks\":\"\"},\"baxis\":{\"gridcolor\":\"white\",\"linecolor\":\"white\",\"ticks\":\"\"},\"bgcolor\":\"#E5ECF6\",\"caxis\":{\"gridcolor\":\"white\",\"linecolor\":\"white\",\"ticks\":\"\"}},\"title\":{\"x\":0.05},\"xaxis\":{\"automargin\":true,\"gridcolor\":\"white\",\"linecolor\":\"white\",\"ticks\":\"\",\"title\":{\"standoff\":15},\"zerolinecolor\":\"white\",\"zerolinewidth\":2},\"yaxis\":{\"automargin\":true,\"gridcolor\":\"white\",\"linecolor\":\"white\",\"ticks\":\"\",\"title\":{\"standoff\":15},\"zerolinecolor\":\"white\",\"zerolinewidth\":2}}},\"xaxis\":{\"anchor\":\"y\",\"domain\":[0.0,1.0],\"title\":{\"text\":\"Country\"}},\"yaxis\":{\"anchor\":\"x\",\"domain\":[0.0,1.0],\"title\":{\"text\":\"AverageTemperature\"}},\"legend\":{\"tracegroupgap\":0},\"margin\":{\"t\":60},\"barmode\":\"relative\"},                        {\"responsive\": true}                    ).then(function(){\n",
       "                            \n",
       "var gd = document.getElementById('c0654311-cebe-46fa-82a8-3a6a8f9da4a9');\n",
       "var x = new MutationObserver(function (mutations, observer) {{\n",
       "        var display = window.getComputedStyle(gd).display;\n",
       "        if (!display || display === 'none') {{\n",
       "            console.log([gd, 'removed!']);\n",
       "            Plotly.purge(gd);\n",
       "            observer.disconnect();\n",
       "        }}\n",
       "}});\n",
       "\n",
       "// Listen for the removal of the full notebook cells\n",
       "var notebookContainer = gd.closest('#notebook-container');\n",
       "if (notebookContainer) {{\n",
       "    x.observe(notebookContainer, {childList: true});\n",
       "}}\n",
       "\n",
       "// Listen for the clearing of the current output cell\n",
       "var outputEl = gd.closest('.output');\n",
       "if (outputEl) {{\n",
       "    x.observe(outputEl, {childList: true});\n",
       "}}\n",
       "\n",
       "                        })                };                });            </script>        </div>"
      ]
     },
     "metadata": {},
     "output_type": "display_data"
    },
    {
     "data": {
      "image/png": "[encoded data removed]",
      "text/plain": [
       "<Figure size 1152x360 with 1 Axes>"
      ]
     },
     "metadata": {
      "needs_background": "light"
     },
     "output_type": "display_data"
    }
   ],
   "source": [
    "fig =px.bar(hotest_country, x=\"Country\", y=\"AverageTemperature\")\n",
    "fig.show()\n",
    "\n",
    "plt.figure(figsize=(16, 5))\n",
    "plt.bar(hotest_country.Country, hotest_country.AverageTemperature)\n",
    "\n",
    "plt.xticks(rotation = 45)\n",
    "plt.ylabel('Average Temperature')\n",
    "plt.xlabel('Country')\n",
    "plt.show()"
   ]
  },
  {
   "cell_type": "code",
   "execution_count": 18,
   "id": "32b9d65f-2b2d-438f-89d7-d66e07dc2035",
   "metadata": {},
   "outputs": [
    {
     "data": {
      "text/plain": [
       "AS    129255\n",
       "AF     39545\n",
       "EU     25912\n",
       "SA     20964\n",
       "NA     19355\n",
       "OC      4146\n",
       "Name: Country_continent, dtype: int64"
      ]
     },
     "execution_count": 18,
     "metadata": {},
     "output_type": "execute_result"
    }
   ],
   "source": [
    "df['Country_continent'].value_counts()"
   ]
  },
  {
   "cell_type": "markdown",
   "id": "bde720d2-60f9-4fbb-a434-52d715fded54",
   "metadata": {},
   "source": [
    "# Data Pipeline"
   ]
  },
  {
   "cell_type": "code",
   "execution_count": 19,
   "id": "d672a25a-c03b-468d-a8a0-2959393e2365",
   "metadata": {},
   "outputs": [],
   "source": [
    "idf = df.interactive()"
   ]
  },
  {
   "cell_type": "code",
   "execution_count": 20,
   "id": "25cf1619-fa26-4ebf-ad70-59dda0057456",
   "metadata": {},
   "outputs": [
    {
     "data": {},
     "metadata": {},
     "output_type": "display_data"
    },
    {
     "data": {
      "application/vnd.holoviews_exec.v0+json": "",
      "text/html": [
       "<div id='1002'>\n",
       "\n",
       "\n",
       "\n",
       "\n",
       "\n",
       "  <div class=\"bk-root\" id=\"f4f76eb1-2d55-430d-a86b-60aa03877505\" data-root-id=\"1002\"></div>\n",
       "</div>\n",
       "<script type=\"application/javascript\">(function(root) {\n",
       "  function embed_document(root) {\n",
       "    var docs_json = {\"6e87b4e8-4d10-43c1-87dc-86c920d28b80\":{\"defs\":[{\"extends\":null,\"module\":null,\"name\":\"ReactiveHTML1\",\"overrides\":[],\"properties\":[]},{\"extends\":null,\"module\":null,\"name\":\"FlexBox1\",\"overrides\":[],\"properties\":[{\"default\":\"flex-start\",\"kind\":null,\"name\":\"align_content\"},{\"default\":\"flex-start\",\"kind\":null,\"name\":\"align_items\"},{\"default\":\"row\",\"kind\":null,\"name\":\"flex_direction\"},{\"default\":\"wrap\",\"kind\":null,\"name\":\"flex_wrap\"},{\"default\":\"flex-start\",\"kind\":null,\"name\":\"justify_content\"}]},{\"extends\":null,\"module\":null,\"name\":\"TemplateActions1\",\"overrides\":[],\"properties\":[{\"default\":0,\"kind\":null,\"name\":\"open_modal\"},{\"default\":0,\"kind\":null,\"name\":\"close_modal\"}]},{\"extends\":null,\"module\":null,\"name\":\"MaterialTemplateActions1\",\"overrides\":[],\"properties\":[{\"default\":0,\"kind\":null,\"name\":\"open_modal\"},{\"default\":0,\"kind\":null,\"name\":\"close_modal\"}]}],\"roots\":{\"references\":[{\"attributes\":{\"reload\":false},\"id\":\"1004\",\"type\":\"panel.models.location.Location\"},{\"attributes\":{\"end\":2013,\"margin\":[5,10,5,10],\"start\":1791,\"step\":5,\"title\":\"Year slider\",\"value\":1900},\"id\":\"1002\",\"type\":\"Slider\"},{\"attributes\":{\"client_comm_id\":\"aa1d06fba70c434aada60ff788fae55c\",\"comm_id\":\"549d28de2ab748d2be6f6c488ddf6543\",\"plot_id\":\"1002\"},\"id\":\"1003\",\"type\":\"panel.models.comm_manager.CommManager\"}],\"root_ids\":[\"1002\",\"1003\",\"1004\"]},\"title\":\"Bokeh Application\",\"version\":\"2.4.1\"}};\n",
       "    var render_items = [{\"docid\":\"6e87b4e8-4d10-43c1-87dc-86c920d28b80\",\"root_ids\":[\"1002\"],\"roots\":{\"1002\":\"f4f76eb1-2d55-430d-a86b-60aa03877505\"}}];\n",
       "    root.Bokeh.embed.embed_items_notebook(docs_json, render_items);\n",
       "  }\n",
       "  if (root.Bokeh !== undefined && root.Bokeh.Panel !== undefined && ( root['Tabulator'] !== undefined)) {\n",
       "    embed_document(root);\n",
       "  } else {\n",
       "    var attempts = 0;\n",
       "    var timer = setInterval(function(root) {\n",
       "      if (root.Bokeh !== undefined && root.Bokeh.Panel !== undefined && (root['Tabulator'] !== undefined)) {\n",
       "        clearInterval(timer);\n",
       "        embed_document(root);\n",
       "      } else if (document.readyState == \"complete\") {\n",
       "        attempts++;\n",
       "        if (attempts > 200) {\n",
       "          clearInterval(timer);\n",
       "          console.log(\"Bokeh: ERROR: Unable to run BokehJS code because BokehJS library is missing\");\n",
       "        }\n",
       "      }\n",
       "    }, 25, root)\n",
       "  }\n",
       "})(window);</script>"
      ],
      "text/plain": [
       "IntSlider(end=2013, name='Year slider', start=1791, step=5, value=1900)"
      ]
     },
     "execution_count": 20,
     "metadata": {
      "application/vnd.holoviews_exec.v0+json": {
       "id": "1002"
      }
     },
     "output_type": "execute_result"
    }
   ],
   "source": [
    "# Define Panel widgets\n",
    "year_slider = pn.widgets.IntSlider(name='Year slider', start=1791, end=2013, step=5, value=1900)\n",
    "year_slider"
   ]
  },
  {
   "cell_type": "code",
   "execution_count": 21,
   "id": "3decba21-5ee8-4351-828f-e8deea57a393",
   "metadata": {},
   "outputs": [],
   "source": [
    "# Radio buttons for temperature measures\n",
    "yaxis_temp = pn.widgets.RadioButtonGroup(\n",
    "    name='Y axis', \n",
    "    options=['AverageTemperature', 'AverageTemperatureUncertainty'],\n",
    "    button_type='success'\n",
    ")"
   ]
  },
  {
   "cell_type": "code",
   "execution_count": 22,
   "id": "18b77e90-f9fa-4b49-9099-685e34c047a4",
   "metadata": {},
   "outputs": [],
   "source": [
    "Hotest_country = df['Country']\n",
    "\n",
    "temp_pipeline = (\n",
    "    idf[\n",
    "        (idf.year <= year_slider) &\n",
    "        (idf.Country.isin(Hotest_country))\n",
    "    ]\n",
    "    .groupby(['Country','City', 'year'])[yaxis_temp].mean()\n",
    "    .to_frame()\n",
    "    .reset_index()\n",
    "    .sort_values(by='Country')  \n",
    "    .reset_index(drop=True)\n",
    ")"
   ]
  },
  {
   "cell_type": "code",
   "execution_count": 23,
   "id": "7aca36c6-bbe0-4f71-9b48-b4e295b9f0b0",
   "metadata": {},
   "outputs": [],
   "source": [
    "#temp_pipeline"
   ]
  },
  {
   "cell_type": "code",
   "execution_count": 24,
   "id": "274a14d4-86ad-4bf8-b2c7-070f1beb9184",
   "metadata": {},
   "outputs": [
    {
     "data": {},
     "metadata": {},
     "output_type": "display_data"
    },
    {
     "data": {},
     "metadata": {},
     "output_type": "display_data"
    },
    {
     "data": {
      "application/vnd.holoviews_exec.v0+json": "",
      "text/html": [
       "<div id='1005'>\n",
       "\n",
       "\n",
       "\n",
       "\n",
       "\n",
       "  <div class=\"bk-root\" id=\"51eb3b58-33a6-4461-be0e-21ad871df192\" data-root-id=\"1005\"></div>\n",
       "</div>\n",
       "<script type=\"application/javascript\">(function(root) {\n",
       "  function embed_document(root) {\n",
       "    var docs_json = {\"8e68c957-e37a-4f05-8b47-f2796db6a490\":{\"defs\":[{\"extends\":null,\"module\":null,\"name\":\"ReactiveHTML1\",\"overrides\":[],\"properties\":[]},{\"extends\":null,\"module\":null,\"name\":\"FlexBox1\",\"overrides\":[],\"properties\":[{\"default\":\"flex-start\",\"kind\":null,\"name\":\"align_content\"},{\"default\":\"flex-start\",\"kind\":null,\"name\":\"align_items\"},{\"default\":\"row\",\"kind\":null,\"name\":\"flex_direction\"},{\"default\":\"wrap\",\"kind\":null,\"name\":\"flex_wrap\"},{\"default\":\"flex-start\",\"kind\":null,\"name\":\"justify_content\"}]},{\"extends\":null,\"module\":null,\"name\":\"TemplateActions1\",\"overrides\":[],\"properties\":[{\"default\":0,\"kind\":null,\"name\":\"open_modal\"},{\"default\":0,\"kind\":null,\"name\":\"close_modal\"}]},{\"extends\":null,\"module\":null,\"name\":\"MaterialTemplateActions1\",\"overrides\":[],\"properties\":[{\"default\":0,\"kind\":null,\"name\":\"open_modal\"},{\"default\":0,\"kind\":null,\"name\":\"close_modal\"}]}],\"roots\":{\"references\":[{\"attributes\":{\"coordinates\":null,\"data_source\":{\"id\":\"3362\"},\"glyph\":{\"id\":\"3365\"},\"group\":null,\"hover_glyph\":null,\"muted_glyph\":{\"id\":\"3367\"},\"nonselection_glyph\":{\"id\":\"3366\"},\"selection_glyph\":{\"id\":\"3459\"},\"view\":{\"id\":\"3369\"}},\"id\":\"3368\",\"type\":\"GlyphRenderer\"},{\"attributes\":{\"source\":{\"id\":\"2902\"}},\"id\":\"2909\",\"type\":\"CDSView\"},{\"attributes\":{\"line_alpha\":0.1,\"line_color\":\"#8c564b\",\"line_width\":2,\"x\":{\"field\":\"year\"},\"y\":{\"field\":\"AverageTemperature\"}},\"id\":\"2906\",\"type\":\"Line\"},{\"attributes\":{\"source\":{\"id\":\"3362\"}},\"id\":\"3369\",\"type\":\"CDSView\"},{\"attributes\":{\"coordinates\":null,\"data_source\":{\"id\":\"2902\"},\"glyph\":{\"id\":\"2905\"},\"group\":null,\"hover_glyph\":null,\"muted_glyph\":{\"id\":\"2907\"},\"nonselection_glyph\":{\"id\":\"2906\"},\"selection_glyph\":{\"id\":\"2989\"},\"view\":{\"id\":\"2909\"}},\"id\":\"2908\",\"type\":\"GlyphRenderer\"},{\"attributes\":{\"line_alpha\":0.1,\"line_color\":\"#6d904f\",\"line_width\":2,\"x\":{\"field\":\"year\"},\"y\":{\"field\":\"AverageTemperature\"}},\"id\":\"3366\",\"type\":\"Line\"},{\"attributes\":{\"data\":{\"AverageTemperature\":{\"__ndarray__\":\"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\",\"dtype\":\"float64\",\"order\":\"little\",\"shape\":[452]},\"Country\":[\"Turkey\",\"Turkey\",\"Turkey\",\"Turkey\",\"Turkey\",\"Turkey\",\"Turkey\",\"Turkey\",\"Turkey\",\"Turkey\",\"Turkey\",\"Turkey\",\"Turkey\",\"Turkey\",\"Turkey\",\"Turkey\",\"Turkey\",\"Turkey\",\"Turkey\",\"Turkey\",\"Turkey\",\"Turkey\",\"Turkey\",\"Turkey\",\"Turkey\",\"Turkey\",\"Turkey\",\"Turkey\",\"Turkey\",\"Turkey\",\"Turkey\",\"Turkey\",\"Turkey\",\"Turkey\",\"Turkey\",\"Turkey\",\"Turkey\",\"Turkey\",\"Turkey\",\"Turkey\",\"Turkey\",\"Turkey\",\"Turkey\",\"Turkey\",\"Turkey\",\"Turkey\",\"Turkey\",\"Turkey\",\"Turkey\",\"Turkey\",\"Turkey\",\"Turkey\",\"Turkey\",\"Turkey\",\"Turkey\",\"Turkey\",\"Turkey\",\"Turkey\",\"Turkey\",\"Turkey\",\"Turkey\",\"Turkey\",\"Turkey\",\"Turkey\",\"Turkey\",\"Turkey\",\"Turkey\",\"Turkey\",\"Turkey\",\"Turkey\",\"Turkey\",\"Turkey\",\"Turkey\",\"Turkey\",\"Turkey\",\"Turkey\",\"Turkey\",\"Turkey\",\"Turkey\",\"Turkey\",\"Turkey\",\"Turkey\",\"Turkey\",\"Turkey\",\"Turkey\",\"Turkey\",\"Turkey\",\"Turkey\",\"Turkey\",\"Turkey\",\"Turkey\",\"Turkey\",\"Turkey\",\"Turkey\",\"Turkey\",\"Turkey\",\"Turkey\",\"Turkey\",\"Turkey\",\"Turkey\",\"Turkey\",\"Turkey\",\"Turkey\",\"Turkey\",\"Turkey\",\"Turkey\",\"Turkey\",\"Turkey\",\"Turkey\",\"Turkey\",\"Turkey\",\"Turkey\",\"Turkey\",\"Turkey\",\"Turkey\",\"Turkey\",\"Turkey\",\"Turkey\",\"Turkey\",\"Turkey\",\"Turkey\",\"Turkey\",\"Turkey\",\"Turkey\",\"Turkey\",\"Turkey\",\"Turkey\",\"Turkey\",\"Turkey\",\"Turkey\",\"Turkey\",\"Turkey\",\"Turkey\",\"Turkey\",\"Turkey\",\"Turkey\",\"Turkey\",\"Turkey\",\"Turkey\",\"Turkey\",\"Turkey\",\"Turkey\",\"Turkey\",\"Turkey\",\"Turkey\",\"Turkey\",\"Turkey\",\"Turkey\",\"Turkey\",\"Turkey\",\"Turkey\",\"Turkey\",\"Turkey\",\"Turkey\",\"Turkey\",\"Turkey\",\"Turkey\",\"Turkey\",\"Turkey\",\"Turkey\",\"Turkey\",\"Turkey\",\"Turkey\",\"Turkey\",\"Turkey\",\"Turkey\",\"Turkey\",\"Turkey\",\"Turkey\",\"Turkey\",\"Turkey\",\"Turkey\",\"Turkey\",\"Turkey\",\"Turkey\",\"Turkey\",\"Turkey\",\"Turkey\",\"Turkey\",\"Turkey\",\"Turkey\",\"Turkey\",\"Turkey\",\"Turkey\",\"Turkey\",\"Turkey\",\"Turkey\",\"Turkey\",\"Turkey\",\"Turkey\",\"Turkey\",\"Turkey\",\"Turkey\",\"Turkey\",\"Turkey\",\"Turkey\",\"Turkey\",\"Turkey\",\"Turkey\",\"Turkey\",\"Turkey\",\"Turkey\",\"Turkey\",\"Turkey\",\"Turkey\",\"Turkey\",\"Turkey\",\"Turkey\",\"Turkey\",\"Turkey\",\"Turkey\",\"Turkey\",\"Turkey\",\"Turkey\",\"Turkey\",\"Turkey\",\"Turkey\",\"Turkey\",\"Turkey\",\"Turkey\",\"Turkey\",\"Turkey\",\"Turkey\",\"Turkey\",\"Turkey\",\"Turkey\",\"Turkey\",\"Turkey\",\"Turkey\",\"Turkey\",\"Turkey\",\"Turkey\",\"Turkey\",\"Turkey\",\"Turkey\",\"Turkey\",\"Turkey\",\"Turkey\",\"Turkey\",\"Turkey\",\"Turkey\",\"Turkey\",\"Turkey\",\"Turkey\",\"Turkey\",\"Turkey\",\"Turkey\",\"Turkey\",\"Turkey\",\"Turkey\",\"Turkey\",\"Turkey\",\"Turkey\",\"Turkey\",\"Turkey\",\"Turkey\",\"Turkey\",\"Turkey\",\"Turkey\",\"Turkey\",\"Turkey\",\"Turkey\",\"Turkey\",\"Turkey\",\"Turkey\",\"Turkey\",\"Turkey\",\"Turkey\",\"Turkey\",\"Turkey\",\"Turkey\",\"Turkey\",\"Turkey\",\"Turkey\",\"Turkey\",\"Turkey\",\"Turkey\",\"Turkey\",\"Turkey\",\"Turkey\",\"Turkey\",\"Turkey\",\"Turkey\",\"Turkey\",\"Turkey\",\"Turkey\",\"Turkey\",\"Turkey\",\"Turkey\",\"Turkey\",\"Turkey\",\"Turkey\",\"Turkey\",\"Turkey\",\"Turkey\",\"Turkey\",\"Turkey\",\"Turkey\",\"Turkey\",\"Turkey\",\"Turkey\",\"Turkey\",\"Turkey\",\"Turkey\",\"Turkey\",\"Turkey\",\"Turkey\",\"Turkey\",\"Turkey\",\"Turkey\",\"Turkey\",\"Turkey\",\"Turkey\",\"Turkey\",\"Turkey\",\"Turkey\",\"Turkey\",\"Turkey\",\"Turkey\",\"Turkey\",\"Turkey\",\"Turkey\",\"Turkey\",\"Turkey\",\"Turkey\",\"Turkey\",\"Turkey\",\"Turkey\",\"Turkey\",\"Turkey\",\"Turkey\",\"Turkey\",\"Turkey\",\"Turkey\",\"Turkey\",\"Turkey\",\"Turkey\",\"Turkey\",\"Turkey\",\"Turkey\",\"Turkey\",\"Turkey\",\"Turkey\",\"Turkey\",\"Turkey\",\"Turkey\",\"Turkey\",\"Turkey\",\"Turkey\",\"Turkey\",\"Turkey\",\"Turkey\",\"Turkey\",\"Turkey\",\"Turkey\",\"Turkey\",\"Turkey\",\"Turkey\",\"Turkey\",\"Turkey\",\"Turkey\",\"Turkey\",\"Turkey\",\"Turkey\",\"Turkey\",\"Turkey\",\"Turkey\",\"Turkey\",\"Turkey\",\"Turkey\",\"Turkey\",\"Turkey\",\"Turkey\",\"Turkey\",\"Turkey\",\"Turkey\",\"Turkey\",\"Turkey\",\"Turkey\",\"Turkey\",\"Turkey\",\"Turkey\",\"Turkey\",\"Turkey\",\"Turkey\",\"Turkey\",\"Turkey\",\"Turkey\",\"Turkey\",\"Turkey\",\"Turkey\",\"Turkey\",\"Turkey\",\"Turkey\",\"Turkey\",\"Turkey\",\"Turkey\",\"Turkey\",\"Turkey\",\"Turkey\",\"Turkey\",\"Turkey\",\"Turkey\",\"Turkey\",\"Turkey\",\"Turkey\",\"Turkey\",\"Turkey\",\"Turkey\",\"Turkey\",\"Turkey\",\"Turkey\",\"Turkey\",\"Turkey\",\"Turkey\",\"Turkey\",\"Turkey\",\"Turkey\",\"Turkey\",\"Turkey\",\"Turkey\",\"Turkey\",\"Turkey\",\"Turkey\",\"Turkey\",\"Turkey\",\"Turkey\",\"Turkey\",\"Turkey\",\"Turkey\",\"Turkey\",\"Turkey\",\"Turkey\",\"Turkey\",\"Turkey\",\"Turkey\",\"Turkey\",\"Turkey\",\"Turkey\",\"Turkey\",\"Turkey\",\"Turkey\",\"Turkey\",\"Turkey\",\"Turkey\",\"Turkey\",\"Turkey\",\"Turkey\",\"Turkey\",\"Turkey\",\"Turkey\",\"Turkey\"],\"year\":[1756,1896,1897,1898,1899,1754,1753,1755,1895,1757,1900,1894,1885,1892,1891,1890,1889,1888,1887,1886,1884,1883,1758,1786,1893,1759,1780,1761,1882,1785,1784,1783,1782,1781,1779,1778,1777,1776,1775,1760,1774,1772,1771,1770,1769,1768,1767,1766,1765,1764,1763,1762,1773,1881,1826,1879,1849,1848,1847,1846,1845,1844,1843,1842,1841,1840,1839,1838,1837,1836,1835,1834,1833,1832,1831,1830,1829,1828,1827,1787,1825,1850,1880,1851,1853,1878,1877,1876,1875,1874,1873,1872,1871,1870,1869,1868,1867,1866,1865,1864,1863,1862,1861,1860,1859,1858,1857,1856,1855,1854,1852,1788,1842,1790,1871,1870,1869,1868,1867,1866,1865,1864,1863,1862,1861,1872,1860,1858,1857,1856,1855,1854,1853,1852,1851,1850,1849,1848,1859,1873,1874,1875,1824,1899,1898,1897,1896,1895,1894,1893,1892,1891,1890,1889,1888,1887,1886,1885,1884,1883,1882,1881,1880,1879,1878,1877,1876,1847,1789,1846,1844,1814,1813,1812,1811,1810,1809,1808,1807,1806,1805,1804,1815,1803,1801,1800,1799,1798,1797,1796,1795,1794,1793,1792,1791,1802,1816,1817,1818,1843,1841,1840,1839,1838,1837,1836,1835,1834,1833,1832,1831,1830,1829,1828,1827,1826,1825,1824,1900,1823,1822,1821,1820,1819,1845,1823,1831,1821,1836,1835,1834,1833,1832,1830,1829,1828,1826,1825,1824,1837,1823,1821,1820,1819,1818,1817,1816,1815,1814,1813,1812,1811,1822,1810,1838,1840,1864,1863,1862,1861,1860,1859,1858,1857,1856,1855,1854,1839,1853,1851,1850,1849,1848,1847,1846,1845,1844,1843,1842,1841,1852,1809,1808,1807,1777,1776,1775,1774,1773,1772,1771,1770,1769,1768,1767,1778,1766,1764,1763,1762,1761,1760,1759,1758,1757,1756,1755,1822,1765,1779,1780,1781,1806,1805,1804,1803,1802,1801,1800,1799,1798,1797,1796,1795,1794,1793,1792,1791,1790,1789,1788,1787,1786,1785,1784,1783,1782,1865,1866,1827,1868,1791,1790,1789,1788,1787,1786,1785,1784,1783,1782,1781,1792,1780,1778,1777,1776,1775,1774,1773,1772,1771,1770,1769,1768,1779,1793,1794,1795,1820,1819,1818,1817,1816,1815,1814,1813,1812,1811,1810,1809,1808,1807,1806,1805,1867,1803,1802,1801,1800,1799,1798,1797,1796,1767,1766,1804,1764,1893,1892,1891,1890,1889,1888,1887,1886,1885,1884,1883,1882,1881,1880,1879,1878,1876,1875,1874,1873,1872,1871,1870,1869,1765,1894,1895,1877,1897,1763,1896,1762,1761,1760,1759,1757,1756,1755,1754,1753,1752,1758,1750,1751,1898,1900,1743,1899,1745,1744,1746,1747,1748,1749]},\"selected\":{\"id\":\"3767\"},\"selection_policy\":{\"id\":\"3867\"}},\"id\":\"3766\",\"type\":\"ColumnDataSource\"},{\"attributes\":{},\"id\":\"2133\",\"type\":\"Selection\"},{\"attributes\":{\"line_alpha\":0.2,\"line_color\":\"#6d904f\",\"line_width\":2,\"x\":{\"field\":\"year\"},\"y\":{\"field\":\"AverageTemperature\"}},\"id\":\"3367\",\"type\":\"Line\"},{\"attributes\":{\"source\":{\"id\":\"3460\"}},\"id\":\"3467\",\"type\":\"CDSView\"},{\"attributes\":{\"line_color\":\"#bcbd22\",\"line_width\":2,\"x\":{\"field\":\"year\"},\"y\":{\"field\":\"AverageTemperature\"}},\"id\":\"2993\",\"type\":\"Line\"},{\"attributes\":{\"label\":{\"value\":\"Syria\"},\"renderers\":[{\"id\":\"3368\"}]},\"id\":\"3458\",\"type\":\"LegendItem\"},{\"attributes\":{\"line_color\":\"#bcbd22\",\"line_width\":2,\"x\":{\"field\":\"year\"},\"y\":{\"field\":\"AverageTemperature\"}},\"id\":\"2131\",\"type\":\"Line\"},{\"attributes\":{\"line_alpha\":0.2,\"line_color\":\"#8c564b\",\"line_width\":2,\"x\":{\"field\":\"year\"},\"y\":{\"field\":\"AverageTemperature\"}},\"id\":\"2907\",\"type\":\"Line\"},{\"attributes\":{\"line_color\":\"#30a2da\",\"line_width\":2,\"x\":{\"field\":\"year\"},\"y\":{\"field\":\"AverageTemperature\"}},\"id\":\"2135\",\"type\":\"Line\"},{\"attributes\":{\"data\":{\"AverageTemperature\":{\"__ndarray__\":\"KaO3Za2+IkChjN6WtXokQHWTGARW3iRAivo3Qhl9JEDR27JWx5QkQIDcay4kPSVAZa2OCR7cJECRNKXi7PMkQG2g0wY6bSVAwBHK6G0JJUAsQO41F7IjQKRwPQrXgyRARURERESUJEDlF0t+scQjQEt+seQX2yNAp1ScffisJEBjEFg5tGgjQAXIveZCwiZA001iEFipJEC6SQwCKzcjQP0boYzeRiNAHKGM3pY1J0BjEFg5tMgkQN7d3d3dzSRAgwfzRP37JkDDrgC51zwmQHd3d3d3FyVAfvgMuwL0JEA/w64AuackQOXQItv5riRA/tR46SaxJEDiM+wKkPskQMgED+aJaiVAJU2pOPvwIkBCYOXQImskQO/u7u7u3iJAYZ6ofyNEJEBZ8oslv6gkQMOuALnXTCRA7QqQe80lJUAdWmQ73y8lQKcNdNpAtyRAWfKLJb/IJED1tqzVMWEjQGHl0CLbqSJAo7dlrY4JI0DxGXYFyH0kQAAAAAAAECVAkxgEVg4dJUDflrU6JrgjQLErQO41NyRAWx0TPJhnJECIz7ArQP4jQJWKsw+fYSNASOF6FK6HI0CZ4ME8UQ8lQKP+jVBG7yJASVMqzj68JEA8mCfq3+gkQMtaHRM8iCRAVZx9+AybJEA1peLsw6clQA==\",\"dtype\":\"float64\",\"order\":\"little\",\"shape\":[62]},\"Country\":[\"South Korea\",\"South Korea\",\"South Korea\",\"South Korea\",\"South Korea\",\"South Korea\",\"South Korea\",\"South Korea\",\"South Korea\",\"South Korea\",\"South Korea\",\"South Korea\",\"South Korea\",\"South Korea\",\"South Korea\",\"South Korea\",\"South Korea\",\"South Korea\",\"South Korea\",\"South Korea\",\"South Korea\",\"South Korea\",\"South Korea\",\"South Korea\",\"South Korea\",\"South Korea\",\"South Korea\",\"South Korea\",\"South Korea\",\"South Korea\",\"South Korea\",\"South Korea\",\"South Korea\",\"South Korea\",\"South Korea\",\"South Korea\",\"South Korea\",\"South Korea\",\"South Korea\",\"South Korea\",\"South Korea\",\"South Korea\",\"South Korea\",\"South Korea\",\"South Korea\",\"South Korea\",\"South Korea\",\"South Korea\",\"South Korea\",\"South Korea\",\"South Korea\",\"South Korea\",\"South Korea\",\"South Korea\",\"South Korea\",\"South Korea\",\"South Korea\",\"South Korea\",\"South Korea\",\"South Korea\",\"South Korea\",\"South Korea\"],\"year\":[1884,1883,1882,1881,1880,1879,1875,1877,1876,1874,1873,1872,1878,1885,1895,1888,1889,1890,1891,1892,1893,1894,1896,1897,1898,1899,1900,1871,1886,1870,1887,1868,1869,1839,1840,1841,1842,1843,1844,1846,1847,1848,1849,1850,1851,1852,1845,1854,1867,1853,1866,1865,1864,1862,1861,1863,1860,1859,1858,1857,1856,1855]},\"selected\":{\"id\":\"3081\"},\"selection_policy\":{\"id\":\"3167\"}},\"id\":\"3080\",\"type\":\"ColumnDataSource\"},{\"attributes\":{},\"id\":\"3455\",\"type\":\"UnionRenderers\"},{\"attributes\":{\"label\":{\"value\":\"Somalia\"},\"renderers\":[{\"id\":\"2908\"}]},\"id\":\"2988\",\"type\":\"LegendItem\"},{\"attributes\":{\"source\":{\"id\":\"2132\"}},\"id\":\"2139\",\"type\":\"CDSView\"},{\"attributes\":{},\"id\":\"2985\",\"type\":\"UnionRenderers\"},{\"attributes\":{},\"id\":\"2201\",\"type\":\"Selection\"},{\"attributes\":{},\"id\":\"1353\",\"type\":\"Selection\"},{\"attributes\":{\"line_alpha\":0.1,\"line_color\":\"#30a2da\",\"line_width\":2,\"x\":{\"field\":\"year\"},\"y\":{\"field\":\"AverageTemperature\"}},\"id\":\"2136\",\"type\":\"Line\"},{\"attributes\":{\"line_alpha\":0.1,\"line_color\":\"#fc4f30\",\"line_width\":2,\"x\":{\"field\":\"year\"},\"y\":{\"field\":\"AverageTemperature\"}},\"id\":\"2204\",\"type\":\"Line\"},{\"attributes\":{\"coordinates\":null,\"data_source\":{\"id\":\"2132\"},\"glyph\":{\"id\":\"2135\"},\"group\":null,\"hover_glyph\":null,\"muted_glyph\":{\"id\":\"2137\"},\"nonselection_glyph\":{\"id\":\"2136\"},\"selection_glyph\":{\"id\":\"2199\"},\"view\":{\"id\":\"2139\"}},\"id\":\"2138\",\"type\":\"GlyphRenderer\"},{\"attributes\":{\"source\":{\"id\":\"1099\"}},\"id\":\"1106\",\"type\":\"CDSView\"},{\"attributes\":{\"line_color\":\"#1f77b4\",\"line_width\":2,\"x\":{\"field\":\"year\"},\"y\":{\"field\":\"AverageTemperature\"}},\"id\":\"1351\",\"type\":\"Line\"},{\"attributes\":{\"click_policy\":\"mute\",\"coordinates\":null,\"group\":null,\"items\":[{\"id\":\"1118\"},{\"id\":\"1140\"},{\"id\":\"1164\"},{\"id\":\"1190\"},{\"id\":\"1218\"},{\"id\":\"1248\"},{\"id\":\"1280\"},{\"id\":\"1314\"},{\"id\":\"1350\"},{\"id\":\"1388\"},{\"id\":\"1428\"},{\"id\":\"1470\"},{\"id\":\"1514\"},{\"id\":\"1560\"},{\"id\":\"1608\"},{\"id\":\"1658\"},{\"id\":\"1710\"},{\"id\":\"1764\"},{\"id\":\"1820\"},{\"id\":\"1878\"},{\"id\":\"1938\"},{\"id\":\"2000\"},{\"id\":\"2064\"},{\"id\":\"2130\"},{\"id\":\"2198\"},{\"id\":\"2268\"},{\"id\":\"2340\"},{\"id\":\"2414\"},{\"id\":\"2490\"},{\"id\":\"2568\"},{\"id\":\"2648\"},{\"id\":\"2730\"},{\"id\":\"2814\"},{\"id\":\"2900\"},{\"id\":\"2988\"},{\"id\":\"3078\"},{\"id\":\"3170\"},{\"id\":\"3264\"},{\"id\":\"3360\"},{\"id\":\"3458\"},{\"id\":\"3558\"},{\"id\":\"3660\"},{\"id\":\"3764\"},{\"id\":\"3870\"},{\"id\":\"3978\"},{\"id\":\"4088\"},{\"id\":\"4200\"},{\"id\":\"4314\"},{\"id\":\"4430\"}],\"location\":[0,0],\"title\":\"Country\"},\"id\":\"1117\",\"type\":\"Legend\"},{\"attributes\":{\"line_color\":\"#e377c2\",\"line_width\":2,\"x\":{\"field\":\"year\"},\"y\":{\"field\":\"AverageTemperature\"}},\"id\":\"1355\",\"type\":\"Line\"},{\"attributes\":{\"line_alpha\":0.2,\"line_color\":\"#30a2da\",\"line_width\":2,\"x\":{\"field\":\"year\"},\"y\":{\"field\":\"AverageTemperature\"}},\"id\":\"2137\",\"type\":\"Line\"},{\"attributes\":{},\"id\":\"1100\",\"type\":\"Selection\"},{\"attributes\":{\"line_color\":\"#fc4f30\",\"line_width\":2,\"x\":{\"field\":\"year\"},\"y\":{\"field\":\"AverageTemperature\"}},\"id\":\"2203\",\"type\":\"Line\"},{\"attributes\":{\"source\":{\"id\":\"1352\"}},\"id\":\"1359\",\"type\":\"CDSView\"},{\"attributes\":{\"data\":{\"AverageTemperature\":{\"__ndarray__\":\"2c73U+OdNkDtw2fYFdg3QEGnDXTaADdALEDuNRcCN0BwhDJ6W842QNV46SYxiDdATxvotIF2N0DhehSuR+E2QPxiyS+WBDdA/Knx0k2CNkA1peLsw4c3QNHbslbH1DZA1L8Ryuh1N0AZBFYOLUI3QNS/EcroZTdAffgMuwJ0N0C7AuRecxk3QC8kTak4ezdA4ME8Uf+WN0DZzvdT4z02QNgVIPeaszZAGb0ta3WkNkA30GkDnY41QMM8Uf9GkDdAS8XZh8+YN0AjlNHbsmYkQGSCB/NEbSpAlBgEVg49L0BEi2zn+xkzQDvfT42XPjNA4XoUrkdBIEAAAAAAAAAAAAAAAAAAAAAAAAAAAAAAAAB02kCnDRQ1QAAAAAAAAAAAAAAAAAAAAAAAAAAAAAAAAAAAAAAAAAAAAAAAAAAAAAAAAAAAAAAAACgxCKwcii5AkML1KFwHN0AAAAAAAAAAACxA7jUX2jFA\",\"dtype\":\"float64\",\"order\":\"little\",\"shape\":[45]},\"Country\":[\"Angola\",\"Angola\",\"Angola\",\"Angola\",\"Angola\",\"Angola\",\"Angola\",\"Angola\",\"Angola\",\"Angola\",\"Angola\",\"Angola\",\"Angola\",\"Angola\",\"Angola\",\"Angola\",\"Angola\",\"Angola\",\"Angola\",\"Angola\",\"Angola\",\"Angola\",\"Angola\",\"Angola\",\"Angola\",\"Angola\",\"Angola\",\"Angola\",\"Angola\",\"Angola\",\"Angola\",\"Angola\",\"Angola\",\"Angola\",\"Angola\",\"Angola\",\"Angola\",\"Angola\",\"Angola\",\"Angola\",\"Angola\",\"Angola\",\"Angola\",\"Angola\",\"Angola\"],\"year\":[1881,1889,1882,1883,1884,1885,1886,1887,1888,1890,1897,1892,1893,1894,1895,1896,1898,1899,1900,1880,1891,1879,1874,1877,1878,1856,1857,1858,1859,1861,1862,1863,1864,1865,1860,1867,1868,1869,1870,1871,1872,1873,1875,1866,1876]},\"selected\":{\"id\":\"1121\"},\"selection_policy\":{\"id\":\"1137\"}},\"id\":\"1120\",\"type\":\"ColumnDataSource\"},{\"attributes\":{\"label\":{\"value\":\"Morocco\"},\"renderers\":[{\"id\":\"2138\"}]},\"id\":\"2198\",\"type\":\"LegendItem\"},{\"attributes\":{\"line_alpha\":0.1,\"line_color\":\"#30a2da\",\"line_width\":2,\"x\":{\"field\":\"year\"},\"y\":{\"field\":\"AverageTemperature\"}},\"id\":\"1103\",\"type\":\"Line\"},{\"attributes\":{},\"id\":\"2195\",\"type\":\"UnionRenderers\"},{\"attributes\":{\"line_color\":\"#e377c2\",\"line_width\":2,\"x\":{\"field\":\"year\"},\"y\":{\"field\":\"AverageTemperature\"}},\"id\":\"1389\",\"type\":\"Line\"},{\"attributes\":{\"line_alpha\":0.1,\"line_color\":\"#e377c2\",\"line_width\":2,\"x\":{\"field\":\"year\"},\"y\":{\"field\":\"AverageTemperature\"}},\"id\":\"1356\",\"type\":\"Line\"},{\"attributes\":{\"data\":{\"AverageTemperature\":{\"__ndarray__\":\"mwtJUyrGOUCJQWDl0HI5QMdLN4lBaDpA6LSBThs4OkD1b4Qyess5QNCwK0DuhTlAfT81XropOkDRItv5foI5QD98hl0BAjpANOwKkHu9OUAsQO41F6I5QKRwPQrXyzlAe1vW6piQOUDkXnMhaWI5QEdvy1oduzlAHRM8mCeiOUBBpw102tA5QOQXS36xhDlA65jgwTyBOUDpJjEIrHQ5QI2XbhKDeDlAsLmQNKW6OUBImlJx9sk5QEPSlIqzDzpAlYqzD5/ZOUDHSzeJQbA5QHcFyL3majlAEcrobVlbOUCUGARWDmU5QHDLWh0TdDlA6Pup8dLFOUAtsp3vp445QMuhRbbzNTlAKKO3Za1WOUA4Qhm9Las5QFmrY4IHSzlADXTaQKetOUCUGARWDqU5QNmHz7ArqDlAHKGM3padOUBdAXKvuWg5QGwuJE2pODlAAAAAAAAAAAAAAAAAAAAAAAAAAAAAAAAAAAAAAAAAAAAAAAAAAAAAAI8JHswTZTlAp1ScffgMKUB1Bci95jo6QJ3vp8ZLnzlAne+nxks3OkCr8dJNYkg6QNUxwYN52jlAuddcSJq6N0Alv1jyi4U5QITAyqFFPjlAEREREREhOUBtoNMGOg06QMUgsHJocTlAT9S/EcqIOUAcoYzell05QG3n+6nxKjlAi/o3QhktOUBg5dAi2yE6QFyPwvUozDlA05SKsw+XOUCnVJx9+KQ5QH9qvHSTWDlAveZC0pSyOUAVIPeaC6E5QP3UeOkmcTlAMJb8YsmHOUBbHRM8mN85QEW28/3UEDNAOPvwGXZVOUBfcyFpSvU4QA==\",\"dtype\":\"float64\",\"order\":\"little\",\"shape\":[77]},\"Country\":[\"Dominican Republic\",\"Dominican Republic\",\"Dominican Republic\",\"Dominican Republic\",\"Dominican Republic\",\"Dominican Republic\",\"Dominican Republic\",\"Dominican Republic\",\"Dominican Republic\",\"Dominican Republic\",\"Dominican Republic\",\"Dominican Republic\",\"Dominican Republic\",\"Dominican Republic\",\"Dominican Republic\",\"Dominican Republic\",\"Dominican Republic\",\"Dominican Republic\",\"Dominican Republic\",\"Dominican Republic\",\"Dominican Republic\",\"Dominican Republic\",\"Dominican Republic\",\"Dominican Republic\",\"Dominican Republic\",\"Dominican Republic\",\"Dominican Republic\",\"Dominican Republic\",\"Dominican Republic\",\"Dominican Republic\",\"Dominican Republic\",\"Dominican Republic\",\"Dominican Republic\",\"Dominican Republic\",\"Dominican Republic\",\"Dominican Republic\",\"Dominican Republic\",\"Dominican Republic\",\"Dominican Republic\",\"Dominican Republic\",\"Dominican Republic\",\"Dominican Republic\",\"Dominican Republic\",\"Dominican Republic\",\"Dominican Republic\",\"Dominican Republic\",\"Dominican Republic\",\"Dominican Republic\",\"Dominican Republic\",\"Dominican Republic\",\"Dominican Republic\",\"Dominican Republic\",\"Dominican Republic\",\"Dominican Republic\",\"Dominican Republic\",\"Dominican Republic\",\"Dominican Republic\",\"Dominican Republic\",\"Dominican Republic\",\"Dominican Republic\",\"Dominican Republic\",\"Dominican Republic\",\"Dominican Republic\",\"Dominican Republic\",\"Dominican Republic\",\"Dominican Republic\",\"Dominican Republic\",\"Dominican Republic\",\"Dominican Republic\",\"Dominican Republic\",\"Dominican Republic\",\"Dominican Republic\",\"Dominican Republic\",\"Dominican Republic\",\"Dominican Republic\",\"Dominican Republic\",\"Dominican Republic\"],\"year\":[1879,1873,1878,1877,1876,1875,1900,1874,1869,1871,1870,1868,1867,1866,1865,1880,1872,1881,1892,1883,1864,1899,1898,1897,1896,1895,1894,1882,1893,1890,1889,1888,1887,1886,1885,1884,1891,1863,1849,1861,1839,1838,1837,1836,1835,1834,1833,1840,1832,1830,1829,1828,1827,1826,1824,1862,1831,1841,1825,1843,1842,1860,1858,1857,1856,1855,1854,1853,1859,1851,1850,1848,1847,1846,1845,1852,1844]},\"selected\":{\"id\":\"1431\"},\"selection_policy\":{\"id\":\"1467\"}},\"id\":\"1430\",\"type\":\"ColumnDataSource\"},{\"attributes\":{\"coordinates\":null,\"data_source\":{\"id\":\"1352\"},\"glyph\":{\"id\":\"1355\"},\"group\":null,\"hover_glyph\":null,\"muted_glyph\":{\"id\":\"1357\"},\"nonselection_glyph\":{\"id\":\"1356\"},\"selection_glyph\":{\"id\":\"1389\"},\"view\":{\"id\":\"1359\"}},\"id\":\"1358\",\"type\":\"GlyphRenderer\"},{\"attributes\":{\"line_alpha\":0.1,\"line_color\":\"#8b8b8b\",\"line_width\":2,\"x\":{\"field\":\"year\"},\"y\":{\"field\":\"AverageTemperature\"}},\"id\":\"3464\",\"type\":\"Line\"},{\"attributes\":{},\"id\":\"1391\",\"type\":\"Selection\"},{\"attributes\":{\"line_alpha\":0.2,\"line_color\":\"#e377c2\",\"line_width\":2,\"x\":{\"field\":\"year\"},\"y\":{\"field\":\"AverageTemperature\"}},\"id\":\"1357\",\"type\":\"Line\"},{\"attributes\":{\"line_color\":\"#6d904f\",\"line_width\":2,\"x\":{\"field\":\"year\"},\"y\":{\"field\":\"AverageTemperature\"}},\"id\":\"3459\",\"type\":\"Line\"},{\"attributes\":{\"line_color\":\"#8c564b\",\"line_width\":2,\"x\":{\"field\":\"year\"},\"y\":{\"field\":\"AverageTemperature\"}},\"id\":\"2989\",\"type\":\"Line\"},{\"attributes\":{\"line_color\":\"#30a2da\",\"line_width\":2,\"x\":{\"field\":\"year\"},\"y\":{\"field\":\"AverageTemperature\"}},\"id\":\"1102\",\"type\":\"Line\"},{\"attributes\":{\"coordinates\":null,\"data_source\":{\"id\":\"3460\"},\"glyph\":{\"id\":\"3463\"},\"group\":null,\"hover_glyph\":null,\"muted_glyph\":{\"id\":\"3465\"},\"nonselection_glyph\":{\"id\":\"3464\"},\"selection_glyph\":{\"id\":\"3559\"},\"view\":{\"id\":\"3467\"}},\"id\":\"3466\",\"type\":\"GlyphRenderer\"},{\"attributes\":{},\"id\":\"1385\",\"type\":\"UnionRenderers\"},{\"attributes\":{},\"id\":\"2991\",\"type\":\"Selection\"},{\"attributes\":{\"data\":{\"AverageTemperature\":{\"__ndarray__\":\"7FG4HoXDOUAAAAAAAAAAAAAAAAAAAAAAAAAAAAAAAABANV66SRw3QAAAAAAAAAAAaNgVIPeqOUCFMnpb1qI5QAAAAAAAAAAAYZ6ofyPUGkAAAAAAAAAAAOi0gU4beDlArdUxwYNpOUAoo7dlrd42QEW28/3UADlAgU4b6LSBOUCvR+F6FBY5QGjYFSD3ijlAgdxrLiSlOUCAI5TR29o5QGjYFSD3AjpAx0s3iUFQOUBcj8L1KPw4QAAAAAAAAAAAmSfq3whdMEAAAAAAAAAAAAAAAAAAAAAAAAAAAAAAAAAREREREck2QAAAAAAAAAAAAAAAAAAAAAAAAAAAAAAAAAAAAAAAAAAAAAAAAAAAAAAAAAAAAAAAAAAAAAAAAAAAiUFg5dAqNUAAAAAAAAAAAAAAAAAAAAAAAAAAAAAAAAAAAAAAAAAAAAAAAAAAAAAAAAAAAAAAAAAAAAAAAAAAAAAAAAAAAAAAAAAAAAAAAAAAAAAAAAAAAAAAAAAAAAAAAyuHFtkOOUAAAAAAAAAAAAAAAAAAAAAA\",\"dtype\":\"float64\",\"order\":\"little\",\"shape\":[51]},\"Country\":[\"Tanzania\",\"Tanzania\",\"Tanzania\",\"Tanzania\",\"Tanzania\",\"Tanzania\",\"Tanzania\",\"Tanzania\",\"Tanzania\",\"Tanzania\",\"Tanzania\",\"Tanzania\",\"Tanzania\",\"Tanzania\",\"Tanzania\",\"Tanzania\",\"Tanzania\",\"Tanzania\",\"Tanzania\",\"Tanzania\",\"Tanzania\",\"Tanzania\",\"Tanzania\",\"Tanzania\",\"Tanzania\",\"Tanzania\",\"Tanzania\",\"Tanzania\",\"Tanzania\",\"Tanzania\",\"Tanzania\",\"Tanzania\",\"Tanzania\",\"Tanzania\",\"Tanzania\",\"Tanzania\",\"Tanzania\",\"Tanzania\",\"Tanzania\",\"Tanzania\",\"Tanzania\",\"Tanzania\",\"Tanzania\",\"Tanzania\",\"Tanzania\",\"Tanzania\",\"Tanzania\",\"Tanzania\",\"Tanzania\",\"Tanzania\",\"Tanzania\"],\"year\":[1900,1884,1883,1882,1880,1879,1878,1877,1886,1881,1887,1894,1889,1890,1891,1892,1893,1895,1896,1897,1898,1899,1876,1888,1875,1885,1873,1874,1850,1852,1853,1854,1855,1856,1857,1858,1859,1860,1851,1862,1861,1872,1870,1869,1868,1871,1866,1865,1864,1863,1867]},\"selected\":{\"id\":\"3561\"},\"selection_policy\":{\"id\":\"3657\"}},\"id\":\"3560\",\"type\":\"ColumnDataSource\"},{\"attributes\":{\"coordinates\":null,\"data_source\":{\"id\":\"1099\"},\"glyph\":{\"id\":\"1102\"},\"group\":null,\"hover_glyph\":null,\"muted_glyph\":{\"id\":\"1104\"},\"nonselection_glyph\":{\"id\":\"1103\"},\"selection_glyph\":{\"id\":\"1119\"},\"view\":{\"id\":\"1106\"}},\"id\":\"1105\",\"type\":\"GlyphRenderer\"},{\"attributes\":{\"source\":{\"id\":\"2990\"}},\"id\":\"2997\",\"type\":\"CDSView\"},{\"attributes\":{\"line_alpha\":0.2,\"line_color\":\"#8b8b8b\",\"line_width\":2,\"x\":{\"field\":\"year\"},\"y\":{\"field\":\"AverageTemperature\"}},\"id\":\"3465\",\"type\":\"Line\"},{\"attributes\":{\"label\":{\"value\":\"Afghanistan\"},\"renderers\":[{\"id\":\"1105\"}]},\"id\":\"1118\",\"type\":\"LegendItem\"},{\"attributes\":{\"line_alpha\":0.1,\"line_color\":\"#bcbd22\",\"line_width\":2,\"x\":{\"field\":\"year\"},\"y\":{\"field\":\"AverageTemperature\"}},\"id\":\"2994\",\"type\":\"Line\"},{\"attributes\":{},\"id\":\"1098\",\"type\":\"AllLabels\"},{\"attributes\":{\"label\":{\"value\":\"Taiwan\"},\"renderers\":[{\"id\":\"3466\"}]},\"id\":\"3558\",\"type\":\"LegendItem\"},{\"attributes\":{\"coordinates\":null,\"data_source\":{\"id\":\"2990\"},\"glyph\":{\"id\":\"2993\"},\"group\":null,\"hover_glyph\":null,\"muted_glyph\":{\"id\":\"2995\"},\"nonselection_glyph\":{\"id\":\"2994\"},\"selection_glyph\":{\"id\":\"3079\"},\"view\":{\"id\":\"2997\"}},\"id\":\"2996\",\"type\":\"GlyphRenderer\"},{\"attributes\":{},\"id\":\"3555\",\"type\":\"UnionRenderers\"},{\"attributes\":{\"coordinates\":null,\"data_source\":{\"id\":\"2200\"},\"glyph\":{\"id\":\"2203\"},\"group\":null,\"hover_glyph\":null,\"muted_glyph\":{\"id\":\"2205\"},\"nonselection_glyph\":{\"id\":\"2204\"},\"selection_glyph\":{\"id\":\"2269\"},\"view\":{\"id\":\"2207\"}},\"id\":\"2206\",\"type\":\"GlyphRenderer\"},{\"attributes\":{\"data\":{\"AverageTemperature\":{\"__ndarray__\":\"McGDeaLOJkAJZfS2rLUnQMARyuhtmSZAXNbqmODxJUAXIPeaC5kmQCA+w64AqSVAUf9GKKMHJkAL16NwPXonQBWuR+F61CRA65jgwTxhJkC5HoXrUTglQBm9LWt1vCdACR7ME/WvJkDcslbHBH8mQA8tsp3vdyZA/WLJL5asJ0BpSsXZh88mQKwcWmQ7TydA/0Yoo7d1JkCzne+nxtsmQJngwTxRPydAKKO3Za2uJkAMSVMqzm4mQAuQe82FJCVA4zPsCpCLJUAYkqZUnJ0mQI1QRm/LSidA5F5zIWlKJkD1KFyPwiUmQBCfYVeALChARERERET0JUCl4uzDZzgmQKBhV4DcKyZA3Pl+arx0JkBU46WbxFAmQLy7u7u76yVAoBov3SRWJkDflrU6JogmQLtJDAIrBydAJE2pOPtgJkAQn2FXgPwlQIQyelvWaiVAC0lTKs7eJEDdJAaBlbMkQPOLJb9YEiVAMQisHFp0JUBU46WbxIAmQJDC9ShcLyVAW2Q730+9J0DjpZvEIKAnQGt1TPBg/iRAF9nO91MTKEAJHswT9Q8nQE3wYJ6o/yhAUI2XbhITJ0AhaUrF2ScmQNyyVscEvyVAcT0K16OQJUA5tMh2vi8lQKxjggfzVCZA61G4HoX7JkAvJE2pOMsmQOSlm8Qg0CZAqTj78Bk2J0CMJb9Y8qsnQCmjt2WtriZAM3pb1upoJ0AjIiIiIjImQNyyVscEnyZAo/6NUEZ/JkBpke18PzUnQBfZzvdTQydAXNbqmOBhJ0CBThvotCEnQPHSTWIQ+CVAU3H24TM8JkB7W9bqmNAnQHGvuZA0lSZAmCfq3whVJ0DrmODBPEEmQORecyFpqiVAjwkezBOVJUCjt2WtjukmQF9zIWlK9SZAx0s3iUGwJkBfcyFpSuUmQDhCGb0tiyVA5RdLfrF0JkD0RP0bodwmQEkMAiuHJiZAPwrXo3BNJkCcffgMu5InQIwlv1jy2ydAmwtJUyreJkDwp8ZLN4kmQFBGb8taPSdACKwcWmSbJ0As+cWSX1woQMOuALnXbChA1L8RyugNJ0CfqH8jlLEmQM73U+OlmwpAzczMzMyMIEAFVg4tsh39PwAAAAAAAAAAAAAAAAAAAAAAAAAAAAAAAAAAAAAAAAAAjd6WtTrWJUDZzvdT4wUmQHH24TPsSgxAke18PzXuJkBpA5020PkmQFnyiyW/WCZAdZMYBFb+JkDP91PjpasmQD2YJ+rfeCRAQacNdNrwIECrY4IH87QnQLC5kDSlIidA5F5zIWnKJkCr8dJNYiAoQFzW6pjgMSZATak4+/B5J0CvALnXXFgnQMl2vp8a7yRABoGVQ4tMJUDtfD81XsokQBUg95oLOSdADXTaQKetJUBrvHSTGFQlQOHBPFH/hiRAH8wT9W+0JUB6ov6NUGYkQCGwcmiRvSZA698IZfRWJ0BJUyrOPgwmQD81XrpJ3CRAoYzelrXKJ0BJUyrOPqwlQHmi/o1Q5idA9W+EMnp7J0A07AqQe00mQOi0gU4b6CVAzFodEzy4JkABcq+5kAQnQEdvy1odcyVAC5B7zYUkJ0Apo7dlrS4nQCkVZx8+8ydAQO41F5ImJ0D8qfHSTSInQJ9hV4Dc6yZA+Qy7AuQeJ0DQsCtA7rUmQLHkF0t+YSZAqMZLN4kRJ0A8mCfq3wgmQA==\",\"dtype\":\"float64\",\"order\":\"little\",\"shape\":[158]},\"Country\":[\"Spain\",\"Spain\",\"Spain\",\"Spain\",\"Spain\",\"Spain\",\"Spain\",\"Spain\",\"Spain\",\"Spain\",\"Spain\",\"Spain\",\"Spain\",\"Spain\",\"Spain\",\"Spain\",\"Spain\",\"Spain\",\"Spain\",\"Spain\",\"Spain\",\"Spain\",\"Spain\",\"Spain\",\"Spain\",\"Spain\",\"Spain\",\"Spain\",\"Spain\",\"Spain\",\"Spain\",\"Spain\",\"Spain\",\"Spain\",\"Spain\",\"Spain\",\"Spain\",\"Spain\",\"Spain\",\"Spain\",\"Spain\",\"Spain\",\"Spain\",\"Spain\",\"Spain\",\"Spain\",\"Spain\",\"Spain\",\"Spain\",\"Spain\",\"Spain\",\"Spain\",\"Spain\",\"Spain\",\"Spain\",\"Spain\",\"Spain\",\"Spain\",\"Spain\",\"Spain\",\"Spain\",\"Spain\",\"Spain\",\"Spain\",\"Spain\",\"Spain\",\"Spain\",\"Spain\",\"Spain\",\"Spain\",\"Spain\",\"Spain\",\"Spain\",\"Spain\",\"Spain\",\"Spain\",\"Spain\",\"Spain\",\"Spain\",\"Spain\",\"Spain\",\"Spain\",\"Spain\",\"Spain\",\"Spain\",\"Spain\",\"Spain\",\"Spain\",\"Spain\",\"Spain\",\"Spain\",\"Spain\",\"Spain\",\"Spain\",\"Spain\",\"Spain\",\"Spain\",\"Spain\",\"Spain\",\"Spain\",\"Spain\",\"Spain\",\"Spain\",\"Spain\",\"Spain\",\"Spain\",\"Spain\",\"Spain\",\"Spain\",\"Spain\",\"Spain\",\"Spain\",\"Spain\",\"Spain\",\"Spain\",\"Spain\",\"Spain\",\"Spain\",\"Spain\",\"Spain\",\"Spain\",\"Spain\",\"Spain\",\"Spain\",\"Spain\",\"Spain\",\"Spain\",\"Spain\",\"Spain\",\"Spain\",\"Spain\",\"Spain\",\"Spain\",\"Spain\",\"Spain\",\"Spain\",\"Spain\",\"Spain\",\"Spain\",\"Spain\",\"Spain\",\"Spain\",\"Spain\",\"Spain\",\"Spain\",\"Spain\",\"Spain\",\"Spain\",\"Spain\",\"Spain\",\"Spain\",\"Spain\",\"Spain\",\"Spain\",\"Spain\",\"Spain\",\"Spain\",\"Spain\"],\"year\":[1850,1846,1847,1848,1849,1845,1851,1858,1853,1854,1855,1856,1857,1859,1844,1852,1843,1828,1841,1824,1825,1826,1827,1860,1829,1830,1831,1832,1833,1834,1835,1836,1837,1838,1839,1840,1842,1861,1877,1863,1886,1887,1888,1889,1890,1891,1892,1885,1893,1895,1896,1897,1898,1899,1900,1823,1894,1884,1883,1882,1864,1865,1866,1867,1868,1869,1870,1871,1872,1873,1874,1875,1876,1878,1879,1880,1881,1862,1822,1807,1820,1763,1764,1765,1766,1767,1768,1769,1762,1770,1773,1774,1775,1776,1777,1778,1779,1772,1780,1761,1759,1743,1744,1745,1746,1747,1748,1749,1760,1750,1752,1753,1754,1755,1756,1757,1758,1751,1781,1771,1783,1804,1805,1806,1821,1808,1809,1810,1803,1782,1813,1814,1815,1816,1817,1818,1819,1812,1802,1811,1800,1801,1784,1785,1786,1787,1789,1790,1791,1788,1792,1793,1794,1795,1796,1797,1798,1799]},\"selected\":{\"id\":\"3173\"},\"selection_policy\":{\"id\":\"3261\"}},\"id\":\"3172\",\"type\":\"ColumnDataSource\"},{\"attributes\":{\"data\":{\"AverageTemperature\":{\"__ndarray__\":\"eaL+jVBePEDc+X5qvHQ8QGPJL5b8ajxAne+nxkt3PEAhaUrF2U88QHe+nxovpTxAHRM8mCcaPUDVeOkmMZg8QLC5kDSlOj1AQ9KUirMHPUBANV66Saw8QEdvy1odizxAcMtaHRNsPEAlv1jyi4U8QI3elrU6rjxA+zdCGb3NPECUGARWDmU9QJjgwTxR3zxAgNxrLiQ9PUD1KFyPwgU9QKwcWmQ77zxAAAAAAAAAAADZzvdT40U9QNnO91PjtTxAMQisHFrEMkAAAAAAAAAAACW/WPKLVTRAz7ArQO7VIEC1yHa+n7I8QAAAAAAAAAAAAAAAAAAAAAAAAAAAAAAAAAAAAAAAAAAA4Ahl9LYkOkDz0k1iEMA8QMuhRbbzbTxATDeJQWCFPEDbQKcNdNo8QEjhehSuvzxAf7HkF0sWPEATyuhtWWs8QPxiyS+WBD1A\",\"dtype\":\"float64\",\"order\":\"little\",\"shape\":[42]},\"Country\":[\"Sudan\",\"Sudan\",\"Sudan\",\"Sudan\",\"Sudan\",\"Sudan\",\"Sudan\",\"Sudan\",\"Sudan\",\"Sudan\",\"Sudan\",\"Sudan\",\"Sudan\",\"Sudan\",\"Sudan\",\"Sudan\",\"Sudan\",\"Sudan\",\"Sudan\",\"Sudan\",\"Sudan\",\"Sudan\",\"Sudan\",\"Sudan\",\"Sudan\",\"Sudan\",\"Sudan\",\"Sudan\",\"Sudan\",\"Sudan\",\"Sudan\",\"Sudan\",\"Sudan\",\"Sudan\",\"Sudan\",\"Sudan\",\"Sudan\",\"Sudan\",\"Sudan\",\"Sudan\",\"Sudan\",\"Sudan\"],\"year\":[1888,1887,1886,1883,1884,1882,1889,1885,1890,1899,1892,1893,1894,1895,1896,1897,1898,1900,1881,1891,1880,1868,1878,1879,1859,1860,1861,1862,1864,1865,1866,1867,1863,1869,1870,1871,1872,1873,1874,1875,1876,1877]},\"selected\":{\"id\":\"3267\"},\"selection_policy\":{\"id\":\"3357\"}},\"id\":\"3266\",\"type\":\"ColumnDataSource\"},{\"attributes\":{},\"id\":\"1097\",\"type\":\"BasicTickFormatter\"},{\"attributes\":{\"line_alpha\":0.2,\"line_color\":\"#bcbd22\",\"line_width\":2,\"x\":{\"field\":\"year\"},\"y\":{\"field\":\"AverageTemperature\"}},\"id\":\"2995\",\"type\":\"Line\"},{\"attributes\":{\"line_color\":\"#30a2da\",\"line_width\":2,\"x\":{\"field\":\"year\"},\"y\":{\"field\":\"AverageTemperature\"}},\"id\":\"2199\",\"type\":\"Line\"},{\"attributes\":{},\"id\":\"1094\",\"type\":\"BasicTickFormatter\"},{\"attributes\":{},\"id\":\"1095\",\"type\":\"AllLabels\"},{\"attributes\":{\"label\":{\"value\":\"South Africa\"},\"renderers\":[{\"id\":\"2996\"}]},\"id\":\"3078\",\"type\":\"LegendItem\"},{\"attributes\":{\"tools\":[{\"id\":\"1014\"},{\"id\":\"1080\"},{\"id\":\"1081\"},{\"id\":\"1082\"},{\"id\":\"1083\"},{\"id\":\"1084\"}]},\"id\":\"1086\",\"type\":\"Toolbar\"},{\"attributes\":{},\"id\":\"3075\",\"type\":\"UnionRenderers\"},{\"attributes\":{\"source\":{\"id\":\"2200\"}},\"id\":\"2207\",\"type\":\"CDSView\"},{\"attributes\":{\"bottom_units\":\"screen\",\"coordinates\":null,\"fill_alpha\":0.5,\"fill_color\":\"lightgrey\",\"group\":null,\"left_units\":\"screen\",\"level\":\"overlay\",\"line_alpha\":1.0,\"line_color\":\"black\",\"line_dash\":[4,4],\"line_width\":2,\"right_units\":\"screen\",\"syncable\":false,\"top_units\":\"screen\"},\"id\":\"1085\",\"type\":\"BoxAnnotation\"},{\"attributes\":{\"line_color\":\"#8c564b\",\"line_width\":2,\"x\":{\"field\":\"year\"},\"y\":{\"field\":\"AverageTemperature\"}},\"id\":\"1393\",\"type\":\"Line\"},{\"attributes\":{\"line_alpha\":0.2,\"line_color\":\"#fc4f30\",\"line_width\":2,\"x\":{\"field\":\"year\"},\"y\":{\"field\":\"AverageTemperature\"}},\"id\":\"2205\",\"type\":\"Line\"},{\"attributes\":{\"data\":{\"AverageTemperature\":{\"__ndarray__\":\"76fGSzfBMEBYObTIdk4wQKwcWmQ7zylAaUrF2YeHMEC7AuRec1kwQOi0gU4bODBA/RuhjN72L0BnZmZmZg4wQGWtjgkeDDBARf0boYxmMEAAAAAAAAAAAAAAAAAAAAAAWhe30QB+L0AYBFYOLdInQHH24TPsqi1AAAAAAAAAAAAAAAAAAAAAAPCnxks3WSpAAAAAAAAAAAA0peLsw5ctQA==\",\"dtype\":\"float64\",\"order\":\"little\",\"shape\":[20]},\"Country\":[\"Peru\",\"Peru\",\"Peru\",\"Peru\",\"Peru\",\"Peru\",\"Peru\",\"Peru\",\"Peru\",\"Peru\",\"Peru\",\"Peru\",\"Peru\",\"Peru\",\"Peru\",\"Peru\",\"Peru\",\"Peru\",\"Peru\",\"Peru\"],\"year\":[1900,1899,1898,1896,1895,1894,1893,1892,1891,1897,1889,1890,1881,1882,1883,1888,1885,1886,1887,1884]},\"selected\":{\"id\":\"2417\"},\"selection_policy\":{\"id\":\"2487\"}},\"id\":\"2416\",\"type\":\"ColumnDataSource\"},{\"attributes\":{\"source\":{\"id\":\"1390\"}},\"id\":\"1397\",\"type\":\"CDSView\"},{\"attributes\":{\"label\":{\"value\":\"Myanmar\"},\"renderers\":[{\"id\":\"2206\"}]},\"id\":\"2268\",\"type\":\"LegendItem\"},{\"attributes\":{},\"id\":\"2265\",\"type\":\"UnionRenderers\"},{\"attributes\":{\"line_alpha\":0.1,\"line_color\":\"#8c564b\",\"line_width\":2,\"x\":{\"field\":\"year\"},\"y\":{\"field\":\"AverageTemperature\"}},\"id\":\"1394\",\"type\":\"Line\"},{\"attributes\":{\"label\":{\"value\":\"Democratic Republic of the Congo\"},\"renderers\":[{\"id\":\"1396\"}]},\"id\":\"1428\",\"type\":\"LegendItem\"},{\"attributes\":{\"coordinates\":null,\"data_source\":{\"id\":\"1390\"},\"glyph\":{\"id\":\"1393\"},\"group\":null,\"hover_glyph\":null,\"muted_glyph\":{\"id\":\"1395\"},\"nonselection_glyph\":{\"id\":\"1394\"},\"selection_glyph\":{\"id\":\"1429\"},\"view\":{\"id\":\"1397\"}},\"id\":\"1396\",\"type\":\"GlyphRenderer\"},{\"attributes\":{\"data\":{\"AverageTemperature\":{\"__ndarray__\":\"0SLb+X7aIkBM8GCeqM8mQNejcD0KByRAEFg5tMjGJEDTlIqzD68kQG3n+6nxkiNAbOf7qfGCI0BJmlJx9qEkQHYFyL3moiJABzptoNN2JEBdSJpScfYhQMP1KFyPwiVAQacNdNrgI0AMSVMqzi4mQLErQO41ZyNAo0W28/30JUAnMQisHLokQF+6SQwCmyVAaNgVIPdKJEA1peLsw/ckQFNx9uEzvCVA9Shcj8JlJUBR/0YooyckQPnFkl8sCSZA0duyVseEIUAt+cWSXywjQHsUrkfhSiJAQ4ts5/sJJEAlv1jyi4UkQFG4HoXrISdAD3TaQKddJEBiEFg5tJgkQMI8Uf9GmCNATDeJQWCVIkBQjZduEmMkQEvF2YfPQCNAgwfzRP37I0B1TPBgnpgkQKtjggfzlCRAzczMzMyMJUCtjgkezDMkQF66SQwCGyJAWDm0yHY+IkDGkl8s+fUiQCrOPnyGrSJA46WbxCAQI0CQe82FpJkjQMuhRbbzjSNAuddcSJqSJUDhwTxR/6YjQEt+seQXmyNA2c73U+P1JECtjgkezJMlQJGmVJx9eCVAhetRuB6VJUC/WPKLJf8jQCGwcmiRnSRAvS1rdUxQJUBdAXKvufAjQF1ImlJxZiRA5on6N0K5IkDv7u7u7o4lQN+WtTomiCVABci95kIyJEDtfD81XqomQBM8mCfqnyRApSkVZx9uI0BLfrHkF9siQK2OCR7MIyZAYhBYObS4JEDb+X5qvFQkQIAjlNHbIiVAHRM8mCf6JEALkHvNhUQkQBCfYVeAXCFAtTomeDDvJEA830+Nl74jQHcFyL3moiVAhxbZzvcTJ0BR/0YooxclQGjYFSD3WiNAEzyYJ+qfJED6N0IZvU0kQGDl0CLb+SNA7jUXkqYEJECfGi/dJCYkQE5iEFg5NCRAqX8jlNH7I0D3mgtJU6ojQKRwPQrX8yNAxCCwcmixJEBCGb0ta6UkQAll9Las1SVAhHmi/o2AJEC4HoXrUVgkQDN6W9bqmCVA20CnDXS6JkBjyS+W/OIlQNv5fmq8RCVAQ9KUirMfJECRNKXi7FMlQMkvlvxiWSVAw64AudecHkBsLiRNqTj5PwAAAAAAAAAAAAAAAAAAAAAAAAAAAAAAAAAAAAAAAAAAa3VM8GD+JEBtoNMGOn0kQN3d3d3d3QtA5/up8dLNJEACK4cW2U4kQNOUirMPryNA7zUXkqZkJEAlBoGVQwskQEFg5dAiOyNAF5KmVJy9HUDkXnMhacomQGQ730+Nlw5AyehtWasDJkA6baDTBuokQAIrhxbZLiJAOyZ4ME9UJkDgCGX0tnwkQIUyelvWCiNAdZMYBFbOI0BN8GCeqL8jQOf7qfHSzSNAoUW28/1UJkCZmZmZmYkjQL4ta3VMcCJAmwtJUyoeJEBg5dAi28khQC5rdUzwICRAY8kvlvyCJUD5DLsC5A4jQMRn2BUgtyJAagOdNtDpJEDUBjptoJMlQEW28/3USCVAfvgMuwLkIkD3mgtJU/oiQOIz7AqQSyNAPQrXo3ANJUDq3whl9PYkQAkezBP1LyVAl24Sg8BKJUBnHz7DrjAlQJTR27JWlyNAGb0ta3UsJkAywYN5or4kQK2OCR7MgyRAQWDl0CIbJUD5xZJfLAklQOi0gU4byCFAV8cED+bpJECnm8QgsFIlQA==\",\"dtype\":\"float64\",\"order\":\"little\",\"shape\":[158]},\"Country\":[\"France\",\"France\",\"France\",\"France\",\"France\",\"France\",\"France\",\"France\",\"France\",\"France\",\"France\",\"France\",\"France\",\"France\",\"France\",\"France\",\"France\",\"France\",\"France\",\"France\",\"France\",\"France\",\"France\",\"France\",\"France\",\"France\",\"France\",\"France\",\"France\",\"France\",\"France\",\"France\",\"France\",\"France\",\"France\",\"France\",\"France\",\"France\",\"France\",\"France\",\"France\",\"France\",\"France\",\"France\",\"France\",\"France\",\"France\",\"France\",\"France\",\"France\",\"France\",\"France\",\"France\",\"France\",\"France\",\"France\",\"France\",\"France\",\"France\",\"France\",\"France\",\"France\",\"France\",\"France\",\"France\",\"France\",\"France\",\"France\",\"France\",\"France\",\"France\",\"France\",\"France\",\"France\",\"France\",\"France\",\"France\",\"France\",\"France\",\"France\",\"France\",\"France\",\"France\",\"France\",\"France\",\"France\",\"France\",\"France\",\"France\",\"France\",\"France\",\"France\",\"France\",\"France\",\"France\",\"France\",\"France\",\"France\",\"France\",\"France\",\"France\",\"France\",\"France\",\"France\",\"France\",\"France\",\"France\",\"France\",\"France\",\"France\",\"France\",\"France\",\"France\",\"France\",\"France\",\"France\",\"France\",\"France\",\"France\",\"France\",\"France\",\"France\",\"France\",\"France\",\"France\",\"France\",\"France\",\"France\",\"France\",\"France\",\"France\",\"France\",\"France\",\"France\",\"France\",\"France\",\"France\",\"France\",\"France\",\"France\",\"France\",\"France\",\"France\",\"France\",\"France\",\"France\",\"France\",\"France\",\"France\",\"France\",\"France\",\"France\",\"France\",\"France\",\"France\",\"France\",\"France\",\"France\"],\"year\":[1845,1846,1847,1848,1849,1850,1851,1856,1853,1854,1855,1857,1858,1859,1844,1852,1843,1831,1841,1824,1825,1826,1827,1828,1829,1830,1860,1832,1833,1834,1835,1836,1837,1838,1839,1840,1842,1861,1874,1863,1886,1887,1888,1889,1890,1891,1892,1885,1893,1895,1896,1897,1898,1899,1900,1823,1894,1884,1883,1882,1864,1865,1866,1867,1868,1869,1870,1871,1872,1873,1875,1876,1877,1878,1879,1880,1881,1862,1822,1761,1820,1764,1765,1766,1767,1768,1769,1770,1763,1771,1773,1774,1775,1776,1777,1778,1779,1772,1780,1762,1759,1821,1744,1745,1746,1747,1748,1749,1760,1750,1752,1753,1754,1755,1756,1757,1758,1751,1781,1743,1783,1804,1805,1806,1807,1808,1809,1810,1803,1811,1813,1814,1815,1816,1817,1818,1782,1812,1802,1819,1801,1784,1785,1786,1787,1788,1790,1791,1792,1789,1794,1795,1796,1797,1798,1799,1800,1793]},\"selected\":{\"id\":\"1563\"},\"selection_policy\":{\"id\":\"1605\"}},\"id\":\"1562\",\"type\":\"ColumnDataSource\"},{\"attributes\":{\"line_alpha\":0.2,\"line_color\":\"#30a2da\",\"line_width\":2,\"x\":{\"field\":\"year\"},\"y\":{\"field\":\"AverageTemperature\"}},\"id\":\"1104\",\"type\":\"Line\"},{\"attributes\":{\"line_alpha\":0.2,\"line_color\":\"#8c564b\",\"line_width\":2,\"x\":{\"field\":\"year\"},\"y\":{\"field\":\"AverageTemperature\"}},\"id\":\"1395\",\"type\":\"Line\"},{\"attributes\":{\"line_alpha\":0.1,\"line_color\":\"#6d904f\",\"line_width\":2,\"x\":{\"field\":\"year\"},\"y\":{\"field\":\"AverageTemperature\"}},\"id\":\"2346\",\"type\":\"Line\"},{\"attributes\":{\"line_alpha\":0.2,\"line_color\":\"#6d904f\",\"line_width\":2,\"x\":{\"field\":\"year\"},\"y\":{\"field\":\"AverageTemperature\"}},\"id\":\"2347\",\"type\":\"Line\"},{\"attributes\":{\"coordinates\":null,\"data_source\":{\"id\":\"2342\"},\"glyph\":{\"id\":\"2345\"},\"group\":null,\"hover_glyph\":null,\"muted_glyph\":{\"id\":\"2347\"},\"nonselection_glyph\":{\"id\":\"2346\"},\"selection_glyph\":{\"id\":\"2415\"},\"view\":{\"id\":\"2349\"}},\"id\":\"2348\",\"type\":\"GlyphRenderer\"},{\"attributes\":{\"source\":{\"id\":\"2416\"}},\"id\":\"2423\",\"type\":\"CDSView\"},{\"attributes\":{\"data\":{\"AverageTemperature\":{\"__ndarray__\":\"PJgn6t/wOECx5BdLfiE4QH+x5BdLxjdAZ2ZmZmZGOEB1TPBgngg5QNv5fmq87DhAcT0K16M4OUD0tqzVMQE5QIQyelvW8jhAmCfq3whNOUDDrgC51wQ5QKuqqqqqOjlA50LSlIoDOUAMSVMqzlY4QCcxCKwckjhA+JoLSVPqOEBU46WbxLg4QFtkO99P7ThA001iEFjZOEDx0k1iEAg5QKRwPQrXyzhAxGfYFSCPOEAAAAAAAAAAAAAAAAAAAAAAO22g0wa6OEBzIWlKxVkhQNtApw10QjhA698IZfTeOEBLfrHkF2M5QG8Sg8DK+ThAexSuR+GaFEAjIiIiIko5QLErQO41HzlApeLsw2fgOECzne+nxts4QMkvlvxi4ThA9+Ez7AqwOEAP5on6N6o4QKjGSzeJMTlA/PAZdgU4OUBJmlJx9hE5QPNE/RuhhDlAFa5H4Xo8OUCr8dJNYiA5QGHl0CLb+ThA+JoLSVP6OEDNzMzMzMw4QK8AuddcMDlAxCCwcmipOEB9PzVeuqE5QBCfYVeAzDhADXTaQKc9OUAIrBxaZIM5QMM8Uf9GeDlAm1Jx9uHjOECsY4IH82w4QKcNdNpAzzhAYVeA3GuuNkDIdr6fGn87QJE0peLsmztAv58aL91MO0DTlIqzD687QNyyVscEpztAQ9KUirN/O0B1TPBgniAzQNfqmODBJDpAl7U6JngQOEAAAAAAAAAAAAAAAAAAAAAAAAAAAAAAAAAAAAAAAAAAAAAAAAAAAAAAAAAAAAAAAAAAAAAAAAAAAAAAAAAAAAAAAAAAAAAAAAAAAAAAAAAAAAAAAAAAAAAAAAAAAAAAAAAAAAAAAAAAAAAAAAAAAAAAGEt+seSXJECF61G4HsUfQIFOG+i04ThAe1vW6piAO0BwhDJ6W647QOdC0pSKYztAAAAAAAAAAACwcmiR7Tw7QMUgsHJoqTtA9+Ez7ApIO0CMJb9Y8vs6QIGVQ4ts/zpASOF6FK7/OkCEMnpb1lo7QNfqmODBZDtAhDJ6W9bqO0C0yHa+n+I7QFnyiyW/4DtAWatjggczO0BAfIZdASI7QBVnHz7DDjtANDMzMzNTO0C7SQwCK0c7QNBpA502WDtAx5JfLPn9OkBHb8taHZs7QAwCK4cWgTpABzptoNMmO0DQsCtA7tU7QJ3vp8ZLVztAb1mrY4KfO0B1TPBgnoA7QHyGXQFyFzxAdUzwYJ4YO0Dv7u7u7vY7QA==\",\"dtype\":\"float64\",\"order\":\"little\",\"shape\":[116]},\"Country\":[\"Saudi Arabia\",\"Saudi Arabia\",\"Saudi Arabia\",\"Saudi Arabia\",\"Saudi Arabia\",\"Saudi Arabia\",\"Saudi Arabia\",\"Saudi Arabia\",\"Saudi Arabia\",\"Saudi Arabia\",\"Saudi Arabia\",\"Saudi Arabia\",\"Saudi Arabia\",\"Saudi Arabia\",\"Saudi Arabia\",\"Saudi Arabia\",\"Saudi Arabia\",\"Saudi Arabia\",\"Saudi Arabia\",\"Saudi Arabia\",\"Saudi Arabia\",\"Saudi Arabia\",\"Saudi Arabia\",\"Saudi Arabia\",\"Saudi Arabia\",\"Saudi Arabia\",\"Saudi Arabia\",\"Saudi Arabia\",\"Saudi Arabia\",\"Saudi Arabia\",\"Saudi Arabia\",\"Saudi Arabia\",\"Saudi Arabia\",\"Saudi Arabia\",\"Saudi Arabia\",\"Saudi Arabia\",\"Saudi Arabia\",\"Saudi Arabia\",\"Saudi Arabia\",\"Saudi Arabia\",\"Saudi Arabia\",\"Saudi Arabia\",\"Saudi Arabia\",\"Saudi Arabia\",\"Saudi Arabia\",\"Saudi Arabia\",\"Saudi Arabia\",\"Saudi Arabia\",\"Saudi Arabia\",\"Saudi Arabia\",\"Saudi Arabia\",\"Saudi Arabia\",\"Saudi Arabia\",\"Saudi Arabia\",\"Saudi Arabia\",\"Saudi Arabia\",\"Saudi Arabia\",\"Saudi Arabia\",\"Saudi Arabia\",\"Saudi Arabia\",\"Saudi Arabia\",\"Saudi Arabia\",\"Saudi Arabia\",\"Saudi Arabia\",\"Saudi Arabia\",\"Saudi Arabia\",\"Saudi Arabia\",\"Saudi Arabia\",\"Saudi Arabia\",\"Saudi Arabia\",\"Saudi Arabia\",\"Saudi Arabia\",\"Saudi Arabia\",\"Saudi Arabia\",\"Saudi Arabia\",\"Saudi Arabia\",\"Saudi Arabia\",\"Saudi Arabia\",\"Saudi Arabia\",\"Saudi Arabia\",\"Saudi Arabia\",\"Saudi Arabia\",\"Saudi Arabia\",\"Saudi Arabia\",\"Saudi Arabia\",\"Saudi Arabia\",\"Saudi Arabia\",\"Saudi Arabia\",\"Saudi Arabia\",\"Saudi Arabia\",\"Saudi Arabia\",\"Saudi Arabia\",\"Saudi Arabia\",\"Saudi Arabia\",\"Saudi Arabia\",\"Saudi Arabia\",\"Saudi Arabia\",\"Saudi Arabia\",\"Saudi Arabia\",\"Saudi Arabia\",\"Saudi Arabia\",\"Saudi Arabia\",\"Saudi Arabia\",\"Saudi Arabia\",\"Saudi Arabia\",\"Saudi Arabia\",\"Saudi Arabia\",\"Saudi Arabia\",\"Saudi Arabia\",\"Saudi Arabia\",\"Saudi Arabia\",\"Saudi Arabia\",\"Saudi Arabia\",\"Saudi Arabia\",\"Saudi Arabia\",\"Saudi Arabia\"],\"year\":[1860,1861,1862,1863,1864,1866,1867,1868,1859,1869,1870,1865,1858,1850,1856,1855,1854,1853,1852,1851,1849,1848,1847,1846,1871,1845,1857,1872,1891,1874,1844,1900,1899,1898,1897,1896,1895,1894,1893,1892,1890,1889,1873,1888,1886,1885,1884,1883,1882,1881,1880,1879,1878,1877,1876,1875,1887,1843,1866,1899,1868,1867,1865,1864,1863,1862,1861,1860,1859,1857,1856,1855,1854,1853,1852,1851,1850,1849,1848,1847,1846,1845,1844,1843,1900,1869,1870,1858,1872,1898,1897,1871,1895,1894,1893,1892,1891,1890,1889,1888,1887,1886,1885,1896,1883,1884,1873,1875,1876,1877,1874,1879,1880,1881,1882,1878]},\"selected\":{\"id\":\"2651\"},\"selection_policy\":{\"id\":\"2727\"}},\"id\":\"2650\",\"type\":\"ColumnDataSource\"},{\"attributes\":{\"source\":{\"id\":\"2342\"}},\"id\":\"2349\",\"type\":\"CDSView\"},{\"attributes\":{\"label\":{\"value\":\"Pakistan\"},\"renderers\":[{\"id\":\"2348\"}]},\"id\":\"2414\",\"type\":\"LegendItem\"},{\"attributes\":{},\"id\":\"2411\",\"type\":\"UnionRenderers\"},{\"attributes\":{},\"id\":\"1563\",\"type\":\"Selection\"},{\"attributes\":{\"line_color\":\"#fc4f30\",\"line_width\":2,\"x\":{\"field\":\"year\"},\"y\":{\"field\":\"AverageTemperature\"}},\"id\":\"1561\",\"type\":\"Line\"},{\"attributes\":{\"line_color\":\"#e5ae38\",\"line_width\":2,\"x\":{\"field\":\"year\"},\"y\":{\"field\":\"AverageTemperature\"}},\"id\":\"1565\",\"type\":\"Line\"},{\"attributes\":{\"source\":{\"id\":\"1562\"}},\"id\":\"1569\",\"type\":\"CDSView\"},{\"attributes\":{\"line_color\":\"#8b8b8b\",\"line_width\":2,\"x\":{\"field\":\"year\"},\"y\":{\"field\":\"AverageTemperature\"}},\"id\":\"1663\",\"type\":\"Line\"},{\"attributes\":{\"line_alpha\":0.1,\"line_color\":\"#e5ae38\",\"line_width\":2,\"x\":{\"field\":\"year\"},\"y\":{\"field\":\"AverageTemperature\"}},\"id\":\"1566\",\"type\":\"Line\"},{\"attributes\":{\"source\":{\"id\":\"1610\"}},\"id\":\"1617\",\"type\":\"CDSView\"},{\"attributes\":{\"coordinates\":null,\"data_source\":{\"id\":\"1562\"},\"glyph\":{\"id\":\"1565\"},\"group\":null,\"hover_glyph\":null,\"muted_glyph\":{\"id\":\"1567\"},\"nonselection_glyph\":{\"id\":\"1566\"},\"selection_glyph\":{\"id\":\"1609\"},\"view\":{\"id\":\"1569\"}},\"id\":\"1568\",\"type\":\"GlyphRenderer\"},{\"attributes\":{\"line_alpha\":0.2,\"line_color\":\"#e5ae38\",\"line_width\":2,\"x\":{\"field\":\"year\"},\"y\":{\"field\":\"AverageTemperature\"}},\"id\":\"1567\",\"type\":\"Line\"},{\"attributes\":{\"coordinates\":null,\"data_source\":{\"id\":\"1610\"},\"glyph\":{\"id\":\"1613\"},\"group\":null,\"hover_glyph\":null,\"muted_glyph\":{\"id\":\"1615\"},\"nonselection_glyph\":{\"id\":\"1614\"},\"selection_glyph\":{\"id\":\"1659\"},\"view\":{\"id\":\"1617\"}},\"id\":\"1616\",\"type\":\"GlyphRenderer\"},{\"attributes\":{\"line_alpha\":0.1,\"line_color\":\"#8b8b8b\",\"line_width\":2,\"x\":{\"field\":\"year\"},\"y\":{\"field\":\"AverageTemperature\"}},\"id\":\"2420\",\"type\":\"Line\"},{\"attributes\":{\"label\":{\"value\":\"France\"},\"renderers\":[{\"id\":\"1568\"}]},\"id\":\"1608\",\"type\":\"LegendItem\"},{\"attributes\":{},\"id\":\"1605\",\"type\":\"UnionRenderers\"},{\"attributes\":{\"line_color\":\"#6d904f\",\"line_width\":2,\"x\":{\"field\":\"year\"},\"y\":{\"field\":\"AverageTemperature\"}},\"id\":\"2415\",\"type\":\"Line\"},{\"attributes\":{\"coordinates\":null,\"data_source\":{\"id\":\"2416\"},\"glyph\":{\"id\":\"2419\"},\"group\":null,\"hover_glyph\":null,\"muted_glyph\":{\"id\":\"2421\"},\"nonselection_glyph\":{\"id\":\"2420\"},\"selection_glyph\":{\"id\":\"2491\"},\"view\":{\"id\":\"2423\"}},\"id\":\"2422\",\"type\":\"GlyphRenderer\"},{\"attributes\":{\"data\":{\"AverageTemperature\":{\"__ndarray__\":\"DXTaQKfFOUCvALnXXHA5QFtkO99P7TlA+/AZdgUIOkBVVVVVVeU5QPt+arx02zlA698IZfSeOkA7JngwT3Q6QEdvy1oduzlAFWcfPsP2OUCp8dJNYmg6QHDLWh0TJDpApw102kBvOUC9LWt1TFA6QBl2Bci9PjpALWt1TPDwOUAneDBP1L85QG3n+6nxujlAxGfYFSDfOUBgLPnFkt85QKDTBjptCDpA/Knx0k2KOkAXIPeaCzE6QFiA3Gsu7DlA3LJWxwQvOkDb+X5qvDQ6QJx9+Ay7mjlAf2q8dJP4OUBgLPnFkkc6QBcg95oLQTpAY8kvlvwiOkAQ5on6N2I3QIFOG+i0aTpAU7gehevhOUBUKs4+fK45QAvXo3A96jlAZ2ZmZmYWOkCzVscEDwY6QCSU0duyNjpA/WLJL5ZUOkBYObTIdg46QIXrUbgepTlABci95kLqOUDME/VvhPI5QH2GXQFyXzpAQO41F5LOOUD/jVBGb2s6QPCnxks3KThA4Ahl9LYUOECRNKXi7Bs6QLByaJHt5DlA2FxImlJZOUAhaUrF2dc5QG3n+6nxAjpAa3VM8GAWOkC0yHa+n7o5QA==\",\"dtype\":\"float64\",\"order\":\"little\",\"shape\":[56]},\"Country\":[\"Philippines\",\"Philippines\",\"Philippines\",\"Philippines\",\"Philippines\",\"Philippines\",\"Philippines\",\"Philippines\",\"Philippines\",\"Philippines\",\"Philippines\",\"Philippines\",\"Philippines\",\"Philippines\",\"Philippines\",\"Philippines\",\"Philippines\",\"Philippines\",\"Philippines\",\"Philippines\",\"Philippines\",\"Philippines\",\"Philippines\",\"Philippines\",\"Philippines\",\"Philippines\",\"Philippines\",\"Philippines\",\"Philippines\",\"Philippines\",\"Philippines\",\"Philippines\",\"Philippines\",\"Philippines\",\"Philippines\",\"Philippines\",\"Philippines\",\"Philippines\",\"Philippines\",\"Philippines\",\"Philippines\",\"Philippines\",\"Philippines\",\"Philippines\",\"Philippines\",\"Philippines\",\"Philippines\",\"Philippines\",\"Philippines\",\"Philippines\",\"Philippines\",\"Philippines\",\"Philippines\",\"Philippines\",\"Philippines\",\"Philippines\"],\"year\":[1885,1884,1883,1882,1881,1880,1878,1877,1876,1875,1874,1879,1886,1888,1889,1890,1892,1893,1894,1895,1896,1897,1898,1899,1873,1900,1887,1891,1872,1870,1871,1845,1846,1847,1848,1850,1851,1852,1853,1854,1855,1856,1849,1858,1869,1857,1868,1867,1865,1866,1863,1862,1861,1860,1859,1864]},\"selected\":{\"id\":\"2493\"},\"selection_policy\":{\"id\":\"2565\"}},\"id\":\"2492\",\"type\":\"ColumnDataSource\"},{\"attributes\":{\"line_alpha\":0.2,\"line_color\":\"#8b8b8b\",\"line_width\":2,\"x\":{\"field\":\"year\"},\"y\":{\"field\":\"AverageTemperature\"}},\"id\":\"2421\",\"type\":\"Line\"},{\"attributes\":{\"label\":{\"value\":\"Peru\"},\"renderers\":[{\"id\":\"2422\"}]},\"id\":\"2490\",\"type\":\"LegendItem\"},{\"attributes\":{},\"id\":\"2487\",\"type\":\"UnionRenderers\"},{\"attributes\":{\"data\":{\"AverageTemperature\":{\"__ndarray__\":\"AAAAAAAAAAC8u7u7u0M6QAAAAAAAAAAAAAAAAAAAAAAAAAAAAAAAAJB7zYWkKTpABci95kJiOkDBg3mi/kU6QNCwK0DuLThAiBbZzvdrOkAAAAAAAAAAAAAAAAAAAAAAAAAAAAAAAAAAAAAAAAAAAAAAAAAAAAAAvuZC0pSSM0AAAAAAAAAAAAAAAAAAAAAAAAAAAAAAAAAAAAAAAAAAAAAAAAAAAAAAAAAAAAAAAAAAAAAAAAAAAAAAAAAAAAAAAAAAAAAAAAAAAAAAAAAAAAAAAAAAAAAAAAAAAAAAAAAAAAAAAAAAAAAAAAAAAAAAAAAAAAAAAACiRbbz/XwzQHnpJjEITCFAbef7qfHyEEAAAAAAAAAAAAAAAAAAAAAAAAAAAAAAAACzne+nxls6QAAAAAAAAAAAH8wT9W8EOkCXtTomeHA6QNS/EcroxTpA4ME8Uf8uOkDNzMzMzEQ6QNW/EcroHTpAzRP1b4T6OUANAiuHFhk6QFFGb8taVTpA6LSBThtAOkBzaJHtfOc6QPyp8dJNcjpAGJKmVJw1OkBnZmZmZr46QAAAAAAAAAAA5dAi2/leOkDF2YfPsPs5QORecyFpkjpAXUiaUnFmOkC3rNUxwVM6QMM8Uf9GWDpAH4XrUbiGOkD4mgtJU4I6QPBgnqh/MzpAhTJ6W9YiOkBPG+i0gTY6QAAAAAAAAAAAuwLkXnNROkDBg3mi/h06QKdUnH34RDpAN9BpA52OOkCfYVeA3As7QI8JHswTPTpAuddcSJoaOkCsY4IH83Q6QPVvhDJ6QzpA1XjpJjGwOkAAAAAAAAAAAAPkXnMhCTpAAAAAAAAAAAAAAAAAAAAAAAAAAAAAAAAAAAAAAAAAAAAAAAAAAAAAADyYJ+rf6DlABFYOLbINOkBM8GCeqO85QPvwGXYFkDNAmZmZmZnJN0BANV66SRQ6QG1Zq2OCDzpAAAAAAAAAAAAAAAAAAAAAAAAAAAAAAAAAAAAAAAAAAAAAAAAAAAAAAAAAAAAAAAAAWqtjggcTIUCTXyz5xWI6QP/UeOkmYTpAAAAAAAAAAAAAAAAAAAAAAAAAAAAAAAAAAAAAAAAAAAAAAAAAAAAAAAAAAAAAAAAAAAAAAAAAAAAAAAAAAAAAAAAAAAAAAAAAAAAAAAAAAAAAAAAAAAAAAAAAAAAAAAAAWmQ73081M0Dn+6nx0s0QQAAAAAAAAAAAAAAAAAAAAAAAAAAAAAAAAN0kBoGV8zlAJ3gwT9TPOUDtfD81Xvo5QHH24TPsIjpADAIrhxapOUCfqH8jlBk6QJe1OiZ4cDpAn2FXgNzTOUB5ov6NUM45QNfqmODBBDpAX7pJDALDOUCHFtnO99s5QGt1TPBgBjpAQWDl0CJbOkAAAAAAAAAAAIuzD59hJzpAjGzn+6khOkAcoYzelj06QCUGgZVDezpAXUiaUnHeOUA/w64Aubc5QAAAAAAAAAAAuGWtjgn2OUBEi2zn++E5QLC5kDSlMjpAp1ScffgMOkAwT9S/Ebo5QBhLfrHktzlAAAAAAAAAAABD0pSKs+85QJgn6t8IzTlAf2q8dJPQOUDF2YfPsOs5QMkvlvxiMTpAtTomeDCvOkDxGXYFyNU5QA==\",\"dtype\":\"float64\",\"order\":\"little\",\"shape\":[152]},\"Country\":[\"Indonesia\",\"Indonesia\",\"Indonesia\",\"Indonesia\",\"Indonesia\",\"Indonesia\",\"Indonesia\",\"Indonesia\",\"Indonesia\",\"Indonesia\",\"Indonesia\",\"Indonesia\",\"Indonesia\",\"Indonesia\",\"Indonesia\",\"Indonesia\",\"Indonesia\",\"Indonesia\",\"Indonesia\",\"Indonesia\",\"Indonesia\",\"Indonesia\",\"Indonesia\",\"Indonesia\",\"Indonesia\",\"Indonesia\",\"Indonesia\",\"Indonesia\",\"Indonesia\",\"Indonesia\",\"Indonesia\",\"Indonesia\",\"Indonesia\",\"Indonesia\",\"Indonesia\",\"Indonesia\",\"Indonesia\",\"Indonesia\",\"Indonesia\",\"Indonesia\",\"Indonesia\",\"Indonesia\",\"Indonesia\",\"Indonesia\",\"Indonesia\",\"Indonesia\",\"Indonesia\",\"Indonesia\",\"Indonesia\",\"Indonesia\",\"Indonesia\",\"Indonesia\",\"Indonesia\",\"Indonesia\",\"Indonesia\",\"Indonesia\",\"Indonesia\",\"Indonesia\",\"Indonesia\",\"Indonesia\",\"Indonesia\",\"Indonesia\",\"Indonesia\",\"Indonesia\",\"Indonesia\",\"Indonesia\",\"Indonesia\",\"Indonesia\",\"Indonesia\",\"Indonesia\",\"Indonesia\",\"Indonesia\",\"Indonesia\",\"Indonesia\",\"Indonesia\",\"Indonesia\",\"Indonesia\",\"Indonesia\",\"Indonesia\",\"Indonesia\",\"Indonesia\",\"Indonesia\",\"Indonesia\",\"Indonesia\",\"Indonesia\",\"Indonesia\",\"Indonesia\",\"Indonesia\",\"Indonesia\",\"Indonesia\",\"Indonesia\",\"Indonesia\",\"Indonesia\",\"Indonesia\",\"Indonesia\",\"Indonesia\",\"Indonesia\",\"Indonesia\",\"Indonesia\",\"Indonesia\",\"Indonesia\",\"Indonesia\",\"Indonesia\",\"Indonesia\",\"Indonesia\",\"Indonesia\",\"Indonesia\",\"Indonesia\",\"Indonesia\",\"Indonesia\",\"Indonesia\",\"Indonesia\",\"Indonesia\",\"Indonesia\",\"Indonesia\",\"Indonesia\",\"Indonesia\",\"Indonesia\",\"Indonesia\",\"Indonesia\",\"Indonesia\",\"Indonesia\",\"Indonesia\",\"Indonesia\",\"Indonesia\",\"Indonesia\",\"Indonesia\",\"Indonesia\",\"Indonesia\",\"Indonesia\",\"Indonesia\",\"Indonesia\",\"Indonesia\",\"Indonesia\",\"Indonesia\",\"Indonesia\",\"Indonesia\",\"Indonesia\",\"Indonesia\",\"Indonesia\",\"Indonesia\",\"Indonesia\",\"Indonesia\",\"Indonesia\",\"Indonesia\",\"Indonesia\",\"Indonesia\",\"Indonesia\",\"Indonesia\",\"Indonesia\",\"Indonesia\",\"Indonesia\"],\"year\":[1847,1852,1846,1848,1849,1850,1851,1856,1854,1855,1857,1858,1859,1860,1861,1853,1845,1828,1843,1827,1862,1829,1830,1831,1832,1833,1844,1834,1836,1837,1838,1839,1840,1841,1842,1835,1863,1885,1865,1887,1888,1889,1890,1891,1892,1893,1894,1895,1896,1897,1898,1899,1900,1826,1886,1884,1883,1882,1866,1867,1868,1869,1870,1871,1872,1864,1873,1875,1876,1877,1878,1879,1880,1881,1874,1825,1831,1899,1844,1846,1847,1848,1849,1850,1851,1852,1853,1854,1855,1856,1857,1858,1859,1843,1860,1842,1840,1900,1825,1826,1827,1828,1829,1830,1832,1833,1834,1835,1836,1837,1838,1839,1841,1861,1845,1863,1883,1884,1885,1886,1887,1888,1889,1882,1890,1892,1893,1894,1895,1896,1862,1898,1891,1881,1897,1879,1880,1865,1866,1867,1868,1869,1870,1871,1864,1873,1874,1875,1876,1877,1878,1872]},\"selected\":{\"id\":\"1713\"},\"selection_policy\":{\"id\":\"1761\"}},\"id\":\"1712\",\"type\":\"ColumnDataSource\"},{\"attributes\":{\"line_color\":\"#e5ae38\",\"line_width\":2,\"x\":{\"field\":\"year\"},\"y\":{\"field\":\"AverageTemperature\"}},\"id\":\"1609\",\"type\":\"Line\"},{\"attributes\":{},\"id\":\"1611\",\"type\":\"Selection\"},{\"attributes\":{},\"id\":\"1661\",\"type\":\"Selection\"},{\"attributes\":{\"label\":{\"value\":\"Germany\"},\"renderers\":[{\"id\":\"1616\"}]},\"id\":\"1658\",\"type\":\"LegendItem\"},{\"attributes\":{\"line_color\":\"#6d904f\",\"line_width\":2,\"x\":{\"field\":\"year\"},\"y\":{\"field\":\"AverageTemperature\"}},\"id\":\"1613\",\"type\":\"Line\"},{\"attributes\":{\"data\":{\"AverageTemperature\":{\"__ndarray__\":\"GEt+seRnIEAJHswT9a8fQKrx0k1isCNAWfKLJb94IEAEVg4tsn0hQE3wYJ6oDyBADElTKs7+IEBM8GCeqP8fQIuzD59hNx5AuddcSJpiIUC0VscED0YcQIFOG+i0ASFAeaL+jVDGIkCZ4ME8Ud8fQBERERERMSNAEoPAyqEVI0DD9Shcj2IfQGJXgNxrniFA2/l+arwEIUAvJE2pOLshQIXrUbgepSJA2RUg95r7IUD6fmq8dOMhQJ2ofyOUERpAdUzwYJ4oIEC4Za2OCd4hQIDcay4krSBAe82FpCnFIUB56SYxCMwkQFH/RiijNyNA7zUXkqbEIUADK4cW2T4gQBUg95oL6RtA30+Nl25CIUABuddcSPoeQEGnDXTaICJAHRM8mCdaIkCdffgMu9IhQPkMuwLk/h5AN4lBYOXwG0D3mgtJUxohQBCfYVeAvB9A1L8RyuhtHkBgLPnFkq8gQOdC0pSKsyBAwcqhRbbzIECkKRVnH44gQKUpFWcf7iBAi2zn+6kBIUAoo7dlrY4gQDEIrBxaJCFADElTKs5eIUD/Riijt9UiQP+NUEZv6yFAppvEILBSIkAqFWcfPoMgQM/3U+Ol6yFAL5b8YsmfI0BfcyFpSmUiQOF6FK5HkSJAi2zn+6nBIUA4iUFg5eAiQLLkF0t+0SBAOEIZvS17JEAJHswT9R8iQFCNl24SQx5AZfS2rNVRHEACcq+5kBQhQG8Sg8DK8SNAUf9GKKMnIkD4U+OlmxQgQOi0gU4bSCFAi7MPn2HnIUDlF0t+scQiQMDKoUW20x1A/41QRm8rIkBsLiRNqYgiQKuqqqqqGiRAJE2pOPuwIkD91HjpJnEfQK2OCR7M0yFAOyZ4ME8UIUBn2BUg97ohQP0boYzeRiBA5dAi2/kOIEBRRm/LWu0gQB+F61G4/iBARyijt2U9IUA3iUFg5dAdQBvotIFOCyNAhTJ6W9bqIECx5BdLfjEkQGHl0CLbuSBAl/xiyS+WIECvR+F6FN4iQG8Sg8DK8SRAokW28/1EIkA9CtejcA0hQNtApw10+iFAa7x0kxgUIkAhsHJokU0iQOj7qfHSTQlAe1vW6pigG0A730+Nl27ePwAAAAAAAAAAAAAAAAAAAAAAAAAAAAAAAAAAAAAAAAAAV4Dcay4EIkCT7Xw/Nf4ZQPVvhDJ6WwNAYVeA3GtuIUA2F5KmVPwgQAll9LashSBAEzyYJ+o/I0Apo7dlrU4iQKHTBjptgCBAw64AudeMIUAYS36x5PcjQDVeukkM8iJAR2/LWh2DI0B3d3d3d7cgQOi0gU4byBxAVVVVVVVVI0D4U+Olm9QiQO/u7u7uTiBAiUFg5dBSIUD3mgtJU9ojQAaBlUOLDCBAA+RecyFpHUCbUnH24dMdQHkwT9S/wSBA4TPsCpD7HkDAEcrobdkhQB+F61G4/iFAkHvNhaQ5IUBqA5020NkiQFTjpZvEUCFAfT81XropIkDrUbgehesgQH0/NV66OSNAgCOU0duyHkD34TPsCrAdQDsmeDBPtB5AFPVvhDKKIkC+5kLSlKogQMGDeaL+LSJAZTvfT40XI0CfYVeA3MshQJqZmZmZ+SFAQWDl0CILJEDrUbgehbshQPp+arx0AyJAV4Dcay4kJED1b4QyeqsiQHe+nxovXSJAY8kvlvwyIUB7ov6NUOYaQA==\",\"dtype\":\"float64\",\"order\":\"little\",\"shape\":[158]},\"Country\":[\"Germany\",\"Germany\",\"Germany\",\"Germany\",\"Germany\",\"Germany\",\"Germany\",\"Germany\",\"Germany\",\"Germany\",\"Germany\",\"Germany\",\"Germany\",\"Germany\",\"Germany\",\"Germany\",\"Germany\",\"Germany\",\"Germany\",\"Germany\",\"Germany\",\"Germany\",\"Germany\",\"Germany\",\"Germany\",\"Germany\",\"Germany\",\"Germany\",\"Germany\",\"Germany\",\"Germany\",\"Germany\",\"Germany\",\"Germany\",\"Germany\",\"Germany\",\"Germany\",\"Germany\",\"Germany\",\"Germany\",\"Germany\",\"Germany\",\"Germany\",\"Germany\",\"Germany\",\"Germany\",\"Germany\",\"Germany\",\"Germany\",\"Germany\",\"Germany\",\"Germany\",\"Germany\",\"Germany\",\"Germany\",\"Germany\",\"Germany\",\"Germany\",\"Germany\",\"Germany\",\"Germany\",\"Germany\",\"Germany\",\"Germany\",\"Germany\",\"Germany\",\"Germany\",\"Germany\",\"Germany\",\"Germany\",\"Germany\",\"Germany\",\"Germany\",\"Germany\",\"Germany\",\"Germany\",\"Germany\",\"Germany\",\"Germany\",\"Germany\",\"Germany\",\"Germany\",\"Germany\",\"Germany\",\"Germany\",\"Germany\",\"Germany\",\"Germany\",\"Germany\",\"Germany\",\"Germany\",\"Germany\",\"Germany\",\"Germany\",\"Germany\",\"Germany\",\"Germany\",\"Germany\",\"Germany\",\"Germany\",\"Germany\",\"Germany\",\"Germany\",\"Germany\",\"Germany\",\"Germany\",\"Germany\",\"Germany\",\"Germany\",\"Germany\",\"Germany\",\"Germany\",\"Germany\",\"Germany\",\"Germany\",\"Germany\",\"Germany\",\"Germany\",\"Germany\",\"Germany\",\"Germany\",\"Germany\",\"Germany\",\"Germany\",\"Germany\",\"Germany\",\"Germany\",\"Germany\",\"Germany\",\"Germany\",\"Germany\",\"Germany\",\"Germany\",\"Germany\",\"Germany\",\"Germany\",\"Germany\",\"Germany\",\"Germany\",\"Germany\",\"Germany\",\"Germany\",\"Germany\",\"Germany\",\"Germany\",\"Germany\",\"Germany\",\"Germany\",\"Germany\",\"Germany\",\"Germany\",\"Germany\",\"Germany\",\"Germany\",\"Germany\",\"Germany\",\"Germany\",\"Germany\"],\"year\":[1850,1845,1846,1847,1848,1849,1851,1860,1853,1854,1855,1856,1857,1858,1859,1852,1844,1835,1842,1861,1825,1827,1828,1829,1830,1831,1832,1833,1834,1824,1836,1837,1838,1839,1840,1841,1843,1862,1881,1864,1886,1887,1888,1889,1890,1891,1892,1885,1893,1895,1896,1897,1898,1899,1900,1823,1894,1863,1884,1882,1865,1866,1867,1868,1869,1870,1871,1883,1872,1874,1875,1876,1877,1878,1879,1880,1873,1822,1826,1820,1764,1765,1766,1767,1768,1769,1770,1763,1771,1773,1774,1775,1776,1777,1778,1779,1772,1762,1760,1759,1821,1743,1744,1745,1746,1747,1748,1749,1750,1751,1752,1753,1754,1755,1756,1757,1758,1780,1781,1761,1783,1804,1805,1806,1807,1808,1809,1811,1803,1812,1814,1815,1816,1817,1818,1782,1819,1813,1802,1810,1801,1784,1785,1786,1787,1788,1790,1791,1792,1789,1794,1795,1796,1797,1798,1793,1800,1799]},\"selected\":{\"id\":\"1611\"},\"selection_policy\":{\"id\":\"1655\"}},\"id\":\"1610\",\"type\":\"ColumnDataSource\"},{\"attributes\":{\"line_alpha\":0.1,\"line_color\":\"#6d904f\",\"line_width\":2,\"x\":{\"field\":\"year\"},\"y\":{\"field\":\"AverageTemperature\"}},\"id\":\"1614\",\"type\":\"Line\"},{\"attributes\":{\"line_alpha\":0.2,\"line_color\":\"#6d904f\",\"line_width\":2,\"x\":{\"field\":\"year\"},\"y\":{\"field\":\"AverageTemperature\"}},\"id\":\"1615\",\"type\":\"Line\"},{\"attributes\":{},\"id\":\"3975\",\"type\":\"UnionRenderers\"},{\"attributes\":{\"coordinates\":null,\"data_source\":{\"id\":\"1282\"},\"glyph\":{\"id\":\"1285\"},\"group\":null,\"hover_glyph\":null,\"muted_glyph\":{\"id\":\"1287\"},\"nonselection_glyph\":{\"id\":\"1286\"},\"selection_glyph\":{\"id\":\"1315\"},\"view\":{\"id\":\"1289\"}},\"id\":\"1288\",\"type\":\"GlyphRenderer\"},{\"attributes\":{\"line_color\":\"#9467bd\",\"line_width\":2,\"x\":{\"field\":\"year\"},\"y\":{\"field\":\"AverageTemperature\"}},\"id\":\"1281\",\"type\":\"Line\"},{\"attributes\":{\"source\":{\"id\":\"1316\"}},\"id\":\"1323\",\"type\":\"CDSView\"},{\"attributes\":{},\"id\":\"1283\",\"type\":\"Selection\"},{\"attributes\":{\"line_alpha\":0.1,\"line_color\":\"#d62728\",\"line_width\":2,\"x\":{\"field\":\"year\"},\"y\":{\"field\":\"AverageTemperature\"}},\"id\":\"1286\",\"type\":\"Line\"},{\"attributes\":{\"line_color\":\"#9467bd\",\"line_width\":2,\"x\":{\"field\":\"year\"},\"y\":{\"field\":\"AverageTemperature\"}},\"id\":\"1821\",\"type\":\"Line\"},{\"attributes\":{\"line_color\":\"#d62728\",\"line_width\":2,\"x\":{\"field\":\"year\"},\"y\":{\"field\":\"AverageTemperature\"}},\"id\":\"1285\",\"type\":\"Line\"},{\"attributes\":{\"data\":{\"AverageTemperature\":{\"__ndarray__\":\"eDBP1L9xJ0AxCKwcWpQnQOhC0pSKcydAX3MhaUrlKEDnifo3QiknQDBP1L8RyihAFyD3mgvpKEB1kxgEVk4oQFzW6pjgEShACPNE/RuBKEDEZ9gVIOcnQOHBPFH/dihAEFg5tMhGKEC4Za2OCR4oQFtkO99PHSlANxeSplR8KEDEZ9gVILcnQL+fGi/ddCdA2c73U+OFJ0DLoUW2820nQNnO91PjRShAC9ejcD1qKEDJdr6fGs8oQMSuALnXfCVAOfvwGXblJ0DnQtKUiuMnQNgVIPeaOyhAbC4kTanYKECXtTomeBAnQHe+nxovzSxAe6L+jVA2KEDdJAaBlaMoQLy7u7u7+yhAR2/LWh1zJ0BkyS+W/HIoQEW28/3U2ClA4zPsCpBrJ0DD9ShcjzIoQEPSlIqz/ypAtA+fYVdQJ0Dr3whl9AYoQAErhxbZ/idAodMGOm2AKECXtTomeBAnQEA1XrpJXCZAzczMzMysJ0DfT42XbpIoQAvXo3A9SihA8Rl2BcjdKECVirMPn6EpQLmQNKXifChA9P3UeOl2KUDNhaQpFccoQLErQO41VyhAID7DrgCpKEAbL90kBuEoQNuHz7ArEC1AXB0TPJinKECX/GLJL4YsQD1R/0YosytA3LJWxwQfLUAwT9S/ESosQJ9hV4DcGy1A/Knx0k2yK0DMzMzMzAwsQPeaC0lT2itA6LSBThvILEAw3SQGgdUsQDVeukkMcixAgU4b6LSBLUDErgC51/wsQFNx9uEzbC1A+JoLSVM6LEB7FK5H4dorQDWl4uzD5ytArwC511y4LECLbOf7qcEsQNS/Ecro/SxAN9BpA50WLUB5ov6NUGYsQFH/RiijBy5ANaXi7MPnEUAAAAAAAAAAAAAAAAAAAAAAtIFOG+i0CEAxCKwcWtQrQMwT9W+EAi1Al/xiyS+WLEDQ91PjpessQOAIZfS2vCxAAbnXXEjKLECx5BdLfpEuQE/UvxHKSCxAuKzVMcGTLECTplScfUgtQFFGb8taTS9AVw4tsp3vK0C511xImvIsQPOLJb9YoixA6Pup8dKtLEBnHz7DrsArQJB7zYWk+SpAjCW/WPLrLEApXI/C9agsQGwuJE2piCxAqA102kDnLEBLxdmHz5ArQAc6baDTFi1AVZx9+AybLEDIveZC0gQtQN1rLiRNiSxAIWlKxdn3LECV0duyVuctQBUg95oLCS1AhxbZzvejLECfqH8jlKEtQA==\",\"dtype\":\"float64\",\"order\":\"little\",\"shape\":[116]},\"Country\":[\"Japan\",\"Japan\",\"Japan\",\"Japan\",\"Japan\",\"Japan\",\"Japan\",\"Japan\",\"Japan\",\"Japan\",\"Japan\",\"Japan\",\"Japan\",\"Japan\",\"Japan\",\"Japan\",\"Japan\",\"Japan\",\"Japan\",\"Japan\",\"Japan\",\"Japan\",\"Japan\",\"Japan\",\"Japan\",\"Japan\",\"Japan\",\"Japan\",\"Japan\",\"Japan\",\"Japan\",\"Japan\",\"Japan\",\"Japan\",\"Japan\",\"Japan\",\"Japan\",\"Japan\",\"Japan\",\"Japan\",\"Japan\",\"Japan\",\"Japan\",\"Japan\",\"Japan\",\"Japan\",\"Japan\",\"Japan\",\"Japan\",\"Japan\",\"Japan\",\"Japan\",\"Japan\",\"Japan\",\"Japan\",\"Japan\",\"Japan\",\"Japan\",\"Japan\",\"Japan\",\"Japan\",\"Japan\",\"Japan\",\"Japan\",\"Japan\",\"Japan\",\"Japan\",\"Japan\",\"Japan\",\"Japan\",\"Japan\",\"Japan\",\"Japan\",\"Japan\",\"Japan\",\"Japan\",\"Japan\",\"Japan\",\"Japan\",\"Japan\",\"Japan\",\"Japan\",\"Japan\",\"Japan\",\"Japan\",\"Japan\",\"Japan\",\"Japan\",\"Japan\",\"Japan\",\"Japan\",\"Japan\",\"Japan\",\"Japan\",\"Japan\",\"Japan\",\"Japan\",\"Japan\",\"Japan\",\"Japan\",\"Japan\",\"Japan\",\"Japan\",\"Japan\",\"Japan\",\"Japan\",\"Japan\",\"Japan\",\"Japan\",\"Japan\",\"Japan\",\"Japan\",\"Japan\",\"Japan\",\"Japan\",\"Japan\"],\"year\":[1860,1861,1862,1863,1866,1865,1867,1859,1869,1868,1864,1858,1849,1856,1855,1854,1853,1852,1851,1850,1848,1847,1846,1870,1845,1857,1871,1891,1873,1900,1900,1899,1898,1897,1895,1894,1893,1892,1890,1889,1888,1872,1887,1885,1884,1883,1882,1881,1880,1879,1878,1877,1876,1875,1874,1886,1899,1896,1897,1866,1865,1864,1863,1862,1861,1860,1859,1858,1857,1855,1854,1867,1853,1851,1850,1849,1848,1847,1846,1845,1898,1844,1843,1842,1841,1852,1868,1856,1870,1896,1869,1894,1893,1892,1891,1890,1889,1888,1887,1886,1885,1884,1895,1882,1883,1871,1873,1874,1875,1876,1872,1878,1879,1880,1881,1877]},\"selected\":{\"id\":\"1941\"},\"selection_policy\":{\"id\":\"1997\"}},\"id\":\"1940\",\"type\":\"ColumnDataSource\"},{\"attributes\":{\"data\":{\"AverageTemperature\":{\"__ndarray__\":\"yS+W/GJ5OUAbL90kBmERQJVDi2znkzFAlYqzD58hOkCdNtBpA/U5QJNfLPnFEjpA/Knx0k1iOUDEILByaOk4QGMQWDm02DlAEzyYJ+qvOUAP5on6N/I4QCjq3whlpDlA7FG4HoXbOECRNKXi7Bs5QIlBYOXQKjlA4Ahl9LZUOUDtfD81Xgo5QNyyVscEXzlAX3MhaUpVOUBwPQrXo3g5QCSU0duydjpAdZMYBFYeOkC1gU4b6CQ5QLtJDAIrHzlAfIZdAXI/OUAneDBP1N85QE5iEFg5FDFAq6qqqqqKN0CA3GsuJJU5QOkmMQishDlAAAAAAAAAAAAAAAAAAAAAAAAAAAAAAAAAAAAAAAAAAADgwTxR/0YqQPOLJb9YEjdA+FPjpZt8OUC4rNUxwes5QFH/RiijVzdAZa2OCR6sOUDziyW/WPo0QAAAAAAAAAAAAAAAAAAAAAAAAAAAAAAAAAAAAAAAAAAAAAAAAAAAAAAAAAAAAAAAAAAAAAAAAAAAAAAAAAAAAAAAAAAAAAAAAO81F5KmZDVAAAAAAAAAAAA=\",\"dtype\":\"float64\",\"order\":\"little\",\"shape\":[52]},\"Country\":[\"C\\u00f4te d'Ivoire\",\"C\\u00f4te d'Ivoire\",\"C\\u00f4te d'Ivoire\",\"C\\u00f4te d'Ivoire\",\"C\\u00f4te d'Ivoire\",\"C\\u00f4te d'Ivoire\",\"C\\u00f4te d'Ivoire\",\"C\\u00f4te d'Ivoire\",\"C\\u00f4te d'Ivoire\",\"C\\u00f4te d'Ivoire\",\"C\\u00f4te d'Ivoire\",\"C\\u00f4te d'Ivoire\",\"C\\u00f4te d'Ivoire\",\"C\\u00f4te d'Ivoire\",\"C\\u00f4te d'Ivoire\",\"C\\u00f4te d'Ivoire\",\"C\\u00f4te d'Ivoire\",\"C\\u00f4te d'Ivoire\",\"C\\u00f4te d'Ivoire\",\"C\\u00f4te d'Ivoire\",\"C\\u00f4te d'Ivoire\",\"C\\u00f4te d'Ivoire\",\"C\\u00f4te d'Ivoire\",\"C\\u00f4te d'Ivoire\",\"C\\u00f4te d'Ivoire\",\"C\\u00f4te d'Ivoire\",\"C\\u00f4te d'Ivoire\",\"C\\u00f4te d'Ivoire\",\"C\\u00f4te d'Ivoire\",\"C\\u00f4te d'Ivoire\",\"C\\u00f4te d'Ivoire\",\"C\\u00f4te d'Ivoire\",\"C\\u00f4te d'Ivoire\",\"C\\u00f4te d'Ivoire\",\"C\\u00f4te d'Ivoire\",\"C\\u00f4te d'Ivoire\",\"C\\u00f4te d'Ivoire\",\"C\\u00f4te d'Ivoire\",\"C\\u00f4te d'Ivoire\",\"C\\u00f4te d'Ivoire\",\"C\\u00f4te d'Ivoire\",\"C\\u00f4te d'Ivoire\",\"C\\u00f4te d'Ivoire\",\"C\\u00f4te d'Ivoire\",\"C\\u00f4te d'Ivoire\",\"C\\u00f4te d'Ivoire\",\"C\\u00f4te d'Ivoire\",\"C\\u00f4te d'Ivoire\",\"C\\u00f4te d'Ivoire\",\"C\\u00f4te d'Ivoire\",\"C\\u00f4te d'Ivoire\",\"C\\u00f4te d'Ivoire\"],\"year\":[1886,1885,1884,1883,1880,1881,1879,1887,1877,1882,1888,1897,1890,1891,1892,1893,1894,1895,1896,1898,1899,1900,1876,1889,1875,1878,1873,1874,1849,1850,1852,1853,1854,1855,1856,1857,1858,1859,1860,1851,1862,1863,1864,1865,1866,1867,1868,1869,1870,1871,1861,1872]},\"selected\":{\"id\":\"1353\"},\"selection_policy\":{\"id\":\"1385\"}},\"id\":\"1352\",\"type\":\"ColumnDataSource\"},{\"attributes\":{\"line_alpha\":0.2,\"line_color\":\"#d62728\",\"line_width\":2,\"x\":{\"field\":\"year\"},\"y\":{\"field\":\"AverageTemperature\"}},\"id\":\"1287\",\"type\":\"Line\"},{\"attributes\":{\"coordinates\":null,\"data_source\":{\"id\":\"1822\"},\"glyph\":{\"id\":\"1825\"},\"group\":null,\"hover_glyph\":null,\"muted_glyph\":{\"id\":\"1827\"},\"nonselection_glyph\":{\"id\":\"1826\"},\"selection_glyph\":{\"id\":\"1879\"},\"view\":{\"id\":\"1829\"}},\"id\":\"1828\",\"type\":\"GlyphRenderer\"},{\"attributes\":{\"label\":{\"value\":\"C\\u00f4te d'Ivoire\"},\"renderers\":[{\"id\":\"1358\"}]},\"id\":\"1388\",\"type\":\"LegendItem\"},{\"attributes\":{\"source\":{\"id\":\"1282\"}},\"id\":\"1289\",\"type\":\"CDSView\"},{\"attributes\":{\"line_color\":\"#1f77b4\",\"line_width\":2,\"x\":{\"field\":\"year\"},\"y\":{\"field\":\"AverageTemperature\"}},\"id\":\"1319\",\"type\":\"Line\"},{\"attributes\":{\"line_alpha\":0.2,\"line_color\":\"#d62728\",\"line_width\":2,\"x\":{\"field\":\"year\"},\"y\":{\"field\":\"AverageTemperature\"}},\"id\":\"1827\",\"type\":\"Line\"},{\"attributes\":{\"line_color\":\"#1f77b4\",\"line_width\":2,\"x\":{\"field\":\"year\"},\"y\":{\"field\":\"AverageTemperature\"}},\"id\":\"1883\",\"type\":\"Line\"},{\"attributes\":{\"label\":{\"value\":\"China\"},\"renderers\":[{\"id\":\"1288\"}]},\"id\":\"1314\",\"type\":\"LegendItem\"},{\"attributes\":{},\"id\":\"1311\",\"type\":\"UnionRenderers\"},{\"attributes\":{},\"id\":\"3981\",\"type\":\"Selection\"},{\"attributes\":{\"line_alpha\":0.1,\"line_color\":\"#d62728\",\"line_width\":2,\"x\":{\"field\":\"year\"},\"y\":{\"field\":\"AverageTemperature\"}},\"id\":\"1826\",\"type\":\"Line\"},{\"attributes\":{\"source\":{\"id\":\"1822\"}},\"id\":\"1829\",\"type\":\"CDSView\"},{\"attributes\":{\"label\":{\"value\":\"Iraq\"},\"renderers\":[{\"id\":\"1828\"}]},\"id\":\"1878\",\"type\":\"LegendItem\"},{\"attributes\":{\"line_color\":\"#1f77b4\",\"line_width\":2,\"x\":{\"field\":\"year\"},\"y\":{\"field\":\"AverageTemperature\"}},\"id\":\"3979\",\"type\":\"Line\"},{\"attributes\":{},\"id\":\"1875\",\"type\":\"UnionRenderers\"},{\"attributes\":{\"line_color\":\"#e377c2\",\"line_width\":2,\"x\":{\"field\":\"year\"},\"y\":{\"field\":\"AverageTemperature\"}},\"id\":\"3983\",\"type\":\"Line\"},{\"attributes\":{\"source\":{\"id\":\"3980\"}},\"id\":\"3987\",\"type\":\"CDSView\"},{\"attributes\":{\"data\":{\"AverageTemperature\":{\"__ndarray__\":\"Za2OCR7kOkCrY4IH8+Q6QKXi7MNnwDpApZvEILDCOkBpSsXZh287QDzfT42XJjtAGJKmVJxlOkCdNtBpA4U6QNUxwYN58jpAOPvwGXbdOkAYBFYOLYo6QPNE/RuhpDpAg8DKoUUOO0B02kCnDdw6QLU6Jngw1zpAEzyYJ+rXOkCNl24Sgwg7QK3VMcGDgTpA5dAi2/nuOkCoDXTaQGc6QN3d3d3dhTpAB4GVQ4s8O0BRuB6F67E6QPs3Qhm9xTpAnH34DLtiO0DTTWIQWPE6QCd4ME/U5zpAaNgVIPeqOkDBg3mi/pU6QGGeqH8jXDpABQ/mifq3OkAJZfS2rB07QFfHBA/mCTtAy1odEzxYOkB5ov6NUKY6QLNWxwQP3jpA6LSBThtgOkDsUbgehas6QAc6baDT3jpAvLu7u7uTOkAezBP1bwQ0QAAAAAAAAAAAAAAAAAAAAAAAAAAAAAAAAAAAAAAAAAAAAAAAAAAAAAAAAAAAAAAAAAAAAAAAAAAAAAAAAAAAAAAAAAAAAAAAAAAAAAAAAAAAAAAAAAAAAAAAAAAAAAAAAKxjggfzHDtAuB6F61HYGEDtw2fYFaA6QIcW2c73AztAAAAAAAAAAADkpZvEIGg6QE3wYJ6orzpA0GkDnTbwOkD0tqzVMeE6QLy7u7u70zpAPJgn6t+IOkAU9W+EMsI6QI8JHswT5TpAJb9Y8ovdOkDJdr6fGhc2QDN6W9bq0DpAPQrXo3ClOkAAAAAAAAAAAAAAAAAAAAAAkHvNhaRpOkCQe82FpPE3QESLbOf7sTpAfIZdAXLvOkA=\",\"dtype\":\"float64\",\"order\":\"little\",\"shape\":[76]},\"Country\":[\"Vietnam\",\"Vietnam\",\"Vietnam\",\"Vietnam\",\"Vietnam\",\"Vietnam\",\"Vietnam\",\"Vietnam\",\"Vietnam\",\"Vietnam\",\"Vietnam\",\"Vietnam\",\"Vietnam\",\"Vietnam\",\"Vietnam\",\"Vietnam\",\"Vietnam\",\"Vietnam\",\"Vietnam\",\"Vietnam\",\"Vietnam\",\"Vietnam\",\"Vietnam\",\"Vietnam\",\"Vietnam\",\"Vietnam\",\"Vietnam\",\"Vietnam\",\"Vietnam\",\"Vietnam\",\"Vietnam\",\"Vietnam\",\"Vietnam\",\"Vietnam\",\"Vietnam\",\"Vietnam\",\"Vietnam\",\"Vietnam\",\"Vietnam\",\"Vietnam\",\"Vietnam\",\"Vietnam\",\"Vietnam\",\"Vietnam\",\"Vietnam\",\"Vietnam\",\"Vietnam\",\"Vietnam\",\"Vietnam\",\"Vietnam\",\"Vietnam\",\"Vietnam\",\"Vietnam\",\"Vietnam\",\"Vietnam\",\"Vietnam\",\"Vietnam\",\"Vietnam\",\"Vietnam\",\"Vietnam\",\"Vietnam\",\"Vietnam\",\"Vietnam\",\"Vietnam\",\"Vietnam\",\"Vietnam\",\"Vietnam\",\"Vietnam\",\"Vietnam\",\"Vietnam\",\"Vietnam\",\"Vietnam\",\"Vietnam\",\"Vietnam\",\"Vietnam\",\"Vietnam\"],\"year\":[1865,1881,1880,1879,1878,1877,1876,1875,1873,1872,1871,1869,1868,1867,1866,1882,1874,1870,1891,1884,1864,1900,1899,1898,1897,1896,1895,1883,1894,1892,1890,1889,1888,1887,1886,1885,1893,1863,1842,1861,1839,1838,1837,1836,1835,1834,1833,1832,1831,1829,1828,1827,1826,1825,1862,1840,1841,1830,1844,1860,1843,1859,1858,1856,1855,1854,1853,1857,1851,1850,1849,1848,1847,1845,1852,1846]},\"selected\":{\"id\":\"4203\"},\"selection_policy\":{\"id\":\"4311\"}},\"id\":\"4202\",\"type\":\"ColumnDataSource\"},{\"attributes\":{\"line_alpha\":0.1,\"line_color\":\"#e377c2\",\"line_width\":2,\"x\":{\"field\":\"year\"},\"y\":{\"field\":\"AverageTemperature\"}},\"id\":\"3984\",\"type\":\"Line\"},{\"attributes\":{\"coordinates\":null,\"data_source\":{\"id\":\"3980\"},\"glyph\":{\"id\":\"3983\"},\"group\":null,\"hover_glyph\":null,\"muted_glyph\":{\"id\":\"3985\"},\"nonselection_glyph\":{\"id\":\"3984\"},\"selection_glyph\":{\"id\":\"4089\"},\"view\":{\"id\":\"3987\"}},\"id\":\"3986\",\"type\":\"GlyphRenderer\"},{\"attributes\":{},\"id\":\"4091\",\"type\":\"Selection\"},{\"attributes\":{\"line_alpha\":0.2,\"line_color\":\"#e377c2\",\"line_width\":2,\"x\":{\"field\":\"year\"},\"y\":{\"field\":\"AverageTemperature\"}},\"id\":\"3985\",\"type\":\"Line\"},{\"attributes\":{\"label\":{\"value\":\"United Kingdom\"},\"renderers\":[{\"id\":\"3986\"}]},\"id\":\"4088\",\"type\":\"LegendItem\"},{\"attributes\":{},\"id\":\"4085\",\"type\":\"UnionRenderers\"},{\"attributes\":{\"line_color\":\"#d62728\",\"line_width\":2,\"x\":{\"field\":\"year\"},\"y\":{\"field\":\"AverageTemperature\"}},\"id\":\"1315\",\"type\":\"Line\"},{\"attributes\":{\"line_color\":\"#d62728\",\"line_width\":2,\"x\":{\"field\":\"year\"},\"y\":{\"field\":\"AverageTemperature\"}},\"id\":\"1879\",\"type\":\"Line\"},{\"attributes\":{},\"id\":\"1317\",\"type\":\"Selection\"},{\"attributes\":{},\"id\":\"1881\",\"type\":\"Selection\"},{\"attributes\":{\"line_alpha\":0.1,\"line_color\":\"#1f77b4\",\"line_width\":2,\"x\":{\"field\":\"year\"},\"y\":{\"field\":\"AverageTemperature\"}},\"id\":\"1320\",\"type\":\"Line\"},{\"attributes\":{\"source\":{\"id\":\"1880\"}},\"id\":\"1887\",\"type\":\"CDSView\"},{\"attributes\":{\"coordinates\":null,\"data_source\":{\"id\":\"1316\"},\"glyph\":{\"id\":\"1319\"},\"group\":null,\"hover_glyph\":null,\"muted_glyph\":{\"id\":\"1321\"},\"nonselection_glyph\":{\"id\":\"1320\"},\"selection_glyph\":{\"id\":\"1351\"},\"view\":{\"id\":\"1323\"}},\"id\":\"1322\",\"type\":\"GlyphRenderer\"},{\"attributes\":{\"data\":{\"AverageTemperature\":{\"__ndarray__\":\"AAAAAAAAAAAAAAAAAAAAAAAAAAAAAAAAAAAAAAAAAAAAAAAAAAAAAAAAAAAAAAAAxZJfLPmlG0CVQ4ts5zs1QP0boYzeZjVABzptoNN2NUCHXQFyr3k1QJVDi2znKzNA5/up8dI9NUAAAAAAAAAAALNWxwQPJjVAz/dT46VDNUAAAAAAAAAAAGlKxdmHvzFAAAAAAAAAAABdAXKvuTA1QClcj8L1CDJAC5B7zYWsM0B3vp8aLy00QAAAAAAAAAAAAAAAAAAAAAAAAAAAAAAAAAAAAAAAAAAAAAAAAAAAAAAAAAAAAAAAAAAAAAAAAAAAAAAAAAAAAAAAAAAAAAAAAAAAAAAAAAAAAAAAAAAAAAAAAAAAAAAAAIR5ov6N8DRA1L8Ryui1NUCdNtBpAzU1QJtScfbhSzVAcT0K16NQNUBZ8oslvwg1QHtb1uqYMDVA2c73U+PFNUC6kDSl4sw0QIDcay4knTVAI9v5fmr0NECF61G4Hi01QKcNdNpAFzVA0GkDnTaANUB3Bci95po1QLes1THBQzVAlNHbslZ/NUCBThvotLk1QCz5xZJf7DVAcIQyelveNEDhehSuR1E1QLErQO415zRAS36x5BebNUCZ4ME8UVc1QI/C9ShcHzVA16NwPQqHNUDQaQOdNoA1QHCEMnpbBjZAdUzwYJ5YNUBmrY4JHjw1QAOdNtBpGzVAKVyPwvWoNUDzRP0boXQ1QEw3iUFgPTVA/WLJL5aMNUCVirMPn/E1QJNfLPnFcjZA2YfPsCuQNUCx5BdLfiE1QOvfCGX0bjVAjlBGb8siNEAAAAAAAAAAANtApw10ajNAAAAAAAAAAAAAAAAAAAAAAAAAAAAAAAAAAAAAAAAAAAAAAAAAAAAAAAAAAAAAAAAAtA+fYVcA+z8haUrF2Z8zQOaJ+jdCaTNALPnFkl98M0BXgNxrLpwzQEoMAiuHrjNA8tJNYhCwM0DnQtKUiiMzQF9zIWlKbTNAAAAAAAAAAAAAAAAAAAAAAAAAAAAAAAAAAAAAAAAAAAAwlvxiybczQJVDi2znQzJARIts5/vxM0DME/VvhIowQMl2vp8ahzJA3t3d3d0FMkDtfD81XkIwQKl/I5TRczNAAAAAAAAAAAAAAAAAAAAAAAAAAAAAAAAAAAAAAAAAAAAAAAAAAAAAAAAAAAAAAAAAAAAAAAAAAAAAAAAAAAAAAAAAAAAAAAAAseQXS35hM0AAAAAAAAAAAAAAAAAAKDNAbxKDwMpJM0A/NV66SSQzQF66SQwCKzNAGb0ta3WEM0DVeOkmMYAzQEjhehSuPzNAQmDl0CJzM0CGpCkVZ8czQAvXo3A9AjRAzoWkKRVnM0AREREREWkzQEVEREREHDNAfM2FpClNM0DVvxHK6K0zQO41F5KmzDNA3t3d3d3dM0A4iUFg5QAzQCRNqTj7SDNAelvW6pjQM0DufD81Xqo0QMrobVmrwzNAYeXQItuBM0CdNtBpA20zQNfqmODBjDNAyL3mQtK8M0CcxCCwcrgzQJTR27JWNzRAPVH/RiiLM0B9PzVeulkzQGQ730+N3zNAXgFyr7moM0BP1L8RyqgzQF0Bcq+5cDNAD+aJ+jfCM0AfhetRuHYzQCW/WPKLLTRA\",\"dtype\":\"float64\",\"order\":\"little\",\"shape\":[153]},\"Country\":[\"Colombia\",\"Colombia\",\"Colombia\",\"Colombia\",\"Colombia\",\"Colombia\",\"Colombia\",\"Colombia\",\"Colombia\",\"Colombia\",\"Colombia\",\"Colombia\",\"Colombia\",\"Colombia\",\"Colombia\",\"Colombia\",\"Colombia\",\"Colombia\",\"Colombia\",\"Colombia\",\"Colombia\",\"Colombia\",\"Colombia\",\"Colombia\",\"Colombia\",\"Colombia\",\"Colombia\",\"Colombia\",\"Colombia\",\"Colombia\",\"Colombia\",\"Colombia\",\"Colombia\",\"Colombia\",\"Colombia\",\"Colombia\",\"Colombia\",\"Colombia\",\"Colombia\",\"Colombia\",\"Colombia\",\"Colombia\",\"Colombia\",\"Colombia\",\"Colombia\",\"Colombia\",\"Colombia\",\"Colombia\",\"Colombia\",\"Colombia\",\"Colombia\",\"Colombia\",\"Colombia\",\"Colombia\",\"Colombia\",\"Colombia\",\"Colombia\",\"Colombia\",\"Colombia\",\"Colombia\",\"Colombia\",\"Colombia\",\"Colombia\",\"Colombia\",\"Colombia\",\"Colombia\",\"Colombia\",\"Colombia\",\"Colombia\",\"Colombia\",\"Colombia\",\"Colombia\",\"Colombia\",\"Colombia\",\"Colombia\",\"Colombia\",\"Colombia\",\"Colombia\",\"Colombia\",\"Colombia\",\"Colombia\",\"Colombia\",\"Colombia\",\"Colombia\",\"Colombia\",\"Colombia\",\"Colombia\",\"Colombia\",\"Colombia\",\"Colombia\",\"Colombia\",\"Colombia\",\"Colombia\",\"Colombia\",\"Colombia\",\"Colombia\",\"Colombia\",\"Colombia\",\"Colombia\",\"Colombia\",\"Colombia\",\"Colombia\",\"Colombia\",\"Colombia\",\"Colombia\",\"Colombia\",\"Colombia\",\"Colombia\",\"Colombia\",\"Colombia\",\"Colombia\",\"Colombia\",\"Colombia\",\"Colombia\",\"Colombia\",\"Colombia\",\"Colombia\",\"Colombia\",\"Colombia\",\"Colombia\",\"Colombia\",\"Colombia\",\"Colombia\",\"Colombia\",\"Colombia\",\"Colombia\",\"Colombia\",\"Colombia\",\"Colombia\",\"Colombia\",\"Colombia\",\"Colombia\",\"Colombia\",\"Colombia\",\"Colombia\",\"Colombia\",\"Colombia\",\"Colombia\",\"Colombia\",\"Colombia\",\"Colombia\",\"Colombia\",\"Colombia\",\"Colombia\",\"Colombia\",\"Colombia\",\"Colombia\",\"Colombia\",\"Colombia\",\"Colombia\",\"Colombia\",\"Colombia\",\"Colombia\"],\"year\":[1851,1847,1848,1846,1849,1850,1852,1858,1854,1855,1856,1857,1859,1845,1860,1853,1844,1829,1842,1861,1826,1828,1827,1830,1831,1832,1833,1834,1835,1836,1837,1838,1839,1841,1843,1862,1897,1864,1885,1886,1887,1888,1889,1890,1891,1884,1892,1894,1895,1896,1898,1899,1825,1900,1893,1863,1883,1881,1865,1866,1867,1868,1869,1870,1871,1882,1872,1874,1875,1876,1877,1878,1879,1880,1873,1900,1840,1898,1843,1844,1845,1846,1847,1849,1850,1851,1852,1853,1854,1855,1856,1857,1858,1842,1841,1840,1839,1899,1824,1825,1826,1827,1828,1829,1859,1830,1832,1833,1834,1835,1836,1837,1838,1831,1860,1848,1862,1882,1883,1884,1885,1886,1887,1888,1881,1889,1861,1892,1893,1894,1895,1896,1897,1890,1880,1891,1878,1879,1863,1864,1865,1867,1868,1869,1870,1866,1872,1873,1874,1875,1876,1871,1877]},\"selected\":{\"id\":\"1317\"},\"selection_policy\":{\"id\":\"1347\"}},\"id\":\"1316\",\"type\":\"ColumnDataSource\"},{\"attributes\":{\"data\":{\"AverageTemperature\":{\"__ndarray__\":\"fM2FpCntNkB4ME/Uv3k3QEREREREjDdAZ2ZmZmYGN0C7kDSl4jQ3QOMz7AqQMzdALEDuNReqNkB/seQXS0Y3QLc6Jngw1zdAZIIH80R9N0AL16NwPeo2QFzW6pjgITdAXNbqmOBpN0AXIPeaC3E3QGAs+cWSfzdADy2yne+3N0APLbKd7083QCW/WPKLrTdAdCFpSsW5N0CVirMPn+E2QJOmVJx9qDZAQO41F5K+N0AI80T9Gwk3QPkMuwLkljFADElTKs6+N0D1b4QyevsjQPOLJb9YQi9AhqQpFWdnM0A8mCfq32A1QBFYObTINjNABFYOLbLdH0AAAAAAAAAAAAAAAAAAAAAAAAAAAAAAAAApFWcfPrMqQAAAAAAAAAAAAAAAAAAAAAATg8DKoVUvQAAAAAAAAAAAKOrfCGWsNUAAAAAAAAAAAAAAAAAAAAAAAAAAAAAAAAAAAAAAAAAAAMkvlvxiOTdA\",\"dtype\":\"float64\",\"order\":\"little\",\"shape\":[45]},\"Country\":[\"Democratic Republic of the Congo\",\"Democratic Republic of the Congo\",\"Democratic Republic of the Congo\",\"Democratic Republic of the Congo\",\"Democratic Republic of the Congo\",\"Democratic Republic of the Congo\",\"Democratic Republic of the Congo\",\"Democratic Republic of the Congo\",\"Democratic Republic of the Congo\",\"Democratic Republic of the Congo\",\"Democratic Republic of the Congo\",\"Democratic Republic of the Congo\",\"Democratic Republic of the Congo\",\"Democratic Republic of the Congo\",\"Democratic Republic of the Congo\",\"Democratic Republic of the Congo\",\"Democratic Republic of the Congo\",\"Democratic Republic of the Congo\",\"Democratic Republic of the Congo\",\"Democratic Republic of the Congo\",\"Democratic Republic of the Congo\",\"Democratic Republic of the Congo\",\"Democratic Republic of the Congo\",\"Democratic Republic of the Congo\",\"Democratic Republic of the Congo\",\"Democratic Republic of the Congo\",\"Democratic Republic of the Congo\",\"Democratic Republic of the Congo\",\"Democratic Republic of the Congo\",\"Democratic Republic of the Congo\",\"Democratic Republic of the Congo\",\"Democratic Republic of the Congo\",\"Democratic Republic of the Congo\",\"Democratic Republic of the Congo\",\"Democratic Republic of the Congo\",\"Democratic Republic of the Congo\",\"Democratic Republic of the Congo\",\"Democratic Republic of the Congo\",\"Democratic Republic of the Congo\",\"Democratic Republic of the Congo\",\"Democratic Republic of the Congo\",\"Democratic Republic of the Congo\",\"Democratic Republic of the Congo\",\"Democratic Republic of the Congo\",\"Democratic Republic of the Congo\"],\"year\":[1887,1886,1885,1881,1882,1888,1880,1883,1889,1895,1891,1892,1893,1894,1896,1897,1898,1899,1900,1879,1890,1878,1884,1876,1877,1856,1858,1859,1860,1861,1862,1863,1864,1865,1857,1867,1866,1873,1872,1874,1870,1869,1868,1871,1875]},\"selected\":{\"id\":\"1391\"},\"selection_policy\":{\"id\":\"1425\"}},\"id\":\"1390\",\"type\":\"ColumnDataSource\"},{\"attributes\":{\"line_alpha\":0.1,\"line_color\":\"#1f77b4\",\"line_width\":2,\"x\":{\"field\":\"year\"},\"y\":{\"field\":\"AverageTemperature\"}},\"id\":\"1884\",\"type\":\"Line\"},{\"attributes\":{\"line_alpha\":0.2,\"line_color\":\"#1f77b4\",\"line_width\":2,\"x\":{\"field\":\"year\"},\"y\":{\"field\":\"AverageTemperature\"}},\"id\":\"1321\",\"type\":\"Line\"},{\"attributes\":{\"coordinates\":null,\"data_source\":{\"id\":\"1880\"},\"glyph\":{\"id\":\"1883\"},\"group\":null,\"hover_glyph\":null,\"muted_glyph\":{\"id\":\"1885\"},\"nonselection_glyph\":{\"id\":\"1884\"},\"selection_glyph\":{\"id\":\"1939\"},\"view\":{\"id\":\"1887\"}},\"id\":\"1886\",\"type\":\"GlyphRenderer\"},{\"attributes\":{\"data\":{\"AverageTemperature\":{\"__ndarray__\":\"i2zn+6nhL0AgPsOuAAkvQB0TPJgn+i5AOPvwGXa1LkBYObTIds4uQDyYJ+rfCC9AY8kvlvzyLkAZvS1rdZwuQOeJ+jdCCS9Aa7x0kxjULkDNzMzMzBwvQDSl4uzDJy9AJJTR27JWLkAEVg4tsp0uQMvobVmrIy5AO99PjZfuL0AHgZVDi7wuQJzEILByeC9AME/UvxGaLkBjyS+W/JIuQOUXS36xDDBALEDuNRcCL0A1XrpJDNIuQBUg95oLmS5AJ3gwT9RfLkANdNpApx0uQOAIZfS2/C1AS8XZh8/gLkBzr7mQNEUuQNnO91PjdS9A4ME8Uf/mLUDsUbgehdsuQCkVZx8+sy5Aa3VM8GBeLkBY8oslvwgvQI2XbhKDKDBAD+aJ+jcyLEBBYOXQIpstQHzNhaQppS1A0LArQO71LECEeaL+jdAtQP3UeOkmIS5A9G+EMnorLkCFpCkVZ/8uQFsdEzyY9y1AeaL+jVCmLUD0/dR46UYvQLmQNKXiXC5A9Shcj8J1L0AMSVMqzi4vQE2pOPvwuS5A1L8RyugdL0BR/0YoowcvQNgVIPeauy5ADAIrhxZZLkC8u7u7u+suQI9QRm/L+i5AWatjggdjLkBJUyrOPmwvQGsDnTbQKS9AUf9GKKMnLkB3Bci95nItQKGM3pa1qi1Ar0fhehTOLUDQsCtA7uUtQDMzMzMzAy9A\",\"dtype\":\"float64\",\"order\":\"little\",\"shape\":[66]},\"Country\":[\"Mexico\",\"Mexico\",\"Mexico\",\"Mexico\",\"Mexico\",\"Mexico\",\"Mexico\",\"Mexico\",\"Mexico\",\"Mexico\",\"Mexico\",\"Mexico\",\"Mexico\",\"Mexico\",\"Mexico\",\"Mexico\",\"Mexico\",\"Mexico\",\"Mexico\",\"Mexico\",\"Mexico\",\"Mexico\",\"Mexico\",\"Mexico\",\"Mexico\",\"Mexico\",\"Mexico\",\"Mexico\",\"Mexico\",\"Mexico\",\"Mexico\",\"Mexico\",\"Mexico\",\"Mexico\",\"Mexico\",\"Mexico\",\"Mexico\",\"Mexico\",\"Mexico\",\"Mexico\",\"Mexico\",\"Mexico\",\"Mexico\",\"Mexico\",\"Mexico\",\"Mexico\",\"Mexico\",\"Mexico\",\"Mexico\",\"Mexico\",\"Mexico\",\"Mexico\",\"Mexico\",\"Mexico\",\"Mexico\",\"Mexico\",\"Mexico\",\"Mexico\",\"Mexico\",\"Mexico\",\"Mexico\",\"Mexico\",\"Mexico\",\"Mexico\",\"Mexico\",\"Mexico\"],\"year\":[1878,1881,1880,1879,1882,1877,1872,1875,1874,1873,1870,1871,1883,1876,1884,1896,1886,1869,1899,1898,1897,1895,1894,1885,1893,1891,1890,1889,1888,1900,1887,1892,1868,1847,1866,1867,1835,1836,1837,1838,1839,1840,1841,1843,1844,1845,1846,1848,1849,1850,1842,1852,1865,1851,1864,1863,1862,1860,1859,1861,1857,1856,1855,1854,1853,1858]},\"selected\":{\"id\":\"2067\"},\"selection_policy\":{\"id\":\"2127\"}},\"id\":\"2066\",\"type\":\"ColumnDataSource\"},{\"attributes\":{\"label\":{\"value\":\"Colombia\"},\"renderers\":[{\"id\":\"1322\"}]},\"id\":\"1350\",\"type\":\"LegendItem\"},{\"attributes\":{\"line_alpha\":0.2,\"line_color\":\"#1f77b4\",\"line_width\":2,\"x\":{\"field\":\"year\"},\"y\":{\"field\":\"AverageTemperature\"}},\"id\":\"1885\",\"type\":\"Line\"},{\"attributes\":{},\"id\":\"1347\",\"type\":\"UnionRenderers\"},{\"attributes\":{\"label\":{\"value\":\"Italy\"},\"renderers\":[{\"id\":\"1886\"}]},\"id\":\"1938\",\"type\":\"LegendItem\"},{\"attributes\":{\"line_color\":\"#e377c2\",\"line_width\":2,\"x\":{\"field\":\"year\"},\"y\":{\"field\":\"AverageTemperature\"}},\"id\":\"4089\",\"type\":\"Line\"},{\"attributes\":{},\"id\":\"1935\",\"type\":\"UnionRenderers\"},{\"attributes\":{\"data\":{\"AverageTemperature\":{\"__ndarray__\":\"UyrOPnwuMUCB3GsuJN0wQGX0tqzVwTBAG+i0gU67MEBLxdmHz5AwQPEZdgXIlTBA4+zDZ9hFMUD/Riijt/UwQOF6FK5H4TBANOwKkHslMUB02kCnDewwQMrobVmrozBA/tR46SZpMUCnDXTaQFcxQM2FpCkVNzFAeDBP1L+JMEBg5dAi24EwQKjGSzeJeTFA2c73U+MlMUC3Za2OCc4wQHe+nxov3TBASQwCK4f+MEBWDi2yna8wQIts5/up8TBAn2FXgNzrMEBrdUzwYAYxQN7d3d3dHTFA5F5zIWnCMEAwlvxiyY8wQJzEILByUDFATak4+/AJMUBg5dAi28EwQDMzMzMzAzFAcT0K16PYMECIz7ArQO4wQOHBPFH/rjBA1XjpJjFgMECzD59hV3AwQCIiIiIiqjBA7AqQe83lMED+1HjpJnkxQFeA3GsuBDFA6SYxCKzEMECmm8QgsJowQCRNqTj7gDFAxdmHz7ADMUBxPQrXo/AxQDTsCpB7HTFArBxaZDu/MEARWDm0yJ4xQK3VMcGDiTFA30+Nl26qMEBBpw102rgwQCrOPnyG/TBA+zdCGb1VMUBcj8L1KPwwQAG511xI6jBAS36x5Bf7MECPwvUoXAcxQJgn6t8IZTBAyuhtWasDMUAqFWcfPjsxQHnpJjEIbDFALyRNqTirMECq8dJNYrAwQNW/EcropTFAFPVvhDKyMEA/fIZdASoxQHH24TPsmjBAdNpApw1cMED1b4QyejMxQBm9LWt17DBAm1Jx9uErMUCFMnpb1jIxQERERERERDFAO99PjZceMUAIZfS2rFUvQJWKsw+fYeg/PVH/RijDJ0AezBP1bywxQGMQWDm0GCpAo7dlrY6J+D//Riijt+X0PwAAAAAAAAAAAAAAAAAAAABNqTj78HEwQGPJL5b8IgBABFYOLbItMUBJUyrOPmwsQGt1TPBgRjFA8dJNYhBYMUBnZmZmZkYxQE/UvxHKKDBAq2OCB/P0MECEMnpb1sovQNEi2/l+0jBALmt1TPC4MUCQe82FpBExQNejcD0KtzFAAAAAAAAAAAAYS36x5C8xQClcj8L18DBAD+aJ+jciMUAneDBP1B8xQCvOPnyGVTFAgdxrLiRdMUDmifo3QvEwQK8Auddc2DBAXrpJDAIDMUBkO99PjQcxQBBYObTIFjFA2FxImlJJMUAj2/l+auQwQE2pOPvw6TBAU3H24TM8MUAfPsOuAHEwQKwcWmQ7hzBAdZMYBFY+MUA3iUFg5QgxQCRNqTj7ADBAB/NE/RtZMED/jVBGbwMxQPs3Qhm9XTBASJpScfYpMEDVeOkmMagxQE8b6LSBLjFABzptoNOmMUBEi2zn+0kwQO3DZ9gVyDFAOfvwGXY9MUDNhaQpFW8xQFMqzj583jBAqX8jlNFLMEB9PzVeugkwQEFg5dAiey9AK4cW2c7HL0D5xZJfLCExQCoVZx8+CzBA\",\"dtype\":\"float64\",\"order\":\"little\",\"shape\":[138]},\"Country\":[\"Morocco\",\"Morocco\",\"Morocco\",\"Morocco\",\"Morocco\",\"Morocco\",\"Morocco\",\"Morocco\",\"Morocco\",\"Morocco\",\"Morocco\",\"Morocco\",\"Morocco\",\"Morocco\",\"Morocco\",\"Morocco\",\"Morocco\",\"Morocco\",\"Morocco\",\"Morocco\",\"Morocco\",\"Morocco\",\"Morocco\",\"Morocco\",\"Morocco\",\"Morocco\",\"Morocco\",\"Morocco\",\"Morocco\",\"Morocco\",\"Morocco\",\"Morocco\",\"Morocco\",\"Morocco\",\"Morocco\",\"Morocco\",\"Morocco\",\"Morocco\",\"Morocco\",\"Morocco\",\"Morocco\",\"Morocco\",\"Morocco\",\"Morocco\",\"Morocco\",\"Morocco\",\"Morocco\",\"Morocco\",\"Morocco\",\"Morocco\",\"Morocco\",\"Morocco\",\"Morocco\",\"Morocco\",\"Morocco\",\"Morocco\",\"Morocco\",\"Morocco\",\"Morocco\",\"Morocco\",\"Morocco\",\"Morocco\",\"Morocco\",\"Morocco\",\"Morocco\",\"Morocco\",\"Morocco\",\"Morocco\",\"Morocco\",\"Morocco\",\"Morocco\",\"Morocco\",\"Morocco\",\"Morocco\",\"Morocco\",\"Morocco\",\"Morocco\",\"Morocco\",\"Morocco\",\"Morocco\",\"Morocco\",\"Morocco\",\"Morocco\",\"Morocco\",\"Morocco\",\"Morocco\",\"Morocco\",\"Morocco\",\"Morocco\",\"Morocco\",\"Morocco\",\"Morocco\",\"Morocco\",\"Morocco\",\"Morocco\",\"Morocco\",\"Morocco\",\"Morocco\",\"Morocco\",\"Morocco\",\"Morocco\",\"Morocco\",\"Morocco\",\"Morocco\",\"Morocco\",\"Morocco\",\"Morocco\",\"Morocco\",\"Morocco\",\"Morocco\",\"Morocco\",\"Morocco\",\"Morocco\",\"Morocco\",\"Morocco\",\"Morocco\",\"Morocco\",\"Morocco\",\"Morocco\",\"Morocco\",\"Morocco\",\"Morocco\",\"Morocco\",\"Morocco\",\"Morocco\",\"Morocco\",\"Morocco\",\"Morocco\",\"Morocco\",\"Morocco\",\"Morocco\",\"Morocco\",\"Morocco\",\"Morocco\",\"Morocco\",\"Morocco\",\"Morocco\",\"Morocco\"],\"year\":[1852,1856,1853,1854,1855,1857,1864,1859,1860,1861,1862,1863,1851,1858,1850,1835,1848,1834,1865,1836,1837,1838,1839,1849,1840,1842,1843,1844,1845,1846,1847,1841,1866,1882,1868,1888,1889,1890,1891,1892,1893,1887,1894,1896,1897,1898,1899,1900,1833,1895,1867,1886,1884,1869,1870,1871,1872,1873,1874,1885,1875,1877,1878,1879,1880,1881,1883,1876,1832,1763,1830,1794,1793,1792,1791,1790,1789,1788,1787,1786,1785,1784,1783,1782,1781,1780,1779,1778,1764,1765,1766,1767,1768,1769,1795,1770,1772,1773,1774,1775,1776,1777,1831,1796,1771,1798,1797,1829,1828,1827,1825,1824,1823,1822,1821,1820,1819,1818,1817,1816,1815,1826,1813,1814,1800,1799,1802,1803,1804,1805,1801,1807,1808,1809,1810,1811,1806,1812]},\"selected\":{\"id\":\"2133\"},\"selection_policy\":{\"id\":\"2195\"}},\"id\":\"2132\",\"type\":\"ColumnDataSource\"},{\"attributes\":{},\"id\":\"1473\",\"type\":\"Selection\"},{\"attributes\":{},\"id\":\"2811\",\"type\":\"UnionRenderers\"},{\"attributes\":{\"coordinates\":null,\"data_source\":{\"id\":\"2002\"},\"glyph\":{\"id\":\"2005\"},\"group\":null,\"hover_glyph\":null,\"muted_glyph\":{\"id\":\"2007\"},\"nonselection_glyph\":{\"id\":\"2006\"},\"selection_glyph\":{\"id\":\"2065\"},\"view\":{\"id\":\"2009\"}},\"id\":\"2008\",\"type\":\"GlyphRenderer\"},{\"attributes\":{\"line_color\":\"#bcbd22\",\"line_width\":2,\"x\":{\"field\":\"year\"},\"y\":{\"field\":\"AverageTemperature\"}},\"id\":\"1471\",\"type\":\"Line\"},{\"attributes\":{},\"id\":\"1823\",\"type\":\"Selection\"},{\"attributes\":{\"line_color\":\"#30a2da\",\"line_width\":2,\"x\":{\"field\":\"year\"},\"y\":{\"field\":\"AverageTemperature\"}},\"id\":\"1475\",\"type\":\"Line\"},{\"attributes\":{\"line_alpha\":0.1,\"line_color\":\"#17becf\",\"line_width\":2,\"x\":{\"field\":\"year\"},\"y\":{\"field\":\"AverageTemperature\"}},\"id\":\"1716\",\"type\":\"Line\"},{\"attributes\":{\"line_color\":\"#bcbd22\",\"line_width\":2,\"x\":{\"field\":\"year\"},\"y\":{\"field\":\"AverageTemperature\"}},\"id\":\"2069\",\"type\":\"Line\"},{\"attributes\":{},\"id\":\"1068\",\"type\":\"LinearScale\"},{\"attributes\":{\"source\":{\"id\":\"1472\"}},\"id\":\"1479\",\"type\":\"CDSView\"},{\"attributes\":{\"source\":{\"id\":\"1766\"}},\"id\":\"1773\",\"type\":\"CDSView\"},{\"attributes\":{\"coordinates\":null,\"data_source\":{\"id\":\"1712\"},\"glyph\":{\"id\":\"1715\"},\"group\":null,\"hover_glyph\":null,\"muted_glyph\":{\"id\":\"1717\"},\"nonselection_glyph\":{\"id\":\"1716\"},\"selection_glyph\":{\"id\":\"1765\"},\"view\":{\"id\":\"1719\"}},\"id\":\"1718\",\"type\":\"GlyphRenderer\"},{\"attributes\":{\"source\":{\"id\":\"2002\"}},\"id\":\"2009\",\"type\":\"CDSView\"},{\"attributes\":{\"label\":{\"value\":\"Kenya\"},\"renderers\":[{\"id\":\"2008\"}]},\"id\":\"2064\",\"type\":\"LegendItem\"},{\"attributes\":{\"data\":{\"AverageTemperature\":{\"__ndarray__\":\"CPNE/RuxLkAP5on6NxowQAAAAAAAAAAAV4Dcay6kLEB8PzVeulkqQKuqqqqqKi9AkHvNhaTpLkCdNtBpA40uQGAs+cWS/y5AdUzwYJ4IL0AFyL3mQvIuQLlJDAIrpy9AbVmrY4L3LkBrvHSTGPQuQNBpA502gC9A4XoUrkcRL0AxCKwcWrQvQAll9LastS9AJJTR27LmL0Ag95oLSVMwQLu7u7u7uy9AF5KmVJwlMEBtWatjgvcvQFBGb8tarS9ALbKd76fGLkAAAAAAAAAAAAAAAAAAAAAA2c73U+MlJEDYFSD3mhssQAAAAAAAAAAAAAAAAAAAAAAAAAAAAAAAAAAAAAAAAAAAAAAAAAAAAAAAAAAAAAAAAAAAAAAAAAAAy1odEzw4KkAAAAAAAAAAAAAAAAAAAAAAAAAAAAAAAAAAAAAAAAAAAAAAAAAAAAAAAAAAAAAAAAAAAAAAAAAAAAAAAAAAAAAAAAAAAAAAAAAAAAAAAAAAAAAAAAAAAAAAAAAAAAAAAAAAAAAAAAAAAFScffgM2y5A\",\"dtype\":\"float64\",\"order\":\"little\",\"shape\":[51]},\"Country\":[\"Kenya\",\"Kenya\",\"Kenya\",\"Kenya\",\"Kenya\",\"Kenya\",\"Kenya\",\"Kenya\",\"Kenya\",\"Kenya\",\"Kenya\",\"Kenya\",\"Kenya\",\"Kenya\",\"Kenya\",\"Kenya\",\"Kenya\",\"Kenya\",\"Kenya\",\"Kenya\",\"Kenya\",\"Kenya\",\"Kenya\",\"Kenya\",\"Kenya\",\"Kenya\",\"Kenya\",\"Kenya\",\"Kenya\",\"Kenya\",\"Kenya\",\"Kenya\",\"Kenya\",\"Kenya\",\"Kenya\",\"Kenya\",\"Kenya\",\"Kenya\",\"Kenya\",\"Kenya\",\"Kenya\",\"Kenya\",\"Kenya\",\"Kenya\",\"Kenya\",\"Kenya\",\"Kenya\",\"Kenya\",\"Kenya\",\"Kenya\",\"Kenya\"],\"year\":[1887,1878,1879,1880,1881,1882,1883,1884,1885,1886,1888,1895,1890,1891,1892,1893,1894,1896,1897,1898,1899,1900,1877,1889,1876,1862,1874,1875,1850,1851,1852,1853,1854,1856,1857,1858,1859,1860,1861,1855,1863,1873,1872,1871,1869,1868,1870,1867,1866,1865,1864]},\"selected\":{\"id\":\"2003\"},\"selection_policy\":{\"id\":\"2061\"}},\"id\":\"2002\",\"type\":\"ColumnDataSource\"},{\"attributes\":{},\"id\":\"1143\",\"type\":\"Selection\"},{\"attributes\":{\"line_color\":\"#17becf\",\"line_width\":2,\"x\":{\"field\":\"year\"},\"y\":{\"field\":\"AverageTemperature\"}},\"id\":\"1715\",\"type\":\"Line\"},{\"attributes\":{},\"id\":\"2061\",\"type\":\"UnionRenderers\"},{\"attributes\":{\"source\":{\"id\":\"1712\"}},\"id\":\"1719\",\"type\":\"CDSView\"},{\"attributes\":{},\"id\":\"1517\",\"type\":\"Selection\"},{\"attributes\":{\"line_alpha\":0.2,\"line_color\":\"#17becf\",\"line_width\":2,\"x\":{\"field\":\"year\"},\"y\":{\"field\":\"AverageTemperature\"}},\"id\":\"1717\",\"type\":\"Line\"},{\"attributes\":{\"line_color\":\"#fc4f30\",\"line_width\":2,\"x\":{\"field\":\"year\"},\"y\":{\"field\":\"AverageTemperature\"}},\"id\":\"1141\",\"type\":\"Line\"},{\"attributes\":{\"line_alpha\":0.1,\"line_color\":\"#30a2da\",\"line_width\":2,\"x\":{\"field\":\"year\"},\"y\":{\"field\":\"AverageTemperature\"}},\"id\":\"1476\",\"type\":\"Line\"},{\"attributes\":{\"line_color\":\"#9467bd\",\"line_width\":2,\"x\":{\"field\":\"year\"},\"y\":{\"field\":\"AverageTemperature\"}},\"id\":\"1769\",\"type\":\"Line\"},{\"attributes\":{\"line_color\":\"#e5ae38\",\"line_width\":2,\"x\":{\"field\":\"year\"},\"y\":{\"field\":\"AverageTemperature\"}},\"id\":\"1145\",\"type\":\"Line\"},{\"attributes\":{\"coordinates\":null,\"data_source\":{\"id\":\"1472\"},\"glyph\":{\"id\":\"1475\"},\"group\":null,\"hover_glyph\":null,\"muted_glyph\":{\"id\":\"1477\"},\"nonselection_glyph\":{\"id\":\"1476\"},\"selection_glyph\":{\"id\":\"1515\"},\"view\":{\"id\":\"1479\"}},\"id\":\"1478\",\"type\":\"GlyphRenderer\"},{\"attributes\":{\"label\":{\"value\":\"Indonesia\"},\"renderers\":[{\"id\":\"1718\"}]},\"id\":\"1764\",\"type\":\"LegendItem\"},{\"attributes\":{\"source\":{\"id\":\"1142\"}},\"id\":\"1149\",\"type\":\"CDSView\"},{\"attributes\":{},\"id\":\"1761\",\"type\":\"UnionRenderers\"},{\"attributes\":{\"line_alpha\":0.2,\"line_color\":\"#30a2da\",\"line_width\":2,\"x\":{\"field\":\"year\"},\"y\":{\"field\":\"AverageTemperature\"}},\"id\":\"1477\",\"type\":\"Line\"},{\"attributes\":{\"line_alpha\":0.1,\"line_color\":\"#fc4f30\",\"line_width\":2,\"x\":{\"field\":\"year\"},\"y\":{\"field\":\"AverageTemperature\"}},\"id\":\"1520\",\"type\":\"Line\"},{\"attributes\":{\"data\":{\"AverageTemperature\":{\"__ndarray__\":\"AAAAAAAAAAAZvS1rdWQ4QFNx9uEzRDhAi/o3QhndN0B02kCnDRQ4QHh3d3d3pzdApHA9CterN0C38/3UeHE3QAxJUyrO1jdAq6qqqqqCN0CQe82FpJk4QOUXS36x1DdACKwcWmR7N0BtoNMGOmU3QCMiIiIiijdA7cNn2BVQN0BvEoPAylk3QP+NUEZvWzdA9Shcj8KdN0AAAAAAAAAAAJngwTxRrzZAtTomeDA/OEB3Bci95vI3QFtkO99P3TdAAAAAAAAAAABhnqh/I6w4QFVVVVVVjTdA9+Ez7ApgOEBbHRM8mCc4QKFFtvP9/DdA2c73U+P9N0Alv1jyixU4QDN6W9bqwDdAWatjggf7N0BTuB6F63k4QAUP5on6LzhAjd6WtTrGN0DNhaQpFf83QJmZmZmZkThA2BUg95qDOECXtTomeGA4QK8AuddcYDhAzYWkKRVXOEAAAAAAAAAAAAAAAAAAAAAAAAAAAAAAAAAAAAAAAAAAACA+w64AYTdAxK4AudfkNkD1tqzVMdE3QLnXXEiaCjdAZx8+w67oN0D8qfHSTQo3QCFpSsXZXzZAOfvwGXZ1N0A4+/AZdtU2QJhuEoPA4jdAjCW/WPLTN0CJQWDl0MI3QJQYBFYOvTdAe1vW6piIN0AAAAAAAAAAAAAAAAAAAAAAAAAAAAAAAAAAAAAAAAAAAAAAAAAAAAAAAAAAAAAAAAAAAAAAAAAAAJ020GkDjTdAWfKLJb9oN0DNhaQpFfc2QPnFkl8sCTdAvLu7u7vzNkB/seQXSwY3QFBGb8tazThAlBgEVg59N0CQe82FpPE2QEvF2YfPwDdArwC511zYNkC8u7u7u/s2QDzfT42XpjZAP3yGXQFKN0BjyS+W/AI4QIuzD59h1zZA4+zDZ9hNOEC0yHa+nyo4QJgn6t8IzTdAgCOU0dvaNkA9Uf9GKDs3QOuY4ME88TdAS8XZh8/AN0DkpZvEINg3QK3VMcGDOThAQWDl0CIzOEAXIPeaC1E4QMDKoUW2QzdAxSCwcmgZN0AxCKwcWgw3QMGDeaL+pThAsStA7jU/OEADK4cW2WY4QPvwGXYFADNAw/UoXI/CMkC7AuRecxEzQL0ta3VM2DNAgk4b6LShM0BgLPnFkqczQC5rdUzwCDRAgU4b6LQBNEBXxwQP5ik0QGZmZmZmNjNAXQFyr7kYM0Bvy1odE/QyQKdUnH34/DJAGEt+seTnMkDWMcGDeQIzQDTsCpB7/TJAIiIiIiK6M0DUBjptoAszQBWuR+F6ZDJAcfbhM+xiM0AIrBxaZMsyQIr6N0IZ1TNAOEIZvS2zM0BrdUzwYAY0QFmrY4IHuzNAN4lBYOVQN0BhV4Dca7YzQF1ImlJxFjRAYOXQItuJM0DP91PjpYMzQFyPwvUodDNA16NwPQpvM0CJQWDl0HozQNS/EcrofTJAhxbZzvcrM0D78Bl2BZAzQK+5kDSlKjNABQ/mifoHNEDn+6nx0h00QF66SQwCczNAs1bHBA/uMkBjggfzRM0zQD1R/0Yo2zJAWmQ730/tMkBwhDJ6W54yQLes1THBOzNAQO41F5LGMkABuddcSLIzQHTaQKcNnDNAS8XZh8+YM0BkggfzROU3QBUg95oLOThAH8wT9W9EOEAIrBxaZDs4QE2pOPvwwThAAyuHFtl2OEA7JngwTzw4QNCwK0Du/TdA7+7u7u5eOEAEVg4tssU3QDm0yHa+/zdA84slv1jyN0ChRbbz/UQ4QM2FpCkVnzhAX7pJDAITOEAzelvW6ig5QJzEILBymDhAdUzwYJ4QOEAQWDm0yOY3QI8JHswTbThA1XjpJjGgOEBLfrHkF3M4QP3UeOkmKThApHA9CtcbOEA1XrpJDIo4QCd4ME/UbzNAAAAAAAAAAAAAAAAAAAAAAAAAAAAAAAAAAAAAAAAAAAAAAAAAAAAAAAAAAAAAAAAAAAAAAAAAAAB3vp8aL3UzQE2pOPvwUTNA4E+Nl256OEBeukkMAuMyQAFyr7mQhDJAFiD3mgu5MkAjlNHbskYyQEoMAiuH1jJAUyrOPnyeMkDsCpB7zTUzQJMYBFYO7TNA7cNn2BXwMkDVeOkmMag4QFNx9uEzLDhAmlJx9uEzM0D3mgtJU4o2QIPAyqFF1jVAeDBP1L9JNkAXkqZUnE01QIts5/upuTVAJzEIrBzqNED+1HjpJvE0QBfZzvdTKzVAy6FFtvPlNEACK4cW2aY0QGu8dJMYtDRAgwfzRP2rNED1b4QyeuM0QHYFyL3mAjRArkfhehSeNEANuwLkXtM0QMkvlvxioTRAVw4tsp1nNUDpbVmrYyo1QJtScfbhyzRAoBov3SRONECrY4IH8ww1QCUGgZVDKzRAHRM8mCdKNEDRaQOdNpg0QCGwcmiRDTRA698IZfTmNEBB7jUXkr40QHCEMnpbRjVANV66SQy6NEAOdNpApxU1QOdC0pSK2zRAZx8+w66gNUAg95oLSZs1QKdUnH34fDVAY8kvlvx6NUArhxbZzmc1QAAAAAAAAAAAAAAAAAAAAAAAAAAAAAAAAAAAAAAAAAAAAAAAAAAAAAAAAAAAAAAAAAAAAAAAAAAAMJb8Ysl3NUDXo3A9Clc1QFg5tMh27jRA95oLSVMqNUAbL90kBrE0QJWKsw+feTRA/WLJL5acNEDPsCtA7i01QL7mQtKUMjRA6Pup8dL1NECdNtBpA800QAAAAAAAAAAAAAAAAAAAAAAAAAAAAAAAAAAAAAAAAAAAAAAAAAAAAAAAAAAAAAAAAAAAAAAAAAAAb8taHRPUNEAua3VM8LA0QB0TPJgnQjRA84slv1iSNEDX6pjgweQzQPvwGXYFGDRAzoWkKRWnM0Dn+6nx0jU0QIXrUbge/TNAX3MhaUqVNEAK16NwPUo1QCOU0duyTjRAWx0TPJjPNkCl4uzDZxA1QOltWatjGjVAhTJ6W9YiNEBfcyFpSo01QJe1OiZ4IDVAGb0ta3VkNEALkHvNhSQ0QMrobVmrkzRAYCz5xZI3NUDSlIqzD/80QAG511xIEjVAjZduEoNgNUAHOm2g02Y1QEcoo7dlnTVAuGWtjgl2NUBzaJHtfG80QBWuR+F6PDRAfvgMuwJUNEBVVVVVVVU0QPYoXI/CTTRAQ9KUirNXNEC7AuRecyE1QK5H4XoUbjRA2FxImlLJM0Dl0CLb+Z40QPp+arx0mzRAMQisHFoMNUBqA5020Pk0QLsC5F5zKTVAAAAAAAAAAAAAAAAAAAAAAAAAAAAAAAAAAAAAAAAAAAAAAAAAAAAAAAAAAAAAAAAAAAAAAAAAAAAAAAAAAAAAAAAAAAAAAAAAAAAAAAAAAAAAAAAAAAAAAAAAAAAAAAAAAAAAAAAAAAAAAAAAAAAAAAAAAAAAAAAAAAAAAAAAAAAAAAAAAAAAAAAAAAAAAAAAAAAAAAAAAAAAAAAAAAAAAAAAAAAAAAAAAAAAAAAAAAAAAAAAAAAAAAAAAAAAAAAAAAAAAAAAAACF61G4Hu00QKDTBjpt6DZAC9ejcD26NkAdzBP1b0Q3QHDLWh0THDhA2BUg95oLN0AzwYN5ok47QHCEMnpb9jlAx0s3iUHQOkBYgNxrLlw6QAAAAAAAAAAAS8XZh8+gOkDb+X5qvEQ6QIddAXKvYTpAoBov3SROOkAX2c73U2M6QFyPwvUotDpAQDVeukmMOkDb+X5qvFQ6QAAAAAAAAAAAAAAAAAAAAAAAAAAAAAAAAFWcffgMkzpAAAAAAAAAAAA9Uf9GKIM6QCD3mgtJqzpAU7geheuRNUBhV4Dca+Y0QGjYFSD3AjVACWX0tqztNECLbOf7qVk1QN+WtTommDVAsuQXS34BNUBANV66SRw2QCA+w64A0TVAtYFOG+gkNUC9dJMYBNY0QLByaJHtXDVAm1Jx9uGLNUDhwTxR/5Y1QJgn6t8I5TVAzz58hl3ZNUB8zYWkKWU1QGt1TPBgNjVA5RdLfrEMNUArhxbZzg84QKRwPQrXCzVAtYFOG+gMNUAlBoGVQ2s1QI2XbhKDyDVAOfvwGXbdNUDMWh0TPHg6QAPkXnMhuTVAsHJoke2cOkCtjgkezHM6QKRwPQrXezpAdNpApw0cOECvR+F6FF46QPNE/RuhXDpAYVeA3Gv+OkBeukkMAnszQJVDi2znazpA/RuhjN5mNUBYObTIdjY1QKFFtvP91DVA6SYxCKzMNEDMWh0TPHg1QMi95kLSfDVAAXKvuZBcNUCofyOU0WM1QBm9LWt1jDVAdUzwYJ44NUAHOm2g0441QA==\",\"dtype\":\"float64\",\"order\":\"little\",\"shape\":[401]},\"Country\":[\"Brazil\",\"Brazil\",\"Brazil\",\"Brazil\",\"Brazil\",\"Brazil\",\"Brazil\",\"Brazil\",\"Brazil\",\"Brazil\",\"Brazil\",\"Brazil\",\"Brazil\",\"Brazil\",\"Brazil\",\"Brazil\",\"Brazil\",\"Brazil\",\"Brazil\",\"Brazil\",\"Brazil\",\"Brazil\",\"Brazil\",\"Brazil\",\"Brazil\",\"Brazil\",\"Brazil\",\"Brazil\",\"Brazil\",\"Brazil\",\"Brazil\",\"Brazil\",\"Brazil\",\"Brazil\",\"Brazil\",\"Brazil\",\"Brazil\",\"Brazil\",\"Brazil\",\"Brazil\",\"Brazil\",\"Brazil\",\"Brazil\",\"Brazil\",\"Brazil\",\"Brazil\",\"Brazil\",\"Brazil\",\"Brazil\",\"Brazil\",\"Brazil\",\"Brazil\",\"Brazil\",\"Brazil\",\"Brazil\",\"Brazil\",\"Brazil\",\"Brazil\",\"Brazil\",\"Brazil\",\"Brazil\",\"Brazil\",\"Brazil\",\"Brazil\",\"Brazil\",\"Brazil\",\"Brazil\",\"Brazil\",\"Brazil\",\"Brazil\",\"Brazil\",\"Brazil\",\"Brazil\",\"Brazil\",\"Brazil\",\"Brazil\",\"Brazil\",\"Brazil\",\"Brazil\",\"Brazil\",\"Brazil\",\"Brazil\",\"Brazil\",\"Brazil\",\"Brazil\",\"Brazil\",\"Brazil\",\"Brazil\",\"Brazil\",\"Brazil\",\"Brazil\",\"Brazil\",\"Brazil\",\"Brazil\",\"Brazil\",\"Brazil\",\"Brazil\",\"Brazil\",\"Brazil\",\"Brazil\",\"Brazil\",\"Brazil\",\"Brazil\",\"Brazil\",\"Brazil\",\"Brazil\",\"Brazil\",\"Brazil\",\"Brazil\",\"Brazil\",\"Brazil\",\"Brazil\",\"Brazil\",\"Brazil\",\"Brazil\",\"Brazil\",\"Brazil\",\"Brazil\",\"Brazil\",\"Brazil\",\"Brazil\",\"Brazil\",\"Brazil\",\"Brazil\",\"Brazil\",\"Brazil\",\"Brazil\",\"Brazil\",\"Brazil\",\"Brazil\",\"Brazil\",\"Brazil\",\"Brazil\",\"Brazil\",\"Brazil\",\"Brazil\",\"Brazil\",\"Brazil\",\"Brazil\",\"Brazil\",\"Brazil\",\"Brazil\",\"Brazil\",\"Brazil\",\"Brazil\",\"Brazil\",\"Brazil\",\"Brazil\",\"Brazil\",\"Brazil\",\"Brazil\",\"Brazil\",\"Brazil\",\"Brazil\",\"Brazil\",\"Brazil\",\"Brazil\",\"Brazil\",\"Brazil\",\"Brazil\",\"Brazil\",\"Brazil\",\"Brazil\",\"Brazil\",\"Brazil\",\"Brazil\",\"Brazil\",\"Brazil\",\"Brazil\",\"Brazil\",\"Brazil\",\"Brazil\",\"Brazil\",\"Brazil\",\"Brazil\",\"Brazil\",\"Brazil\",\"Brazil\",\"Brazil\",\"Brazil\",\"Brazil\",\"Brazil\",\"Brazil\",\"Brazil\",\"Brazil\",\"Brazil\",\"Brazil\",\"Brazil\",\"Brazil\",\"Brazil\",\"Brazil\",\"Brazil\",\"Brazil\",\"Brazil\",\"Brazil\",\"Brazil\",\"Brazil\",\"Brazil\",\"Brazil\",\"Brazil\",\"Brazil\",\"Brazil\",\"Brazil\",\"Brazil\",\"Brazil\",\"Brazil\",\"Brazil\",\"Brazil\",\"Brazil\",\"Brazil\",\"Brazil\",\"Brazil\",\"Brazil\",\"Brazil\",\"Brazil\",\"Brazil\",\"Brazil\",\"Brazil\",\"Brazil\",\"Brazil\",\"Brazil\",\"Brazil\",\"Brazil\",\"Brazil\",\"Brazil\",\"Brazil\",\"Brazil\",\"Brazil\",\"Brazil\",\"Brazil\",\"Brazil\",\"Brazil\",\"Brazil\",\"Brazil\",\"Brazil\",\"Brazil\",\"Brazil\",\"Brazil\",\"Brazil\",\"Brazil\",\"Brazil\",\"Brazil\",\"Brazil\",\"Brazil\",\"Brazil\",\"Brazil\",\"Brazil\",\"Brazil\",\"Brazil\",\"Brazil\",\"Brazil\",\"Brazil\",\"Brazil\",\"Brazil\",\"Brazil\",\"Brazil\",\"Brazil\",\"Brazil\",\"Brazil\",\"Brazil\",\"Brazil\",\"Brazil\",\"Brazil\",\"Brazil\",\"Brazil\",\"Brazil\",\"Brazil\",\"Brazil\",\"Brazil\",\"Brazil\",\"Brazil\",\"Brazil\",\"Brazil\",\"Brazil\",\"Brazil\",\"Brazil\",\"Brazil\",\"Brazil\",\"Brazil\",\"Brazil\",\"Brazil\",\"Brazil\",\"Brazil\",\"Brazil\",\"Brazil\",\"Brazil\",\"Brazil\",\"Brazil\",\"Brazil\",\"Brazil\",\"Brazil\",\"Brazil\",\"Brazil\",\"Brazil\",\"Brazil\",\"Brazil\",\"Brazil\",\"Brazil\",\"Brazil\",\"Brazil\",\"Brazil\",\"Brazil\",\"Brazil\",\"Brazil\",\"Brazil\",\"Brazil\",\"Brazil\",\"Brazil\",\"Brazil\",\"Brazil\",\"Brazil\",\"Brazil\",\"Brazil\",\"Brazil\",\"Brazil\",\"Brazil\",\"Brazil\",\"Brazil\",\"Brazil\",\"Brazil\",\"Brazil\",\"Brazil\",\"Brazil\",\"Brazil\",\"Brazil\",\"Brazil\",\"Brazil\",\"Brazil\",\"Brazil\",\"Brazil\",\"Brazil\",\"Brazil\",\"Brazil\",\"Brazil\",\"Brazil\",\"Brazil\",\"Brazil\",\"Brazil\",\"Brazil\",\"Brazil\",\"Brazil\",\"Brazil\",\"Brazil\",\"Brazil\",\"Brazil\",\"Brazil\",\"Brazil\",\"Brazil\",\"Brazil\",\"Brazil\",\"Brazil\",\"Brazil\",\"Brazil\",\"Brazil\",\"Brazil\",\"Brazil\",\"Brazil\",\"Brazil\",\"Brazil\",\"Brazil\",\"Brazil\",\"Brazil\",\"Brazil\",\"Brazil\",\"Brazil\",\"Brazil\",\"Brazil\",\"Brazil\",\"Brazil\",\"Brazil\",\"Brazil\",\"Brazil\",\"Brazil\",\"Brazil\",\"Brazil\",\"Brazil\",\"Brazil\",\"Brazil\",\"Brazil\",\"Brazil\",\"Brazil\",\"Brazil\",\"Brazil\",\"Brazil\",\"Brazil\",\"Brazil\",\"Brazil\",\"Brazil\",\"Brazil\",\"Brazil\",\"Brazil\",\"Brazil\",\"Brazil\",\"Brazil\",\"Brazil\",\"Brazil\",\"Brazil\",\"Brazil\",\"Brazil\",\"Brazil\",\"Brazil\"],\"year\":[1844,1843,1842,1841,1840,1839,1838,1837,1836,1835,1833,1832,1900,1892,1898,1897,1896,1895,1894,1845,1893,1834,1899,1856,1847,1868,1891,1867,1866,1865,1864,1863,1862,1861,1860,1859,1858,1857,1855,1854,1853,1852,1851,1850,1849,1848,1846,1890,1865,1888,1861,1860,1859,1858,1857,1856,1855,1854,1853,1852,1851,1850,1849,1848,1847,1846,1845,1844,1843,1842,1841,1862,1863,1864,1869,1887,1886,1885,1884,1883,1882,1881,1880,1879,1878,1889,1877,1875,1874,1873,1872,1871,1870,1869,1868,1867,1866,1876,1870,1896,1872,1876,1875,1874,1873,1872,1871,1870,1869,1868,1867,1866,1865,1864,1863,1862,1861,1860,1859,1858,1857,1856,1877,1855,1878,1880,1840,1900,1899,1898,1897,1896,1895,1894,1893,1892,1891,1890,1889,1888,1887,1886,1885,1884,1883,1882,1881,1879,1854,1853,1852,1893,1892,1891,1890,1889,1888,1887,1886,1885,1884,1883,1882,1881,1880,1879,1878,1877,1876,1875,1874,1873,1894,1895,1897,1898,1851,1850,1849,1848,1847,1846,1845,1844,1843,1842,1871,1841,1839,1838,1837,1836,1835,1834,1833,1832,1900,1899,1840,1839,1873,1837,1834,1833,1832,1900,1899,1898,1897,1896,1895,1894,1893,1892,1891,1890,1889,1888,1887,1886,1885,1884,1883,1835,1882,1836,1838,1859,1858,1857,1856,1855,1854,1853,1852,1851,1850,1849,1848,1847,1846,1845,1844,1843,1842,1841,1840,1839,1837,1881,1880,1879,1852,1851,1850,1849,1848,1847,1846,1845,1844,1843,1842,1841,1840,1839,1838,1837,1836,1835,1834,1833,1832,1838,1854,1855,1856,1878,1877,1876,1875,1874,1873,1872,1871,1870,1869,1860,1868,1866,1865,1864,1863,1862,1861,1860,1859,1858,1857,1867,1861,1853,1863,1879,1878,1877,1876,1875,1874,1873,1872,1871,1870,1869,1868,1867,1866,1865,1864,1863,1862,1861,1860,1859,1880,1881,1882,1883,1862,1836,1835,1834,1833,1832,1900,1899,1898,1897,1858,1896,1893,1892,1891,1890,1889,1888,1887,1886,1885,1884,1894,1857,1895,1855,1885,1884,1883,1882,1881,1880,1879,1878,1877,1876,1875,1874,1872,1871,1869,1868,1867,1866,1865,1856,1864,1886,1887,1870,1889,1853,1888,1854,1852,1851,1850,1848,1847,1846,1845,1849,1895,1892,1900,1893,1894,1896,1891,1897,1898,1890,1899]},\"selected\":{\"id\":\"1193\"},\"selection_policy\":{\"id\":\"1215\"}},\"id\":\"1192\",\"type\":\"ColumnDataSource\"},{\"attributes\":{\"label\":{\"value\":\"Egypt\"},\"renderers\":[{\"id\":\"1478\"}]},\"id\":\"1514\",\"type\":\"LegendItem\"},{\"attributes\":{\"line_alpha\":0.1,\"line_color\":\"#e5ae38\",\"line_width\":2,\"x\":{\"field\":\"year\"},\"y\":{\"field\":\"AverageTemperature\"}},\"id\":\"1146\",\"type\":\"Line\"},{\"attributes\":{\"source\":{\"id\":\"1166\"}},\"id\":\"1173\",\"type\":\"CDSView\"},{\"attributes\":{\"coordinates\":null,\"data_source\":{\"id\":\"1142\"},\"glyph\":{\"id\":\"1145\"},\"group\":null,\"hover_glyph\":null,\"muted_glyph\":{\"id\":\"1147\"},\"nonselection_glyph\":{\"id\":\"1146\"},\"selection_glyph\":{\"id\":\"1165\"},\"view\":{\"id\":\"1149\"}},\"id\":\"1148\",\"type\":\"GlyphRenderer\"},{\"attributes\":{},\"id\":\"2817\",\"type\":\"Selection\"},{\"attributes\":{},\"id\":\"1511\",\"type\":\"UnionRenderers\"},{\"attributes\":{\"line_alpha\":0.2,\"line_color\":\"#e5ae38\",\"line_width\":2,\"x\":{\"field\":\"year\"},\"y\":{\"field\":\"AverageTemperature\"}},\"id\":\"1147\",\"type\":\"Line\"},{\"attributes\":{\"line_color\":\"#6d904f\",\"line_width\":2,\"x\":{\"field\":\"year\"},\"y\":{\"field\":\"AverageTemperature\"}},\"id\":\"1169\",\"type\":\"Line\"},{\"attributes\":{\"line_color\":\"#1f77b4\",\"line_width\":2,\"x\":{\"field\":\"year\"},\"y\":{\"field\":\"AverageTemperature\"}},\"id\":\"2815\",\"type\":\"Line\"},{\"attributes\":{\"line_color\":\"#e377c2\",\"line_width\":2,\"x\":{\"field\":\"year\"},\"y\":{\"field\":\"AverageTemperature\"}},\"id\":\"2819\",\"type\":\"Line\"},{\"attributes\":{\"label\":{\"value\":\"Australia\"},\"renderers\":[{\"id\":\"1148\"}]},\"id\":\"1164\",\"type\":\"LegendItem\"},{\"attributes\":{},\"id\":\"1161\",\"type\":\"UnionRenderers\"},{\"attributes\":{\"source\":{\"id\":\"2816\"}},\"id\":\"2823\",\"type\":\"CDSView\"},{\"attributes\":{\"data\":{\"AverageTemperature\":{\"__ndarray__\":\"JzEIrBy6M0CtjgkezNszQD0K16NwtTNA6LSBThsANEA5tMh2vj8rQOi0gU4b+DNAB/NE/Rv5M0A3iUFg5eAzQN9PjZduMjRAGQRWDi3aM0Dday4kTRk0QAaBlUOLLDRAnH34DLvaM0Bh5dAi23EzQGX0tqzV2TNAcq+5kDStMEATg8DKoeUzQFqrY4IHMzRAt/P91HgxNEDnQtKUiiM0QB0TPJgnCjRAY8kvlvxCMkDK6G1Zq9MzQH34DLsC1DNAObTIdr6PM0A8mCfq3xg0QMi95kLSjDRAfT81XrrRM0BANV66SbQzQB1aZDvflzNAEzyYJ+ovNEBVVVVVVU00QNv5fmq8nDRA9ihcj8I1NEBl9Las1ZkzQNHbslbHFDRArkfhehTuM0BJmlJx9qkzQPEZdgXIdTRAbef7qfG6M0AzelvW6gA0QMi95kLSrDNAokW28/2EM0CDB/NE/fszQH34DLsCdC9AEJ9hV4AML0CF61G4HhUvQJx9+Ay7giVAne+nxkuHL0ATPJgn6q8vQE2pOPvwGS9Aw64AudfsL0AfhetRuO4uQFVVVVVV1S9AeHd3d3fnL0BQjZduEjMwQA8tsp3vZy9A4cE8Uf+WLkBR/0Yoo4cvQHsUrkfhuipA20CnDXTqLkDRItv5fvouQA/mifo3gi5A5on6N0IZMED78Bl2BcguQCRNqTj7sC9AS8XZh8/wLkCfYVeA3CsuQDsmeDBPtC5ADy2yne93L0BPG+i0ge4vQCxA7jUXoi5Asw+fYVdQL0ALkHvNhTQvQDTsCpB7/S1AD+aJ+jdSL0DXo3A9CrcuQDHBg3mi3i5ACKwcWmQLL0BQjZduEoMvQKXi7MNn2C9A1XjpJjH4L0D5xZJfLAkvQO81F5KmdC9AH8wT9W/UL0AbL90kBnEvQPOLJb9YQi9A35a1OiaYLEA=\",\"dtype\":\"float64\",\"order\":\"little\",\"shape\":[88]},\"Country\":[\"South Africa\",\"South Africa\",\"South Africa\",\"South Africa\",\"South Africa\",\"South Africa\",\"South Africa\",\"South Africa\",\"South Africa\",\"South Africa\",\"South Africa\",\"South Africa\",\"South Africa\",\"South Africa\",\"South Africa\",\"South Africa\",\"South Africa\",\"South Africa\",\"South Africa\",\"South Africa\",\"South Africa\",\"South Africa\",\"South Africa\",\"South Africa\",\"South Africa\",\"South Africa\",\"South Africa\",\"South Africa\",\"South Africa\",\"South Africa\",\"South Africa\",\"South Africa\",\"South Africa\",\"South Africa\",\"South Africa\",\"South Africa\",\"South Africa\",\"South Africa\",\"South Africa\",\"South Africa\",\"South Africa\",\"South Africa\",\"South Africa\",\"South Africa\",\"South Africa\",\"South Africa\",\"South Africa\",\"South Africa\",\"South Africa\",\"South Africa\",\"South Africa\",\"South Africa\",\"South Africa\",\"South Africa\",\"South Africa\",\"South Africa\",\"South Africa\",\"South Africa\",\"South Africa\",\"South Africa\",\"South Africa\",\"South Africa\",\"South Africa\",\"South Africa\",\"South Africa\",\"South Africa\",\"South Africa\",\"South Africa\",\"South Africa\",\"South Africa\",\"South Africa\",\"South Africa\",\"South Africa\",\"South Africa\",\"South Africa\",\"South Africa\",\"South Africa\",\"South Africa\",\"South Africa\",\"South Africa\",\"South Africa\",\"South Africa\",\"South Africa\",\"South Africa\",\"South Africa\",\"South Africa\",\"South Africa\",\"South Africa\"],\"year\":[1876,1868,1875,1874,1873,1872,1871,1870,1869,1864,1866,1865,1863,1862,1861,1860,1859,1877,1867,1878,1891,1880,1858,1899,1898,1897,1896,1895,1894,1893,1892,1890,1889,1888,1887,1886,1885,1884,1900,1882,1881,1879,1857,1883,1899,1875,1874,1873,1872,1871,1870,1869,1868,1867,1866,1865,1864,1862,1861,1860,1859,1858,1857,1900,1876,1877,1863,1879,1878,1897,1896,1898,1894,1893,1892,1891,1890,1895,1888,1887,1886,1885,1884,1883,1882,1881,1889,1880]},\"selected\":{\"id\":\"2991\"},\"selection_policy\":{\"id\":\"3075\"}},\"id\":\"2990\",\"type\":\"ColumnDataSource\"},{\"attributes\":{\"line_color\":\"#8c564b\",\"line_width\":2,\"x\":{\"field\":\"year\"},\"y\":{\"field\":\"AverageTemperature\"}},\"id\":\"2065\",\"type\":\"Line\"},{\"attributes\":{\"line_alpha\":0.1,\"line_color\":\"#e377c2\",\"line_width\":2,\"x\":{\"field\":\"year\"},\"y\":{\"field\":\"AverageTemperature\"}},\"id\":\"2820\",\"type\":\"Line\"},{\"attributes\":{\"coordinates\":null,\"data_source\":{\"id\":\"2816\"},\"glyph\":{\"id\":\"2819\"},\"group\":null,\"hover_glyph\":null,\"muted_glyph\":{\"id\":\"2821\"},\"nonselection_glyph\":{\"id\":\"2820\"},\"selection_glyph\":{\"id\":\"2901\"},\"view\":{\"id\":\"2823\"}},\"id\":\"2822\",\"type\":\"GlyphRenderer\"},{\"attributes\":{\"data\":{\"AverageTemperature\":{\"__ndarray__\":\"SOF6FK5XJ0C5kDSl4nwnQKP+jVBGnylAH4XrUbj+JkAlv1jyi8UnQBfZzvdTYydA20CnDXT6JUDF2YfPsHsmQASdNtBpAyhAdwXIveZCJ0DUBjptoOMmQLOd76fGSydAJ3gwT9TfJkCr8dJNYiAmQGgfPsOuYCdAMJb8YslfJkDsCpB7zdUnQFNx9uEzjChASOF6FK43KUDpJjEIrJwmQOUXS36xFChAQacNdNrAJ0BLxdmHz4AnQH0/NV66uSdAk18s+cWCKECAI5TR2/IlQIGVQ4tshydAJ79Y8ovlJ0AkTak4+8AmQAG511xI2iZAs53vp8bLJUD8qfHSTdImQG3n+6nxgiVA4+zDZ9hVJkBwhDJ6W7YnQFfHBA/m6SZA3Pl+arzUJkDFILByaMEnQE8b6LSBXihAwzxR/0b4KEAXkqZUnM0nQKjGSzeJESdAPVH/RiiTJkA07AqQe40mQLNWxwQPZiZADbsC5F5zJkB8hl0Bcr8nQCRNqTj78CdABci95kKCJ0A7JngwT0QnQGU730+NVyZAdJMYBFbOJ0DvNReSprQoQC8kTak4uydAwMqhRbZTKEAHgZVDiwwnQAvXo3A9iidA9W+EMnp7KED1KFyPwpUmQJf8YskvhidAxK4AuddcJkCxK0DuNQcoQARWDi2yPShAzFodEzwoKEDwp8ZLN1knQAXIveZCoiZAzFodEzwYJkBQ1L8RyngmQHDLWh0T3ChA8dJNYhCYJkC1OiZ4MH8mQMuhRbbz3SdAAyuHFtmeJ0CZ4ME8UZ8nQFH/Riij1yZAsStA7jX3J0CTplScfSgoQC1rdUzwgClAu5A0peIMKEBt5/up8dInQFWcffgMWyhAmZmZmZkJKED9G6GM3rYnQEMZvS1rtSZAP3yGXQHyJUANuwLkXpMnQLes1THBgydAa7x0kxgUJ0CvALnXXMgnQBM8mCfqvydAkML1KFzvJ0AL16NwPbooQJDC9ShcLydAU7gehesBJ0DAEcrobUknQNfqmODB3ChA2/l+arykKkD4U+OlmyQpQLmQNKXi/CdAHFpkO9/fJ0Dm0CLb+X4QQC5rdUzwsCFAyAQP5ol6+z8AAAAAAAAAAAAAAAAAAAAAAAAAAAAAAAAAAAAAAAAAABiSplScbShAP8OuALn3JkDAyqFFtrMOQBm9LWt17CdAHKGM3pYlJ0DziyW/WEIoQLXIdr6fmidASVMqzj4MJkBtoNMGOj0oQGX0tqzVUSFA05SKsw+fKED1KFyPwpUnQGWtjgke7CZAgU4b6LRxKEBD0pSKs88lQJOmVJx9OChA/Knx0k2SKEC7SQwCK3clQKh/I5TR6yZAxGfYFSCnJ0CrqqqqqmonQNyyVscE7yhAMQisHFqEJUDziyW/WIImQIr6N0IZLSVAnTbQaQMdJ0D4mgtJU7onQFcOLbKdvydAFSD3mgv5KEDlF0t+seQlQAAAAAAAgClANV66SQzCJkA0MzMzM9MoQLy7u7u7WyhAf2q8dJNIKUC38/3UeDknQOvfCGX0tiZAE4PAyqEFJ0C4Za2OCc4oQCGwcmiRPSdAeDBP1L9xKEC0D59hV9AoQBiSplScTShA/Knx0k2yJ0CsY4IH85QmQBSuR+F61ChAxZJfLPmFJ0BLfrHkFxsoQEDuNReSBilAbxKDwMrxJ0DflrU6JmgoQA==\",\"dtype\":\"float64\",\"order\":\"little\",\"shape\":[158]},\"Country\":[\"Italy\",\"Italy\",\"Italy\",\"Italy\",\"Italy\",\"Italy\",\"Italy\",\"Italy\",\"Italy\",\"Italy\",\"Italy\",\"Italy\",\"Italy\",\"Italy\",\"Italy\",\"Italy\",\"Italy\",\"Italy\",\"Italy\",\"Italy\",\"Italy\",\"Italy\",\"Italy\",\"Italy\",\"Italy\",\"Italy\",\"Italy\",\"Italy\",\"Italy\",\"Italy\",\"Italy\",\"Italy\",\"Italy\",\"Italy\",\"Italy\",\"Italy\",\"Italy\",\"Italy\",\"Italy\",\"Italy\",\"Italy\",\"Italy\",\"Italy\",\"Italy\",\"Italy\",\"Italy\",\"Italy\",\"Italy\",\"Italy\",\"Italy\",\"Italy\",\"Italy\",\"Italy\",\"Italy\",\"Italy\",\"Italy\",\"Italy\",\"Italy\",\"Italy\",\"Italy\",\"Italy\",\"Italy\",\"Italy\",\"Italy\",\"Italy\",\"Italy\",\"Italy\",\"Italy\",\"Italy\",\"Italy\",\"Italy\",\"Italy\",\"Italy\",\"Italy\",\"Italy\",\"Italy\",\"Italy\",\"Italy\",\"Italy\",\"Italy\",\"Italy\",\"Italy\",\"Italy\",\"Italy\",\"Italy\",\"Italy\",\"Italy\",\"Italy\",\"Italy\",\"Italy\",\"Italy\",\"Italy\",\"Italy\",\"Italy\",\"Italy\",\"Italy\",\"Italy\",\"Italy\",\"Italy\",\"Italy\",\"Italy\",\"Italy\",\"Italy\",\"Italy\",\"Italy\",\"Italy\",\"Italy\",\"Italy\",\"Italy\",\"Italy\",\"Italy\",\"Italy\",\"Italy\",\"Italy\",\"Italy\",\"Italy\",\"Italy\",\"Italy\",\"Italy\",\"Italy\",\"Italy\",\"Italy\",\"Italy\",\"Italy\",\"Italy\",\"Italy\",\"Italy\",\"Italy\",\"Italy\",\"Italy\",\"Italy\",\"Italy\",\"Italy\",\"Italy\",\"Italy\",\"Italy\",\"Italy\",\"Italy\",\"Italy\",\"Italy\",\"Italy\",\"Italy\",\"Italy\",\"Italy\",\"Italy\",\"Italy\",\"Italy\",\"Italy\",\"Italy\",\"Italy\",\"Italy\",\"Italy\",\"Italy\",\"Italy\",\"Italy\",\"Italy\",\"Italy\",\"Italy\"],\"year\":[1844,1845,1846,1847,1848,1849,1850,1854,1852,1853,1855,1856,1857,1858,1843,1851,1859,1834,1841,1860,1824,1825,1826,1827,1828,1829,1830,1831,1832,1833,1835,1836,1837,1838,1839,1840,1842,1861,1882,1863,1886,1887,1888,1889,1890,1891,1892,1885,1893,1895,1896,1897,1898,1899,1900,1823,1894,1862,1884,1881,1864,1866,1867,1868,1869,1870,1871,1883,1872,1874,1875,1876,1877,1878,1879,1880,1873,1822,1865,1820,1764,1765,1766,1767,1768,1769,1770,1763,1771,1773,1774,1775,1776,1777,1821,1778,1772,1779,1762,1760,1743,1744,1745,1746,1747,1748,1749,1761,1750,1752,1753,1755,1756,1757,1758,1759,1751,1780,1754,1782,1804,1805,1806,1807,1808,1809,1810,1803,1811,1814,1815,1816,1817,1818,1819,1781,1812,1802,1813,1800,1783,1801,1784,1785,1786,1788,1789,1790,1791,1787,1793,1799,1794,1795,1796,1797,1792,1798]},\"selected\":{\"id\":\"1881\"},\"selection_policy\":{\"id\":\"1935\"}},\"id\":\"1880\",\"type\":\"ColumnDataSource\"},{\"attributes\":{},\"id\":\"2903\",\"type\":\"Selection\"},{\"attributes\":{},\"id\":\"2067\",\"type\":\"Selection\"},{\"attributes\":{\"line_color\":\"#17becf\",\"line_width\":2,\"x\":{\"field\":\"year\"},\"y\":{\"field\":\"AverageTemperature\"}},\"id\":\"1765\",\"type\":\"Line\"},{\"attributes\":{\"line_alpha\":0.2,\"line_color\":\"#e377c2\",\"line_width\":2,\"x\":{\"field\":\"year\"},\"y\":{\"field\":\"AverageTemperature\"}},\"id\":\"2821\",\"type\":\"Line\"},{\"attributes\":{\"source\":{\"id\":\"2066\"}},\"id\":\"2073\",\"type\":\"CDSView\"},{\"attributes\":{\"label\":{\"value\":\"Singapore\"},\"renderers\":[{\"id\":\"2822\"}]},\"id\":\"2900\",\"type\":\"LegendItem\"},{\"attributes\":{\"line_alpha\":0.1,\"line_color\":\"#bcbd22\",\"line_width\":2,\"x\":{\"field\":\"year\"},\"y\":{\"field\":\"AverageTemperature\"}},\"id\":\"2070\",\"type\":\"Line\"},{\"attributes\":{},\"id\":\"1767\",\"type\":\"Selection\"},{\"attributes\":{},\"id\":\"2897\",\"type\":\"UnionRenderers\"},{\"attributes\":{\"coordinates\":null,\"data_source\":{\"id\":\"2066\"},\"glyph\":{\"id\":\"2069\"},\"group\":null,\"hover_glyph\":null,\"muted_glyph\":{\"id\":\"2071\"},\"nonselection_glyph\":{\"id\":\"2070\"},\"selection_glyph\":{\"id\":\"2131\"},\"view\":{\"id\":\"2073\"}},\"id\":\"2072\",\"type\":\"GlyphRenderer\"},{\"attributes\":{\"line_color\":\"#30a2da\",\"line_width\":2,\"x\":{\"field\":\"year\"},\"y\":{\"field\":\"AverageTemperature\"}},\"id\":\"1515\",\"type\":\"Line\"},{\"attributes\":{\"data\":{\"AverageTemperature\":{\"__ndarray__\":\"baDTBjpNOkApXI/C9Sg6QPfhM+wKoDpAB4GVQ4u8OkAs+cWSX/Q5QAkezBP1NzpA05SKsw8POkCIz7ArQH46QLQPn2FXgDpARyijt2WVOkDgwTxR/6YYQHgwT9S/gTpA/Knx0k1COkDo+6nx0n06QMeSXyz5hTpA1THBg3nqOUBHKKO3ZSU6QOvfCGX0ljpAAEcoo7eVOkDErgC51zw6QLy7u7u7czpA4Ahl9LZcOkBJUyrOPpQ6QEDuNReSLjpAdUzwYJ5wOkBhV4Dca1Y6QN+WtTomSDpAfT81XroRO0BfcyFpSpU6QPnFkl8ssTpAzz58hl0BO0CTplScfdg6QIddAXKvwTpACWX0tqyVOkAUrkfhevw5QEjhehSuPzpAyL3mQtKkOkCnVJx9+Mw6QB0TPJgnujpA4zPsCpBTOkBLxdmHz4g6QPfhM+wKgDpAUEZvy1r9OUDVMcGDeUo6QLByaJHtdDpA6W1Zq2OKOkCpOPvwGV46QL3mQtKUsjpAA+RecyFhO0BYObTIdqY6QKS3Za2OKTpAoBov3SQWOkBUnH34DCM6QC/dJAaBNTpAEJ9hV4DcOUBMfrHkF3M5QCxA7jUXUjlA4Ahl9LasOUAg95oLSbM3QMWSXyz5JTpAAAAAAAAAAAAAAAAAAAAAAAAAAAAAAAAAAAAAAAAAAAAAAAAAAAAAAD0K16Nw3TVA/RuhjN7OOkDAyqFFtuM6QDm0yHa+9zpAgZVDi2w3O0CU0duyVg82QBPK6G1ZyzpADElTKs7eOkC7SQwCKx82QHh3d3d3XzZADXTaQKedOkDVMcGDedo5QJTR27JWbzlAsHJoke2sOUDErgC510Q7QCA+w64AkTpA9Shcj8LlOUB4d3d3d286QIv6N0IZ9TlAgU4b6LRhOkAj2/l+alw6QA/mifo3ejpAPcOuALkfOkDtfD81XgI6QDyYJ+rfCDpAbOf7qfEqOkAQn2FXgGw5QFmrY4IH6zpAYOXQIttxOkAVZx8+wz46QPT91HjpXjpAo7dlrY6xOkAZvS1rdbQ6QAXIveZC4jpAID7DrgDxOkDjM+wKkEs6QIWkKRVnpzpAZa2OCR4EOkArhxbZzt81QOUXS36xfDpA\",\"dtype\":\"float64\",\"order\":\"little\",\"shape\":[105]},\"Country\":[\"Myanmar\",\"Myanmar\",\"Myanmar\",\"Myanmar\",\"Myanmar\",\"Myanmar\",\"Myanmar\",\"Myanmar\",\"Myanmar\",\"Myanmar\",\"Myanmar\",\"Myanmar\",\"Myanmar\",\"Myanmar\",\"Myanmar\",\"Myanmar\",\"Myanmar\",\"Myanmar\",\"Myanmar\",\"Myanmar\",\"Myanmar\",\"Myanmar\",\"Myanmar\",\"Myanmar\",\"Myanmar\",\"Myanmar\",\"Myanmar\",\"Myanmar\",\"Myanmar\",\"Myanmar\",\"Myanmar\",\"Myanmar\",\"Myanmar\",\"Myanmar\",\"Myanmar\",\"Myanmar\",\"Myanmar\",\"Myanmar\",\"Myanmar\",\"Myanmar\",\"Myanmar\",\"Myanmar\",\"Myanmar\",\"Myanmar\",\"Myanmar\",\"Myanmar\",\"Myanmar\",\"Myanmar\",\"Myanmar\",\"Myanmar\",\"Myanmar\",\"Myanmar\",\"Myanmar\",\"Myanmar\",\"Myanmar\",\"Myanmar\",\"Myanmar\",\"Myanmar\",\"Myanmar\",\"Myanmar\",\"Myanmar\",\"Myanmar\",\"Myanmar\",\"Myanmar\",\"Myanmar\",\"Myanmar\",\"Myanmar\",\"Myanmar\",\"Myanmar\",\"Myanmar\",\"Myanmar\",\"Myanmar\",\"Myanmar\",\"Myanmar\",\"Myanmar\",\"Myanmar\",\"Myanmar\",\"Myanmar\",\"Myanmar\",\"Myanmar\",\"Myanmar\",\"Myanmar\",\"Myanmar\",\"Myanmar\",\"Myanmar\",\"Myanmar\",\"Myanmar\",\"Myanmar\",\"Myanmar\",\"Myanmar\",\"Myanmar\",\"Myanmar\",\"Myanmar\",\"Myanmar\",\"Myanmar\",\"Myanmar\",\"Myanmar\",\"Myanmar\",\"Myanmar\",\"Myanmar\",\"Myanmar\",\"Myanmar\",\"Myanmar\",\"Myanmar\",\"Myanmar\"],\"year\":[1863,1864,1865,1866,1869,1868,1870,1871,1872,1867,1862,1855,1860,1859,1858,1857,1856,1854,1853,1852,1851,1850,1873,1861,1874,1890,1876,1900,1899,1898,1897,1896,1895,1894,1893,1892,1891,1889,1888,1887,1886,1885,1884,1883,1882,1881,1880,1879,1878,1877,1875,1848,1849,1846,1818,1817,1816,1815,1814,1813,1812,1811,1810,1809,1808,1807,1806,1805,1803,1802,1801,1800,1799,1798,1797,1796,1847,1819,1820,1804,1822,1845,1821,1844,1843,1842,1840,1839,1838,1837,1836,1835,1841,1833,1823,1834,1825,1826,1824,1827,1829,1830,1831,1832,1828]},\"selected\":{\"id\":\"2201\"},\"selection_policy\":{\"id\":\"2265\"}},\"id\":\"2200\",\"type\":\"ColumnDataSource\"},{\"attributes\":{\"line_color\":\"#fc4f30\",\"line_width\":2,\"x\":{\"field\":\"year\"},\"y\":{\"field\":\"AverageTemperature\"}},\"id\":\"1519\",\"type\":\"Line\"},{\"attributes\":{\"data\":{\"AverageTemperature\":{\"__ndarray__\":\"FPVvhDIaOkAAAAAAAAAAAGGeqH8jbDpAy6FFtvPdOUAAAAAAAAAAAAAAAAAAAAAAJE2pOPvQNUDIveZC0vQlQGAs+cWSry1Apw102kBHMUATPJgn6tc3QB1aZDvfnzVAhDJ6W9b6OUCRNKXi7EMhQAAAAAAAAAAA20CnDXTqOUB7W9bqmFA5QIAjlNHbejlAAAAAAAAAAADXo3A9Cl8xQD9R/0YoIw5AUNS/EcpIOUDByqFFtvM4QGQ730+NNzlABci95kLSOUBVnH34DIM4QBCfYVeAVDlAAyuHFtlOOUBPG+i0gW45QAXIveZCwjlAdwXIveZ6OUAj2/l+auw5QFg5tMh2DjlAAAAAAAAAAAANuwLkXts4QAAAAAAAAAAAaUrF2YffOUCU0duyVhc5QCPb+X5qbDlA35a1OiZYOUD1tqzVMUk5QCjq3whlfDlAW9bqmOABGkD1b4Qyeqs5QIMH80T96zlAc2iR7XzfOUA5baDTBko6QCD3mgtJyzlAEzyYJ+pPOkCYJ+rfCN05QE8b6LSBljlApSkVZx+eMUCEMnpb1mo6QDVeukkMAjpAAAAAAAAAAAAAAAAAAAAAAAAAAAAAAAAAAAAAAAAAAAAAAAAAAAAAAAAAAAAAAAAA7FG4HoWjMUAzelvW6ug3QKO3Za2O0TlAUUZvy1pdM0AdEzyYJ1o6QJWKsw+fQTpA50LSlIqrOUCtjgkezCM6QK2OCR7MYzpAAAAAAAAAAACMJb9Y8oM5QDptoNMGUjFAyAQP5omSOUA4iUFg5dA3QJ19+Ay7mjlAupA0peJ8M0BwhDJ6WyY6QC1rdUzwGDpAs53vp8aDOUDJdr6fGj8xQImIiIiI6DlAZfS2rNXROUD7N0IZvTU6QMOuALnXfDFAic+wK0BuEUD/1HjpJqE5QNS/Ecro7ThANaXi7MMvOkBbHRM8mEc5QAAAAAAAAAAAAAAAAAAAAADhM+wKkAM6QM0T9W+EIi1At/P91HhJMUDkXnMhaWI1QDCW/GLJnzdA2BUg95qDNUAAAAAAAAAAAH2GXQFy3yFAAAAAAAAAAAAAAAAAAAAAAAAAAAAAAAAAAAAAAAAAAAAAAAAAAAAAAAAAAAAAAAAAAAAAAAAAAAADnTbQaRs5QGFXgNxrbiZAuZA0peIcOUAAAAAAAAAAAAAAAAAAAAAAAAAAAAAAAAAAAAAAAAAAAF0Bcq+5oDhAAAAAAAAAAAAAAAAAAAAAAAAAAAAAAAAAqH8jlNFrN0B9PzVeumk5QImIiIiICDNAL90kBoH1OUDbQKcNdCI6QEiaUnH2eTlA4jPsCpCzMUAAAAAAAAAAAAAAAAAAAAAATfBgnqjPIEAAAAAAAAAAALx0kxgEdjlAUUZvy1p1OUBbZDvfT705QGAs+cWSVzlANOwKkHslOkB9PzVeuqE5QK8AuddcsDlAIWlKxdkvOkC/WPKLJe8lQEA1XrpJrC1A8GCeqH97NUCVQ4ts5zM3QAG511xICjVATak4+/AJOkA=\",\"dtype\":\"float64\",\"order\":\"little\",\"shape\":[142]},\"Country\":[\"Nigeria\",\"Nigeria\",\"Nigeria\",\"Nigeria\",\"Nigeria\",\"Nigeria\",\"Nigeria\",\"Nigeria\",\"Nigeria\",\"Nigeria\",\"Nigeria\",\"Nigeria\",\"Nigeria\",\"Nigeria\",\"Nigeria\",\"Nigeria\",\"Nigeria\",\"Nigeria\",\"Nigeria\",\"Nigeria\",\"Nigeria\",\"Nigeria\",\"Nigeria\",\"Nigeria\",\"Nigeria\",\"Nigeria\",\"Nigeria\",\"Nigeria\",\"Nigeria\",\"Nigeria\",\"Nigeria\",\"Nigeria\",\"Nigeria\",\"Nigeria\",\"Nigeria\",\"Nigeria\",\"Nigeria\",\"Nigeria\",\"Nigeria\",\"Nigeria\",\"Nigeria\",\"Nigeria\",\"Nigeria\",\"Nigeria\",\"Nigeria\",\"Nigeria\",\"Nigeria\",\"Nigeria\",\"Nigeria\",\"Nigeria\",\"Nigeria\",\"Nigeria\",\"Nigeria\",\"Nigeria\",\"Nigeria\",\"Nigeria\",\"Nigeria\",\"Nigeria\",\"Nigeria\",\"Nigeria\",\"Nigeria\",\"Nigeria\",\"Nigeria\",\"Nigeria\",\"Nigeria\",\"Nigeria\",\"Nigeria\",\"Nigeria\",\"Nigeria\",\"Nigeria\",\"Nigeria\",\"Nigeria\",\"Nigeria\",\"Nigeria\",\"Nigeria\",\"Nigeria\",\"Nigeria\",\"Nigeria\",\"Nigeria\",\"Nigeria\",\"Nigeria\",\"Nigeria\",\"Nigeria\",\"Nigeria\",\"Nigeria\",\"Nigeria\",\"Nigeria\",\"Nigeria\",\"Nigeria\",\"Nigeria\",\"Nigeria\",\"Nigeria\",\"Nigeria\",\"Nigeria\",\"Nigeria\",\"Nigeria\",\"Nigeria\",\"Nigeria\",\"Nigeria\",\"Nigeria\",\"Nigeria\",\"Nigeria\",\"Nigeria\",\"Nigeria\",\"Nigeria\",\"Nigeria\",\"Nigeria\",\"Nigeria\",\"Nigeria\",\"Nigeria\",\"Nigeria\",\"Nigeria\",\"Nigeria\",\"Nigeria\",\"Nigeria\",\"Nigeria\",\"Nigeria\",\"Nigeria\",\"Nigeria\",\"Nigeria\",\"Nigeria\",\"Nigeria\",\"Nigeria\",\"Nigeria\",\"Nigeria\",\"Nigeria\",\"Nigeria\",\"Nigeria\",\"Nigeria\",\"Nigeria\",\"Nigeria\",\"Nigeria\",\"Nigeria\",\"Nigeria\",\"Nigeria\",\"Nigeria\",\"Nigeria\",\"Nigeria\",\"Nigeria\",\"Nigeria\",\"Nigeria\",\"Nigeria\"],\"year\":[1851,1852,1900,1850,1853,1854,1859,1856,1857,1858,1860,1861,1849,1862,1855,1900,1889,1898,1863,1884,1885,1886,1887,1888,1899,1890,1892,1893,1894,1895,1896,1897,1891,1864,1890,1866,1886,1887,1888,1889,1891,1892,1885,1893,1895,1896,1897,1898,1899,1883,1894,1884,1883,1882,1867,1868,1869,1870,1871,1872,1873,1874,1875,1876,1877,1878,1879,1880,1881,1865,1882,1858,1880,1874,1875,1876,1877,1878,1879,1873,1880,1882,1883,1884,1885,1886,1887,1881,1888,1872,1870,1881,1857,1858,1859,1860,1861,1871,1862,1864,1865,1866,1867,1868,1869,1863,1889,1856,1891,1866,1867,1868,1869,1890,1871,1865,1872,1874,1875,1876,1877,1878,1879,1873,1864,1870,1862,1863,1893,1894,1895,1892,1897,1898,1896,1900,1856,1857,1859,1860,1861,1899]},\"selected\":{\"id\":\"2271\"},\"selection_policy\":{\"id\":\"2337\"}},\"id\":\"2270\",\"type\":\"ColumnDataSource\"},{\"attributes\":{\"line_alpha\":0.1,\"line_color\":\"#9467bd\",\"line_width\":2,\"x\":{\"field\":\"year\"},\"y\":{\"field\":\"AverageTemperature\"}},\"id\":\"1770\",\"type\":\"Line\"},{\"attributes\":{\"line_alpha\":0.2,\"line_color\":\"#bcbd22\",\"line_width\":2,\"x\":{\"field\":\"year\"},\"y\":{\"field\":\"AverageTemperature\"}},\"id\":\"2071\",\"type\":\"Line\"},{\"attributes\":{\"coordinates\":null,\"data_source\":{\"id\":\"1766\"},\"glyph\":{\"id\":\"1769\"},\"group\":null,\"hover_glyph\":null,\"muted_glyph\":{\"id\":\"1771\"},\"nonselection_glyph\":{\"id\":\"1770\"},\"selection_glyph\":{\"id\":\"1821\"},\"view\":{\"id\":\"1773\"}},\"id\":\"1772\",\"type\":\"GlyphRenderer\"},{\"attributes\":{\"coordinates\":null,\"data_source\":{\"id\":\"1516\"},\"glyph\":{\"id\":\"1519\"},\"group\":null,\"hover_glyph\":null,\"muted_glyph\":{\"id\":\"1521\"},\"nonselection_glyph\":{\"id\":\"1520\"},\"selection_glyph\":{\"id\":\"1561\"},\"view\":{\"id\":\"1523\"}},\"id\":\"1522\",\"type\":\"GlyphRenderer\"},{\"attributes\":{\"line_color\":\"#d62728\",\"line_width\":2,\"x\":{\"field\":\"year\"},\"y\":{\"field\":\"AverageTemperature\"}},\"id\":\"1825\",\"type\":\"Line\"},{\"attributes\":{\"label\":{\"value\":\"Mexico\"},\"renderers\":[{\"id\":\"2072\"}]},\"id\":\"2130\",\"type\":\"LegendItem\"},{\"attributes\":{\"data\":{\"AverageTemperature\":{\"__ndarray__\":\"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\",\"dtype\":\"float64\",\"order\":\"little\",\"shape\":[1470]},\"Country\":[\"India\",\"India\",\"India\",\"India\",\"India\",\"India\",\"India\",\"India\",\"India\",\"India\",\"India\",\"India\",\"India\",\"India\",\"India\",\"India\",\"India\",\"India\",\"India\",\"India\",\"India\",\"India\",\"India\",\"India\",\"India\",\"India\",\"India\",\"India\",\"India\",\"India\",\"India\",\"India\",\"India\",\"India\",\"India\",\"India\",\"India\",\"India\",\"India\",\"India\",\"India\",\"India\",\"India\",\"India\",\"India\",\"India\",\"India\",\"India\",\"India\",\"India\",\"India\",\"India\",\"India\",\"India\",\"India\",\"India\",\"India\",\"India\",\"India\",\"India\",\"India\",\"India\",\"India\",\"India\",\"India\",\"India\",\"India\",\"India\",\"India\",\"India\",\"India\",\"India\",\"India\",\"India\",\"India\",\"India\",\"India\",\"India\",\"India\",\"India\",\"India\",\"India\",\"India\",\"India\",\"India\",\"India\",\"India\",\"India\",\"India\",\"India\",\"India\",\"India\",\"India\",\"India\",\"India\",\"India\",\"India\",\"India\",\"India\",\"India\",\"India\",\"India\",\"India\",\"India\",\"India\",\"India\",\"India\",\"India\",\"India\",\"India\",\"India\",\"India\",\"India\",\"India\",\"India\",\"India\",\"India\",\"India\",\"India\",\"India\",\"India\",\"India\",\"India\",\"India\",\"India\",\"India\",\"India\",\"India\",\"India\",\"India\",\"India\",\"India\",\"India\",\"India\",\"India\",\"India\",\"India\",\"India\",\"India\",\"India\",\"India\",\"India\",\"India\",\"India\",\"India\",\"India\",\"India\",\"India\",\"India\",\"India\",\"India\",\"India\",\"India\",\"India\",\"India\",\"India\",\"India\",\"India\",\"India\",\"India\",\"India\",\"India\",\"India\",\"India\",\"India\",\"India\",\"India\",\"India\",\"India\",\"India\",\"India\",\"India\",\"India\",\"India\",\"India\",\"India\",\"India\",\"India\",\"India\",\"India\",\"India\",\"India\",\"India\",\"India\",\"India\",\"India\",\"India\",\"India\",\"India\",\"India\",\"India\",\"India\",\"India\",\"India\",\"India\",\"India\",\"India\",\"India\",\"India\",\"India\",\"India\",\"India\",\"India\",\"India\",\"India\",\"India\",\"India\",\"India\",\"India\",\"India\",\"India\",\"India\",\"India\",\"India\",\"India\",\"India\",\"India\",\"India\",\"India\",\"India\",\"India\",\"India\",\"India\",\"India\",\"India\",\"India\",\"India\",\"India\",\"India\",\"India\",\"India\",\"India\",\"India\",\"India\",\"India\",\"India\",\"India\",\"India\",\"India\",\"India\",\"India\",\"India\",\"India\",\"India\",\"India\",\"India\",\"India\",\"India\",\"India\",\"India\",\"India\",\"India\",\"India\",\"India\",\"India\",\"India\",\"India\",\"India\",\"India\",\"India\",\"India\",\"India\",\"India\",\"India\",\"India\",\"India\",\"India\",\"India\",\"India\",\"India\",\"India\",\"India\",\"India\",\"India\",\"India\",\"India\",\"India\",\"India\",\"India\",\"India\",\"India\",\"India\",\"India\",\"India\",\"India\",\"India\",\"India\",\"India\",\"India\",\"India\",\"India\",\"India\",\"India\",\"India\",\"India\",\"India\",\"India\",\"India\",\"India\",\"India\",\"India\",\"India\",\"India\",\"India\",\"India\",\"India\",\"India\",\"India\",\"India\",\"India\",\"India\",\"India\",\"India\",\"India\",\"India\",\"India\",\"India\",\"India\",\"India\",\"India\",\"India\",\"India\",\"India\",\"India\",\"India\",\"India\",\"India\",\"India\",\"India\",\"India\",\"India\",\"India\",\"India\",\"India\",\"India\",\"India\",\"India\",\"India\",\"India\",\"India\",\"India\",\"India\",\"India\",\"India\",\"India\",\"India\",\"India\",\"India\",\"India\",\"India\",\"India\",\"India\",\"India\",\"India\",\"India\",\"India\",\"India\",\"India\",\"India\",\"India\",\"India\",\"India\",\"India\",\"India\",\"India\",\"India\",\"India\",\"India\",\"India\",\"India\",\"India\",\"India\",\"India\",\"India\",\"India\",\"India\",\"India\",\"India\",\"India\",\"India\",\"India\",\"India\",\"India\",\"India\",\"India\",\"India\",\"India\",\"India\",\"India\",\"India\",\"India\",\"India\",\"India\",\"India\",\"India\",\"India\",\"India\",\"India\",\"India\",\"India\",\"India\",\"India\",\"India\",\"India\",\"India\",\"India\",\"India\",\"India\",\"India\",\"India\",\"India\",\"India\",\"India\",\"India\",\"India\",\"India\",\"India\",\"India\",\"India\",\"India\",\"India\",\"India\",\"India\",\"India\",\"India\",\"India\",\"India\",\"India\",\"India\",\"India\",\"India\",\"India\",\"India\",\"India\",\"India\",\"India\",\"India\",\"India\",\"India\",\"India\",\"India\",\"India\",\"India\",\"India\",\"India\",\"India\",\"India\",\"India\",\"India\",\"India\",\"India\",\"India\",\"India\",\"India\",\"India\",\"India\",\"India\",\"India\",\"India\",\"India\",\"India\",\"India\",\"India\",\"India\",\"India\",\"India\",\"India\",\"India\",\"India\",\"India\",\"India\",\"India\",\"India\",\"India\",\"India\",\"India\",\"India\",\"India\",\"India\",\"India\",\"India\",\"India\",\"India\",\"India\",\"India\",\"India\",\"India\",\"India\",\"India\",\"India\",\"India\",\"India\",\"India\",\"India\",\"India\",\"India\",\"India\",\"India\",\"India\",\"India\",\"India\",\"India\",\"India\",\"India\",\"India\",\"India\",\"India\",\"India\",\"India\",\"India\",\"India\",\"India\",\"India\",\"India\",\"India\",\"India\",\"India\",\"India\",\"India\",\"India\",\"India\",\"India\",\"India\",\"India\",\"India\",\"India\",\"India\",\"India\",\"India\",\"India\",\"India\",\"India\",\"India\",\"India\",\"India\",\"India\",\"India\",\"India\",\"India\",\"India\",\"India\",\"India\",\"India\",\"India\",\"India\",\"India\",\"India\",\"India\",\"India\",\"India\",\"India\",\"India\",\"India\",\"India\",\"India\",\"India\",\"India\",\"India\",\"India\",\"India\",\"India\",\"India\",\"India\",\"India\",\"India\",\"India\",\"India\",\"India\",\"India\",\"India\",\"India\",\"India\",\"India\",\"India\",\"India\",\"India\",\"India\",\"India\",\"India\",\"India\",\"India\",\"India\",\"India\",\"India\",\"India\",\"India\",\"India\",\"India\",\"India\",\"India\",\"India\",\"India\",\"India\",\"India\",\"India\",\"India\",\"India\",\"India\",\"India\",\"India\",\"India\",\"India\",\"India\",\"India\",\"India\",\"India\",\"India\",\"India\",\"India\",\"India\",\"India\",\"India\",\"India\",\"India\",\"India\",\"India\",\"India\",\"India\",\"India\",\"India\",\"India\",\"India\",\"India\",\"India\",\"India\",\"India\",\"India\",\"India\",\"India\",\"India\",\"India\",\"India\",\"India\",\"India\",\"India\",\"India\",\"India\",\"India\",\"India\",\"India\",\"India\",\"India\",\"India\",\"India\",\"India\",\"India\",\"India\",\"India\",\"India\",\"India\",\"India\",\"India\",\"India\",\"India\",\"India\",\"India\",\"India\",\"India\",\"India\",\"India\",\"India\",\"India\",\"India\",\"India\",\"India\",\"India\",\"India\",\"India\",\"India\",\"India\",\"India\",\"India\",\"India\",\"India\",\"India\",\"India\",\"India\",\"India\",\"India\",\"India\",\"India\",\"India\",\"India\",\"India\",\"India\",\"India\",\"India\",\"India\",\"India\",\"India\",\"India\",\"India\",\"India\",\"India\",\"India\",\"India\",\"India\",\"India\",\"India\",\"India\",\"India\",\"India\",\"India\",\"India\",\"India\",\"India\",\"India\",\"India\",\"India\",\"India\",\"India\",\"India\",\"India\",\"India\",\"India\",\"India\",\"India\",\"India\",\"India\",\"India\",\"India\",\"India\",\"India\",\"India\",\"India\",\"India\",\"India\",\"India\",\"India\",\"India\",\"India\",\"India\",\"India\",\"India\",\"India\",\"India\",\"India\",\"India\",\"India\",\"India\",\"India\",\"India\",\"India\",\"India\",\"India\",\"India\",\"India\",\"India\",\"India\",\"India\",\"India\",\"India\",\"India\",\"India\",\"India\",\"India\",\"India\",\"India\",\"India\",\"India\",\"India\",\"India\",\"India\",\"India\",\"India\",\"India\",\"India\",\"India\",\"India\",\"India\",\"India\",\"India\",\"India\",\"India\",\"India\",\"India\",\"India\",\"India\",\"India\",\"India\",\"India\",\"India\",\"India\",\"India\",\"India\",\"India\",\"India\",\"India\",\"India\",\"India\",\"India\",\"India\",\"India\",\"India\",\"India\",\"India\",\"India\",\"India\",\"India\",\"India\",\"India\",\"India\",\"India\",\"India\",\"India\",\"India\",\"India\",\"India\",\"India\",\"India\",\"India\",\"India\",\"India\",\"India\",\"India\",\"India\",\"India\",\"India\",\"India\",\"India\",\"India\",\"India\",\"India\",\"India\",\"India\",\"India\",\"India\",\"India\",\"India\",\"India\",\"India\",\"India\",\"India\",\"India\",\"India\",\"India\",\"India\",\"India\",\"India\",\"India\",\"India\",\"India\",\"India\",\"India\",\"India\",\"India\",\"India\",\"India\",\"India\",\"India\",\"India\",\"India\",\"India\",\"India\",\"India\",\"India\",\"India\",\"India\",\"India\",\"India\",\"India\",\"India\",\"India\",\"India\",\"India\",\"India\",\"India\",\"India\",\"India\",\"India\",\"India\",\"India\",\"India\",\"India\",\"India\",\"India\",\"India\",\"India\",\"India\",\"India\",\"India\",\"India\",\"India\",\"India\",\"India\",\"India\",\"India\",\"India\",\"India\",\"India\",\"India\",\"India\",\"India\",\"India\",\"India\",\"India\",\"India\",\"India\",\"India\",\"India\",\"India\",\"India\",\"India\",\"India\",\"India\",\"India\",\"India\",\"India\",\"India\",\"India\",\"India\",\"India\",\"India\",\"India\",\"India\",\"India\",\"India\",\"India\",\"India\",\"India\",\"India\",\"India\",\"India\",\"India\",\"India\",\"India\",\"India\",\"India\",\"India\",\"India\",\"India\",\"India\",\"India\",\"India\",\"India\",\"India\",\"India\",\"India\",\"India\",\"India\",\"India\",\"India\",\"India\",\"India\",\"India\",\"India\",\"India\",\"India\",\"India\",\"India\",\"India\",\"India\",\"India\",\"India\",\"India\",\"India\",\"India\",\"India\",\"India\",\"India\",\"India\",\"India\",\"India\",\"India\",\"India\",\"India\",\"India\",\"India\",\"India\",\"India\",\"India\",\"India\",\"India\",\"India\",\"India\",\"India\",\"India\",\"India\",\"India\",\"India\",\"India\",\"India\",\"India\",\"India\",\"India\",\"India\",\"India\",\"India\",\"India\",\"India\",\"India\",\"India\",\"India\",\"India\",\"India\",\"India\",\"India\",\"India\",\"India\",\"India\",\"India\",\"India\",\"India\",\"India\",\"India\",\"India\",\"India\",\"India\",\"India\",\"India\",\"India\",\"India\",\"India\",\"India\",\"India\",\"India\",\"India\",\"India\",\"India\",\"India\",\"India\",\"India\",\"India\",\"India\",\"India\",\"India\",\"India\",\"India\",\"India\",\"India\",\"India\",\"India\",\"India\",\"India\",\"India\",\"India\",\"India\",\"India\",\"India\",\"India\",\"India\",\"India\",\"India\",\"India\",\"India\",\"India\",\"India\",\"India\",\"India\",\"India\",\"India\",\"India\",\"India\",\"India\",\"India\",\"India\",\"India\",\"India\",\"India\",\"India\",\"India\",\"India\",\"India\",\"India\",\"India\",\"India\",\"India\",\"India\",\"India\",\"India\",\"India\",\"India\",\"India\",\"India\",\"India\",\"India\",\"India\",\"India\",\"India\",\"India\",\"India\",\"India\",\"India\",\"India\",\"India\",\"India\",\"India\",\"India\",\"India\",\"India\",\"India\",\"India\",\"India\",\"India\",\"India\",\"India\",\"India\",\"India\",\"India\",\"India\",\"India\",\"India\",\"India\",\"India\",\"India\",\"India\",\"India\",\"India\",\"India\",\"India\",\"India\",\"India\",\"India\",\"India\",\"India\",\"India\",\"India\",\"India\",\"India\",\"India\",\"India\",\"India\",\"India\",\"India\",\"India\",\"India\",\"India\",\"India\",\"India\",\"India\",\"India\",\"India\",\"India\",\"India\",\"India\",\"India\",\"India\",\"India\",\"India\",\"India\",\"India\",\"India\",\"India\",\"India\",\"India\",\"India\",\"India\",\"India\",\"India\",\"India\",\"India\",\"India\",\"India\",\"India\",\"India\",\"India\",\"India\",\"India\",\"India\",\"India\",\"India\",\"India\",\"India\",\"India\",\"India\",\"India\",\"India\",\"India\",\"India\",\"India\",\"India\",\"India\",\"India\",\"India\",\"India\",\"India\",\"India\",\"India\",\"India\",\"India\",\"India\",\"India\",\"India\",\"India\",\"India\",\"India\",\"India\",\"India\",\"India\",\"India\",\"India\",\"India\",\"India\",\"India\",\"India\",\"India\",\"India\",\"India\",\"India\",\"India\",\"India\",\"India\",\"India\",\"India\",\"India\",\"India\",\"India\",\"India\",\"India\",\"India\",\"India\",\"India\",\"India\",\"India\",\"India\",\"India\",\"India\",\"India\",\"India\",\"India\",\"India\",\"India\",\"India\",\"India\",\"India\",\"India\",\"India\",\"India\",\"India\",\"India\",\"India\",\"India\",\"India\",\"India\",\"India\",\"India\",\"India\",\"India\",\"India\",\"India\",\"India\",\"India\",\"India\",\"India\",\"India\",\"India\",\"India\",\"India\",\"India\",\"India\",\"India\",\"India\",\"India\",\"India\",\"India\",\"India\",\"India\",\"India\",\"India\",\"India\",\"India\",\"India\",\"India\",\"India\",\"India\",\"India\",\"India\",\"India\",\"India\",\"India\",\"India\",\"India\",\"India\",\"India\",\"India\",\"India\",\"India\",\"India\",\"India\",\"India\",\"India\",\"India\",\"India\",\"India\",\"India\",\"India\",\"India\",\"India\",\"India\",\"India\",\"India\",\"India\",\"India\",\"India\",\"India\",\"India\",\"India\",\"India\",\"India\",\"India\",\"India\",\"India\",\"India\",\"India\",\"India\",\"India\",\"India\",\"India\",\"India\",\"India\",\"India\",\"India\",\"India\",\"India\",\"India\",\"India\",\"India\",\"India\",\"India\",\"India\",\"India\",\"India\",\"India\",\"India\",\"India\",\"India\",\"India\",\"India\",\"India\",\"India\",\"India\",\"India\",\"India\",\"India\",\"India\",\"India\",\"India\",\"India\",\"India\",\"India\",\"India\",\"India\",\"India\",\"India\",\"India\",\"India\",\"India\",\"India\",\"India\",\"India\",\"India\",\"India\",\"India\",\"India\",\"India\",\"India\",\"India\",\"India\",\"India\",\"India\",\"India\",\"India\",\"India\",\"India\",\"India\",\"India\",\"India\",\"India\",\"India\",\"India\",\"India\",\"India\",\"India\",\"India\",\"India\",\"India\",\"India\",\"India\",\"India\",\"India\",\"India\",\"India\",\"India\",\"India\",\"India\",\"India\",\"India\",\"India\",\"India\",\"India\",\"India\",\"India\",\"India\",\"India\",\"India\",\"India\",\"India\",\"India\",\"India\",\"India\",\"India\",\"India\",\"India\",\"India\",\"India\",\"India\",\"India\",\"India\",\"India\",\"India\",\"India\",\"India\",\"India\",\"India\",\"India\",\"India\",\"India\",\"India\",\"India\",\"India\",\"India\",\"India\",\"India\",\"India\",\"India\",\"India\",\"India\",\"India\",\"India\",\"India\",\"India\",\"India\",\"India\",\"India\",\"India\",\"India\",\"India\",\"India\",\"India\",\"India\",\"India\",\"India\",\"India\",\"India\",\"India\",\"India\",\"India\",\"India\",\"India\",\"India\",\"India\",\"India\",\"India\",\"India\",\"India\",\"India\",\"India\",\"India\",\"India\",\"India\",\"India\",\"India\",\"India\",\"India\",\"India\",\"India\",\"India\",\"India\",\"India\",\"India\"],\"year\":[1835,1829,1830,1833,1832,1834,1828,1831,1827,1820,1825,1824,1823,1822,1821,1818,1819,1836,1826,1837,1855,1839,1817,1858,1857,1856,1854,1853,1852,1851,1850,1849,1848,1847,1846,1845,1844,1843,1842,1841,1840,1838,1816,1882,1814,1895,1894,1893,1892,1891,1890,1889,1888,1887,1886,1885,1884,1883,1859,1881,1880,1879,1878,1877,1896,1815,1897,1899,1813,1812,1811,1810,1809,1808,1807,1806,1805,1804,1803,1802,1801,1800,1799,1798,1797,1796,1900,1898,1860,1899,1862,1823,1822,1821,1820,1819,1818,1817,1816,1815,1814,1813,1812,1811,1810,1809,1808,1807,1806,1805,1824,1804,1825,1827,1847,1846,1845,1844,1843,1842,1841,1840,1839,1838,1836,1835,1834,1833,1832,1831,1830,1829,1828,1826,1803,1802,1801,1881,1880,1879,1878,1877,1876,1875,1874,1873,1872,1871,1870,1869,1868,1867,1866,1865,1864,1863,1882,1883,1884,1885,1800,1799,1798,1797,1796,1900,1876,1898,1897,1861,1896,1894,1893,1892,1891,1890,1889,1888,1887,1886,1895,1875,1836,1873,1862,1861,1860,1859,1858,1857,1856,1855,1854,1853,1852,1851,1850,1849,1848,1847,1846,1845,1844,1863,1843,1864,1866,1885,1884,1883,1882,1881,1880,1879,1878,1877,1876,1875,1874,1873,1872,1871,1870,1869,1868,1867,1865,1886,1842,1840,1816,1815,1814,1813,1812,1811,1810,1809,1808,1807,1806,1805,1804,1803,1802,1801,1800,1799,1848,1817,1841,1818,1820,1839,1838,1837,1836,1835,1834,1833,1832,1831,1830,1829,1828,1827,1826,1825,1824,1823,1822,1821,1819,1874,1887,1889,1849,1848,1847,1846,1845,1844,1843,1842,1841,1840,1839,1838,1837,1835,1834,1833,1832,1831,1830,1850,1829,1851,1853,1872,1871,1870,1869,1868,1867,1866,1865,1864,1863,1862,1861,1860,1859,1858,1857,1856,1855,1854,1852,1888,1828,1826,1798,1802,1801,1800,1799,1798,1797,1796,1900,1899,1898,1897,1896,1895,1894,1893,1892,1891,1890,1803,1827,1804,1806,1825,1824,1823,1822,1821,1820,1819,1818,1817,1816,1815,1814,1813,1812,1811,1810,1809,1808,1807,1805,1849,1896,1851,1890,1889,1888,1887,1886,1885,1884,1883,1882,1881,1880,1879,1878,1877,1876,1875,1874,1873,1872,1891,1871,1892,1894,1809,1808,1807,1806,1805,1804,1803,1802,1801,1800,1799,1798,1797,1796,1900,1899,1898,1897,1895,1893,1810,1870,1868,1844,1843,1842,1841,1840,1839,1838,1837,1836,1835,1834,1833,1832,1831,1830,1829,1828,1827,1826,1845,1869,1846,1848,1867,1866,1865,1864,1863,1862,1861,1860,1859,1858,1857,1856,1855,1854,1853,1852,1851,1850,1849,1847,1825,1811,1813,1878,1877,1876,1875,1874,1873,1872,1871,1870,1869,1868,1867,1866,1865,1864,1863,1862,1861,1860,1879,1859,1880,1882,1797,1900,1899,1898,1897,1896,1895,1894,1893,1892,1891,1890,1889,1888,1887,1886,1885,1884,1883,1881,1812,1858,1856,1832,1831,1830,1829,1828,1827,1826,1825,1824,1823,1822,1821,1820,1819,1818,1817,1816,1815,1814,1833,1857,1834,1836,1855,1854,1853,1852,1851,1850,1849,1848,1847,1846,1845,1844,1843,1842,1841,1840,1839,1838,1837,1835,1850,1824,1822,1811,1810,1809,1808,1807,1806,1805,1804,1803,1802,1801,1800,1799,1798,1797,1796,1900,1899,1898,1812,1897,1813,1815,1834,1833,1832,1831,1830,1829,1828,1827,1826,1825,1824,1823,1822,1821,1820,1819,1818,1817,1816,1814,1835,1896,1894,1870,1869,1868,1867,1866,1865,1864,1863,1862,1861,1860,1859,1858,1857,1856,1855,1854,1853,1852,1871,1895,1872,1874,1893,1892,1891,1890,1889,1888,1887,1886,1885,1884,1883,1882,1881,1880,1879,1878,1877,1876,1875,1873,1823,1836,1838,1798,1797,1796,1900,1899,1898,1897,1896,1895,1894,1893,1892,1891,1890,1889,1888,1887,1886,1885,1799,1884,1800,1802,1821,1820,1819,1818,1817,1816,1815,1814,1813,1812,1811,1810,1809,1808,1807,1806,1805,1804,1803,1801,1837,1883,1881,1857,1856,1855,1854,1853,1852,1851,1850,1849,1848,1847,1846,1845,1844,1843,1842,1841,1840,1839,1858,1882,1859,1861,1880,1879,1878,1877,1876,1875,1874,1873,1872,1871,1870,1869,1868,1867,1866,1865,1864,1863,1862,1860,1796,1837,1899,1835,1834,1833,1832,1831,1830,1829,1828,1827,1826,1825,1824,1823,1822,1821,1820,1819,1818,1817,1836,1816,1837,1839,1858,1857,1856,1855,1854,1853,1852,1851,1850,1849,1848,1847,1846,1845,1844,1843,1842,1841,1840,1838,1859,1815,1813,1894,1893,1892,1891,1890,1889,1888,1887,1886,1885,1884,1883,1882,1881,1880,1879,1878,1877,1876,1895,1814,1896,1898,1812,1811,1810,1809,1808,1807,1806,1805,1804,1803,1802,1801,1800,1799,1798,1797,1796,1900,1899,1897,1875,1860,1862,1822,1821,1820,1819,1818,1817,1816,1815,1814,1813,1812,1811,1810,1809,1808,1807,1806,1805,1804,1823,1803,1824,1826,1845,1844,1843,1842,1841,1840,1839,1838,1837,1836,1835,1834,1833,1832,1831,1830,1829,1828,1827,1825,1861,1802,1800,1881,1880,1879,1878,1877,1876,1875,1874,1873,1872,1871,1870,1869,1868,1867,1866,1865,1864,1863,1882,1801,1883,1885,1799,1798,1797,1796,1900,1899,1898,1897,1896,1895,1894,1893,1892,1891,1890,1889,1888,1887,1886,1884,1846,1874,1872,1860,1859,1858,1857,1856,1855,1854,1853,1852,1851,1850,1849,1848,1847,1846,1845,1844,1843,1842,1861,1841,1862,1864,1883,1882,1881,1880,1879,1878,1877,1876,1875,1874,1873,1872,1871,1870,1869,1868,1867,1866,1865,1863,1884,1840,1838,1814,1813,1812,1811,1810,1809,1808,1807,1806,1805,1804,1803,1802,1801,1800,1799,1798,1797,1796,1815,1839,1816,1818,1837,1836,1835,1834,1833,1832,1831,1830,1829,1828,1827,1826,1825,1824,1823,1822,1821,1820,1819,1817,1873,1885,1887,1847,1846,1845,1844,1843,1842,1841,1840,1839,1838,1837,1836,1835,1834,1833,1832,1831,1830,1829,1848,1828,1849,1851,1871,1870,1869,1867,1866,1865,1864,1863,1862,1861,1860,1859,1858,1857,1856,1855,1854,1853,1852,1850,1886,1827,1825,1801,1800,1799,1798,1797,1796,1900,1899,1898,1897,1896,1895,1894,1893,1892,1891,1890,1889,1888,1802,1826,1803,1805,1824,1823,1822,1821,1820,1819,1818,1817,1816,1815,1814,1813,1812,1811,1810,1809,1808,1807,1806,1804,1847,1868,1849,1889,1888,1887,1886,1885,1884,1883,1882,1881,1880,1879,1878,1877,1876,1875,1874,1873,1872,1871,1890,1870,1891,1893,1807,1806,1805,1804,1803,1802,1801,1800,1799,1798,1797,1796,1900,1899,1898,1897,1896,1895,1894,1892,1808,1869,1867,1842,1841,1840,1839,1838,1837,1836,1835,1834,1833,1832,1831,1830,1829,1828,1827,1826,1825,1824,1843,1868,1844,1846,1866,1865,1864,1863,1862,1861,1860,1859,1857,1856,1855,1854,1853,1852,1851,1850,1849,1848,1847,1845,1823,1809,1811,1876,1875,1874,1873,1872,1871,1870,1869,1868,1867,1866,1865,1864,1863,1862,1861,1860,1859,1858,1877,1857,1878,1880,1848,1898,1897,1896,1895,1894,1893,1892,1891,1890,1889,1888,1887,1886,1885,1884,1883,1882,1881,1879,1810,1856,1854,1830,1829,1828,1827,1826,1825,1824,1823,1822,1821,1820,1819,1818,1817,1816,1815,1814,1813,1812,1831,1855,1832,1834,1853,1852,1851,1850,1849,1848,1847,1846,1845,1844,1843,1842,1841,1840,1839,1838,1837,1836,1835,1833,1822,1858,1820,1809,1808,1807,1806,1805,1804,1803,1802,1801,1800,1799,1821,1797,1796,1900,1899,1898,1897,1896,1810,1895,1811,1813,1832,1831,1830,1829,1828,1827,1826,1825,1824,1823,1822,1821,1820,1819,1818,1817,1816,1815,1814,1812,1894,1893,1892,1867,1866,1865,1864,1863,1862,1861,1860,1859,1900,1858,1857,1856,1855,1854,1853,1852,1851,1850,1868,1869,1870,1871,1891,1890,1889,1888,1887,1886,1885,1884,1883,1833,1882,1880,1879,1878,1877,1876,1875,1874,1873,1872,1881,1834,1798,1836,1796,1900,1899,1898,1897,1896,1895,1894,1893,1892,1891,1890,1889,1888,1887,1886,1885,1884,1883,1797,1882,1798,1800,1819,1818,1817,1816,1815,1814,1813,1835,1811,1810,1809,1808,1807,1806,1805,1804,1803,1802,1801,1799,1881,1812,1879,1855,1854,1853,1852,1851,1880,1849,1848,1847,1846,1845,1844,1843,1842,1841,1840,1839,1838,1837,1856,1857,1850,1859,1878,1877,1876,1858,1874,1873,1872,1871,1870,1875,1868,1869,1861,1863,1864,1862,1866,1867,1865,1860]},\"selected\":{\"id\":\"1661\"},\"selection_policy\":{\"id\":\"1707\"}},\"id\":\"1660\",\"type\":\"ColumnDataSource\"},{\"attributes\":{\"line_color\":\"#e5ae38\",\"line_width\":2,\"x\":{\"field\":\"year\"},\"y\":{\"field\":\"AverageTemperature\"}},\"id\":\"1165\",\"type\":\"Line\"},{\"attributes\":{},\"id\":\"2127\",\"type\":\"UnionRenderers\"},{\"attributes\":{\"source\":{\"id\":\"1516\"}},\"id\":\"1523\",\"type\":\"CDSView\"},{\"attributes\":{\"line_alpha\":0.2,\"line_color\":\"#9467bd\",\"line_width\":2,\"x\":{\"field\":\"year\"},\"y\":{\"field\":\"AverageTemperature\"}},\"id\":\"1771\",\"type\":\"Line\"},{\"attributes\":{\"line_alpha\":0.2,\"line_color\":\"#fc4f30\",\"line_width\":2,\"x\":{\"field\":\"year\"},\"y\":{\"field\":\"AverageTemperature\"}},\"id\":\"1521\",\"type\":\"Line\"},{\"attributes\":{\"label\":{\"value\":\"Iran\"},\"renderers\":[{\"id\":\"1772\"}]},\"id\":\"1820\",\"type\":\"LegendItem\"},{\"attributes\":{\"label\":{\"value\":\"Ethiopia\"},\"renderers\":[{\"id\":\"1522\"}]},\"id\":\"1560\",\"type\":\"LegendItem\"},{\"attributes\":{},\"id\":\"1167\",\"type\":\"Selection\"},{\"attributes\":{},\"id\":\"1817\",\"type\":\"UnionRenderers\"},{\"attributes\":{},\"id\":\"1557\",\"type\":\"UnionRenderers\"},{\"attributes\":{\"line_alpha\":0.1,\"line_color\":\"#6d904f\",\"line_width\":2,\"x\":{\"field\":\"year\"},\"y\":{\"field\":\"AverageTemperature\"}},\"id\":\"1170\",\"type\":\"Line\"},{\"attributes\":{\"coordinates\":null,\"data_source\":{\"id\":\"1166\"},\"glyph\":{\"id\":\"1169\"},\"group\":null,\"hover_glyph\":null,\"muted_glyph\":{\"id\":\"1171\"},\"nonselection_glyph\":{\"id\":\"1170\"},\"selection_glyph\":{\"id\":\"1191\"},\"view\":{\"id\":\"1173\"}},\"id\":\"1172\",\"type\":\"GlyphRenderer\"},{\"attributes\":{\"data\":{\"AverageTemperature\":{\"__ndarray__\":\"F9nO91NbOUCbC0lTKnY5QDTsCpB7bTlAJzEIrBwSOUBpA5020Fk5QAAAAAAAIDlAbxKDwMpZOUAREREREVk5QASdNtBp+zhAw64AudcMOUAQWDm0yCY5QMi95kLS5DhADy2yne/vOEDdJAaBlQM5QKwcWmQ7RzlAIWlKxdk3OUCZ4ME8UZ84QCW/WPKLVTlAjd6WtTpmOUDdJAaBlWM5QB1aZDvf5zhA/WLJL5Y0OUAv3SQGgSU5QJ020GkDfRRAcT0K16M4OUAMAiuHFtk5QM/3U+OlEzlA9Las1THxOUDIBA/miUo5QGWtjgkefDlAY8kvlvziOUAtsp3vp9Y5QHcFyL3mYjlAQacNdNpwOUCPCR7ME404QE3wYJ6oXzlAME/UvxFKOUAARyijtzU5QHcFyL3mOjlAFWcfPsM+OUCnVJx9+Bw5QI8JHswTZTlAk18s+cVSOUAlBoGVQ9M4QHVM8GCe+DhAn++nxkt3OUAtsp3vpzY5QEX9G6GMLjlAi2zn+6nJOUDday4kTdE5QHDLWh0TJDlAJb9Y8ou1OEBLfrHkF8s4QKl/I5TRszhAQWDl0CJDOEAzwYN5ojY4QH0/NV66MThAVVVVVVVtOED0/dR46XY2QNCwK0Du5ThAAAAAAAAAAAAAAAAAAAAAAAAAAAAAAAAAAAAAAAAAAAAAAAAAAAAAAHCEMnpb9jRATxvotIGOOUALkHvNhaQ5QNQGOm2gCzpA/41QRm+7OUDkXnMhafo5QAG511xI8jRAcfbhM+yKOUC3rNUxwZs5QLQPn2FX+DVA54n6N0JZOUBEi2zn+7k4QMQgsHJoAThAWIDcay5UOED1b4QyegM1QJgn6t8IdTlAZfS2rNVBOUBvEoPAytk4QLHkF0t+GTlAuddcSJoKOUBxPQrXo2A5QCuHFtnORzlAAXKvuZDkOED5xZJfLNk4QFg5tMh25jhAY8kvlvwKOUDVMcGDefo3QLes1THBqzhAG+i0gU47OUBNqTj78Bk5QAvXo3A9AjlAmCfq3wilOUDcay4kTXE5QEkMAiuHdjlAKKO3Za0GOUATg8DKoT05QHOvuZA0DTlA1XjpJjFgOUCe76fGS/c0QKO3Za2OqTlA\",\"dtype\":\"float64\",\"order\":\"little\",\"shape\":[105]},\"Country\":[\"Bangladesh\",\"Bangladesh\",\"Bangladesh\",\"Bangladesh\",\"Bangladesh\",\"Bangladesh\",\"Bangladesh\",\"Bangladesh\",\"Bangladesh\",\"Bangladesh\",\"Bangladesh\",\"Bangladesh\",\"Bangladesh\",\"Bangladesh\",\"Bangladesh\",\"Bangladesh\",\"Bangladesh\",\"Bangladesh\",\"Bangladesh\",\"Bangladesh\",\"Bangladesh\",\"Bangladesh\",\"Bangladesh\",\"Bangladesh\",\"Bangladesh\",\"Bangladesh\",\"Bangladesh\",\"Bangladesh\",\"Bangladesh\",\"Bangladesh\",\"Bangladesh\",\"Bangladesh\",\"Bangladesh\",\"Bangladesh\",\"Bangladesh\",\"Bangladesh\",\"Bangladesh\",\"Bangladesh\",\"Bangladesh\",\"Bangladesh\",\"Bangladesh\",\"Bangladesh\",\"Bangladesh\",\"Bangladesh\",\"Bangladesh\",\"Bangladesh\",\"Bangladesh\",\"Bangladesh\",\"Bangladesh\",\"Bangladesh\",\"Bangladesh\",\"Bangladesh\",\"Bangladesh\",\"Bangladesh\",\"Bangladesh\",\"Bangladesh\",\"Bangladesh\",\"Bangladesh\",\"Bangladesh\",\"Bangladesh\",\"Bangladesh\",\"Bangladesh\",\"Bangladesh\",\"Bangladesh\",\"Bangladesh\",\"Bangladesh\",\"Bangladesh\",\"Bangladesh\",\"Bangladesh\",\"Bangladesh\",\"Bangladesh\",\"Bangladesh\",\"Bangladesh\",\"Bangladesh\",\"Bangladesh\",\"Bangladesh\",\"Bangladesh\",\"Bangladesh\",\"Bangladesh\",\"Bangladesh\",\"Bangladesh\",\"Bangladesh\",\"Bangladesh\",\"Bangladesh\",\"Bangladesh\",\"Bangladesh\",\"Bangladesh\",\"Bangladesh\",\"Bangladesh\",\"Bangladesh\",\"Bangladesh\",\"Bangladesh\",\"Bangladesh\",\"Bangladesh\",\"Bangladesh\",\"Bangladesh\",\"Bangladesh\",\"Bangladesh\",\"Bangladesh\",\"Bangladesh\",\"Bangladesh\",\"Bangladesh\",\"Bangladesh\",\"Bangladesh\",\"Bangladesh\"],\"year\":[1865,1866,1867,1868,1873,1870,1871,1872,1864,1869,1863,1856,1861,1860,1859,1858,1857,1855,1854,1853,1852,1851,1874,1862,1875,1889,1877,1900,1899,1898,1897,1896,1895,1894,1893,1892,1891,1890,1850,1888,1887,1886,1885,1884,1883,1882,1881,1880,1879,1878,1876,1849,1831,1847,1818,1817,1816,1815,1814,1813,1812,1811,1810,1809,1808,1807,1806,1805,1804,1803,1802,1801,1800,1799,1797,1796,1848,1819,1820,1798,1822,1821,1845,1843,1842,1841,1840,1839,1838,1837,1836,1835,1844,1833,1823,1834,1824,1825,1826,1846,1828,1829,1830,1832,1827]},\"selected\":{\"id\":\"1167\"},\"selection_policy\":{\"id\":\"1187\"}},\"id\":\"1166\",\"type\":\"ColumnDataSource\"},{\"attributes\":{\"line_alpha\":0.2,\"line_color\":\"#6d904f\",\"line_width\":2,\"x\":{\"field\":\"year\"},\"y\":{\"field\":\"AverageTemperature\"}},\"id\":\"1171\",\"type\":\"Line\"},{\"attributes\":{\"line_color\":\"#e377c2\",\"line_width\":2,\"x\":{\"field\":\"year\"},\"y\":{\"field\":\"AverageTemperature\"}},\"id\":\"2901\",\"type\":\"Line\"},{\"attributes\":{\"label\":{\"value\":\"Bangladesh\"},\"renderers\":[{\"id\":\"1172\"}]},\"id\":\"1190\",\"type\":\"LegendItem\"},{\"attributes\":{\"line_color\":\"#6d904f\",\"line_width\":2,\"x\":{\"field\":\"year\"},\"y\":{\"field\":\"AverageTemperature\"}},\"id\":\"1191\",\"type\":\"Line\"},{\"attributes\":{},\"id\":\"4317\",\"type\":\"Selection\"},{\"attributes\":{\"line_color\":\"#bcbd22\",\"line_width\":2,\"x\":{\"field\":\"year\"},\"y\":{\"field\":\"AverageTemperature\"}},\"id\":\"4315\",\"type\":\"Line\"},{\"attributes\":{\"line_color\":\"#30a2da\",\"line_width\":2,\"x\":{\"field\":\"year\"},\"y\":{\"field\":\"AverageTemperature\"}},\"id\":\"4319\",\"type\":\"Line\"},{\"attributes\":{\"source\":{\"id\":\"4316\"}},\"id\":\"4323\",\"type\":\"CDSView\"},{\"attributes\":{},\"id\":\"3267\",\"type\":\"Selection\"},{\"attributes\":{\"line_color\":\"#9467bd\",\"line_width\":2,\"x\":{\"field\":\"year\"},\"y\":{\"field\":\"AverageTemperature\"}},\"id\":\"3765\",\"type\":\"Line\"},{\"attributes\":{\"data\":{\"AverageTemperature\":{\"__ndarray__\":\"V8cED+YJI0BBYOXQInsiQByhjN6WtSFA3WsuJE3pIEDq3whl9NYiQIGVQ4ts9yRAj8L1KFwfIkCl4uzDZ2giQOtRuB6F6yNAseQXS37hIEDmifo3QpkiQO3DZ9gVECBAv58aL91UIkBx9uEz7GokQNFpA5028CNAo7dlrY5ZIkDDrgC518wiQGatjgkeLCVAwYN5ov49IkD5DLsC5E4jQBFYObTIViBAzYWkKRX3I0CuR+F6FD4kQM3MzMzMvCJAfM2FpCk1JEC/5kLSlMofQGX0tqzVkSFA4cE8Uf8GJEDNzMzMzHwiQJhuEoPAyiJASOF6FK73IkAZdgXIvRYiQLWBThvotCFAHOi0gU4bIECnDXTaQMchQPVvhDJ6WyFAf7HkF0veIkDZzvdT49UiQJNfLPnFsiJA4jPsCpDLI0AFVg4tsl0hQHsUrkfhmiFA6LSBThvIIEBLxdmHz6AgQIts5/up0SFANaXi7MO3IUCIz7ArQE4hQI9QRm/LuiNAKOrfCGW0IEAzelvW6tgiQI/C9ShczyFAuwLkXnPRIkArzj58hv0iQF1ImlJxJiRAF9nO91OzI0BqA5020JkhQLOd76fGGyRAy6FFtvMdI0Dvp8ZLN2kiQGoDnTbQaSFARrbz/dR4IUCVirMPn6EjQK+5kDSlYiNAB4GVQ4scIkAkTak4+wAlQJqZmZmZ6SJAikFg5dDiIUCQe82FpNkiQNhcSJpS8SFA7AqQe82FIkAywYN5or4iQLXIdr6f2iJAmwtJUyp+I0CU0duyVncjQKwcWmQ77yJALyRNqTh7HkAlv1jyiyUkQImIiIiIuCRA0SLb+X7aIkDVeOkmMTghQJngwTxRfyFAFiD3mgtJIkDEZ9gVIOchQHTaQKcNJCJA5RdLfrH0IUCGpCkVZz8iQMaSXyz5FSJA2RUg95r7IUBxPQrXoxAiQOPsw2fYtSJAkHvNhaSpIkAv3SQGgTUiQM8+fIZdMSRAVZx9+AxrIkA1XrpJDIIiQCUGgZVDmyNAxSCwcmiRIUBpke18P4UlQDCW/GLJXyNAJr9Y8ou1IUBHb8taHUMjQESLbOf7KQ5AP3yGXQGSG0BrvHSTGAT2PwAAAAAAAAAAAAAAAAAAAAAAAAAAAAAAANnO91PjhSJAAAAAAAAAAABQjZduEqMaQDhCGb0tKwpAPsOuALnXIkAv3SQGgWUiQNCwK0Du5SFA+FPjpZvUIkCK+jdCGa0iQDptoNMGyiJA8/3UeOlWI0Bo2BUg95ojQLes1THB4yBACWX0tqyVIUD9YskvlrwiQMuhRbbzHSFAsHJoke28I0AywYN5og4iQDsmeDBP1CFABoGVQ4v8IUBZObTIdp4iQDn78Bl2NSRAYZ6ofyNEIkBR/0Yoo7cfQG2g0wY6/SFAGb0ta3XsH0AcoYzeluUhQFK4HoXrwSNAfvgMuwLUJEChjN6WtSohQEcoo7dlXSNAAiuHFtnuIUCNl24Sg8AfQDVeukkM8iNA30+Nl26iIkAv3SQGgZUgQFVVVVVVFSFAgk4b6LSxIEAEVg4tsg0jQHd3d3d3xyJAVg4tsp0/IkCSplScfVgjQC8kTak4KyNAZTvfT42nI0DQaQOdNiAjQM3MzMzMLCNACR7ME/X/I0DjpZvEIGAiQKP+jVBG/yJAW2Q73089I0D5DLsC5C4jQA==\",\"dtype\":\"float64\",\"order\":\"little\",\"shape\":[158]},\"Country\":[\"United Kingdom\",\"United Kingdom\",\"United Kingdom\",\"United Kingdom\",\"United Kingdom\",\"United Kingdom\",\"United Kingdom\",\"United Kingdom\",\"United Kingdom\",\"United Kingdom\",\"United Kingdom\",\"United Kingdom\",\"United Kingdom\",\"United Kingdom\",\"United Kingdom\",\"United Kingdom\",\"United Kingdom\",\"United Kingdom\",\"United Kingdom\",\"United Kingdom\",\"United Kingdom\",\"United Kingdom\",\"United Kingdom\",\"United Kingdom\",\"United Kingdom\",\"United Kingdom\",\"United Kingdom\",\"United Kingdom\",\"United Kingdom\",\"United Kingdom\",\"United Kingdom\",\"United Kingdom\",\"United Kingdom\",\"United Kingdom\",\"United Kingdom\",\"United Kingdom\",\"United Kingdom\",\"United Kingdom\",\"United Kingdom\",\"United Kingdom\",\"United Kingdom\",\"United Kingdom\",\"United Kingdom\",\"United Kingdom\",\"United Kingdom\",\"United Kingdom\",\"United Kingdom\",\"United Kingdom\",\"United Kingdom\",\"United Kingdom\",\"United Kingdom\",\"United Kingdom\",\"United Kingdom\",\"United Kingdom\",\"United Kingdom\",\"United Kingdom\",\"United Kingdom\",\"United Kingdom\",\"United Kingdom\",\"United Kingdom\",\"United Kingdom\",\"United Kingdom\",\"United Kingdom\",\"United Kingdom\",\"United Kingdom\",\"United Kingdom\",\"United Kingdom\",\"United Kingdom\",\"United Kingdom\",\"United Kingdom\",\"United Kingdom\",\"United Kingdom\",\"United Kingdom\",\"United Kingdom\",\"United Kingdom\",\"United Kingdom\",\"United Kingdom\",\"United Kingdom\",\"United Kingdom\",\"United Kingdom\",\"United Kingdom\",\"United Kingdom\",\"United Kingdom\",\"United Kingdom\",\"United Kingdom\",\"United Kingdom\",\"United Kingdom\",\"United Kingdom\",\"United Kingdom\",\"United Kingdom\",\"United Kingdom\",\"United Kingdom\",\"United Kingdom\",\"United Kingdom\",\"United Kingdom\",\"United Kingdom\",\"United Kingdom\",\"United Kingdom\",\"United Kingdom\",\"United Kingdom\",\"United Kingdom\",\"United Kingdom\",\"United Kingdom\",\"United Kingdom\",\"United Kingdom\",\"United Kingdom\",\"United Kingdom\",\"United Kingdom\",\"United Kingdom\",\"United Kingdom\",\"United Kingdom\",\"United Kingdom\",\"United Kingdom\",\"United Kingdom\",\"United Kingdom\",\"United Kingdom\",\"United Kingdom\",\"United Kingdom\",\"United Kingdom\",\"United Kingdom\",\"United Kingdom\",\"United Kingdom\",\"United Kingdom\",\"United Kingdom\",\"United Kingdom\",\"United Kingdom\",\"United Kingdom\",\"United Kingdom\",\"United Kingdom\",\"United Kingdom\",\"United Kingdom\",\"United Kingdom\",\"United Kingdom\",\"United Kingdom\",\"United Kingdom\",\"United Kingdom\",\"United Kingdom\",\"United Kingdom\",\"United Kingdom\",\"United Kingdom\",\"United Kingdom\",\"United Kingdom\",\"United Kingdom\",\"United Kingdom\",\"United Kingdom\",\"United Kingdom\",\"United Kingdom\",\"United Kingdom\",\"United Kingdom\",\"United Kingdom\",\"United Kingdom\",\"United Kingdom\",\"United Kingdom\",\"United Kingdom\",\"United Kingdom\",\"United Kingdom\",\"United Kingdom\",\"United Kingdom\"],\"year\":[1848,1847,1844,1845,1849,1846,1850,1858,1852,1853,1854,1855,1856,1857,1859,1851,1843,1834,1841,1824,1860,1825,1826,1827,1828,1829,1830,1831,1832,1833,1835,1836,1837,1838,1839,1840,1842,1861,1880,1863,1885,1886,1887,1888,1889,1890,1891,1884,1892,1894,1895,1896,1897,1898,1899,1823,1893,1862,1883,1881,1864,1865,1866,1867,1868,1869,1870,1882,1871,1873,1874,1875,1876,1900,1878,1879,1872,1822,1877,1820,1763,1764,1765,1766,1767,1768,1769,1762,1770,1772,1773,1774,1775,1776,1777,1778,1771,1779,1761,1758,1821,1743,1744,1745,1746,1747,1748,1760,1749,1751,1752,1753,1754,1755,1756,1757,1750,1780,1759,1782,1803,1804,1805,1806,1807,1808,1809,1802,1811,1813,1814,1815,1816,1817,1818,1781,1812,1801,1810,1799,1783,1800,1784,1785,1786,1787,1788,1789,1790,1819,1798,1792,1793,1794,1795,1796,1797,1791]},\"selected\":{\"id\":\"3981\"},\"selection_policy\":{\"id\":\"4085\"}},\"id\":\"3980\",\"type\":\"ColumnDataSource\"},{\"attributes\":{\"line_alpha\":0.1,\"line_color\":\"#30a2da\",\"line_width\":2,\"x\":{\"field\":\"year\"},\"y\":{\"field\":\"AverageTemperature\"}},\"id\":\"4320\",\"type\":\"Line\"},{\"attributes\":{\"coordinates\":null,\"data_source\":{\"id\":\"4316\"},\"glyph\":{\"id\":\"4319\"},\"group\":null,\"hover_glyph\":null,\"muted_glyph\":{\"id\":\"4321\"},\"nonselection_glyph\":{\"id\":\"4320\"},\"selection_glyph\":{\"id\":\"4431\"},\"view\":{\"id\":\"4323\"}},\"id\":\"4322\",\"type\":\"GlyphRenderer\"},{\"attributes\":{\"line_color\":\"#fc4f30\",\"line_width\":2,\"x\":{\"field\":\"year\"},\"y\":{\"field\":\"AverageTemperature\"}},\"id\":\"3265\",\"type\":\"Line\"},{\"attributes\":{\"coordinates\":null,\"data_source\":{\"id\":\"3766\"},\"glyph\":{\"id\":\"3769\"},\"group\":null,\"hover_glyph\":null,\"muted_glyph\":{\"id\":\"3771\"},\"nonselection_glyph\":{\"id\":\"3770\"},\"selection_glyph\":{\"id\":\"3871\"},\"view\":{\"id\":\"3773\"}},\"id\":\"3772\",\"type\":\"GlyphRenderer\"},{\"attributes\":{\"line_color\":\"#e5ae38\",\"line_width\":2,\"x\":{\"field\":\"year\"},\"y\":{\"field\":\"AverageTemperature\"}},\"id\":\"3269\",\"type\":\"Line\"},{\"attributes\":{\"line_alpha\":0.2,\"line_color\":\"#d62728\",\"line_width\":2,\"x\":{\"field\":\"year\"},\"y\":{\"field\":\"AverageTemperature\"}},\"id\":\"3771\",\"type\":\"Line\"},{\"attributes\":{\"source\":{\"id\":\"3266\"}},\"id\":\"3273\",\"type\":\"CDSView\"},{\"attributes\":{\"line_alpha\":0.2,\"line_color\":\"#30a2da\",\"line_width\":2,\"x\":{\"field\":\"year\"},\"y\":{\"field\":\"AverageTemperature\"}},\"id\":\"4321\",\"type\":\"Line\"},{\"attributes\":{\"line_color\":\"#1f77b4\",\"line_width\":2,\"x\":{\"field\":\"year\"},\"y\":{\"field\":\"AverageTemperature\"}},\"id\":\"3875\",\"type\":\"Line\"},{\"attributes\":{\"label\":{\"value\":\"Zimbabwe\"},\"renderers\":[{\"id\":\"4322\"}]},\"id\":\"4430\",\"type\":\"LegendItem\"},{\"attributes\":{\"line_color\":\"#8b8b8b\",\"line_width\":2,\"x\":{\"field\":\"year\"},\"y\":{\"field\":\"AverageTemperature\"}},\"id\":\"3463\",\"type\":\"Line\"},{\"attributes\":{\"line_alpha\":0.1,\"line_color\":\"#d62728\",\"line_width\":2,\"x\":{\"field\":\"year\"},\"y\":{\"field\":\"AverageTemperature\"}},\"id\":\"3770\",\"type\":\"Line\"},{\"attributes\":{\"source\":{\"id\":\"3766\"}},\"id\":\"3773\",\"type\":\"CDSView\"},{\"attributes\":{},\"id\":\"4427\",\"type\":\"UnionRenderers\"},{\"attributes\":{\"line_alpha\":0.1,\"line_color\":\"#e5ae38\",\"line_width\":2,\"x\":{\"field\":\"year\"},\"y\":{\"field\":\"AverageTemperature\"}},\"id\":\"3270\",\"type\":\"Line\"},{\"attributes\":{\"label\":{\"value\":\"Turkey\"},\"renderers\":[{\"id\":\"3772\"}]},\"id\":\"3870\",\"type\":\"LegendItem\"},{\"attributes\":{\"coordinates\":null,\"data_source\":{\"id\":\"3266\"},\"glyph\":{\"id\":\"3269\"},\"group\":null,\"hover_glyph\":null,\"muted_glyph\":{\"id\":\"3271\"},\"nonselection_glyph\":{\"id\":\"3270\"},\"selection_glyph\":{\"id\":\"3361\"},\"view\":{\"id\":\"3273\"}},\"id\":\"3272\",\"type\":\"GlyphRenderer\"},{\"attributes\":{},\"id\":\"3867\",\"type\":\"UnionRenderers\"},{\"attributes\":{\"line_alpha\":0.2,\"line_color\":\"#e5ae38\",\"line_width\":2,\"x\":{\"field\":\"year\"},\"y\":{\"field\":\"AverageTemperature\"}},\"id\":\"3271\",\"type\":\"Line\"},{\"attributes\":{\"data\":{\"AverageTemperature\":{\"__ndarray__\":\"i2zn+6mRMECmm8QgsBoxQO/u7u7ubjFAk18s+cVCMUAadgXIvV4xQNnO91Pj7TBAFa5H4XqEMUDIveZC0vwwQGcfPsOuIDBA+FPjpZs0MUCJQWDl0CIwQD7DrgC5nzFAHVpkO983MUDByqFFtvMwQJ6ofyOUWTBAYxBYObTQMEBuWatjgl8xQC2yne+nvjBAC0lTKs7WMUARERERETExQFZVVVVVtTFAYxBYObSYMEDHBA/miSoxQMl2vp8aNzFAo/6NUEafMUCt1THBg9kxQBERERERQTFACWX0tqxtMEBZq2OCBzMxQG2g0wY6lTFAZTvfT41nMUAt+cWSX+wwQL0ta3VMoDBAL90kBoHFMEADnTbQaRMxQNtApw10ejBAwjxR/0bwMEBI4XoUro8xQMi95kLSNDFAfT81Xro5MUDAEcrobYkxQO0KkHvNXTFAERERERF5MUDvNReSpgQxQBsv3SQGgTFApHA9CterMED9YskvlqQwQLhlrY4JHjFAvuZC0pRSMEArzj58hhUyQEcoo7dlzTFA+FPjpZvMMUBNqTj78IkxQBFYObTIBjFAfT81XrqRMUCAI5TR2/owQLNWxwQPvjBAuwLkXnPBMEDRItv5fpIwQAkezBP1DzBAl24Sg8AaMEDSlIqzDxcwQClcj8L1ADBAuB6F61G4BkAAAAAAAAAAAAAAAAAAAAAAAAAAAAAAAAAAAAAAAAAAAGjYFSD3WjBAAAAAAAAAAAAAAAAAAAAAAAAAAAAAAAAAAAAAAAAAAAAAAAAAAAAAAAAAAAAAAAAAAAAAAAAAAAAAAAAAAAAAAAAAAAAAAAAAsp3vp8Y7MUAAAAAAACw1QEOLbOf7CTFAAAAAAAAAAAB02kCnDfQvQAAAAAAAAAAArBxaZDsHMUCfYVeA3DMwQIXrUbge/TBAW2Q7308FMUBwhDJ6W24wQMwT9W+EejBAS36x5BczMEDVeOkmMXgwQNv5fmq89DBAD+aJ+jdaMEDjpZvEILgwQBm9LWt15DBAdwXIveaiL0AREREREakwQCa/WPKLzTBAblmrY4JPMUCLsw+fYf8wQDfQaQOd9jFA/WLJL5bsMEBnHz7DrgAxQCD3mgtJ6zFAqvHSTWIIMUBcj8L1KHwwQBvotIFOwzBA80T9G6GkMED4U+Olm5QwQA==\",\"dtype\":\"float64\",\"order\":\"little\",\"shape\":[110]},\"Country\":[\"Syria\",\"Syria\",\"Syria\",\"Syria\",\"Syria\",\"Syria\",\"Syria\",\"Syria\",\"Syria\",\"Syria\",\"Syria\",\"Syria\",\"Syria\",\"Syria\",\"Syria\",\"Syria\",\"Syria\",\"Syria\",\"Syria\",\"Syria\",\"Syria\",\"Syria\",\"Syria\",\"Syria\",\"Syria\",\"Syria\",\"Syria\",\"Syria\",\"Syria\",\"Syria\",\"Syria\",\"Syria\",\"Syria\",\"Syria\",\"Syria\",\"Syria\",\"Syria\",\"Syria\",\"Syria\",\"Syria\",\"Syria\",\"Syria\",\"Syria\",\"Syria\",\"Syria\",\"Syria\",\"Syria\",\"Syria\",\"Syria\",\"Syria\",\"Syria\",\"Syria\",\"Syria\",\"Syria\",\"Syria\",\"Syria\",\"Syria\",\"Syria\",\"Syria\",\"Syria\",\"Syria\",\"Syria\",\"Syria\",\"Syria\",\"Syria\",\"Syria\",\"Syria\",\"Syria\",\"Syria\",\"Syria\",\"Syria\",\"Syria\",\"Syria\",\"Syria\",\"Syria\",\"Syria\",\"Syria\",\"Syria\",\"Syria\",\"Syria\",\"Syria\",\"Syria\",\"Syria\",\"Syria\",\"Syria\",\"Syria\",\"Syria\",\"Syria\",\"Syria\",\"Syria\",\"Syria\",\"Syria\",\"Syria\",\"Syria\",\"Syria\",\"Syria\",\"Syria\",\"Syria\",\"Syria\",\"Syria\",\"Syria\",\"Syria\",\"Syria\",\"Syria\",\"Syria\",\"Syria\",\"Syria\",\"Syria\",\"Syria\",\"Syria\"],\"year\":[1863,1864,1865,1866,1870,1868,1869,1871,1862,1867,1861,1851,1859,1858,1857,1856,1855,1854,1853,1852,1872,1850,1849,1848,1860,1873,1883,1875,1847,1900,1899,1898,1897,1896,1895,1894,1893,1892,1891,1890,1889,1888,1887,1886,1885,1884,1882,1881,1880,1879,1878,1877,1876,1874,1846,1828,1844,1814,1813,1812,1811,1810,1809,1808,1807,1806,1805,1804,1815,1802,1800,1799,1798,1797,1796,1795,1794,1793,1792,1791,1845,1801,1816,1803,1818,1817,1842,1841,1840,1839,1838,1837,1843,1835,1834,1833,1832,1831,1836,1830,1829,1827,1826,1825,1824,1823,1822,1821,1820,1819]},\"selected\":{\"id\":\"3363\"},\"selection_policy\":{\"id\":\"3455\"}},\"id\":\"3362\",\"type\":\"ColumnDataSource\"},{\"attributes\":{\"label\":{\"value\":\"Sudan\"},\"renderers\":[{\"id\":\"3272\"}]},\"id\":\"3360\",\"type\":\"LegendItem\"},{\"attributes\":{},\"id\":\"3357\",\"type\":\"UnionRenderers\"},{\"attributes\":{\"end\":32.54708333333333,\"reset_end\":32.54708333333333,\"reset_start\":-5.280916666666666,\"start\":-5.280916666666666,\"tags\":[[[\"AverageTemperature\",\"AverageTemperature\",null]]]},\"id\":\"1013\",\"type\":\"Range1d\"},{\"attributes\":{\"line_color\":\"#30a2da\",\"line_width\":2,\"x\":{\"field\":\"year\"},\"y\":{\"field\":\"AverageTemperature\"}},\"id\":\"4431\",\"type\":\"Line\"},{\"attributes\":{\"below\":[{\"id\":\"1072\"}],\"center\":[{\"id\":\"1075\"},{\"id\":\"1079\"}],\"height\":300,\"left\":[{\"id\":\"1076\"}],\"margin\":[5,5,5,5],\"min_border_bottom\":10,\"min_border_left\":10,\"min_border_right\":10,\"min_border_top\":10,\"renderers\":[{\"id\":\"1105\"},{\"id\":\"1126\"},{\"id\":\"1148\"},{\"id\":\"1172\"},{\"id\":\"1198\"},{\"id\":\"1226\"},{\"id\":\"1256\"},{\"id\":\"1288\"},{\"id\":\"1322\"},{\"id\":\"1358\"},{\"id\":\"1396\"},{\"id\":\"1436\"},{\"id\":\"1478\"},{\"id\":\"1522\"},{\"id\":\"1568\"},{\"id\":\"1616\"},{\"id\":\"1666\"},{\"id\":\"1718\"},{\"id\":\"1772\"},{\"id\":\"1828\"},{\"id\":\"1886\"},{\"id\":\"1946\"},{\"id\":\"2008\"},{\"id\":\"2072\"},{\"id\":\"2138\"},{\"id\":\"2206\"},{\"id\":\"2276\"},{\"id\":\"2348\"},{\"id\":\"2422\"},{\"id\":\"2498\"},{\"id\":\"2576\"},{\"id\":\"2656\"},{\"id\":\"2738\"},{\"id\":\"2822\"},{\"id\":\"2908\"},{\"id\":\"2996\"},{\"id\":\"3086\"},{\"id\":\"3178\"},{\"id\":\"3272\"},{\"id\":\"3368\"},{\"id\":\"3466\"},{\"id\":\"3566\"},{\"id\":\"3668\"},{\"id\":\"3772\"},{\"id\":\"3878\"},{\"id\":\"3986\"},{\"id\":\"4096\"},{\"id\":\"4208\"},{\"id\":\"4322\"}],\"right\":[{\"id\":\"1117\"}],\"sizing_mode\":\"fixed\",\"title\":{\"id\":\"1064\"},\"toolbar\":{\"id\":\"1086\"},\"width\":700,\"x_range\":{\"id\":\"1012\"},\"x_scale\":{\"id\":\"1068\"},\"y_range\":{\"id\":\"1013\"},\"y_scale\":{\"id\":\"1070\"}},\"id\":\"1063\",\"subtype\":\"Figure\",\"type\":\"Plot\"},{\"attributes\":{\"line_color\":\"#d62728\",\"line_width\":2,\"x\":{\"field\":\"year\"},\"y\":{\"field\":\"AverageTemperature\"}},\"id\":\"3871\",\"type\":\"Line\"},{\"attributes\":{\"end\":1900.0,\"reset_end\":1900.0,\"reset_start\":1743.0,\"start\":1743.0,\"tags\":[[[\"year\",\"year\",null]]]},\"id\":\"1012\",\"type\":\"Range1d\"},{\"attributes\":{},\"id\":\"3461\",\"type\":\"Selection\"},{\"attributes\":{},\"id\":\"3873\",\"type\":\"Selection\"},{\"attributes\":{\"source\":{\"id\":\"3872\"}},\"id\":\"3879\",\"type\":\"CDSView\"},{\"attributes\":{\"callback\":null,\"renderers\":[{\"id\":\"1105\"},{\"id\":\"1126\"},{\"id\":\"1148\"},{\"id\":\"1172\"},{\"id\":\"1198\"},{\"id\":\"1226\"},{\"id\":\"1256\"},{\"id\":\"1288\"},{\"id\":\"1322\"},{\"id\":\"1358\"},{\"id\":\"1396\"},{\"id\":\"1436\"},{\"id\":\"1478\"},{\"id\":\"1522\"},{\"id\":\"1568\"},{\"id\":\"1616\"},{\"id\":\"1666\"},{\"id\":\"1718\"},{\"id\":\"1772\"},{\"id\":\"1828\"},{\"id\":\"1886\"},{\"id\":\"1946\"},{\"id\":\"2008\"},{\"id\":\"2072\"},{\"id\":\"2138\"},{\"id\":\"2206\"},{\"id\":\"2276\"},{\"id\":\"2348\"},{\"id\":\"2422\"},{\"id\":\"2498\"},{\"id\":\"2576\"},{\"id\":\"2656\"},{\"id\":\"2738\"},{\"id\":\"2822\"},{\"id\":\"2908\"},{\"id\":\"2996\"},{\"id\":\"3086\"},{\"id\":\"3178\"},{\"id\":\"3272\"},{\"id\":\"3368\"},{\"id\":\"3466\"},{\"id\":\"3566\"},{\"id\":\"3668\"},{\"id\":\"3772\"},{\"id\":\"3878\"},{\"id\":\"3986\"},{\"id\":\"4096\"},{\"id\":\"4208\"},{\"id\":\"4322\"}],\"tags\":[\"hv_created\"],\"tooltips\":[[\"Country\",\"@{Country}\"],[\"year\",\"@{year}\"],[\"AverageTemperature\",\"@{AverageTemperature}\"]]},\"id\":\"1014\",\"type\":\"HoverTool\"},{\"attributes\":{\"line_color\":\"#e5ae38\",\"line_width\":2,\"x\":{\"field\":\"year\"},\"y\":{\"field\":\"AverageTemperature\"}},\"id\":\"3361\",\"type\":\"Line\"},{\"attributes\":{\"data\":{\"AverageTemperature\":{\"__ndarray__\":\"YZ6ofyPUK0Bg5dAi2wksQHA9CtejQCxAEzyYJ+rvK0CZ4ME8UV8sQGDl0CLbmSxAn6h/I5RxLEBDGb0tawUtQClcj8L1mCtAXQFyr7nAK0C3rNUxwdMsQIn6N0IZfS1ALbKd76cGLUCl4uzDZ5grQEkMAiuHxitArdUxwYMpK0B4d3d3d0cqQG8Sg8DK8SpAFyD3mgs5LEDhehSuR2EtQCW/WPKLxStAnH34DLtiK0D1KFyPwiUtQGPJL5b8kixAID7DrgDpK0DD9Shcj5IrQD98hl0BIi1AmCfq3wjlKkBxr7mQNAUsQO81F5KmRCxASQwCK4cWLUD0tqzVMfErQKP+jVBGDytAB4GVQ4usLED1b4QyeusrQEX9G6GMjitAaJHtfD+VK0Ag95oLSbMsQI/C9ShcPytArBxaZDvPKkAdzBP1byQsQDCW/GLJDydAlIqzD5/BKkAQn2FXgJwnQGu8dJMYdCtALbKd76eWJUCj/o1QRu8eQAAAAAAAAAAAMU/UvxFqHUBPYhBYOdQrQJVDi2znGylA/RuhjN5mK0AAAAAAAAAAAKXi7MNnqCtAFWcfPsNeK0DErgC51/wqQDsmeDBPFCxAhxbZzvdDK0CTGARWDj0rQC8kTak4eyxAXQFyr7kALECfYVeA3IsqQORecyFpmitATWIQWDl0LEB3vp8aL/0rQOPsw2fYdStAGy/dJAaRK0D5xZJfLMkqQA==\",\"dtype\":\"float64\",\"order\":\"little\",\"shape\":[68]},\"Country\":[\"Afghanistan\",\"Afghanistan\",\"Afghanistan\",\"Afghanistan\",\"Afghanistan\",\"Afghanistan\",\"Afghanistan\",\"Afghanistan\",\"Afghanistan\",\"Afghanistan\",\"Afghanistan\",\"Afghanistan\",\"Afghanistan\",\"Afghanistan\",\"Afghanistan\",\"Afghanistan\",\"Afghanistan\",\"Afghanistan\",\"Afghanistan\",\"Afghanistan\",\"Afghanistan\",\"Afghanistan\",\"Afghanistan\",\"Afghanistan\",\"Afghanistan\",\"Afghanistan\",\"Afghanistan\",\"Afghanistan\",\"Afghanistan\",\"Afghanistan\",\"Afghanistan\",\"Afghanistan\",\"Afghanistan\",\"Afghanistan\",\"Afghanistan\",\"Afghanistan\",\"Afghanistan\",\"Afghanistan\",\"Afghanistan\",\"Afghanistan\",\"Afghanistan\",\"Afghanistan\",\"Afghanistan\",\"Afghanistan\",\"Afghanistan\",\"Afghanistan\",\"Afghanistan\",\"Afghanistan\",\"Afghanistan\",\"Afghanistan\",\"Afghanistan\",\"Afghanistan\",\"Afghanistan\",\"Afghanistan\",\"Afghanistan\",\"Afghanistan\",\"Afghanistan\",\"Afghanistan\",\"Afghanistan\",\"Afghanistan\",\"Afghanistan\",\"Afghanistan\",\"Afghanistan\",\"Afghanistan\",\"Afghanistan\",\"Afghanistan\",\"Afghanistan\",\"Afghanistan\"],\"year\":[1833,1869,1870,1871,1872,1873,1874,1875,1876,1878,1879,1880,1881,1882,1883,1884,1885,1886,1900,1899,1898,1897,1896,1895,1868,1894,1892,1891,1890,1889,1888,1887,1893,1867,1877,1865,1847,1846,1845,1844,1843,1842,1848,1841,1866,1838,1837,1836,1835,1834,1840,1849,1839,1851,1850,1864,1863,1861,1860,1859,1858,1862,1856,1855,1854,1853,1852,1857]},\"selected\":{\"id\":\"1100\"},\"selection_policy\":{\"id\":\"1114\"}},\"id\":\"1099\",\"type\":\"ColumnDataSource\"},{\"attributes\":{\"line_alpha\":0.1,\"line_color\":\"#1f77b4\",\"line_width\":2,\"x\":{\"field\":\"year\"},\"y\":{\"field\":\"AverageTemperature\"}},\"id\":\"3876\",\"type\":\"Line\"},{\"attributes\":{\"coordinates\":null,\"data_source\":{\"id\":\"3872\"},\"glyph\":{\"id\":\"3875\"},\"group\":null,\"hover_glyph\":null,\"muted_glyph\":{\"id\":\"3877\"},\"nonselection_glyph\":{\"id\":\"3876\"},\"selection_glyph\":{\"id\":\"3979\"},\"view\":{\"id\":\"3879\"}},\"id\":\"3878\",\"type\":\"GlyphRenderer\"},{\"attributes\":{\"line_color\":\"#6d904f\",\"line_width\":2,\"x\":{\"field\":\"year\"},\"y\":{\"field\":\"AverageTemperature\"}},\"id\":\"3365\",\"type\":\"Line\"},{\"attributes\":{\"line_color\":\"#8c564b\",\"line_width\":2,\"x\":{\"field\":\"year\"},\"y\":{\"field\":\"AverageTemperature\"}},\"id\":\"4093\",\"type\":\"Line\"},{\"attributes\":{\"line_alpha\":0.2,\"line_color\":\"#1f77b4\",\"line_width\":2,\"x\":{\"field\":\"year\"},\"y\":{\"field\":\"AverageTemperature\"}},\"id\":\"3877\",\"type\":\"Line\"},{\"attributes\":{\"label\":{\"value\":\"Ukraine\"},\"renderers\":[{\"id\":\"3878\"}]},\"id\":\"3978\",\"type\":\"LegendItem\"},{\"attributes\":{},\"id\":\"3363\",\"type\":\"Selection\"},{\"attributes\":{\"source\":{\"id\":\"1220\"}},\"id\":\"1227\",\"type\":\"CDSView\"},{\"attributes\":{\"coordinates\":null,\"data_source\":{\"id\":\"1220\"},\"glyph\":{\"id\":\"1223\"},\"group\":null,\"hover_glyph\":null,\"muted_glyph\":{\"id\":\"1225\"},\"nonselection_glyph\":{\"id\":\"1224\"},\"selection_glyph\":{\"id\":\"1249\"},\"view\":{\"id\":\"1227\"}},\"id\":\"1226\",\"type\":\"GlyphRenderer\"},{\"attributes\":{\"line_alpha\":0.1,\"line_color\":\"#17becf\",\"line_width\":2,\"x\":{\"field\":\"year\"},\"y\":{\"field\":\"AverageTemperature\"}},\"id\":\"1224\",\"type\":\"Line\"},{\"attributes\":{\"children\":[{\"id\":\"1007\"},{\"id\":\"1063\"}],\"margin\":[0,0,0,0],\"name\":\"Column02914\"},\"id\":\"1006\",\"type\":\"Column\"},{\"attributes\":{\"line_color\":\"#17becf\",\"line_width\":2,\"x\":{\"field\":\"year\"},\"y\":{\"field\":\"AverageTemperature\"}},\"id\":\"1223\",\"type\":\"Line\"},{\"attributes\":{},\"id\":\"1070\",\"type\":\"LinearScale\"},{\"attributes\":{\"line_alpha\":0.2,\"line_color\":\"#17becf\",\"line_width\":2,\"x\":{\"field\":\"year\"},\"y\":{\"field\":\"AverageTemperature\"}},\"id\":\"1225\",\"type\":\"Line\"},{\"attributes\":{\"children\":[{\"id\":\"1006\"}],\"margin\":[0,0,0,0],\"name\":\"Row02915\"},\"id\":\"1005\",\"type\":\"Row\"},{\"attributes\":{\"label\":{\"value\":\"Canada\"},\"renderers\":[{\"id\":\"1226\"}]},\"id\":\"1248\",\"type\":\"LegendItem\"},{\"attributes\":{\"line_color\":\"#17becf\",\"line_width\":2,\"x\":{\"field\":\"year\"},\"y\":{\"field\":\"AverageTemperature\"}},\"id\":\"1249\",\"type\":\"Line\"},{\"attributes\":{},\"id\":\"1245\",\"type\":\"UnionRenderers\"},{\"attributes\":{\"client_comm_id\":\"aa62e32b1f3c451d9e21932c87b318f9\",\"comm_id\":\"62cae2ae78dd4dd5b63f26c3f8bec662\",\"plot_id\":\"1005\"},\"id\":\"5704\",\"type\":\"panel.models.comm_manager.CommManager\"},{\"attributes\":{\"active\":0,\"button_type\":\"success\",\"labels\":[\"AverageTemperature\",\"AverageTemperatureUncertainty\"],\"margin\":[5,10,5,10]},\"id\":\"1010\",\"type\":\"RadioButtonGroup\"},{\"attributes\":{\"line_color\":\"#9467bd\",\"line_width\":2,\"x\":{\"field\":\"year\"},\"y\":{\"field\":\"AverageTemperature\"}},\"id\":\"2649\",\"type\":\"Line\"},{\"attributes\":{\"data\":{\"AverageTemperature\":{\"__ndarray__\":\"kML1KFwfOkB/arx0k8A5QLsC5F5zkTpAWfKLJb9AOkDotIFOG7g5QL0ta3VMeDlA4+zDZ9gVOkA9CtejcGU6QIXrUbgeJTpA7zUXkqaUOUDME/VvhJI5QMP1KFyP+jlApZvEILAKOkBM8GCeqB86QGAs+cWSJzpA80T9G6GMOkA4Qhm9LSs6QB0TPJgnGjpAbHVM8GD+OUDT27JWx9w5QCD3mgtJ6zlA7cNn2BWIOkDotIFOGzg6QLByaJHtTDpA2RUg95qTOkAtsp3vp3Y6QLtJDAIrFzpASOF6FK7/OUC9dJMYBM45QIgW2c73IzpA9P3UeOnWOUBoke18P3U6QJmZmZmZQTpAeDBP1L+ZOUC3OiZ4MGc6QPnFkl8sOTpA3WsuJE0JOkAklNHbshY6QMtaHRM8WDNA1+qY4MHkOUBcj8L1KOQ5QAAAAAAAAAAAAAAAAAAAAAAAAAAAAAAAAAAAAAAAAAAAAAAAAAAAAAAAAAAAAAAAAAAAAAAAAAAAAAAAAAAAAAAAAAAAAAAAAAAAAAAAAAAAAAAAAAAAAAAAAAAAAAAAAAAAAAAAAAAAu5A0peJsOkC0yHa+n/o5QDcXkqZUJDpAAAAAAAAAAAC511xImro5QBEREREROTpAY1eA3GvuOUBFRERERDw6QNnO91PjJTpAZa2OCR4sOkDYFSD3mhM6QMP1KFyPyjdAQmDl0CKjM0AAAAAAAAAAADPBg3miFjpArY4JHswDOkAAAAAAAAAAAAAAAAAAAAAAjGzn+6nhOUAo6t8IZXQ6QJ+ofyOU+TlAu5A0peJ8N0A=\",\"dtype\":\"float64\",\"order\":\"little\",\"shape\":[76]},\"Country\":[\"Singapore\",\"Singapore\",\"Singapore\",\"Singapore\",\"Singapore\",\"Singapore\",\"Singapore\",\"Singapore\",\"Singapore\",\"Singapore\",\"Singapore\",\"Singapore\",\"Singapore\",\"Singapore\",\"Singapore\",\"Singapore\",\"Singapore\",\"Singapore\",\"Singapore\",\"Singapore\",\"Singapore\",\"Singapore\",\"Singapore\",\"Singapore\",\"Singapore\",\"Singapore\",\"Singapore\",\"Singapore\",\"Singapore\",\"Singapore\",\"Singapore\",\"Singapore\",\"Singapore\",\"Singapore\",\"Singapore\",\"Singapore\",\"Singapore\",\"Singapore\",\"Singapore\",\"Singapore\",\"Singapore\",\"Singapore\",\"Singapore\",\"Singapore\",\"Singapore\",\"Singapore\",\"Singapore\",\"Singapore\",\"Singapore\",\"Singapore\",\"Singapore\",\"Singapore\",\"Singapore\",\"Singapore\",\"Singapore\",\"Singapore\",\"Singapore\",\"Singapore\",\"Singapore\",\"Singapore\",\"Singapore\",\"Singapore\",\"Singapore\",\"Singapore\",\"Singapore\",\"Singapore\",\"Singapore\",\"Singapore\",\"Singapore\",\"Singapore\",\"Singapore\",\"Singapore\",\"Singapore\",\"Singapore\",\"Singapore\",\"Singapore\"],\"year\":[1880,1879,1878,1877,1876,1875,1874,1873,1868,1871,1870,1869,1867,1866,1865,1881,1872,1882,1894,1884,1864,1900,1899,1898,1897,1896,1895,1883,1893,1891,1890,1889,1888,1887,1886,1885,1892,1863,1839,1861,1840,1862,1838,1837,1836,1835,1834,1833,1832,1830,1829,1828,1827,1826,1825,1841,1842,1831,1844,1843,1860,1859,1858,1856,1855,1854,1853,1857,1851,1850,1849,1848,1847,1846,1852,1845]},\"selected\":{\"id\":\"2817\"},\"selection_policy\":{\"id\":\"2897\"}},\"id\":\"2816\",\"type\":\"ColumnDataSource\"},{\"attributes\":{\"coordinates\":null,\"data_source\":{\"id\":\"2650\"},\"glyph\":{\"id\":\"2653\"},\"group\":null,\"hover_glyph\":null,\"muted_glyph\":{\"id\":\"2655\"},\"nonselection_glyph\":{\"id\":\"2654\"},\"selection_glyph\":{\"id\":\"2731\"},\"view\":{\"id\":\"2657\"}},\"id\":\"2656\",\"type\":\"GlyphRenderer\"},{\"attributes\":{\"line_alpha\":0.2,\"line_color\":\"#d62728\",\"line_width\":2,\"x\":{\"field\":\"year\"},\"y\":{\"field\":\"AverageTemperature\"}},\"id\":\"2655\",\"type\":\"Line\"},{\"attributes\":{\"children\":[{\"id\":\"1009\"},{\"id\":\"1010\"}],\"margin\":[0,0,0,0],\"name\":\"Column02903\"},\"id\":\"1008\",\"type\":\"Column\"},{\"attributes\":{\"line_color\":\"#1f77b4\",\"line_width\":2,\"x\":{\"field\":\"year\"},\"y\":{\"field\":\"AverageTemperature\"}},\"id\":\"2735\",\"type\":\"Line\"},{\"attributes\":{\"margin\":[5,5,5,5],\"name\":\"HSpacer02907\",\"sizing_mode\":\"stretch_width\"},\"id\":\"1011\",\"type\":\"Spacer\"},{\"attributes\":{\"children\":[{\"id\":\"1008\"},{\"id\":\"1011\"}],\"margin\":[0,0,0,0],\"name\":\"Row02908\"},\"id\":\"1007\",\"type\":\"Row\"},{\"attributes\":{\"line_alpha\":0.1,\"line_color\":\"#d62728\",\"line_width\":2,\"x\":{\"field\":\"year\"},\"y\":{\"field\":\"AverageTemperature\"}},\"id\":\"2654\",\"type\":\"Line\"},{\"attributes\":{\"source\":{\"id\":\"2650\"}},\"id\":\"2657\",\"type\":\"CDSView\"},{\"attributes\":{\"label\":{\"value\":\"Saudi Arabia\"},\"renderers\":[{\"id\":\"2656\"}]},\"id\":\"2730\",\"type\":\"LegendItem\"},{\"attributes\":{},\"id\":\"2727\",\"type\":\"UnionRenderers\"},{\"attributes\":{\"end\":2013,\"margin\":[5,10,5,10],\"start\":1791,\"step\":5,\"title\":\"Year slider\",\"value\":1900},\"id\":\"1009\",\"type\":\"Slider\"},{\"attributes\":{\"line_color\":\"#fc4f30\",\"line_width\":2,\"x\":{\"field\":\"year\"},\"y\":{\"field\":\"AverageTemperature\"}},\"id\":\"1123\",\"type\":\"Line\"},{\"attributes\":{\"line_alpha\":0.1,\"line_color\":\"#fc4f30\",\"line_width\":2,\"x\":{\"field\":\"year\"},\"y\":{\"field\":\"AverageTemperature\"}},\"id\":\"1124\",\"type\":\"Line\"},{\"attributes\":{\"data\":{\"AverageTemperature\":{\"__ndarray__\":\"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\",\"dtype\":\"float64\",\"order\":\"little\",\"shape\":[1155]},\"Country\":[\"China\",\"China\",\"China\",\"China\",\"China\",\"China\",\"China\",\"China\",\"China\",\"China\",\"China\",\"China\",\"China\",\"China\",\"China\",\"China\",\"China\",\"China\",\"China\",\"China\",\"China\",\"China\",\"China\",\"China\",\"China\",\"China\",\"China\",\"China\",\"China\",\"China\",\"China\",\"China\",\"China\",\"China\",\"China\",\"China\",\"China\",\"China\",\"China\",\"China\",\"China\",\"China\",\"China\",\"China\",\"China\",\"China\",\"China\",\"China\",\"China\",\"China\",\"China\",\"China\",\"China\",\"China\",\"China\",\"China\",\"China\",\"China\",\"China\",\"China\",\"China\",\"China\",\"China\",\"China\",\"China\",\"China\",\"China\",\"China\",\"China\",\"China\",\"China\",\"China\",\"China\",\"China\",\"China\",\"China\",\"China\",\"China\",\"China\",\"China\",\"China\",\"China\",\"China\",\"China\",\"China\",\"China\",\"China\",\"China\",\"China\",\"China\",\"China\",\"China\",\"China\",\"China\",\"China\",\"China\",\"China\",\"China\",\"China\",\"China\",\"China\",\"China\",\"China\",\"China\",\"China\",\"China\",\"China\",\"China\",\"China\",\"China\",\"China\",\"China\",\"China\",\"China\",\"China\",\"China\",\"China\",\"China\",\"China\",\"China\",\"China\",\"China\",\"China\",\"China\",\"China\",\"China\",\"China\",\"China\",\"China\",\"China\",\"China\",\"China\",\"China\",\"China\",\"China\",\"China\",\"China\",\"China\",\"China\",\"China\",\"China\",\"China\",\"China\",\"China\",\"China\",\"China\",\"China\",\"China\",\"China\",\"China\",\"China\",\"China\",\"China\",\"China\",\"China\",\"China\",\"China\",\"China\",\"China\",\"China\",\"China\",\"China\",\"China\",\"China\",\"China\",\"China\",\"China\",\"China\",\"China\",\"China\",\"China\",\"China\",\"China\",\"China\",\"China\",\"China\",\"China\",\"China\",\"China\",\"China\",\"China\",\"China\",\"China\",\"China\",\"China\",\"China\",\"China\",\"China\",\"China\",\"China\",\"China\",\"China\",\"China\",\"China\",\"China\",\"China\",\"China\",\"China\",\"China\",\"China\",\"China\",\"China\",\"China\",\"China\",\"China\",\"China\",\"China\",\"China\",\"China\",\"China\",\"China\",\"China\",\"China\",\"China\",\"China\",\"China\",\"China\",\"China\",\"China\",\"China\",\"China\",\"China\",\"China\",\"China\",\"China\",\"China\",\"China\",\"China\",\"China\",\"China\",\"China\",\"China\",\"China\",\"China\",\"China\",\"China\",\"China\",\"China\",\"China\",\"China\",\"China\",\"China\",\"China\",\"China\",\"China\",\"China\",\"China\",\"China\",\"China\",\"China\",\"China\",\"China\",\"China\",\"China\",\"China\",\"China\",\"China\",\"China\",\"China\",\"China\",\"China\",\"China\",\"China\",\"China\",\"China\",\"China\",\"China\",\"China\",\"China\",\"China\",\"China\",\"China\",\"China\",\"China\",\"China\",\"China\",\"China\",\"China\",\"China\",\"China\",\"China\",\"China\",\"China\",\"China\",\"China\",\"China\",\"China\",\"China\",\"China\",\"China\",\"China\",\"China\",\"China\",\"China\",\"China\",\"China\",\"China\",\"China\",\"China\",\"China\",\"China\",\"China\",\"China\",\"China\",\"China\",\"China\",\"China\",\"China\",\"China\",\"China\",\"China\",\"China\",\"China\",\"China\",\"China\",\"China\",\"China\",\"China\",\"China\",\"China\",\"China\",\"China\",\"China\",\"China\",\"China\",\"China\",\"China\",\"China\",\"China\",\"China\",\"China\",\"China\",\"China\",\"China\",\"China\",\"China\",\"China\",\"China\",\"China\",\"China\",\"China\",\"China\",\"China\",\"China\",\"China\",\"China\",\"China\",\"China\",\"China\",\"China\",\"China\",\"China\",\"China\",\"China\",\"China\",\"China\",\"China\",\"China\",\"China\",\"China\",\"China\",\"China\",\"China\",\"China\",\"China\",\"China\",\"China\",\"China\",\"China\",\"China\",\"China\",\"China\",\"China\",\"China\",\"China\",\"China\",\"China\",\"China\",\"China\",\"China\",\"China\",\"China\",\"China\",\"China\",\"China\",\"China\",\"China\",\"China\",\"China\",\"China\",\"China\",\"China\",\"China\",\"China\",\"China\",\"China\",\"China\",\"China\",\"China\",\"China\",\"China\",\"China\",\"China\",\"China\",\"China\",\"China\",\"China\",\"China\",\"China\",\"China\",\"China\",\"China\",\"China\",\"China\",\"China\",\"China\",\"China\",\"China\",\"China\",\"China\",\"China\",\"China\",\"China\",\"China\",\"China\",\"China\",\"China\",\"China\",\"China\",\"China\",\"China\",\"China\",\"China\",\"China\",\"China\",\"China\",\"China\",\"China\",\"China\",\"China\",\"China\",\"China\",\"China\",\"China\",\"China\",\"China\",\"China\",\"China\",\"China\",\"China\",\"China\",\"China\",\"China\",\"China\",\"China\",\"China\",\"China\",\"China\",\"China\",\"China\",\"China\",\"China\",\"China\",\"China\",\"China\",\"China\",\"China\",\"China\",\"China\",\"China\",\"China\",\"China\",\"China\",\"China\",\"China\",\"China\",\"China\",\"China\",\"China\",\"China\",\"China\",\"China\",\"China\",\"China\",\"China\",\"China\",\"China\",\"China\",\"China\",\"China\",\"China\",\"China\",\"China\",\"China\",\"China\",\"China\",\"China\",\"China\",\"China\",\"China\",\"China\",\"China\",\"China\",\"China\",\"China\",\"China\",\"China\",\"China\",\"China\",\"China\",\"China\",\"China\",\"China\",\"China\",\"China\",\"China\",\"China\",\"China\",\"China\",\"China\",\"China\",\"China\",\"China\",\"China\",\"China\",\"China\",\"China\",\"China\",\"China\",\"China\",\"China\",\"China\",\"China\",\"China\",\"China\",\"China\",\"China\",\"China\",\"China\",\"China\",\"China\",\"China\",\"China\",\"China\",\"China\",\"China\",\"China\",\"China\",\"China\",\"China\",\"China\",\"China\",\"China\",\"China\",\"China\",\"China\",\"China\",\"China\",\"China\",\"China\",\"China\",\"China\",\"China\",\"China\",\"China\",\"China\",\"China\",\"China\",\"China\",\"China\",\"China\",\"China\",\"China\",\"China\",\"China\",\"China\",\"China\",\"China\",\"China\",\"China\",\"China\",\"China\",\"China\",\"China\",\"China\",\"China\",\"China\",\"China\",\"China\",\"China\",\"China\",\"China\",\"China\",\"China\",\"China\",\"China\",\"China\",\"China\",\"China\",\"China\",\"China\",\"China\",\"China\",\"China\",\"China\",\"China\",\"China\",\"China\",\"China\",\"China\",\"China\",\"China\",\"China\",\"China\",\"China\",\"China\",\"China\",\"China\",\"China\",\"China\",\"China\",\"China\",\"China\",\"China\",\"China\",\"China\",\"China\",\"China\",\"China\",\"China\",\"China\",\"China\",\"China\",\"China\",\"China\",\"China\",\"China\",\"China\",\"China\",\"China\",\"China\",\"China\",\"China\",\"China\",\"China\",\"China\",\"China\",\"China\",\"China\",\"China\",\"China\",\"China\",\"China\",\"China\",\"China\",\"China\",\"China\",\"China\",\"China\",\"China\",\"China\",\"China\",\"China\",\"China\",\"China\",\"China\",\"China\",\"China\",\"China\",\"China\",\"China\",\"China\",\"China\",\"China\",\"China\",\"China\",\"China\",\"China\",\"China\",\"China\",\"China\",\"China\",\"China\",\"China\",\"China\",\"China\",\"China\",\"China\",\"China\",\"China\",\"China\",\"China\",\"China\",\"China\",\"China\",\"China\",\"China\",\"China\",\"China\",\"China\",\"China\",\"China\",\"China\",\"China\",\"China\",\"China\",\"China\",\"China\",\"China\",\"China\",\"China\",\"China\",\"China\",\"China\",\"China\",\"China\",\"China\",\"China\",\"China\",\"China\",\"China\",\"China\",\"China\",\"China\",\"China\",\"China\",\"China\",\"China\",\"China\",\"China\",\"China\",\"China\",\"China\",\"China\",\"China\",\"China\",\"China\",\"China\",\"China\",\"China\",\"China\",\"China\",\"China\",\"China\",\"China\",\"China\",\"China\",\"China\",\"China\",\"China\",\"China\",\"China\",\"China\",\"China\",\"China\",\"China\",\"China\",\"China\",\"China\",\"China\",\"China\",\"China\",\"China\",\"China\",\"China\",\"China\",\"China\",\"China\",\"China\",\"China\",\"China\",\"China\",\"China\",\"China\",\"China\",\"China\",\"China\",\"China\",\"China\",\"China\",\"China\",\"China\",\"China\",\"China\",\"China\",\"China\",\"China\",\"China\",\"China\",\"China\",\"China\",\"China\",\"China\",\"China\",\"China\",\"China\",\"China\",\"China\",\"China\",\"China\",\"China\",\"China\",\"China\",\"China\",\"China\",\"China\",\"China\",\"China\",\"China\",\"China\",\"China\",\"China\",\"China\",\"China\",\"China\",\"China\",\"China\",\"China\",\"China\",\"China\",\"China\",\"China\",\"China\",\"China\",\"China\",\"China\",\"China\",\"China\",\"China\",\"China\",\"China\",\"China\",\"China\",\"China\",\"China\",\"China\",\"China\",\"China\",\"China\",\"China\",\"China\",\"China\",\"China\",\"China\",\"China\",\"China\",\"China\",\"China\",\"China\",\"China\",\"China\",\"China\",\"China\",\"China\",\"China\",\"China\",\"China\",\"China\",\"China\",\"China\",\"China\",\"China\",\"China\",\"China\",\"China\",\"China\",\"China\",\"China\",\"China\",\"China\",\"China\",\"China\",\"China\",\"China\",\"China\",\"China\",\"China\",\"China\",\"China\",\"China\",\"China\",\"China\",\"China\",\"China\",\"China\",\"China\",\"China\",\"China\",\"China\",\"China\",\"China\",\"China\",\"China\",\"China\",\"China\",\"China\",\"China\",\"China\",\"China\",\"China\",\"China\",\"China\",\"China\",\"China\",\"China\",\"China\",\"China\",\"China\",\"China\",\"China\",\"China\",\"China\",\"China\",\"China\",\"China\",\"China\",\"China\",\"China\",\"China\",\"China\",\"China\",\"China\",\"China\",\"China\",\"China\",\"China\",\"China\",\"China\",\"China\",\"China\",\"China\",\"China\",\"China\",\"China\",\"China\",\"China\",\"China\",\"China\",\"China\",\"China\",\"China\",\"China\",\"China\",\"China\",\"China\",\"China\",\"China\",\"China\",\"China\",\"China\",\"China\",\"China\",\"China\",\"China\",\"China\",\"China\",\"China\",\"China\",\"China\",\"China\",\"China\",\"China\",\"China\",\"China\",\"China\",\"China\",\"China\",\"China\",\"China\",\"China\",\"China\",\"China\",\"China\",\"China\",\"China\",\"China\",\"China\",\"China\",\"China\",\"China\",\"China\",\"China\",\"China\",\"China\",\"China\",\"China\",\"China\",\"China\",\"China\",\"China\",\"China\",\"China\",\"China\",\"China\",\"China\",\"China\",\"China\",\"China\",\"China\",\"China\",\"China\",\"China\",\"China\",\"China\",\"China\",\"China\",\"China\",\"China\",\"China\",\"China\",\"China\",\"China\",\"China\",\"China\",\"China\",\"China\",\"China\",\"China\",\"China\",\"China\",\"China\",\"China\",\"China\",\"China\",\"China\",\"China\",\"China\",\"China\",\"China\",\"China\",\"China\",\"China\",\"China\",\"China\",\"China\",\"China\",\"China\",\"China\",\"China\",\"China\",\"China\",\"China\",\"China\",\"China\",\"China\",\"China\",\"China\",\"China\",\"China\",\"China\",\"China\",\"China\",\"China\",\"China\",\"China\",\"China\",\"China\",\"China\",\"China\",\"China\",\"China\",\"China\",\"China\",\"China\",\"China\",\"China\",\"China\",\"China\",\"China\",\"China\",\"China\",\"China\",\"China\",\"China\",\"China\",\"China\",\"China\",\"China\",\"China\",\"China\",\"China\",\"China\",\"China\",\"China\",\"China\",\"China\",\"China\",\"China\",\"China\",\"China\",\"China\",\"China\",\"China\",\"China\",\"China\",\"China\",\"China\",\"China\",\"China\",\"China\",\"China\",\"China\",\"China\",\"China\",\"China\",\"China\",\"China\",\"China\",\"China\",\"China\",\"China\",\"China\",\"China\",\"China\",\"China\",\"China\",\"China\",\"China\",\"China\",\"China\",\"China\",\"China\",\"China\",\"China\",\"China\",\"China\",\"China\",\"China\",\"China\",\"China\",\"China\",\"China\",\"China\",\"China\",\"China\",\"China\",\"China\",\"China\",\"China\",\"China\",\"China\",\"China\",\"China\",\"China\",\"China\",\"China\",\"China\",\"China\",\"China\",\"China\",\"China\",\"China\",\"China\",\"China\",\"China\"],\"year\":[1821,1820,1900,1899,1898,1897,1894,1831,1895,1893,1892,1822,1891,1896,1823,1833,1825,1839,1838,1837,1836,1835,1834,1824,1890,1831,1830,1829,1828,1827,1826,1832,1889,1878,1887,1867,1866,1865,1864,1863,1862,1868,1861,1859,1858,1857,1856,1855,1854,1860,1869,1870,1871,1886,1885,1884,1883,1882,1881,1880,1879,1840,1877,1876,1875,1874,1873,1872,1888,1841,1852,1843,1894,1893,1892,1891,1890,1889,1895,1888,1886,1885,1884,1883,1882,1881,1887,1880,1896,1898,1853,1830,1829,1828,1827,1826,1897,1825,1823,1822,1821,1820,1900,1899,1824,1842,1879,1877,1858,1857,1856,1855,1854,1853,1859,1851,1849,1848,1847,1846,1845,1844,1850,1878,1860,1862,1876,1875,1874,1873,1872,1871,1861,1870,1868,1867,1866,1865,1864,1863,1869,1852,1883,1850,1890,1889,1888,1887,1886,1885,1891,1884,1882,1881,1880,1879,1878,1877,1832,1876,1892,1894,1848,1847,1846,1845,1844,1843,1893,1842,1900,1899,1898,1897,1896,1895,1841,1849,1875,1873,1854,1853,1852,1851,1850,1849,1855,1848,1846,1845,1844,1843,1842,1841,1847,1874,1856,1858,1872,1871,1870,1869,1868,1867,1857,1866,1864,1863,1862,1861,1860,1859,1865,1850,1851,1852,1831,1830,1829,1900,1899,1898,1832,1897,1895,1894,1893,1892,1891,1890,1896,1889,1833,1835,1849,1848,1847,1846,1845,1844,1834,1843,1841,1840,1839,1838,1837,1836,1842,1888,1887,1886,1866,1865,1864,1863,1862,1861,1867,1860,1858,1857,1856,1855,1854,1853,1859,1868,1869,1870,1885,1884,1883,1882,1881,1880,1879,1878,1877,1876,1875,1874,1873,1872,1871,1851,1833,1855,1835,1891,1890,1889,1888,1887,1886,1892,1885,1883,1882,1881,1880,1879,1878,1884,1877,1893,1895,1828,1827,1826,1825,1824,1823,1894,1822,1820,1900,1899,1898,1897,1896,1821,1829,1876,1874,1855,1854,1853,1852,1851,1850,1856,1849,1847,1846,1845,1844,1843,1842,1848,1875,1857,1859,1873,1872,1871,1870,1869,1868,1858,1867,1865,1864,1863,1862,1861,1860,1866,1830,1831,1832,1883,1882,1881,1880,1879,1878,1884,1877,1875,1874,1873,1872,1871,1870,1876,1869,1885,1887,1840,1900,1899,1898,1897,1896,1886,1895,1893,1892,1891,1890,1889,1888,1894,1868,1867,1866,1846,1845,1844,1843,1842,1841,1847,1840,1838,1837,1836,1835,1834,1833,1839,1848,1849,1850,1865,1864,1863,1862,1861,1860,1859,1858,1857,1856,1855,1854,1853,1852,1851,1841,1834,1900,1898,1886,1885,1884,1883,1882,1881,1887,1880,1878,1877,1876,1875,1874,1873,1879,1872,1888,1890,1823,1822,1821,1820,1900,1899,1889,1898,1896,1895,1894,1893,1892,1891,1897,1824,1871,1869,1849,1848,1847,1846,1845,1844,1850,1843,1841,1840,1839,1838,1837,1836,1842,1870,1851,1853,1868,1867,1866,1865,1864,1863,1852,1862,1860,1859,1858,1857,1855,1854,1861,1825,1826,1827,1879,1878,1877,1876,1875,1874,1880,1873,1871,1870,1869,1868,1867,1866,1872,1865,1881,1883,1897,1896,1895,1894,1893,1892,1882,1891,1889,1888,1887,1886,1885,1884,1890,1864,1863,1862,1841,1840,1839,1838,1837,1836,1842,1835,1833,1832,1831,1830,1829,1828,1834,1843,1844,1845,1861,1860,1859,1858,1857,1856,1854,1853,1852,1851,1850,1849,1848,1847,1846,1899,1839,1856,1837,1872,1871,1870,1869,1868,1867,1873,1866,1864,1863,1862,1861,1860,1859,1865,1858,1874,1876,1890,1889,1888,1887,1886,1885,1875,1884,1882,1881,1880,1879,1878,1877,1883,1891,1857,1855,1897,1896,1895,1894,1893,1892,1898,1891,1889,1888,1887,1886,1885,1884,1890,1856,1899,1840,1854,1853,1852,1851,1850,1849,1900,1848,1846,1845,1844,1843,1842,1841,1847,1883,1892,1894,1872,1871,1870,1869,1868,1867,1873,1866,1864,1863,1862,1861,1860,1859,1865,1858,1874,1876,1890,1889,1888,1887,1886,1885,1875,1884,1882,1881,1880,1879,1878,1877,1883,1893,1857,1855,1836,1835,1834,1833,1832,1831,1837,1830,1900,1899,1898,1897,1896,1895,1829,1856,1838,1840,1854,1853,1852,1851,1850,1849,1839,1848,1846,1845,1844,1843,1842,1841,1847,1882,1881,1880,1868,1867,1866,1865,1864,1863,1869,1862,1860,1859,1858,1857,1856,1855,1861,1854,1870,1873,1887,1886,1885,1884,1883,1882,1872,1881,1879,1878,1877,1876,1875,1874,1880,1888,1853,1851,1832,1831,1830,1829,1828,1827,1833,1826,1824,1823,1822,1821,1820,1838,1825,1852,1834,1836,1850,1849,1848,1847,1846,1845,1835,1844,1842,1841,1840,1839,1838,1837,1843,1889,1890,1891,1861,1860,1859,1858,1857,1856,1862,1855,1853,1852,1851,1850,1849,1848,1854,1847,1863,1865,1879,1878,1877,1876,1875,1874,1864,1873,1871,1870,1869,1868,1867,1866,1872,1846,1845,1844,1824,1823,1822,1821,1820,1900,1825,1899,1897,1896,1895,1894,1893,1892,1898,1826,1827,1828,1843,1842,1841,1840,1839,1838,1837,1836,1835,1834,1833,1832,1831,1830,1829,1891,1892,1871,1894,1886,1885,1884,1883,1882,1881,1887,1880,1878,1877,1876,1875,1874,1873,1879,1872,1888,1890,1844,1843,1842,1841,1900,1899,1889,1898,1896,1895,1894,1893,1892,1891,1897,1845,1870,1868,1849,1848,1847,1846,1845,1844,1850,1843,1841,1840,1900,1899,1898,1897,1842,1869,1851,1853,1867,1866,1865,1864,1863,1862,1852,1861,1859,1858,1857,1856,1855,1854,1860,1846,1847,1848,1899,1898,1897,1896,1895,1894,1900,1893,1891,1890,1889,1888,1887,1886,1892,1885,1820,1822,1893,1835,1834,1833,1832,1831,1821,1830,1828,1827,1826,1825,1824,1823,1829,1884,1883,1882,1862,1861,1860,1859,1858,1857,1863,1856,1854,1853,1852,1851,1850,1849,1855,1864,1865,1866,1881,1880,1879,1878,1877,1876,1875,1874,1873,1872,1871,1870,1869,1868,1867,1896,1895,1871,1893,1883,1882,1881,1880,1879,1878,1884,1877,1875,1874,1873,1872,1871,1870,1876,1869,1885,1887,1820,1900,1899,1898,1897,1896,1886,1895,1893,1892,1891,1890,1889,1888,1894,1868,1894,1866,1847,1846,1845,1844,1843,1842,1848,1841,1900,1899,1898,1897,1896,1895,1840,1849,1850,1851,1865,1864,1863,1862,1861,1860,1859,1858,1857,1856,1855,1854,1836,1853,1852,1821,1822,1867,1824,1873,1872,1871,1870,1869,1868,1875,1867,1865,1864,1863,1862,1861,1860,1866,1876,1877,1878,1892,1823,1891,1890,1889,1888,1887,1886,1885,1884,1883,1882,1881,1880,1879,1859,1858,1874,1857,1839,1838,1837,1836,1834,1833,1840,1832,1830,1829,1828,1827,1826,1825,1831,1841,1835,1842,1855,1854,1853,1852,1851,1849,1848,1850,1856,1846,1845,1844,1843,1847]},\"selected\":{\"id\":\"1283\"},\"selection_policy\":{\"id\":\"1311\"}},\"id\":\"1282\",\"type\":\"ColumnDataSource\"},{\"attributes\":{\"line_color\":\"#30a2da\",\"line_width\":2,\"x\":{\"field\":\"year\"},\"y\":{\"field\":\"AverageTemperature\"}},\"id\":\"1119\",\"type\":\"Line\"},{\"attributes\":{\"line_color\":\"#9467bd\",\"line_width\":2,\"x\":{\"field\":\"year\"},\"y\":{\"field\":\"AverageTemperature\"}},\"id\":\"1253\",\"type\":\"Line\"},{\"attributes\":{\"coordinates\":null,\"data_source\":{\"id\":\"1250\"},\"glyph\":{\"id\":\"1253\"},\"group\":null,\"hover_glyph\":null,\"muted_glyph\":{\"id\":\"1255\"},\"nonselection_glyph\":{\"id\":\"1254\"},\"selection_glyph\":{\"id\":\"1281\"},\"view\":{\"id\":\"1257\"}},\"id\":\"1256\",\"type\":\"GlyphRenderer\"},{\"attributes\":{\"data\":{\"AverageTemperature\":{\"__ndarray__\":\"qX8jlNFDMEAGgZVDi1QwQFnyiyW/uDBAxpJfLPnlMEBgLPnFkocwQJKmVJx9YDFA7cNn2BXAMEBMN4lBYPUwQIPAyqFF9jBAVOOlm8ToMEAqFWcfPgsxQNW/EcroXTBA+/AZdgWwMEDD9Shcj5owQEX9G6GM5jBARIts5/t5MEBDi2zn+xkwQCz5xZJfZDBAvuZC0pSaMEAX2c73U0MuQD0K16NwFTBAWx0TPJg/MEBKDAIrh9YwQIts5/upETFA2/l+arykMED34TPsCjgwQDN6W9bq4DBA4XoUrkfBMEA9mCfq38AwQJngwTxRBzFAlNHbslbHMEA4Qhm9LZMwQHnpJjEI/DBA46WbxCAQMUD1tqzVMQkxQC8kTak4EzFAppvEILDaMEApXI/C9dgwQNkVIPea0zBA/Knx0k2qMEAnMQisHJowQC2yne+nvjBAhxbZzvfDMEALkHvNhSwxQEfhehSutzBAiYiIiIioMEBEi2zn++EwQESLbOf78TBAVVVVVVXdMEB/seQXS3YwQEGnDXTaoDBAYCz5xZKnMED34TPsClAwQAuQe82FPDFAaNgVIPcKMUCWQ4ts50sxQC8kTak48zBA+cWSXyzBMED9YskvlrQwQIR5ov6NkDBAwzxR/0aYKkA8mCfq33gqQBHK6G1ZuypAXUiaUnG2KkC1OiZ4MI8pQL+fGi/dBCpAkHvNhaTpKUAneDBP1P8qQNEi2/l+WipAffgMuwKUKkCjt2WtjlkqQEvF2YfPMCtAtTomeDDfKkBfukkMAssqQAisHFpkex5ATxvotIGuKUCAI5TR2wIpQBM8mCfqbylAvS1rdUzwKUCj/o1QRs8nQKuqqqqqmihA9W+EMnorKUBdAXKvuRAqQDHBg3mi3ipAxSCwcmhRKkDsCpB7zfUpQJ9hV4DcqypAFSD3mgvpKUBtoNMGOi0qQJe1OiZ4oCpA6Pup8dJdKkBoke18PzUpQN3d3d3d/SpAUI2XbhLzK0DhehSuR2EqQG8Sg8DKEStAFSD3mgv5KkAQWDm0yHYqQHe+nxov3SlAME/UvxE6KkAI80T9GzErQKAaL90kFitArwC511y4KkDl0CLb+e4qQCvOPnyGDSpAyL3mQtIEKkBTKs4+fDYqQEsMAiuH1ipAgNxrLiTNKkCTXyz5xfIqQPNE/Ruh7ClAsHJoke28KUAbL90kBnEqQE8b6LSBLipAK84+fIatKkBANV66SQwqQKBhV4DcyypAUbgehesxKkBQRm/LWq0qQCRNqTj7MCpA\",\"dtype\":\"float64\",\"order\":\"little\",\"shape\":[120]},\"Country\":[\"Australia\",\"Australia\",\"Australia\",\"Australia\",\"Australia\",\"Australia\",\"Australia\",\"Australia\",\"Australia\",\"Australia\",\"Australia\",\"Australia\",\"Australia\",\"Australia\",\"Australia\",\"Australia\",\"Australia\",\"Australia\",\"Australia\",\"Australia\",\"Australia\",\"Australia\",\"Australia\",\"Australia\",\"Australia\",\"Australia\",\"Australia\",\"Australia\",\"Australia\",\"Australia\",\"Australia\",\"Australia\",\"Australia\",\"Australia\",\"Australia\",\"Australia\",\"Australia\",\"Australia\",\"Australia\",\"Australia\",\"Australia\",\"Australia\",\"Australia\",\"Australia\",\"Australia\",\"Australia\",\"Australia\",\"Australia\",\"Australia\",\"Australia\",\"Australia\",\"Australia\",\"Australia\",\"Australia\",\"Australia\",\"Australia\",\"Australia\",\"Australia\",\"Australia\",\"Australia\",\"Australia\",\"Australia\",\"Australia\",\"Australia\",\"Australia\",\"Australia\",\"Australia\",\"Australia\",\"Australia\",\"Australia\",\"Australia\",\"Australia\",\"Australia\",\"Australia\",\"Australia\",\"Australia\",\"Australia\",\"Australia\",\"Australia\",\"Australia\",\"Australia\",\"Australia\",\"Australia\",\"Australia\",\"Australia\",\"Australia\",\"Australia\",\"Australia\",\"Australia\",\"Australia\",\"Australia\",\"Australia\",\"Australia\",\"Australia\",\"Australia\",\"Australia\",\"Australia\",\"Australia\",\"Australia\",\"Australia\",\"Australia\",\"Australia\",\"Australia\",\"Australia\",\"Australia\",\"Australia\",\"Australia\",\"Australia\",\"Australia\",\"Australia\",\"Australia\",\"Australia\",\"Australia\",\"Australia\",\"Australia\",\"Australia\",\"Australia\",\"Australia\",\"Australia\",\"Australia\"],\"year\":[1859,1860,1861,1862,1863,1867,1865,1866,1868,1869,1858,1864,1857,1847,1855,1854,1853,1852,1851,1850,1849,1848,1870,1846,1845,1844,1843,1856,1871,1882,1873,1842,1900,1899,1898,1897,1896,1895,1894,1893,1892,1891,1890,1889,1888,1887,1886,1885,1884,1883,1881,1880,1879,1878,1877,1876,1875,1874,1872,1841,1870,1899,1867,1866,1865,1864,1863,1862,1861,1860,1859,1858,1857,1856,1855,1854,1853,1852,1851,1850,1849,1848,1847,1846,1845,1900,1843,1842,1841,1868,1869,1844,1871,1898,1896,1895,1894,1893,1892,1891,1890,1889,1888,1887,1886,1885,1897,1883,1872,1873,1874,1884,1876,1875,1878,1879,1880,1881,1882,1877]},\"selected\":{\"id\":\"1143\"},\"selection_policy\":{\"id\":\"1161\"}},\"id\":\"1142\",\"type\":\"ColumnDataSource\"},{\"attributes\":{},\"id\":\"1251\",\"type\":\"Selection\"},{\"attributes\":{\"axis\":{\"id\":\"1072\"},\"coordinates\":null,\"grid_line_color\":null,\"group\":null,\"ticker\":null},\"id\":\"1075\",\"type\":\"Grid\"},{\"attributes\":{\"source\":{\"id\":\"1250\"}},\"id\":\"1257\",\"type\":\"CDSView\"},{\"attributes\":{\"data\":{\"AverageTemperature\":{\"__ndarray__\":\"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\",\"dtype\":\"float64\",\"order\":\"little\",\"shape\":[316]},\"Country\":[\"Canada\",\"Canada\",\"Canada\",\"Canada\",\"Canada\",\"Canada\",\"Canada\",\"Canada\",\"Canada\",\"Canada\",\"Canada\",\"Canada\",\"Canada\",\"Canada\",\"Canada\",\"Canada\",\"Canada\",\"Canada\",\"Canada\",\"Canada\",\"Canada\",\"Canada\",\"Canada\",\"Canada\",\"Canada\",\"Canada\",\"Canada\",\"Canada\",\"Canada\",\"Canada\",\"Canada\",\"Canada\",\"Canada\",\"Canada\",\"Canada\",\"Canada\",\"Canada\",\"Canada\",\"Canada\",\"Canada\",\"Canada\",\"Canada\",\"Canada\",\"Canada\",\"Canada\",\"Canada\",\"Canada\",\"Canada\",\"Canada\",\"Canada\",\"Canada\",\"Canada\",\"Canada\",\"Canada\",\"Canada\",\"Canada\",\"Canada\",\"Canada\",\"Canada\",\"Canada\",\"Canada\",\"Canada\",\"Canada\",\"Canada\",\"Canada\",\"Canada\",\"Canada\",\"Canada\",\"Canada\",\"Canada\",\"Canada\",\"Canada\",\"Canada\",\"Canada\",\"Canada\",\"Canada\",\"Canada\",\"Canada\",\"Canada\",\"Canada\",\"Canada\",\"Canada\",\"Canada\",\"Canada\",\"Canada\",\"Canada\",\"Canada\",\"Canada\",\"Canada\",\"Canada\",\"Canada\",\"Canada\",\"Canada\",\"Canada\",\"Canada\",\"Canada\",\"Canada\",\"Canada\",\"Canada\",\"Canada\",\"Canada\",\"Canada\",\"Canada\",\"Canada\",\"Canada\",\"Canada\",\"Canada\",\"Canada\",\"Canada\",\"Canada\",\"Canada\",\"Canada\",\"Canada\",\"Canada\",\"Canada\",\"Canada\",\"Canada\",\"Canada\",\"Canada\",\"Canada\",\"Canada\",\"Canada\",\"Canada\",\"Canada\",\"Canada\",\"Canada\",\"Canada\",\"Canada\",\"Canada\",\"Canada\",\"Canada\",\"Canada\",\"Canada\",\"Canada\",\"Canada\",\"Canada\",\"Canada\",\"Canada\",\"Canada\",\"Canada\",\"Canada\",\"Canada\",\"Canada\",\"Canada\",\"Canada\",\"Canada\",\"Canada\",\"Canada\",\"Canada\",\"Canada\",\"Canada\",\"Canada\",\"Canada\",\"Canada\",\"Canada\",\"Canada\",\"Canada\",\"Canada\",\"Canada\",\"Canada\",\"Canada\",\"Canada\",\"Canada\",\"Canada\",\"Canada\",\"Canada\",\"Canada\",\"Canada\",\"Canada\",\"Canada\",\"Canada\",\"Canada\",\"Canada\",\"Canada\",\"Canada\",\"Canada\",\"Canada\",\"Canada\",\"Canada\",\"Canada\",\"Canada\",\"Canada\",\"Canada\",\"Canada\",\"Canada\",\"Canada\",\"Canada\",\"Canada\",\"Canada\",\"Canada\",\"Canada\",\"Canada\",\"Canada\",\"Canada\",\"Canada\",\"Canada\",\"Canada\",\"Canada\",\"Canada\",\"Canada\",\"Canada\",\"Canada\",\"Canada\",\"Canada\",\"Canada\",\"Canada\",\"Canada\",\"Canada\",\"Canada\",\"Canada\",\"Canada\",\"Canada\",\"Canada\",\"Canada\",\"Canada\",\"Canada\",\"Canada\",\"Canada\",\"Canada\",\"Canada\",\"Canada\",\"Canada\",\"Canada\",\"Canada\",\"Canada\",\"Canada\",\"Canada\",\"Canada\",\"Canada\",\"Canada\",\"Canada\",\"Canada\",\"Canada\",\"Canada\",\"Canada\",\"Canada\",\"Canada\",\"Canada\",\"Canada\",\"Canada\",\"Canada\",\"Canada\",\"Canada\",\"Canada\",\"Canada\",\"Canada\",\"Canada\",\"Canada\",\"Canada\",\"Canada\",\"Canada\",\"Canada\",\"Canada\",\"Canada\",\"Canada\",\"Canada\",\"Canada\",\"Canada\",\"Canada\",\"Canada\",\"Canada\",\"Canada\",\"Canada\",\"Canada\",\"Canada\",\"Canada\",\"Canada\",\"Canada\",\"Canada\",\"Canada\",\"Canada\",\"Canada\",\"Canada\",\"Canada\",\"Canada\",\"Canada\",\"Canada\",\"Canada\",\"Canada\",\"Canada\",\"Canada\",\"Canada\",\"Canada\",\"Canada\",\"Canada\",\"Canada\",\"Canada\",\"Canada\",\"Canada\",\"Canada\",\"Canada\",\"Canada\",\"Canada\",\"Canada\",\"Canada\",\"Canada\",\"Canada\",\"Canada\",\"Canada\",\"Canada\",\"Canada\",\"Canada\",\"Canada\",\"Canada\",\"Canada\",\"Canada\",\"Canada\",\"Canada\",\"Canada\",\"Canada\",\"Canada\",\"Canada\",\"Canada\",\"Canada\",\"Canada\",\"Canada\"],\"year\":[1798,1794,1797,1796,1795,1799,1785,1790,1792,1791,1789,1788,1800,1787,1786,1793,1801,1811,1803,1820,1819,1784,1818,1817,1816,1815,1814,1813,1812,1810,1809,1808,1807,1806,1805,1804,1802,1783,1760,1781,1759,1758,1757,1756,1755,1754,1753,1761,1752,1750,1749,1748,1747,1746,1745,1821,1751,1782,1762,1764,1780,1779,1778,1777,1776,1775,1774,1763,1773,1771,1770,1769,1768,1767,1766,1765,1772,1822,1871,1824,1881,1880,1879,1878,1877,1876,1875,1882,1874,1872,1870,1869,1868,1867,1866,1865,1873,1864,1883,1885,1744,1900,1899,1898,1897,1896,1895,1884,1894,1892,1891,1890,1889,1888,1887,1886,1893,1823,1863,1861,1840,1839,1838,1837,1836,1835,1834,1841,1833,1831,1830,1829,1828,1827,1826,1825,1832,1862,1842,1844,1860,1859,1858,1857,1856,1855,1854,1843,1853,1851,1850,1849,1848,1847,1846,1845,1852,1743,1842,1899,1797,1796,1795,1794,1793,1792,1791,1790,1789,1788,1787,1786,1785,1784,1783,1798,1799,1800,1801,1818,1817,1816,1815,1814,1813,1812,1782,1811,1808,1807,1806,1805,1804,1803,1802,1809,1781,1780,1779,1758,1757,1756,1755,1754,1753,1752,1759,1751,1749,1748,1747,1746,1745,1744,1743,1750,1819,1760,1762,1778,1777,1776,1775,1774,1773,1772,1761,1771,1769,1768,1767,1766,1765,1764,1763,1770,1820,1810,1822,1878,1877,1876,1875,1874,1873,1872,1879,1821,1869,1868,1867,1866,1865,1864,1863,1870,1862,1880,1882,1898,1897,1896,1895,1894,1893,1892,1881,1891,1889,1888,1887,1886,1885,1884,1883,1890,1861,1871,1859,1838,1837,1836,1835,1834,1833,1832,1839,1831,1829,1828,1827,1826,1825,1824,1823,1860,1840,1830,1900,1841,1858,1857,1856,1855,1853,1852,1851,1854,1849,1848,1847,1846,1845,1844,1850,1843]},\"selected\":{\"id\":\"1221\"},\"selection_policy\":{\"id\":\"1245\"}},\"id\":\"1220\",\"type\":\"ColumnDataSource\"},{\"attributes\":{\"line_alpha\":0.1,\"line_color\":\"#9467bd\",\"line_width\":2,\"x\":{\"field\":\"year\"},\"y\":{\"field\":\"AverageTemperature\"}},\"id\":\"1254\",\"type\":\"Line\"},{\"attributes\":{},\"id\":\"1081\",\"type\":\"PanTool\"},{\"attributes\":{\"coordinates\":null,\"group\":null,\"text\":\"Average temperature by country\",\"text_color\":\"black\",\"text_font_size\":\"12pt\"},\"id\":\"1064\",\"type\":\"Title\"},{\"attributes\":{\"axis_label\":\"year\",\"coordinates\":null,\"formatter\":{\"id\":\"1094\"},\"group\":null,\"major_label_policy\":{\"id\":\"1095\"},\"ticker\":{\"id\":\"1073\"}},\"id\":\"1072\",\"type\":\"LinearAxis\"},{\"attributes\":{},\"id\":\"1121\",\"type\":\"Selection\"},{\"attributes\":{\"coordinates\":null,\"data_source\":{\"id\":\"1120\"},\"glyph\":{\"id\":\"1123\"},\"group\":null,\"hover_glyph\":null,\"muted_glyph\":{\"id\":\"1125\"},\"nonselection_glyph\":{\"id\":\"1124\"},\"selection_glyph\":{\"id\":\"1141\"},\"view\":{\"id\":\"1127\"}},\"id\":\"1126\",\"type\":\"GlyphRenderer\"},{\"attributes\":{\"axis\":{\"id\":\"1076\"},\"coordinates\":null,\"dimension\":1,\"grid_line_color\":null,\"group\":null,\"ticker\":null},\"id\":\"1079\",\"type\":\"Grid\"},{\"attributes\":{\"source\":{\"id\":\"1120\"}},\"id\":\"1127\",\"type\":\"CDSView\"},{\"attributes\":{\"line_alpha\":0.2,\"line_color\":\"#fc4f30\",\"line_width\":2,\"x\":{\"field\":\"year\"},\"y\":{\"field\":\"AverageTemperature\"}},\"id\":\"1125\",\"type\":\"Line\"},{\"attributes\":{},\"id\":\"1073\",\"type\":\"BasicTicker\"},{\"attributes\":{\"line_alpha\":0.2,\"line_color\":\"#9467bd\",\"line_width\":2,\"x\":{\"field\":\"year\"},\"y\":{\"field\":\"AverageTemperature\"}},\"id\":\"1255\",\"type\":\"Line\"},{\"attributes\":{\"axis_label\":\"AverageTemperature\",\"coordinates\":null,\"formatter\":{\"id\":\"1097\"},\"group\":null,\"major_label_policy\":{\"id\":\"1098\"},\"ticker\":{\"id\":\"1077\"}},\"id\":\"1076\",\"type\":\"LinearAxis\"},{\"attributes\":{},\"id\":\"1077\",\"type\":\"BasicTicker\"},{\"attributes\":{\"label\":{\"value\":\"Angola\"},\"renderers\":[{\"id\":\"1126\"}]},\"id\":\"1140\",\"type\":\"LegendItem\"},{\"attributes\":{\"label\":{\"value\":\"Chile\"},\"renderers\":[{\"id\":\"1256\"}]},\"id\":\"1280\",\"type\":\"LegendItem\"},{\"attributes\":{\"line_color\":\"#d62728\",\"line_width\":2,\"x\":{\"field\":\"year\"},\"y\":{\"field\":\"AverageTemperature\"}},\"id\":\"2731\",\"type\":\"Line\"},{\"attributes\":{},\"id\":\"1082\",\"type\":\"WheelZoomTool\"},{\"attributes\":{},\"id\":\"1080\",\"type\":\"SaveTool\"},{\"attributes\":{},\"id\":\"1277\",\"type\":\"UnionRenderers\"},{\"attributes\":{},\"id\":\"1137\",\"type\":\"UnionRenderers\"},{\"attributes\":{\"overlay\":{\"id\":\"1085\"}},\"id\":\"1083\",\"type\":\"BoxZoomTool\"},{\"attributes\":{},\"id\":\"1084\",\"type\":\"ResetTool\"},{\"attributes\":{},\"id\":\"2733\",\"type\":\"Selection\"},{\"attributes\":{},\"id\":\"1114\",\"type\":\"UnionRenderers\"},{\"attributes\":{\"source\":{\"id\":\"2732\"}},\"id\":\"2739\",\"type\":\"CDSView\"},{\"attributes\":{\"line_alpha\":0.1,\"line_color\":\"#1f77b4\",\"line_width\":2,\"x\":{\"field\":\"year\"},\"y\":{\"field\":\"AverageTemperature\"}},\"id\":\"2736\",\"type\":\"Line\"},{\"attributes\":{\"coordinates\":null,\"data_source\":{\"id\":\"2732\"},\"glyph\":{\"id\":\"2735\"},\"group\":null,\"hover_glyph\":null,\"muted_glyph\":{\"id\":\"2737\"},\"nonselection_glyph\":{\"id\":\"2736\"},\"selection_glyph\":{\"id\":\"2815\"},\"view\":{\"id\":\"2739\"}},\"id\":\"2738\",\"type\":\"GlyphRenderer\"},{\"attributes\":{\"line_color\":\"#8c564b\",\"line_width\":2,\"x\":{\"field\":\"year\"},\"y\":{\"field\":\"AverageTemperature\"}},\"id\":\"2905\",\"type\":\"Line\"},{\"attributes\":{\"line_alpha\":0.2,\"line_color\":\"#1f77b4\",\"line_width\":2,\"x\":{\"field\":\"year\"},\"y\":{\"field\":\"AverageTemperature\"}},\"id\":\"2737\",\"type\":\"Line\"},{\"attributes\":{\"label\":{\"value\":\"Senegal\"},\"renderers\":[{\"id\":\"2738\"}]},\"id\":\"2814\",\"type\":\"LegendItem\"},{\"attributes\":{\"data\":{\"AverageTemperature\":{\"__ndarray__\":\"YZ6ofyPkNkDAEcrobWE2QL3mQtKUEjZAHRM8mCdCNUAw3SQGgQ03QFyPwvUopDZA7zUXkqbsNkBjyS+W/Jo2QMwT9W+EQjZA54n6N0JJNkBoHz7Drrg2QN9PjZduWjZAzFodEzxoNkDHSzeJQTA2QOvfCGX0ljZAVCrOPnyWNUBJDAIrhx43QOuY4ME8oTZA5dAi2/m2NUCPUEZvy6o1QHsUrkfh4jVA0GkDnTZYNUAU9W+EMrI2QKvx0k1i4DVAw/UoXI/qNUCMJb9Y8gs2QJmZmZmZoTVA+FPjpZtsNkDIveZC0nQ2QDUXkqZUxDZApHA9CtfbNkBZ8oslvxA2QLTIdr6f4jZAgCOU0dsSN0CTplScfYg2QH+x5BdLFjZAQacNdNpYNkC7AuRecwk2QGWtjgkerDZAawOdNtCRNkDUvxHK6J02QDzfT42XRjZAw/UoXI96NkBU46WbxPA1QMP1KFyPgjVA1XjpJjHoNUCbmZmZmSE2QI8JHswTTTVA/WLJL5a8NUAxCKwcWpw2QMxaHRM8SDZAXUiaUnE2NkDEZ9gVICc3QP1iyS+WXDZA0duyVsf0NkDbh8+wK3AsQGHl0CLbITNAnu+nxksfMUDX6pjgwSwpQO18PzVeejZA5KWbxCDINUA5+/AZdn01QHh3d3d31ypA1THBg3nKNUAbdgXIvbY1QGdmZmZm9jVAbHVM8GCONkCzVscED/Y1QJVDi2znqzZAr0fhehRWNkCsHFpkO782QPnFkl8swTVA6SYxCKyENUAX2c73Uxs2QCA+w64AWTZAgdxrLiSlNkC8AuRecwk2QDn78Bl27TVAWDm0yHYuNkCNl24Sg2A2QNBpA502WDZAQacNdNrYNUA=\",\"dtype\":\"float64\",\"order\":\"little\",\"shape\":[82]},\"Country\":[\"Iraq\",\"Iraq\",\"Iraq\",\"Iraq\",\"Iraq\",\"Iraq\",\"Iraq\",\"Iraq\",\"Iraq\",\"Iraq\",\"Iraq\",\"Iraq\",\"Iraq\",\"Iraq\",\"Iraq\",\"Iraq\",\"Iraq\",\"Iraq\",\"Iraq\",\"Iraq\",\"Iraq\",\"Iraq\",\"Iraq\",\"Iraq\",\"Iraq\",\"Iraq\",\"Iraq\",\"Iraq\",\"Iraq\",\"Iraq\",\"Iraq\",\"Iraq\",\"Iraq\",\"Iraq\",\"Iraq\",\"Iraq\",\"Iraq\",\"Iraq\",\"Iraq\",\"Iraq\",\"Iraq\",\"Iraq\",\"Iraq\",\"Iraq\",\"Iraq\",\"Iraq\",\"Iraq\",\"Iraq\",\"Iraq\",\"Iraq\",\"Iraq\",\"Iraq\",\"Iraq\",\"Iraq\",\"Iraq\",\"Iraq\",\"Iraq\",\"Iraq\",\"Iraq\",\"Iraq\",\"Iraq\",\"Iraq\",\"Iraq\",\"Iraq\",\"Iraq\",\"Iraq\",\"Iraq\",\"Iraq\",\"Iraq\",\"Iraq\",\"Iraq\",\"Iraq\",\"Iraq\",\"Iraq\",\"Iraq\",\"Iraq\",\"Iraq\",\"Iraq\",\"Iraq\",\"Iraq\",\"Iraq\",\"Iraq\"],\"year\":[1873,1874,1875,1862,1877,1872,1878,1876,1871,1864,1869,1868,1867,1866,1865,1863,1879,1870,1880,1896,1882,1861,1899,1898,1897,1895,1894,1893,1900,1881,1892,1890,1889,1888,1887,1886,1885,1884,1883,1891,1860,1826,1858,1836,1835,1834,1833,1832,1831,1830,1829,1828,1827,1825,1824,1823,1822,1821,1820,1859,1837,1838,1819,1840,1839,1856,1855,1854,1853,1852,1851,1850,1857,1848,1847,1846,1845,1844,1843,1842,1849,1841]},\"selected\":{\"id\":\"1823\"},\"selection_policy\":{\"id\":\"1875\"}},\"id\":\"1822\",\"type\":\"ColumnDataSource\"},{\"attributes\":{\"source\":{\"id\":\"4090\"}},\"id\":\"4097\",\"type\":\"CDSView\"},{\"attributes\":{},\"id\":\"1187\",\"type\":\"UnionRenderers\"},{\"attributes\":{\"source\":{\"id\":\"1660\"}},\"id\":\"1667\",\"type\":\"CDSView\"},{\"attributes\":{\"line_color\":\"#8b8b8b\",\"line_width\":2,\"x\":{\"field\":\"year\"},\"y\":{\"field\":\"AverageTemperature\"}},\"id\":\"3559\",\"type\":\"Line\"},{\"attributes\":{\"line_alpha\":0.1,\"line_color\":\"#8c564b\",\"line_width\":2,\"x\":{\"field\":\"year\"},\"y\":{\"field\":\"AverageTemperature\"}},\"id\":\"4094\",\"type\":\"Line\"},{\"attributes\":{\"coordinates\":null,\"data_source\":{\"id\":\"4090\"},\"glyph\":{\"id\":\"4093\"},\"group\":null,\"hover_glyph\":null,\"muted_glyph\":{\"id\":\"4095\"},\"nonselection_glyph\":{\"id\":\"4094\"},\"selection_glyph\":{\"id\":\"4201\"},\"view\":{\"id\":\"4097\"}},\"id\":\"4096\",\"type\":\"GlyphRenderer\"},{\"attributes\":{},\"id\":\"3561\",\"type\":\"Selection\"},{\"attributes\":{\"line_color\":\"#17becf\",\"line_width\":2,\"x\":{\"field\":\"year\"},\"y\":{\"field\":\"AverageTemperature\"}},\"id\":\"3563\",\"type\":\"Line\"},{\"attributes\":{},\"id\":\"1655\",\"type\":\"UnionRenderers\"},{\"attributes\":{\"source\":{\"id\":\"3560\"}},\"id\":\"3567\",\"type\":\"CDSView\"},{\"attributes\":{},\"id\":\"3081\",\"type\":\"Selection\"},{\"attributes\":{\"line_color\":\"#bcbd22\",\"line_width\":2,\"x\":{\"field\":\"year\"},\"y\":{\"field\":\"AverageTemperature\"}},\"id\":\"4205\",\"type\":\"Line\"},{\"attributes\":{\"line_alpha\":0.2,\"line_color\":\"#8c564b\",\"line_width\":2,\"x\":{\"field\":\"year\"},\"y\":{\"field\":\"AverageTemperature\"}},\"id\":\"4095\",\"type\":\"Line\"},{\"attributes\":{},\"id\":\"3767\",\"type\":\"Selection\"},{\"attributes\":{\"line_color\":\"#bcbd22\",\"line_width\":2,\"x\":{\"field\":\"year\"},\"y\":{\"field\":\"AverageTemperature\"}},\"id\":\"3079\",\"type\":\"Line\"},{\"attributes\":{\"data\":{\"AverageTemperature\":{\"__ndarray__\":\"Tak4+/CxM0CEeaL+jWAzQOkmMQispDNAWfKLJb+QM0Ch0wY6bYAzQMXZh8+wCy1AwYN5ov4lNEBSuB6F68kzQDVeukkMEjRAWfKLJb+oM0Ch0wY6bYAzQGt1TPBg9jNADbsC5F47NEATPJgn6oczQCmjt2WtpjNABQ/mifrnM0BzaJHtfJczQE5iEFg5xDNAL90kBoE1NEApXI/C9Rg0QCmjt2WtljNABoGVQ4uMM0BOYhBYObwzQOPsw2fYRSlAAAAAAAAAAAAAAAAAAAAAALHkF0t+yTNAjCW/WPKrMUAAAAAAAAAAAAAAAAAAAAAAAAAAAAAAAAAAAAAAAAAAAAAAAAAAAAAAAAAAAAAAAAAAAAAAAAAAALXIdr6fAjFAAAAAAAAAAAAAAAAAAAAAAAAAAAAAAAAAAAAAAAAAAAAGgZVDi5wzQAAAAAAAAAAAAAAAAAAAAAAAAAAAAAAAAAAAAAAAAAAAAAAAAAAAAAAAAAAAAAAAAAAAAAAAAAAAAAAAAAAAAAAAAAAAAAAAAIts5/upUTRA\",\"dtype\":\"float64\",\"order\":\"little\",\"shape\":[51]},\"Country\":[\"Zimbabwe\",\"Zimbabwe\",\"Zimbabwe\",\"Zimbabwe\",\"Zimbabwe\",\"Zimbabwe\",\"Zimbabwe\",\"Zimbabwe\",\"Zimbabwe\",\"Zimbabwe\",\"Zimbabwe\",\"Zimbabwe\",\"Zimbabwe\",\"Zimbabwe\",\"Zimbabwe\",\"Zimbabwe\",\"Zimbabwe\",\"Zimbabwe\",\"Zimbabwe\",\"Zimbabwe\",\"Zimbabwe\",\"Zimbabwe\",\"Zimbabwe\",\"Zimbabwe\",\"Zimbabwe\",\"Zimbabwe\",\"Zimbabwe\",\"Zimbabwe\",\"Zimbabwe\",\"Zimbabwe\",\"Zimbabwe\",\"Zimbabwe\",\"Zimbabwe\",\"Zimbabwe\",\"Zimbabwe\",\"Zimbabwe\",\"Zimbabwe\",\"Zimbabwe\",\"Zimbabwe\",\"Zimbabwe\",\"Zimbabwe\",\"Zimbabwe\",\"Zimbabwe\",\"Zimbabwe\",\"Zimbabwe\",\"Zimbabwe\",\"Zimbabwe\",\"Zimbabwe\",\"Zimbabwe\",\"Zimbabwe\",\"Zimbabwe\"],\"year\":[1885,1884,1883,1882,1880,1879,1878,1886,1877,1881,1887,1895,1889,1890,1891,1892,1893,1894,1896,1897,1898,1876,1888,1875,1856,1873,1899,1850,1851,1852,1853,1854,1855,1857,1858,1859,1860,1861,1862,1863,1864,1865,1866,1867,1868,1869,1870,1871,1872,1874,1900]},\"selected\":{\"id\":\"4317\"},\"selection_policy\":{\"id\":\"4427\"}},\"id\":\"4316\",\"type\":\"ColumnDataSource\"},{\"attributes\":{\"line_color\":\"#30a2da\",\"line_width\":2,\"x\":{\"field\":\"year\"},\"y\":{\"field\":\"AverageTemperature\"}},\"id\":\"3083\",\"type\":\"Line\"},{\"attributes\":{\"line_alpha\":0.1,\"line_color\":\"#17becf\",\"line_width\":2,\"x\":{\"field\":\"year\"},\"y\":{\"field\":\"AverageTemperature\"}},\"id\":\"3564\",\"type\":\"Line\"},{\"attributes\":{\"label\":{\"value\":\"United States\"},\"renderers\":[{\"id\":\"4096\"}]},\"id\":\"4200\",\"type\":\"LegendItem\"},{\"attributes\":{\"source\":{\"id\":\"3662\"}},\"id\":\"3669\",\"type\":\"CDSView\"},{\"attributes\":{\"coordinates\":null,\"data_source\":{\"id\":\"3560\"},\"glyph\":{\"id\":\"3563\"},\"group\":null,\"hover_glyph\":null,\"muted_glyph\":{\"id\":\"3565\"},\"nonselection_glyph\":{\"id\":\"3564\"},\"selection_glyph\":{\"id\":\"3661\"},\"view\":{\"id\":\"3567\"}},\"id\":\"3566\",\"type\":\"GlyphRenderer\"},{\"attributes\":{},\"id\":\"4197\",\"type\":\"UnionRenderers\"},{\"attributes\":{\"source\":{\"id\":\"3080\"}},\"id\":\"3087\",\"type\":\"CDSView\"},{\"attributes\":{\"data\":{\"AverageTemperature\":{\"__ndarray__\":\"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\",\"dtype\":\"float64\",\"order\":\"little\",\"shape\":[368]},\"Country\":[\"United States\",\"United States\",\"United States\",\"United States\",\"United States\",\"United States\",\"United States\",\"United States\",\"United States\",\"United States\",\"United States\",\"United States\",\"United States\",\"United States\",\"United States\",\"United States\",\"United States\",\"United States\",\"United States\",\"United States\",\"United States\",\"United States\",\"United States\",\"United States\",\"United States\",\"United States\",\"United States\",\"United States\",\"United States\",\"United States\",\"United States\",\"United States\",\"United States\",\"United States\",\"United States\",\"United States\",\"United States\",\"United States\",\"United States\",\"United States\",\"United States\",\"United States\",\"United States\",\"United States\",\"United States\",\"United States\",\"United States\",\"United States\",\"United States\",\"United States\",\"United States\",\"United States\",\"United States\",\"United States\",\"United States\",\"United States\",\"United States\",\"United States\",\"United States\",\"United States\",\"United States\",\"United States\",\"United States\",\"United States\",\"United States\",\"United States\",\"United States\",\"United States\",\"United States\",\"United States\",\"United States\",\"United States\",\"United States\",\"United States\",\"United States\",\"United States\",\"United States\",\"United States\",\"United States\",\"United States\",\"United States\",\"United States\",\"United States\",\"United States\",\"United States\",\"United States\",\"United States\",\"United States\",\"United States\",\"United States\",\"United States\",\"United States\",\"United States\",\"United States\",\"United States\",\"United States\",\"United States\",\"United States\",\"United States\",\"United States\",\"United States\",\"United States\",\"United States\",\"United States\",\"United States\",\"United States\",\"United States\",\"United States\",\"United States\",\"United States\",\"United States\",\"United States\",\"United States\",\"United States\",\"United States\",\"United States\",\"United States\",\"United States\",\"United States\",\"United States\",\"United States\",\"United States\",\"United States\",\"United States\",\"United States\",\"United States\",\"United States\",\"United States\",\"United States\",\"United States\",\"United States\",\"United States\",\"United States\",\"United States\",\"United States\",\"United States\",\"United States\",\"United States\",\"United States\",\"United States\",\"United States\",\"United States\",\"United States\",\"United States\",\"United States\",\"United States\",\"United States\",\"United States\",\"United States\",\"United States\",\"United States\",\"United States\",\"United States\",\"United States\",\"United States\",\"United States\",\"United States\",\"United States\",\"United States\",\"United States\",\"United States\",\"United States\",\"United States\",\"United States\",\"United States\",\"United States\",\"United States\",\"United States\",\"United States\",\"United States\",\"United States\",\"United States\",\"United States\",\"United States\",\"United States\",\"United States\",\"United States\",\"United States\",\"United States\",\"United States\",\"United States\",\"United States\",\"United States\",\"United States\",\"United States\",\"United States\",\"United States\",\"United States\",\"United States\",\"United States\",\"United States\",\"United States\",\"United States\",\"United States\",\"United States\",\"United States\",\"United States\",\"United States\",\"United States\",\"United States\",\"United States\",\"United States\",\"United States\",\"United States\",\"United States\",\"United States\",\"United States\",\"United States\",\"United States\",\"United States\",\"United States\",\"United States\",\"United States\",\"United States\",\"United States\",\"United States\",\"United States\",\"United States\",\"United States\",\"United States\",\"United States\",\"United States\",\"United States\",\"United States\",\"United States\",\"United States\",\"United States\",\"United States\",\"United States\",\"United States\",\"United States\",\"United States\",\"United States\",\"United States\",\"United States\",\"United States\",\"United States\",\"United States\",\"United States\",\"United States\",\"United States\",\"United States\",\"United States\",\"United States\",\"United States\",\"United States\",\"United States\",\"United States\",\"United States\",\"United States\",\"United States\",\"United States\",\"United States\",\"United States\",\"United States\",\"United States\",\"United States\",\"United States\",\"United States\",\"United States\",\"United States\",\"United States\",\"United States\",\"United States\",\"United States\",\"United States\",\"United States\",\"United States\",\"United States\",\"United States\",\"United States\",\"United States\",\"United States\",\"United States\",\"United States\",\"United States\",\"United States\",\"United States\",\"United States\",\"United States\",\"United States\",\"United States\",\"United States\",\"United States\",\"United States\",\"United States\",\"United States\",\"United States\",\"United States\",\"United States\",\"United States\",\"United States\",\"United States\",\"United States\",\"United States\",\"United States\",\"United States\",\"United States\",\"United States\",\"United States\",\"United States\",\"United States\",\"United States\",\"United States\",\"United States\",\"United States\",\"United States\",\"United States\",\"United States\",\"United States\",\"United States\",\"United States\",\"United States\",\"United States\",\"United States\",\"United States\",\"United States\",\"United States\",\"United States\",\"United States\",\"United States\",\"United States\",\"United States\",\"United States\",\"United States\",\"United States\",\"United States\",\"United States\",\"United States\",\"United States\",\"United States\",\"United States\",\"United States\",\"United States\",\"United States\",\"United States\",\"United States\",\"United States\",\"United States\",\"United States\",\"United States\",\"United States\",\"United States\",\"United States\",\"United States\",\"United States\",\"United States\",\"United States\",\"United States\",\"United States\",\"United States\",\"United States\",\"United States\",\"United States\",\"United States\",\"United States\",\"United States\",\"United States\",\"United States\",\"United States\",\"United States\",\"United States\",\"United States\",\"United States\",\"United States\",\"United States\",\"United States\",\"United States\"],\"year\":[1779,1780,1781,1786,1783,1784,1778,1785,1782,1777,1773,1775,1774,1772,1771,1770,1766,1769,1767,1776,1768,1804,1788,1765,1807,1806,1805,1803,1802,1801,1800,1799,1798,1797,1796,1795,1794,1793,1792,1791,1790,1789,1787,1764,1883,1762,1895,1894,1893,1892,1891,1890,1889,1888,1887,1886,1885,1884,1808,1882,1881,1880,1879,1878,1877,1896,1763,1897,1900,1761,1760,1759,1758,1757,1756,1755,1754,1753,1752,1751,1750,1749,1748,1747,1746,1745,1744,1743,1899,1809,1848,1811,1877,1876,1875,1874,1873,1872,1871,1870,1869,1868,1867,1866,1865,1864,1863,1862,1861,1860,1859,1878,1858,1879,1881,1900,1899,1898,1897,1896,1895,1894,1893,1892,1891,1890,1889,1888,1887,1886,1885,1884,1883,1882,1880,1857,1856,1855,1830,1829,1828,1827,1826,1825,1824,1823,1822,1821,1820,1819,1818,1817,1816,1815,1814,1813,1812,1831,1832,1833,1834,1854,1853,1852,1851,1850,1849,1876,1847,1846,1810,1845,1843,1842,1841,1840,1839,1838,1837,1836,1835,1844,1875,1898,1873,1808,1807,1806,1805,1804,1803,1802,1801,1800,1799,1798,1797,1796,1795,1794,1793,1792,1791,1790,1809,1789,1810,1812,1831,1830,1829,1828,1827,1826,1825,1824,1823,1822,1821,1820,1819,1818,1817,1816,1815,1814,1813,1811,1788,1787,1786,1761,1760,1759,1758,1757,1756,1755,1754,1753,1752,1751,1750,1749,1748,1747,1746,1745,1744,1743,1762,1763,1764,1765,1785,1784,1783,1782,1781,1780,1779,1778,1777,1832,1776,1774,1773,1772,1771,1874,1769,1768,1767,1766,1775,1833,1770,1835,1850,1849,1900,1898,1897,1896,1895,1894,1893,1892,1891,1890,1889,1888,1887,1886,1885,1884,1883,1851,1882,1852,1854,1834,1872,1871,1870,1869,1868,1867,1866,1865,1864,1863,1862,1861,1860,1859,1858,1857,1856,1855,1853,1881,1899,1879,1855,1854,1853,1852,1851,1850,1849,1848,1847,1856,1846,1844,1843,1842,1841,1840,1880,1838,1837,1836,1845,1857,1839,1859,1858,1876,1875,1874,1873,1872,1871,1870,1869,1877,1867,1860,1868,1861,1862,1878,1864,1865,1863,1866]},\"selected\":{\"id\":\"4091\"},\"selection_policy\":{\"id\":\"4197\"}},\"id\":\"4090\",\"type\":\"ColumnDataSource\"},{\"attributes\":{\"line_alpha\":0.2,\"line_color\":\"#17becf\",\"line_width\":2,\"x\":{\"field\":\"year\"},\"y\":{\"field\":\"AverageTemperature\"}},\"id\":\"3565\",\"type\":\"Line\"},{\"attributes\":{},\"id\":\"2271\",\"type\":\"Selection\"},{\"attributes\":{\"line_color\":\"#9467bd\",\"line_width\":2,\"x\":{\"field\":\"year\"},\"y\":{\"field\":\"AverageTemperature\"}},\"id\":\"3665\",\"type\":\"Line\"},{\"attributes\":{},\"id\":\"3173\",\"type\":\"Selection\"},{\"attributes\":{\"line_alpha\":0.1,\"line_color\":\"#30a2da\",\"line_width\":2,\"x\":{\"field\":\"year\"},\"y\":{\"field\":\"AverageTemperature\"}},\"id\":\"3084\",\"type\":\"Line\"},{\"attributes\":{\"label\":{\"value\":\"Tanzania\"},\"renderers\":[{\"id\":\"3566\"}]},\"id\":\"3660\",\"type\":\"LegendItem\"},{\"attributes\":{\"line_alpha\":0.1,\"line_color\":\"#fc4f30\",\"line_width\":2,\"x\":{\"field\":\"year\"},\"y\":{\"field\":\"AverageTemperature\"}},\"id\":\"3176\",\"type\":\"Line\"},{\"attributes\":{\"coordinates\":null,\"data_source\":{\"id\":\"3080\"},\"glyph\":{\"id\":\"3083\"},\"group\":null,\"hover_glyph\":null,\"muted_glyph\":{\"id\":\"3085\"},\"nonselection_glyph\":{\"id\":\"3084\"},\"selection_glyph\":{\"id\":\"3171\"},\"view\":{\"id\":\"3087\"}},\"id\":\"3086\",\"type\":\"GlyphRenderer\"},{\"attributes\":{\"line_color\":\"#fc4f30\",\"line_width\":2,\"x\":{\"field\":\"year\"},\"y\":{\"field\":\"AverageTemperature\"}},\"id\":\"2269\",\"type\":\"Line\"},{\"attributes\":{},\"id\":\"3657\",\"type\":\"UnionRenderers\"},{\"attributes\":{\"line_color\":\"#e5ae38\",\"line_width\":2,\"x\":{\"field\":\"year\"},\"y\":{\"field\":\"AverageTemperature\"}},\"id\":\"2273\",\"type\":\"Line\"},{\"attributes\":{},\"id\":\"1941\",\"type\":\"Selection\"},{\"attributes\":{\"source\":{\"id\":\"1192\"}},\"id\":\"1199\",\"type\":\"CDSView\"},{\"attributes\":{\"source\":{\"id\":\"2270\"}},\"id\":\"2277\",\"type\":\"CDSView\"},{\"attributes\":{\"line_alpha\":0.2,\"line_color\":\"#30a2da\",\"line_width\":2,\"x\":{\"field\":\"year\"},\"y\":{\"field\":\"AverageTemperature\"}},\"id\":\"3085\",\"type\":\"Line\"},{\"attributes\":{\"line_color\":\"#fc4f30\",\"line_width\":2,\"x\":{\"field\":\"year\"},\"y\":{\"field\":\"AverageTemperature\"}},\"id\":\"3175\",\"type\":\"Line\"},{\"attributes\":{\"line_color\":\"#1f77b4\",\"line_width\":2,\"x\":{\"field\":\"year\"},\"y\":{\"field\":\"AverageTemperature\"}},\"id\":\"1939\",\"type\":\"Line\"},{\"attributes\":{\"line_color\":\"#8b8b8b\",\"line_width\":2,\"x\":{\"field\":\"year\"},\"y\":{\"field\":\"AverageTemperature\"}},\"id\":\"1195\",\"type\":\"Line\"},{\"attributes\":{\"line_color\":\"#e377c2\",\"line_width\":2,\"x\":{\"field\":\"year\"},\"y\":{\"field\":\"AverageTemperature\"}},\"id\":\"1943\",\"type\":\"Line\"},{\"attributes\":{\"label\":{\"value\":\"South Korea\"},\"renderers\":[{\"id\":\"3086\"}]},\"id\":\"3170\",\"type\":\"LegendItem\"},{\"attributes\":{\"line_alpha\":0.1,\"line_color\":\"#8b8b8b\",\"line_width\":2,\"x\":{\"field\":\"year\"},\"y\":{\"field\":\"AverageTemperature\"}},\"id\":\"1664\",\"type\":\"Line\"},{\"attributes\":{\"line_color\":\"#8b8b8b\",\"line_width\":2,\"x\":{\"field\":\"year\"},\"y\":{\"field\":\"AverageTemperature\"}},\"id\":\"2419\",\"type\":\"Line\"},{\"attributes\":{},\"id\":\"1193\",\"type\":\"Selection\"},{\"attributes\":{},\"id\":\"3167\",\"type\":\"UnionRenderers\"},{\"attributes\":{\"line_alpha\":0.1,\"line_color\":\"#8b8b8b\",\"line_width\":2,\"x\":{\"field\":\"year\"},\"y\":{\"field\":\"AverageTemperature\"}},\"id\":\"1196\",\"type\":\"Line\"},{\"attributes\":{\"source\":{\"id\":\"1940\"}},\"id\":\"1947\",\"type\":\"CDSView\"},{\"attributes\":{\"line_alpha\":0.1,\"line_color\":\"#e5ae38\",\"line_width\":2,\"x\":{\"field\":\"year\"},\"y\":{\"field\":\"AverageTemperature\"}},\"id\":\"2274\",\"type\":\"Line\"},{\"attributes\":{\"coordinates\":null,\"data_source\":{\"id\":\"2270\"},\"glyph\":{\"id\":\"2273\"},\"group\":null,\"hover_glyph\":null,\"muted_glyph\":{\"id\":\"2275\"},\"nonselection_glyph\":{\"id\":\"2274\"},\"selection_glyph\":{\"id\":\"2341\"},\"view\":{\"id\":\"2277\"}},\"id\":\"2276\",\"type\":\"GlyphRenderer\"},{\"attributes\":{\"line_color\":\"#6d904f\",\"line_width\":2,\"x\":{\"field\":\"year\"},\"y\":{\"field\":\"AverageTemperature\"}},\"id\":\"1659\",\"type\":\"Line\"},{\"attributes\":{\"line_color\":\"#8c564b\",\"line_width\":2,\"x\":{\"field\":\"year\"},\"y\":{\"field\":\"AverageTemperature\"}},\"id\":\"2005\",\"type\":\"Line\"},{\"attributes\":{\"coordinates\":null,\"data_source\":{\"id\":\"1192\"},\"glyph\":{\"id\":\"1195\"},\"group\":null,\"hover_glyph\":null,\"muted_glyph\":{\"id\":\"1197\"},\"nonselection_glyph\":{\"id\":\"1196\"},\"selection_glyph\":{\"id\":\"1219\"},\"view\":{\"id\":\"1199\"}},\"id\":\"1198\",\"type\":\"GlyphRenderer\"},{\"attributes\":{\"line_alpha\":0.1,\"line_color\":\"#e377c2\",\"line_width\":2,\"x\":{\"field\":\"year\"},\"y\":{\"field\":\"AverageTemperature\"}},\"id\":\"1944\",\"type\":\"Line\"},{\"attributes\":{\"line_alpha\":0.2,\"line_color\":\"#e5ae38\",\"line_width\":2,\"x\":{\"field\":\"year\"},\"y\":{\"field\":\"AverageTemperature\"}},\"id\":\"2275\",\"type\":\"Line\"},{\"attributes\":{\"coordinates\":null,\"data_source\":{\"id\":\"1660\"},\"glyph\":{\"id\":\"1663\"},\"group\":null,\"hover_glyph\":null,\"muted_glyph\":{\"id\":\"1665\"},\"nonselection_glyph\":{\"id\":\"1664\"},\"selection_glyph\":{\"id\":\"1711\"},\"view\":{\"id\":\"1667\"}},\"id\":\"1666\",\"type\":\"GlyphRenderer\"},{\"attributes\":{\"data\":{\"AverageTemperature\":{\"__ndarray__\":\"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\",\"dtype\":\"float64\",\"order\":\"little\",\"shape\":[275]},\"Country\":[\"Pakistan\",\"Pakistan\",\"Pakistan\",\"Pakistan\",\"Pakistan\",\"Pakistan\",\"Pakistan\",\"Pakistan\",\"Pakistan\",\"Pakistan\",\"Pakistan\",\"Pakistan\",\"Pakistan\",\"Pakistan\",\"Pakistan\",\"Pakistan\",\"Pakistan\",\"Pakistan\",\"Pakistan\",\"Pakistan\",\"Pakistan\",\"Pakistan\",\"Pakistan\",\"Pakistan\",\"Pakistan\",\"Pakistan\",\"Pakistan\",\"Pakistan\",\"Pakistan\",\"Pakistan\",\"Pakistan\",\"Pakistan\",\"Pakistan\",\"Pakistan\",\"Pakistan\",\"Pakistan\",\"Pakistan\",\"Pakistan\",\"Pakistan\",\"Pakistan\",\"Pakistan\",\"Pakistan\",\"Pakistan\",\"Pakistan\",\"Pakistan\",\"Pakistan\",\"Pakistan\",\"Pakistan\",\"Pakistan\",\"Pakistan\",\"Pakistan\",\"Pakistan\",\"Pakistan\",\"Pakistan\",\"Pakistan\",\"Pakistan\",\"Pakistan\",\"Pakistan\",\"Pakistan\",\"Pakistan\",\"Pakistan\",\"Pakistan\",\"Pakistan\",\"Pakistan\",\"Pakistan\",\"Pakistan\",\"Pakistan\",\"Pakistan\",\"Pakistan\",\"Pakistan\",\"Pakistan\",\"Pakistan\",\"Pakistan\",\"Pakistan\",\"Pakistan\",\"Pakistan\",\"Pakistan\",\"Pakistan\",\"Pakistan\",\"Pakistan\",\"Pakistan\",\"Pakistan\",\"Pakistan\",\"Pakistan\",\"Pakistan\",\"Pakistan\",\"Pakistan\",\"Pakistan\",\"Pakistan\",\"Pakistan\",\"Pakistan\",\"Pakistan\",\"Pakistan\",\"Pakistan\",\"Pakistan\",\"Pakistan\",\"Pakistan\",\"Pakistan\",\"Pakistan\",\"Pakistan\",\"Pakistan\",\"Pakistan\",\"Pakistan\",\"Pakistan\",\"Pakistan\",\"Pakistan\",\"Pakistan\",\"Pakistan\",\"Pakistan\",\"Pakistan\",\"Pakistan\",\"Pakistan\",\"Pakistan\",\"Pakistan\",\"Pakistan\",\"Pakistan\",\"Pakistan\",\"Pakistan\",\"Pakistan\",\"Pakistan\",\"Pakistan\",\"Pakistan\",\"Pakistan\",\"Pakistan\",\"Pakistan\",\"Pakistan\",\"Pakistan\",\"Pakistan\",\"Pakistan\",\"Pakistan\",\"Pakistan\",\"Pakistan\",\"Pakistan\",\"Pakistan\",\"Pakistan\",\"Pakistan\",\"Pakistan\",\"Pakistan\",\"Pakistan\",\"Pakistan\",\"Pakistan\",\"Pakistan\",\"Pakistan\",\"Pakistan\",\"Pakistan\",\"Pakistan\",\"Pakistan\",\"Pakistan\",\"Pakistan\",\"Pakistan\",\"Pakistan\",\"Pakistan\",\"Pakistan\",\"Pakistan\",\"Pakistan\",\"Pakistan\",\"Pakistan\",\"Pakistan\",\"Pakistan\",\"Pakistan\",\"Pakistan\",\"Pakistan\",\"Pakistan\",\"Pakistan\",\"Pakistan\",\"Pakistan\",\"Pakistan\",\"Pakistan\",\"Pakistan\",\"Pakistan\",\"Pakistan\",\"Pakistan\",\"Pakistan\",\"Pakistan\",\"Pakistan\",\"Pakistan\",\"Pakistan\",\"Pakistan\",\"Pakistan\",\"Pakistan\",\"Pakistan\",\"Pakistan\",\"Pakistan\",\"Pakistan\",\"Pakistan\",\"Pakistan\",\"Pakistan\",\"Pakistan\",\"Pakistan\",\"Pakistan\",\"Pakistan\",\"Pakistan\",\"Pakistan\",\"Pakistan\",\"Pakistan\",\"Pakistan\",\"Pakistan\",\"Pakistan\",\"Pakistan\",\"Pakistan\",\"Pakistan\",\"Pakistan\",\"Pakistan\",\"Pakistan\",\"Pakistan\",\"Pakistan\",\"Pakistan\",\"Pakistan\",\"Pakistan\",\"Pakistan\",\"Pakistan\",\"Pakistan\",\"Pakistan\",\"Pakistan\",\"Pakistan\",\"Pakistan\",\"Pakistan\",\"Pakistan\",\"Pakistan\",\"Pakistan\",\"Pakistan\",\"Pakistan\",\"Pakistan\",\"Pakistan\",\"Pakistan\",\"Pakistan\",\"Pakistan\",\"Pakistan\",\"Pakistan\",\"Pakistan\",\"Pakistan\",\"Pakistan\",\"Pakistan\",\"Pakistan\",\"Pakistan\",\"Pakistan\",\"Pakistan\",\"Pakistan\",\"Pakistan\",\"Pakistan\",\"Pakistan\",\"Pakistan\",\"Pakistan\",\"Pakistan\",\"Pakistan\",\"Pakistan\",\"Pakistan\",\"Pakistan\",\"Pakistan\",\"Pakistan\",\"Pakistan\",\"Pakistan\",\"Pakistan\",\"Pakistan\",\"Pakistan\",\"Pakistan\",\"Pakistan\",\"Pakistan\",\"Pakistan\",\"Pakistan\",\"Pakistan\",\"Pakistan\",\"Pakistan\",\"Pakistan\",\"Pakistan\",\"Pakistan\",\"Pakistan\",\"Pakistan\",\"Pakistan\",\"Pakistan\",\"Pakistan\",\"Pakistan\",\"Pakistan\",\"Pakistan\",\"Pakistan\"],\"year\":[1897,1896,1895,1894,1893,1885,1891,1890,1889,1888,1887,1886,1892,1898,1829,1900,1884,1828,1827,1826,1825,1824,1899,1823,1821,1820,1819,1818,1817,1816,1822,1883,1867,1881,1830,1850,1851,1852,1853,1854,1855,1856,1857,1858,1859,1860,1861,1862,1863,1864,1865,1880,1879,1878,1877,1876,1875,1882,1874,1872,1871,1870,1869,1868,1866,1873,1831,1866,1833,1870,1871,1872,1873,1874,1875,1876,1877,1878,1879,1880,1881,1882,1883,1884,1885,1886,1900,1899,1898,1897,1896,1895,1869,1894,1892,1891,1890,1889,1888,1887,1893,1832,1868,1849,1834,1835,1836,1837,1838,1839,1840,1841,1842,1843,1845,1846,1847,1848,1849,1850,1851,1865,1864,1863,1862,1861,1860,1867,1859,1857,1856,1855,1854,1853,1852,1858,1848,1844,1846,1851,1852,1853,1854,1855,1856,1857,1858,1860,1861,1862,1863,1864,1865,1850,1866,1868,1869,1870,1871,1872,1873,1874,1875,1876,1877,1878,1879,1880,1881,1867,1849,1848,1847,1816,1817,1818,1819,1820,1821,1822,1823,1824,1825,1826,1827,1828,1829,1830,1831,1832,1846,1845,1844,1843,1842,1841,1882,1840,1838,1837,1836,1835,1834,1833,1839,1883,1859,1885,1815,1816,1817,1818,1819,1820,1821,1822,1823,1824,1825,1826,1827,1828,1829,1830,1831,1845,1844,1843,1842,1841,1840,1814,1839,1837,1884,1835,1834,1833,1832,1838,1813,1836,1811,1898,1897,1896,1895,1894,1893,1899,1892,1890,1889,1888,1887,1886,1812,1891,1900,1847,1797,1796,1809,1808,1810,1806,1805,1804,1807,1802,1801,1800,1799,1798,1803]},\"selected\":{\"id\":\"2343\"},\"selection_policy\":{\"id\":\"2411\"}},\"id\":\"2342\",\"type\":\"ColumnDataSource\"},{\"attributes\":{\"coordinates\":null,\"data_source\":{\"id\":\"1940\"},\"glyph\":{\"id\":\"1943\"},\"group\":null,\"hover_glyph\":null,\"muted_glyph\":{\"id\":\"1945\"},\"nonselection_glyph\":{\"id\":\"1944\"},\"selection_glyph\":{\"id\":\"2001\"},\"view\":{\"id\":\"1947\"}},\"id\":\"1946\",\"type\":\"GlyphRenderer\"},{\"attributes\":{\"line_alpha\":0.2,\"line_color\":\"#8b8b8b\",\"line_width\":2,\"x\":{\"field\":\"year\"},\"y\":{\"field\":\"AverageTemperature\"}},\"id\":\"1197\",\"type\":\"Line\"},{\"attributes\":{\"data\":{\"AverageTemperature\":{\"__ndarray__\":\"G+i0gU4LKEAEVg4tsp0pQOeJ+jdCmShAAyuHFtl+KUBTuB6F61EpQCFpSsXZxyhAX7pJDALbKECBlUOLbOcoQB0TPJgnailAMQisHFpUKUAYkqZUnD0pQE9iEFg5RChAeekmMQjsKEAkTak4+6AoQHTaQKcNZChAdNpApw3UJ0DnQtKUitMoQDSl4uzD9yZAGQRWDi2CKEAJZfS2rLUnQEFg5dAiSypAqA102kBXJ0DgCGX0tuwnQBhLfrHkVyhAFa5H4XqEJ0Bhnqh/IwQpQEgoo7dlrShAa3VM8GBeJ0ALkHvNhaQoQMRn2BUg9ydAFWcfPsM+KkDtNReSpnQoQNEi2/l+yidAC9ejcD3qKED1b4QyeksoQP+NUEZvGyhAvHSTGATGJ0B5ov6NUIYnQDSl4uzDxyhA0LArQO6lKEA9Uf9GKBMnQP0boYzepidAVVVVVVUVKUDIveZC0uQmQAAAAAAAAAAAK4cW2c43GkD5xZJfLAkoQL0ta3VMcB9ABA/mifqXHUAwT9S/EconQKFFtvP9RCdA+X5qvHQzKEDJL5b8YlknQJE0peLsAyhAjN6WtTomKEDEILByaLEmQNEi2/l+SidADbsC5F4TKUB/seQXS34oQJhuEoPAaidAZ2ZmZmY2J0CnDXTaQDcpQHDLWh0TLChAFa5H4Xo0KEAdWmQ7318oQAjzRP0bsShAPcOuALmnJ0CwcmiR7SwoQKXi7MNneCdA\",\"dtype\":\"float64\",\"order\":\"little\",\"shape\":[69]},\"Country\":[\"Iran\",\"Iran\",\"Iran\",\"Iran\",\"Iran\",\"Iran\",\"Iran\",\"Iran\",\"Iran\",\"Iran\",\"Iran\",\"Iran\",\"Iran\",\"Iran\",\"Iran\",\"Iran\",\"Iran\",\"Iran\",\"Iran\",\"Iran\",\"Iran\",\"Iran\",\"Iran\",\"Iran\",\"Iran\",\"Iran\",\"Iran\",\"Iran\",\"Iran\",\"Iran\",\"Iran\",\"Iran\",\"Iran\",\"Iran\",\"Iran\",\"Iran\",\"Iran\",\"Iran\",\"Iran\",\"Iran\",\"Iran\",\"Iran\",\"Iran\",\"Iran\",\"Iran\",\"Iran\",\"Iran\",\"Iran\",\"Iran\",\"Iran\",\"Iran\",\"Iran\",\"Iran\",\"Iran\",\"Iran\",\"Iran\",\"Iran\",\"Iran\",\"Iran\",\"Iran\",\"Iran\",\"Iran\",\"Iran\",\"Iran\",\"Iran\",\"Iran\",\"Iran\",\"Iran\",\"Iran\"],\"year\":[1882,1881,1880,1879,1878,1869,1877,1874,1875,1873,1872,1871,1870,1883,1876,1884,1892,1886,1868,1900,1899,1898,1897,1896,1885,1895,1893,1891,1890,1889,1888,1887,1894,1867,1849,1865,1845,1844,1843,1842,1841,1840,1846,1838,1836,1835,1834,1833,1832,1866,1837,1847,1839,1860,1863,1862,1861,1859,1858,1848,1857,1855,1854,1853,1852,1851,1850,1856,1864]},\"selected\":{\"id\":\"1767\"},\"selection_policy\":{\"id\":\"1817\"}},\"id\":\"1766\",\"type\":\"ColumnDataSource\"},{\"attributes\":{\"label\":{\"value\":\"Nigeria\"},\"renderers\":[{\"id\":\"2276\"}]},\"id\":\"2340\",\"type\":\"LegendItem\"},{\"attributes\":{\"line_color\":\"#8c564b\",\"line_width\":2,\"x\":{\"field\":\"year\"},\"y\":{\"field\":\"AverageTemperature\"}},\"id\":\"4201\",\"type\":\"Line\"},{\"attributes\":{},\"id\":\"2003\",\"type\":\"Selection\"},{\"attributes\":{},\"id\":\"2337\",\"type\":\"UnionRenderers\"},{\"attributes\":{\"line_alpha\":0.2,\"line_color\":\"#e377c2\",\"line_width\":2,\"x\":{\"field\":\"year\"},\"y\":{\"field\":\"AverageTemperature\"}},\"id\":\"1945\",\"type\":\"Line\"},{\"attributes\":{\"label\":{\"value\":\"Brazil\"},\"renderers\":[{\"id\":\"1198\"}]},\"id\":\"1218\",\"type\":\"LegendItem\"},{\"attributes\":{\"line_alpha\":0.1,\"line_color\":\"#8c564b\",\"line_width\":2,\"x\":{\"field\":\"year\"},\"y\":{\"field\":\"AverageTemperature\"}},\"id\":\"2006\",\"type\":\"Line\"},{\"attributes\":{\"line_alpha\":0.2,\"line_color\":\"#8b8b8b\",\"line_width\":2,\"x\":{\"field\":\"year\"},\"y\":{\"field\":\"AverageTemperature\"}},\"id\":\"1665\",\"type\":\"Line\"},{\"attributes\":{},\"id\":\"1215\",\"type\":\"UnionRenderers\"},{\"attributes\":{\"data\":{\"AverageTemperature\":{\"__ndarray__\":\"gwfzRP0bGUDLoUW2870XQEvF2YfPkBlA8/3UeOnGHkCkKRVnH/4ZQB+F61G4Xh1A6bSBThtIG0D88Bl2BUgZQGiR7Xw/tRlA+zdCGb0tHEBUnH34DFsbQC2yne+nRhtAS8XZh89QHEAklNHbsjYeQMm95kLS1B9AkTSl4uwjGUBcj8L1KBwfQDttoNMGmhhArBxaZDt/GkDBPFH/RugVQHpb1uqY4CBA2YfPsCtAHEAX2c73U+MaQOPsw2fYFR1AVw4tsp2vHkAQLbKd78cXQJNfLPnF0hRA6Pup8dKNHUBYObTIdv4YQNgVIPeaKxtA6G1Zq2MiHkAwT9S/EQoZQB1aZDvf7xtAgJVDi2xHGEA1XrpJDMIWQKNFtvP91BlAYVeA3GuuE0AQn2FXgDwYQMXZh8+wixpAuZA0peLsH0CrqqqqqkodQHASg8DKwRtAyS+W/GJpHEAoXI/C9YgWQD0K16NwnRxAA5020GlDG0A1XrpJDIIcQG3n+6nx8hpA7MNn2BWgFkAz7AqQe80aQNS/Ecro7RlAGb0ta3UMHkCvjgkezHMbQD1R/0YoQxxAUyrOPnwGHECTplScfVgdQHjpJjEI7BlA0duyVseEGkB8PzVeuukeQIts5/up0RZAuddcSJpSF0Dr3whl9LYZQPyp8dJNgh1ABA/mifq3GECYbhKDwGocQPs3Qhm9jR9A1THBg3lCF0B0IWlKxfkVQClcj8L1OCBAt6zVMcFDHkD/1HjpJrEcQHgwT9S/URRANV66SQyCGUBhV4Dca04ZQHcFyL3mQh9ACR7ME/VvGkAAuddcSBoZQCA+w64A2RVAUyrOPnxmHkAAAAAAAAAAABBYObTIVhhA0duyVseEHUBA7jUXkiYdQATkXnMhqRxAnMQgsHJoG0C/WPKLJb8WQHNoke18PxtA+X5qvHSzG0DxGXYFyH0YQDhCGb0t6xhAzBP1b4TSHkDME/VvhNIdQCVNqTj7cCBAS8XZh8+wG0CbmZmZmbkaQCD3mgtJMx5A5RdLfrEkIEANuwLkXlMdQGzn+6nx8htAg8DKoUV2HEDZh8+wK6AXQByhjN6WlRtAKOrfCGVUGUB/seQXS37qvwAAAAAAAAAAAAAAAAAAAAAAAAAAAAAAAJgn6t8IxRxAH4XrUbgeHUCNl24Sg6AVQIMH80T9mxtA0GkDnTYQHEBQ1L8RyogbQAkezBP1bx5A7Xw/NV46HkCrqqqqqgoWQAFyr7mQlBpA1b8Ryuht4z/Zh8+wK0AdQKRwPQrXo9w/dZMYBFaOHEBYObTIdn4bQAy7AuRecxlAI9v5fmr8HUBZq2OCB3MeQOAIZfS2LBlA+/AZdgWIFkBhnqh/I7QXQIMH80T9WxlAKRVnHz5jG0D4DLsC5D4ZQL2fGi/dZBhA8Bl2BcjdFkDEZ9gVIPcYQAuQe82FxBpArwC511xIHEAhaUrF2ccZQLGd76fGCxZAlBgEVg7NH0BHKKO3ZS0cQA8tsp3vxxtAmG4Sg8CqG0AleDBP1H8WQAvXo3A9KhlAbVmrY4LHHECTplScffgZQBM8mCfqHyBAdZMYBFauHkDbQKcNdDocQIts5/up8R9AALnXXEiaG0BwPQrXo7AcQKzVMcGDeR9A43oUrkdhHEBP1L8RykgcQDWl4uzD1yBAk6ZUnH14HkB8zYWkKRUYQA==\",\"dtype\":\"float64\",\"order\":\"little\",\"shape\":[158]},\"Country\":[\"Ukraine\",\"Ukraine\",\"Ukraine\",\"Ukraine\",\"Ukraine\",\"Ukraine\",\"Ukraine\",\"Ukraine\",\"Ukraine\",\"Ukraine\",\"Ukraine\",\"Ukraine\",\"Ukraine\",\"Ukraine\",\"Ukraine\",\"Ukraine\",\"Ukraine\",\"Ukraine\",\"Ukraine\",\"Ukraine\",\"Ukraine\",\"Ukraine\",\"Ukraine\",\"Ukraine\",\"Ukraine\",\"Ukraine\",\"Ukraine\",\"Ukraine\",\"Ukraine\",\"Ukraine\",\"Ukraine\",\"Ukraine\",\"Ukraine\",\"Ukraine\",\"Ukraine\",\"Ukraine\",\"Ukraine\",\"Ukraine\",\"Ukraine\",\"Ukraine\",\"Ukraine\",\"Ukraine\",\"Ukraine\",\"Ukraine\",\"Ukraine\",\"Ukraine\",\"Ukraine\",\"Ukraine\",\"Ukraine\",\"Ukraine\",\"Ukraine\",\"Ukraine\",\"Ukraine\",\"Ukraine\",\"Ukraine\",\"Ukraine\",\"Ukraine\",\"Ukraine\",\"Ukraine\",\"Ukraine\",\"Ukraine\",\"Ukraine\",\"Ukraine\",\"Ukraine\",\"Ukraine\",\"Ukraine\",\"Ukraine\",\"Ukraine\",\"Ukraine\",\"Ukraine\",\"Ukraine\",\"Ukraine\",\"Ukraine\",\"Ukraine\",\"Ukraine\",\"Ukraine\",\"Ukraine\",\"Ukraine\",\"Ukraine\",\"Ukraine\",\"Ukraine\",\"Ukraine\",\"Ukraine\",\"Ukraine\",\"Ukraine\",\"Ukraine\",\"Ukraine\",\"Ukraine\",\"Ukraine\",\"Ukraine\",\"Ukraine\",\"Ukraine\",\"Ukraine\",\"Ukraine\",\"Ukraine\",\"Ukraine\",\"Ukraine\",\"Ukraine\",\"Ukraine\",\"Ukraine\",\"Ukraine\",\"Ukraine\",\"Ukraine\",\"Ukraine\",\"Ukraine\",\"Ukraine\",\"Ukraine\",\"Ukraine\",\"Ukraine\",\"Ukraine\",\"Ukraine\",\"Ukraine\",\"Ukraine\",\"Ukraine\",\"Ukraine\",\"Ukraine\",\"Ukraine\",\"Ukraine\",\"Ukraine\",\"Ukraine\",\"Ukraine\",\"Ukraine\",\"Ukraine\",\"Ukraine\",\"Ukraine\",\"Ukraine\",\"Ukraine\",\"Ukraine\",\"Ukraine\",\"Ukraine\",\"Ukraine\",\"Ukraine\",\"Ukraine\",\"Ukraine\",\"Ukraine\",\"Ukraine\",\"Ukraine\",\"Ukraine\",\"Ukraine\",\"Ukraine\",\"Ukraine\",\"Ukraine\",\"Ukraine\",\"Ukraine\",\"Ukraine\",\"Ukraine\",\"Ukraine\",\"Ukraine\",\"Ukraine\",\"Ukraine\",\"Ukraine\",\"Ukraine\",\"Ukraine\",\"Ukraine\",\"Ukraine\",\"Ukraine\",\"Ukraine\",\"Ukraine\"],\"year\":[1845,1844,1847,1848,1849,1846,1850,1855,1852,1853,1854,1856,1857,1843,1859,1858,1851,1842,1830,1840,1824,1860,1825,1826,1827,1828,1829,1841,1831,1833,1834,1835,1836,1837,1838,1839,1832,1861,1889,1863,1885,1886,1887,1888,1890,1891,1892,1884,1893,1895,1896,1897,1898,1899,1900,1823,1894,1883,1882,1881,1864,1865,1866,1867,1868,1869,1870,1871,1872,1873,1874,1875,1876,1877,1878,1879,1880,1862,1822,1748,1820,1764,1765,1766,1767,1768,1769,1770,1763,1771,1773,1774,1775,1776,1777,1778,1779,1772,1780,1762,1760,1821,1744,1745,1746,1747,1749,1750,1761,1751,1753,1754,1755,1756,1757,1758,1759,1752,1781,1743,1783,1804,1805,1806,1807,1808,1809,1810,1803,1811,1813,1814,1815,1816,1817,1818,1782,1812,1802,1819,1800,1784,1785,1786,1787,1788,1801,1789,1790,1791,1792,1793,1794,1795,1796,1797,1798,1799]},\"selected\":{\"id\":\"3873\"},\"selection_policy\":{\"id\":\"3975\"}},\"id\":\"3872\",\"type\":\"ColumnDataSource\"},{\"attributes\":{\"label\":{\"value\":\"Japan\"},\"renderers\":[{\"id\":\"1946\"}]},\"id\":\"2000\",\"type\":\"LegendItem\"},{\"attributes\":{},\"id\":\"4203\",\"type\":\"Selection\"},{\"attributes\":{\"label\":{\"value\":\"India\"},\"renderers\":[{\"id\":\"1666\"}]},\"id\":\"1710\",\"type\":\"LegendItem\"},{\"attributes\":{\"source\":{\"id\":\"4202\"}},\"id\":\"4209\",\"type\":\"CDSView\"},{\"attributes\":{},\"id\":\"1997\",\"type\":\"UnionRenderers\"},{\"attributes\":{},\"id\":\"1707\",\"type\":\"UnionRenderers\"},{\"attributes\":{\"line_color\":\"#17becf\",\"line_width\":2,\"x\":{\"field\":\"year\"},\"y\":{\"field\":\"AverageTemperature\"}},\"id\":\"3661\",\"type\":\"Line\"},{\"attributes\":{\"line_alpha\":0.1,\"line_color\":\"#bcbd22\",\"line_width\":2,\"x\":{\"field\":\"year\"},\"y\":{\"field\":\"AverageTemperature\"}},\"id\":\"4206\",\"type\":\"Line\"},{\"attributes\":{\"coordinates\":null,\"data_source\":{\"id\":\"4202\"},\"glyph\":{\"id\":\"4205\"},\"group\":null,\"hover_glyph\":null,\"muted_glyph\":{\"id\":\"4207\"},\"nonselection_glyph\":{\"id\":\"4206\"},\"selection_glyph\":{\"id\":\"4315\"},\"view\":{\"id\":\"4209\"}},\"id\":\"4208\",\"type\":\"GlyphRenderer\"},{\"attributes\":{\"coordinates\":null,\"data_source\":{\"id\":\"3172\"},\"glyph\":{\"id\":\"3175\"},\"group\":null,\"hover_glyph\":null,\"muted_glyph\":{\"id\":\"3177\"},\"nonselection_glyph\":{\"id\":\"3176\"},\"selection_glyph\":{\"id\":\"3265\"},\"view\":{\"id\":\"3179\"}},\"id\":\"3178\",\"type\":\"GlyphRenderer\"},{\"attributes\":{},\"id\":\"3663\",\"type\":\"Selection\"},{\"attributes\":{\"line_alpha\":0.2,\"line_color\":\"#bcbd22\",\"line_width\":2,\"x\":{\"field\":\"year\"},\"y\":{\"field\":\"AverageTemperature\"}},\"id\":\"4207\",\"type\":\"Line\"},{\"attributes\":{\"line_color\":\"#30a2da\",\"line_width\":2,\"x\":{\"field\":\"year\"},\"y\":{\"field\":\"AverageTemperature\"}},\"id\":\"3171\",\"type\":\"Line\"},{\"attributes\":{\"line_alpha\":0.1,\"line_color\":\"#9467bd\",\"line_width\":2,\"x\":{\"field\":\"year\"},\"y\":{\"field\":\"AverageTemperature\"}},\"id\":\"3666\",\"type\":\"Line\"},{\"attributes\":{\"label\":{\"value\":\"Vietnam\"},\"renderers\":[{\"id\":\"4208\"}]},\"id\":\"4314\",\"type\":\"LegendItem\"},{\"attributes\":{\"coordinates\":null,\"data_source\":{\"id\":\"3662\"},\"glyph\":{\"id\":\"3665\"},\"group\":null,\"hover_glyph\":null,\"muted_glyph\":{\"id\":\"3667\"},\"nonselection_glyph\":{\"id\":\"3666\"},\"selection_glyph\":{\"id\":\"3765\"},\"view\":{\"id\":\"3669\"}},\"id\":\"3668\",\"type\":\"GlyphRenderer\"},{\"attributes\":{},\"id\":\"4311\",\"type\":\"UnionRenderers\"},{\"attributes\":{\"source\":{\"id\":\"3172\"}},\"id\":\"3179\",\"type\":\"CDSView\"},{\"attributes\":{\"line_color\":\"#d62728\",\"line_width\":2,\"x\":{\"field\":\"year\"},\"y\":{\"field\":\"AverageTemperature\"}},\"id\":\"3769\",\"type\":\"Line\"},{\"attributes\":{\"data\":{\"AverageTemperature\":{\"__ndarray__\":\"nTbQaQOVO0B7ov6NUGY6QGx1TPBgFjtA8dJNYhCAOkAzMzMzM4s6QCMiIiIi6jpA+FPjpZv8OkDAWPKLJb86QLnXXEiaWjpAvLu7u7ubOkD0/dR46dY6QPVvhDJ6CztAv1jyiyXvOkA07AqQe306QPgMuwLkXhlA7cNn2BWYOkBwhDJ6W6Y6QOMz7AqQ8zpAZa2OCR7sOkAg95oLSdM6QLtJDAIrlzpAHRM8mCfaOkCYJ+rfCF07QB+F61G41jpAhetRuB7VOkC0D59hVzA7QCijt2WtJjtAU3H24TMMO0Df3d3d3a06QOwKkHvNXTpAFWcfPsMGO0AkTak4++A6QOvfCGX0xjpA3LJWxwQ3O0BUKs4+fB47QAll9LasnTpAMcGDeaLeOkBoHz7Drvg6QPT91HjpfjpAtMh2vp+yOkApXI/C9SA7QIMH80T98zpANV66SQziOkB7W9bqmJA6QG2g0wY61TpAAAAAAAAAAAAAAAAAAAAAAAAAAAAAAAAAAAAAAAAAAAAAAAAAAAAAAAAAAAAAAAAAAAAAAAAAAAAYBFYOLdI6QP1iyS+WHDtAOfvwGXbtOkC1OiZ4MM86QNV46SYxODhA3d3d3d3lOUCzne+nxns6QJQYBFYO1TlA9bnaiv31OUDL6G1Zq0M2QPxiyS+WjDhA2BUg95rjOUAAAAAAAAAAAPT91Hjp1ilAvXSTGATWOkC511xImio4QFcOLbKd7zpADAIrhxbxOkAo6t8IZaw6QOuY4ME82TpAxZJfLPmdOkC1gU4b6IQ6QDTsCpB7LTpAzYWkKRW3OkARERERESE6QGu8dJMYZDpAjwkezBPlOkC7AuRec+E6QDMzMzMzkztAkTSl4uzTOkCF61G4Ho06QCIiIiIi8jNA+/AZdgWYL0A=\",\"dtype\":\"float64\",\"order\":\"little\",\"shape\":[85]},\"Country\":[\"Thailand\",\"Thailand\",\"Thailand\",\"Thailand\",\"Thailand\",\"Thailand\",\"Thailand\",\"Thailand\",\"Thailand\",\"Thailand\",\"Thailand\",\"Thailand\",\"Thailand\",\"Thailand\",\"Thailand\",\"Thailand\",\"Thailand\",\"Thailand\",\"Thailand\",\"Thailand\",\"Thailand\",\"Thailand\",\"Thailand\",\"Thailand\",\"Thailand\",\"Thailand\",\"Thailand\",\"Thailand\",\"Thailand\",\"Thailand\",\"Thailand\",\"Thailand\",\"Thailand\",\"Thailand\",\"Thailand\",\"Thailand\",\"Thailand\",\"Thailand\",\"Thailand\",\"Thailand\",\"Thailand\",\"Thailand\",\"Thailand\",\"Thailand\",\"Thailand\",\"Thailand\",\"Thailand\",\"Thailand\",\"Thailand\",\"Thailand\",\"Thailand\",\"Thailand\",\"Thailand\",\"Thailand\",\"Thailand\",\"Thailand\",\"Thailand\",\"Thailand\",\"Thailand\",\"Thailand\",\"Thailand\",\"Thailand\",\"Thailand\",\"Thailand\",\"Thailand\",\"Thailand\",\"Thailand\",\"Thailand\",\"Thailand\",\"Thailand\",\"Thailand\",\"Thailand\",\"Thailand\",\"Thailand\",\"Thailand\",\"Thailand\",\"Thailand\",\"Thailand\",\"Thailand\",\"Thailand\",\"Thailand\",\"Thailand\",\"Thailand\",\"Thailand\",\"Thailand\"],\"year\":[1878,1870,1877,1876,1875,1874,1873,1871,1869,1863,1867,1866,1865,1864,1862,1861,1860,1879,1868,1880,1892,1882,1900,1899,1898,1897,1896,1895,1894,1893,1881,1859,1890,1889,1888,1887,1886,1885,1884,1883,1891,1858,1872,1856,1833,1832,1831,1830,1829,1828,1827,1826,1834,1825,1822,1821,1820,1819,1818,1817,1816,1857,1823,1835,1824,1837,1855,1836,1854,1853,1852,1851,1849,1848,1847,1850,1845,1844,1843,1842,1841,1840,1846,1839,1838]},\"selected\":{\"id\":\"3663\"},\"selection_policy\":{\"id\":\"3761\"}},\"id\":\"3662\",\"type\":\"ColumnDataSource\"},{\"attributes\":{\"line_alpha\":0.2,\"line_color\":\"#9467bd\",\"line_width\":2,\"x\":{\"field\":\"year\"},\"y\":{\"field\":\"AverageTemperature\"}},\"id\":\"3667\",\"type\":\"Line\"},{\"attributes\":{},\"id\":\"2417\",\"type\":\"Selection\"},{\"attributes\":{\"data\":{\"AverageTemperature\":{\"__ndarray__\":\"FWcfPsNOF0DDPFH/RqgVQB1aZDvfrxRATmIQWDn0EkCmVJx9+KwUQOF6FK5HYRRAGy/dJAbhFUBPG+i0gc4WQFNx9uEzbBRABzptoNMGEkBH4XoUrocTQGkDnTbQSRZAjVBGb8v6E0BvEoPAyuETQCPb+X5qXBVAMQisHFokFkAL16NwPQoZQJWKsw+fwRZAJzEIrBy6F0D4DLsC5L4XQOPsw2fYlRdA3SQGgZWjFEDbQKcNdFoWQCcxCKwcWhNATWIQWDn0FkBkggfzRF0ZQNejcD0KlwRAw64Audf8E0DNhaQpFWcUQB3ME/VvZBZAivo3Qhn9FECDB/NE/VsTQGu8dJMYJBNAaQOdNtAJEkBCGb0ta/UTQK8AuddcaBRAV8cED+ZpFUBbHRM8mEcUQNkVIPeaCxVAi2zn+6nRE0A+w64AuZcSQIGVQ4tsRxNAP3yGXQHSFEAs+cWSXwwTQCFpSsXZxxVANOwKkHsNFEA=\",\"dtype\":\"float64\",\"order\":\"little\",\"shape\":[46]},\"Country\":[\"Chile\",\"Chile\",\"Chile\",\"Chile\",\"Chile\",\"Chile\",\"Chile\",\"Chile\",\"Chile\",\"Chile\",\"Chile\",\"Chile\",\"Chile\",\"Chile\",\"Chile\",\"Chile\",\"Chile\",\"Chile\",\"Chile\",\"Chile\",\"Chile\",\"Chile\",\"Chile\",\"Chile\",\"Chile\",\"Chile\",\"Chile\",\"Chile\",\"Chile\",\"Chile\",\"Chile\",\"Chile\",\"Chile\",\"Chile\",\"Chile\",\"Chile\",\"Chile\",\"Chile\",\"Chile\",\"Chile\",\"Chile\",\"Chile\",\"Chile\",\"Chile\",\"Chile\",\"Chile\"],\"year\":[1880,1887,1886,1885,1881,1883,1882,1888,1884,1889,1898,1891,1892,1893,1894,1895,1896,1897,1899,1900,1879,1890,1878,1870,1876,1877,1855,1856,1857,1859,1860,1861,1862,1863,1864,1858,1866,1867,1868,1869,1871,1872,1873,1874,1865,1875]},\"selected\":{\"id\":\"1251\"},\"selection_policy\":{\"id\":\"1277\"}},\"id\":\"1250\",\"type\":\"ColumnDataSource\"},{\"attributes\":{\"line_alpha\":0.2,\"line_color\":\"#fc4f30\",\"line_width\":2,\"x\":{\"field\":\"year\"},\"y\":{\"field\":\"AverageTemperature\"}},\"id\":\"3177\",\"type\":\"Line\"},{\"attributes\":{\"label\":{\"value\":\"Thailand\"},\"renderers\":[{\"id\":\"3668\"}]},\"id\":\"3764\",\"type\":\"LegendItem\"},{\"attributes\":{\"line_color\":\"#e5ae38\",\"line_width\":2,\"x\":{\"field\":\"year\"},\"y\":{\"field\":\"AverageTemperature\"}},\"id\":\"2341\",\"type\":\"Line\"},{\"attributes\":{\"data\":{\"AverageTemperature\":{\"__ndarray__\":\"001iEFgpNUB56SYxCJw1QORecyFpqjVAyAQP5onSNUDkXnMhaYo1QAisHFpkuzVAq/HSTWIINkDwYJ6of/s1QGmR7Xw/lTVAtMh2vp8KNkCj/o1QRuc1QDj78Bl2NTZAw/UoXI9SNUCJQWDl0Do2QMl2vp8axzVA/dR46SYxNkDsUbgeheM1QA902kCnNTZAWIDcay7UNUBdAXKvucA1QAPkXnMhcTVAVOOlm8QANkCFpCkVZ581QBT1b4QyCjZAPVH/RihDNkChjN6Wtbo1QA8tsp3vRzZAYxBYObQQNkCTplScfSg1QGFXgNxrVjZAiUFg5dCKNUB8hl0Bcjc2QIlBYOXQWjVAwzxR/0ZINkB7FK5H4dI1QPHSTWIQeDVACPNE/RuRNUDx0k1iEBg2QNHbslbH3DVAoGFXgNxbNUCj/o1QRq81QNmHz7Ar4DVAgCOU0dvaNUCrY4IH8+Q1QLtJDAIrNzZAp5vEILC6NUDc+X5qvOQ1QJngwTxRNzZAVQ4tsp3nM0BkO99Pjdc1QD/DrgC5JzZA5dAi2/k+NUDx0k1iEHA1QGcfPsOuKDZAv1jyiyWnNUAsQO41F7I1QBVnHz7D3jVAwcqhRbarNUATPJgn6u81QGu8dJMY3DRA\",\"dtype\":\"float64\",\"order\":\"little\",\"shape\":[60]},\"Country\":[\"Taiwan\",\"Taiwan\",\"Taiwan\",\"Taiwan\",\"Taiwan\",\"Taiwan\",\"Taiwan\",\"Taiwan\",\"Taiwan\",\"Taiwan\",\"Taiwan\",\"Taiwan\",\"Taiwan\",\"Taiwan\",\"Taiwan\",\"Taiwan\",\"Taiwan\",\"Taiwan\",\"Taiwan\",\"Taiwan\",\"Taiwan\",\"Taiwan\",\"Taiwan\",\"Taiwan\",\"Taiwan\",\"Taiwan\",\"Taiwan\",\"Taiwan\",\"Taiwan\",\"Taiwan\",\"Taiwan\",\"Taiwan\",\"Taiwan\",\"Taiwan\",\"Taiwan\",\"Taiwan\",\"Taiwan\",\"Taiwan\",\"Taiwan\",\"Taiwan\",\"Taiwan\",\"Taiwan\",\"Taiwan\",\"Taiwan\",\"Taiwan\",\"Taiwan\",\"Taiwan\",\"Taiwan\",\"Taiwan\",\"Taiwan\",\"Taiwan\",\"Taiwan\",\"Taiwan\",\"Taiwan\",\"Taiwan\",\"Taiwan\",\"Taiwan\",\"Taiwan\",\"Taiwan\",\"Taiwan\"],\"year\":[1884,1883,1882,1881,1880,1875,1878,1877,1876,1874,1873,1879,1885,1898,1887,1888,1889,1890,1891,1892,1893,1894,1895,1896,1897,1899,1872,1900,1886,1871,1856,1869,1841,1870,1843,1844,1845,1846,1847,1848,1849,1850,1851,1852,1853,1842,1855,1854,1867,1866,1865,1864,1863,1868,1861,1860,1859,1858,1857,1862]},\"selected\":{\"id\":\"3461\"},\"selection_policy\":{\"id\":\"3555\"}},\"id\":\"3460\",\"type\":\"ColumnDataSource\"},{\"attributes\":{},\"id\":\"3761\",\"type\":\"UnionRenderers\"},{\"attributes\":{\"line_alpha\":0.2,\"line_color\":\"#8c564b\",\"line_width\":2,\"x\":{\"field\":\"year\"},\"y\":{\"field\":\"AverageTemperature\"}},\"id\":\"2007\",\"type\":\"Line\"},{\"attributes\":{\"label\":{\"value\":\"Spain\"},\"renderers\":[{\"id\":\"3178\"}]},\"id\":\"3264\",\"type\":\"LegendItem\"},{\"attributes\":{\"line_color\":\"#8b8b8b\",\"line_width\":2,\"x\":{\"field\":\"year\"},\"y\":{\"field\":\"AverageTemperature\"}},\"id\":\"1219\",\"type\":\"Line\"},{\"attributes\":{},\"id\":\"3261\",\"type\":\"UnionRenderers\"},{\"attributes\":{\"line_color\":\"#6d904f\",\"line_width\":2,\"x\":{\"field\":\"year\"},\"y\":{\"field\":\"AverageTemperature\"}},\"id\":\"2345\",\"type\":\"Line\"},{\"attributes\":{\"line_color\":\"#e377c2\",\"line_width\":2,\"x\":{\"field\":\"year\"},\"y\":{\"field\":\"AverageTemperature\"}},\"id\":\"2001\",\"type\":\"Line\"},{\"attributes\":{\"line_color\":\"#8b8b8b\",\"line_width\":2,\"x\":{\"field\":\"year\"},\"y\":{\"field\":\"AverageTemperature\"}},\"id\":\"1711\",\"type\":\"Line\"},{\"attributes\":{},\"id\":\"1221\",\"type\":\"Selection\"},{\"attributes\":{},\"id\":\"1713\",\"type\":\"Selection\"},{\"attributes\":{},\"id\":\"2343\",\"type\":\"Selection\"},{\"attributes\":{\"data\":{\"AverageTemperature\":{\"__ndarray__\":\"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\",\"dtype\":\"float64\",\"order\":\"little\",\"shape\":[296]},\"Country\":[\"Egypt\",\"Egypt\",\"Egypt\",\"Egypt\",\"Egypt\",\"Egypt\",\"Egypt\",\"Egypt\",\"Egypt\",\"Egypt\",\"Egypt\",\"Egypt\",\"Egypt\",\"Egypt\",\"Egypt\",\"Egypt\",\"Egypt\",\"Egypt\",\"Egypt\",\"Egypt\",\"Egypt\",\"Egypt\",\"Egypt\",\"Egypt\",\"Egypt\",\"Egypt\",\"Egypt\",\"Egypt\",\"Egypt\",\"Egypt\",\"Egypt\",\"Egypt\",\"Egypt\",\"Egypt\",\"Egypt\",\"Egypt\",\"Egypt\",\"Egypt\",\"Egypt\",\"Egypt\",\"Egypt\",\"Egypt\",\"Egypt\",\"Egypt\",\"Egypt\",\"Egypt\",\"Egypt\",\"Egypt\",\"Egypt\",\"Egypt\",\"Egypt\",\"Egypt\",\"Egypt\",\"Egypt\",\"Egypt\",\"Egypt\",\"Egypt\",\"Egypt\",\"Egypt\",\"Egypt\",\"Egypt\",\"Egypt\",\"Egypt\",\"Egypt\",\"Egypt\",\"Egypt\",\"Egypt\",\"Egypt\",\"Egypt\",\"Egypt\",\"Egypt\",\"Egypt\",\"Egypt\",\"Egypt\",\"Egypt\",\"Egypt\",\"Egypt\",\"Egypt\",\"Egypt\",\"Egypt\",\"Egypt\",\"Egypt\",\"Egypt\",\"Egypt\",\"Egypt\",\"Egypt\",\"Egypt\",\"Egypt\",\"Egypt\",\"Egypt\",\"Egypt\",\"Egypt\",\"Egypt\",\"Egypt\",\"Egypt\",\"Egypt\",\"Egypt\",\"Egypt\",\"Egypt\",\"Egypt\",\"Egypt\",\"Egypt\",\"Egypt\",\"Egypt\",\"Egypt\",\"Egypt\",\"Egypt\",\"Egypt\",\"Egypt\",\"Egypt\",\"Egypt\",\"Egypt\",\"Egypt\",\"Egypt\",\"Egypt\",\"Egypt\",\"Egypt\",\"Egypt\",\"Egypt\",\"Egypt\",\"Egypt\",\"Egypt\",\"Egypt\",\"Egypt\",\"Egypt\",\"Egypt\",\"Egypt\",\"Egypt\",\"Egypt\",\"Egypt\",\"Egypt\",\"Egypt\",\"Egypt\",\"Egypt\",\"Egypt\",\"Egypt\",\"Egypt\",\"Egypt\",\"Egypt\",\"Egypt\",\"Egypt\",\"Egypt\",\"Egypt\",\"Egypt\",\"Egypt\",\"Egypt\",\"Egypt\",\"Egypt\",\"Egypt\",\"Egypt\",\"Egypt\",\"Egypt\",\"Egypt\",\"Egypt\",\"Egypt\",\"Egypt\",\"Egypt\",\"Egypt\",\"Egypt\",\"Egypt\",\"Egypt\",\"Egypt\",\"Egypt\",\"Egypt\",\"Egypt\",\"Egypt\",\"Egypt\",\"Egypt\",\"Egypt\",\"Egypt\",\"Egypt\",\"Egypt\",\"Egypt\",\"Egypt\",\"Egypt\",\"Egypt\",\"Egypt\",\"Egypt\",\"Egypt\",\"Egypt\",\"Egypt\",\"Egypt\",\"Egypt\",\"Egypt\",\"Egypt\",\"Egypt\",\"Egypt\",\"Egypt\",\"Egypt\",\"Egypt\",\"Egypt\",\"Egypt\",\"Egypt\",\"Egypt\",\"Egypt\",\"Egypt\",\"Egypt\",\"Egypt\",\"Egypt\",\"Egypt\",\"Egypt\",\"Egypt\",\"Egypt\",\"Egypt\",\"Egypt\",\"Egypt\",\"Egypt\",\"Egypt\",\"Egypt\",\"Egypt\",\"Egypt\",\"Egypt\",\"Egypt\",\"Egypt\",\"Egypt\",\"Egypt\",\"Egypt\",\"Egypt\",\"Egypt\",\"Egypt\",\"Egypt\",\"Egypt\",\"Egypt\",\"Egypt\",\"Egypt\",\"Egypt\",\"Egypt\",\"Egypt\",\"Egypt\",\"Egypt\",\"Egypt\",\"Egypt\",\"Egypt\",\"Egypt\",\"Egypt\",\"Egypt\",\"Egypt\",\"Egypt\",\"Egypt\",\"Egypt\",\"Egypt\",\"Egypt\",\"Egypt\",\"Egypt\",\"Egypt\",\"Egypt\",\"Egypt\",\"Egypt\",\"Egypt\",\"Egypt\",\"Egypt\",\"Egypt\",\"Egypt\",\"Egypt\",\"Egypt\",\"Egypt\",\"Egypt\",\"Egypt\",\"Egypt\",\"Egypt\",\"Egypt\",\"Egypt\",\"Egypt\",\"Egypt\",\"Egypt\",\"Egypt\",\"Egypt\",\"Egypt\",\"Egypt\",\"Egypt\",\"Egypt\",\"Egypt\",\"Egypt\",\"Egypt\",\"Egypt\",\"Egypt\",\"Egypt\",\"Egypt\",\"Egypt\",\"Egypt\",\"Egypt\",\"Egypt\",\"Egypt\",\"Egypt\",\"Egypt\",\"Egypt\",\"Egypt\",\"Egypt\",\"Egypt\",\"Egypt\",\"Egypt\",\"Egypt\",\"Egypt\",\"Egypt\",\"Egypt\",\"Egypt\"],\"year\":[1900,1899,1898,1897,1896,1895,1891,1893,1892,1890,1889,1888,1887,1886,1894,1808,1816,1810,1885,1824,1823,1822,1821,1820,1809,1819,1817,1815,1814,1813,1812,1811,1818,1884,1865,1882,1862,1861,1860,1859,1858,1857,1856,1855,1854,1853,1852,1851,1850,1849,1848,1863,1883,1864,1866,1881,1880,1879,1878,1877,1876,1875,1874,1873,1872,1871,1870,1869,1868,1867,1825,1826,1845,1828,1881,1880,1879,1878,1877,1876,1882,1875,1873,1872,1871,1870,1869,1868,1874,1883,1884,1885,1847,1899,1898,1897,1896,1895,1894,1893,1892,1891,1890,1889,1888,1887,1886,1867,1866,1865,1864,1843,1842,1841,1840,1839,1838,1837,1836,1835,1834,1833,1832,1831,1830,1829,1844,1827,1846,1848,1863,1862,1861,1860,1859,1858,1857,1856,1855,1854,1853,1852,1900,1850,1849,1847,1846,1851,1844,1842,1841,1840,1839,1838,1837,1843,1836,1834,1833,1832,1831,1830,1829,1835,1844,1845,1846,1861,1860,1859,1858,1857,1856,1855,1854,1853,1852,1851,1850,1849,1848,1847,1828,1827,1826,1825,1805,1804,1803,1802,1801,1800,1798,1797,1796,1795,1794,1793,1792,1791,1845,1806,1862,1807,1809,1824,1823,1822,1821,1820,1819,1818,1817,1816,1815,1814,1813,1812,1811,1810,1808,1863,1799,1865,1825,1824,1823,1822,1821,1819,1826,1818,1816,1815,1814,1813,1812,1811,1817,1827,1828,1829,1864,1843,1842,1841,1840,1839,1838,1837,1836,1835,1834,1833,1832,1831,1830,1810,1809,1820,1900,1880,1879,1878,1877,1876,1875,1874,1873,1808,1871,1870,1869,1868,1867,1866,1881,1882,1872,1884,1883,1898,1897,1896,1894,1893,1892,1891,1895,1899,1889,1888,1887,1886,1890,1885]},\"selected\":{\"id\":\"1473\"},\"selection_policy\":{\"id\":\"1511\"}},\"id\":\"1472\",\"type\":\"ColumnDataSource\"},{\"attributes\":{},\"id\":\"2493\",\"type\":\"Selection\"},{\"attributes\":{\"line_color\":\"#8b8b8b\",\"line_width\":2,\"x\":{\"field\":\"year\"},\"y\":{\"field\":\"AverageTemperature\"}},\"id\":\"2491\",\"type\":\"Line\"},{\"attributes\":{\"line_color\":\"#bcbd22\",\"line_width\":2,\"x\":{\"field\":\"year\"},\"y\":{\"field\":\"AverageTemperature\"}},\"id\":\"1433\",\"type\":\"Line\"},{\"attributes\":{\"line_color\":\"#17becf\",\"line_width\":2,\"x\":{\"field\":\"year\"},\"y\":{\"field\":\"AverageTemperature\"}},\"id\":\"2495\",\"type\":\"Line\"},{\"attributes\":{},\"id\":\"1425\",\"type\":\"UnionRenderers\"},{\"attributes\":{\"source\":{\"id\":\"2492\"}},\"id\":\"2499\",\"type\":\"CDSView\"},{\"attributes\":{},\"id\":\"2651\",\"type\":\"Selection\"},{\"attributes\":{\"line_alpha\":0.1,\"line_color\":\"#17becf\",\"line_width\":2,\"x\":{\"field\":\"year\"},\"y\":{\"field\":\"AverageTemperature\"}},\"id\":\"2496\",\"type\":\"Line\"},{\"attributes\":{\"source\":{\"id\":\"2570\"}},\"id\":\"2577\",\"type\":\"CDSView\"},{\"attributes\":{\"coordinates\":null,\"data_source\":{\"id\":\"2492\"},\"glyph\":{\"id\":\"2495\"},\"group\":null,\"hover_glyph\":null,\"muted_glyph\":{\"id\":\"2497\"},\"nonselection_glyph\":{\"id\":\"2496\"},\"selection_glyph\":{\"id\":\"2569\"},\"view\":{\"id\":\"2499\"}},\"id\":\"2498\",\"type\":\"GlyphRenderer\"},{\"attributes\":{\"data\":{\"AverageTemperature\":{\"__ndarray__\":\"YxBYObS4OkDnQtKUiqM6QEcoo7dlbTpABci95kKSOkAJZfS2rJ04QKgNdNpAxzhAAAAAAAAAAACpOPvwGW46QE2pOPvwCTtAPQrXo3C1OkAhsHJoka06QI8JHswTNTtACWX0tqyFOkDtw2fYFZA6QPeaC0lTqjpAGy/dJAbBOkB3vp8aL906QC1rdUzw8DpAJJTR27IGO0Bc1uqY4Dk7QD/DrgC55zpAMJb8YskHO0BANV66SXw6QCMiIiIi0jpAKaO3Za2GMUDMWh0TPDg7QAAAAAAAAAAAAAAAAAAAAADIBA/miTo4QAAAAAAAAAAAAAAAAAAAAAAAAAAAAAAAAAAAAAAAAAAAAAAAAAAAAAAAAAAAAAAAAAAAAAAAAAAAXI/C9Sg0NkAAAAAAAAAAAAAAAAAAAAAAAAAAAAAAAAAAAAAAAAAAAAAAAAAAAAAAAAAAAAAAAAAAAAAAAAAAAAAAAAAAAAAAAAAAAAAAAAAAAAAAAAAAAAAAAAAAAAAA+/AZdgWAOkAAAAAAAAAAAAAAAAAAAAAA\",\"dtype\":\"float64\",\"order\":\"little\",\"shape\":[51]},\"Country\":[\"Somalia\",\"Somalia\",\"Somalia\",\"Somalia\",\"Somalia\",\"Somalia\",\"Somalia\",\"Somalia\",\"Somalia\",\"Somalia\",\"Somalia\",\"Somalia\",\"Somalia\",\"Somalia\",\"Somalia\",\"Somalia\",\"Somalia\",\"Somalia\",\"Somalia\",\"Somalia\",\"Somalia\",\"Somalia\",\"Somalia\",\"Somalia\",\"Somalia\",\"Somalia\",\"Somalia\",\"Somalia\",\"Somalia\",\"Somalia\",\"Somalia\",\"Somalia\",\"Somalia\",\"Somalia\",\"Somalia\",\"Somalia\",\"Somalia\",\"Somalia\",\"Somalia\",\"Somalia\",\"Somalia\",\"Somalia\",\"Somalia\",\"Somalia\",\"Somalia\",\"Somalia\",\"Somalia\",\"Somalia\",\"Somalia\",\"Somalia\",\"Somalia\"],\"year\":[1886,1885,1884,1883,1880,1881,1879,1887,1877,1882,1888,1897,1890,1891,1892,1893,1894,1895,1896,1898,1899,1900,1876,1889,1875,1878,1873,1874,1850,1851,1853,1854,1855,1856,1857,1858,1859,1860,1861,1852,1863,1862,1870,1869,1868,1871,1866,1865,1864,1867,1872]},\"selected\":{\"id\":\"2903\"},\"selection_policy\":{\"id\":\"2985\"}},\"id\":\"2902\",\"type\":\"ColumnDataSource\"},{\"attributes\":{\"line_alpha\":0.2,\"line_color\":\"#17becf\",\"line_width\":2,\"x\":{\"field\":\"year\"},\"y\":{\"field\":\"AverageTemperature\"}},\"id\":\"2497\",\"type\":\"Line\"},{\"attributes\":{\"line_color\":\"#9467bd\",\"line_width\":2,\"x\":{\"field\":\"year\"},\"y\":{\"field\":\"AverageTemperature\"}},\"id\":\"2573\",\"type\":\"Line\"},{\"attributes\":{\"label\":{\"value\":\"Philippines\"},\"renderers\":[{\"id\":\"2498\"}]},\"id\":\"2568\",\"type\":\"LegendItem\"},{\"attributes\":{},\"id\":\"2565\",\"type\":\"UnionRenderers\"},{\"attributes\":{\"line_color\":\"#8c564b\",\"line_width\":2,\"x\":{\"field\":\"year\"},\"y\":{\"field\":\"AverageTemperature\"}},\"id\":\"1429\",\"type\":\"Line\"},{\"attributes\":{},\"id\":\"1431\",\"type\":\"Selection\"},{\"attributes\":{\"source\":{\"id\":\"1430\"}},\"id\":\"1437\",\"type\":\"CDSView\"},{\"attributes\":{\"line_alpha\":0.1,\"line_color\":\"#bcbd22\",\"line_width\":2,\"x\":{\"field\":\"year\"},\"y\":{\"field\":\"AverageTemperature\"}},\"id\":\"1434\",\"type\":\"Line\"},{\"attributes\":{\"coordinates\":null,\"data_source\":{\"id\":\"1430\"},\"glyph\":{\"id\":\"1433\"},\"group\":null,\"hover_glyph\":null,\"muted_glyph\":{\"id\":\"1435\"},\"nonselection_glyph\":{\"id\":\"1434\"},\"selection_glyph\":{\"id\":\"1471\"},\"view\":{\"id\":\"1437\"}},\"id\":\"1436\",\"type\":\"GlyphRenderer\"},{\"attributes\":{\"data\":{\"AverageTemperature\":{\"__ndarray__\":\"WfKLJb+AOEA9mCfq39g3QHOvuZA0FThA9+Ez7AogOEB1TPBgnkA2QO18PzVecjhAF9nO91ObNkBVVVVVVT04QP+NUEZvGzhAGy/dJAbBN0B56SYxCAw4QAisHFpk6zhADbsC5F6TN0D8qfHSTeI3QA27AuReUzhAyAQP5onaOEAgPsOuAPk3QAkezBP1JzhAl7U6JnjYOEDXo3A9Cic5QCUGgZVD0zhAHRM8mCcKOUCgYVeA3KM4QJHtfD81ZjhAmG4Sg8AyOEDQaQOdNsA3QEjhehSuXzhA9Shcj8JFKkArzj58htU3QHnpJjEIFDhAc6+5kDQVOEAAAAAAAAAAAAAAAAAAAAAAAAAAAAAAAAAAAAAAAAAAAP/UeOkmEThAW2Q730/9NUAdEzyYJ9o3QL0ta3VMmDhA/41QRm9DOECUGARWDiU4QGFXgNxrDjhAAAAAAAAAAAAAAAAAAAAAAMXZh8+w8zRAWatjggcrNkAVZx8+w742QHNoke18LyJAAbnXXEhCOEBnZmZmZrY3QOwKkHvNzTdAAAAAAAAAAAA=\",\"dtype\":\"float64\",\"order\":\"little\",\"shape\":[52]},\"Country\":[\"Senegal\",\"Senegal\",\"Senegal\",\"Senegal\",\"Senegal\",\"Senegal\",\"Senegal\",\"Senegal\",\"Senegal\",\"Senegal\",\"Senegal\",\"Senegal\",\"Senegal\",\"Senegal\",\"Senegal\",\"Senegal\",\"Senegal\",\"Senegal\",\"Senegal\",\"Senegal\",\"Senegal\",\"Senegal\",\"Senegal\",\"Senegal\",\"Senegal\",\"Senegal\",\"Senegal\",\"Senegal\",\"Senegal\",\"Senegal\",\"Senegal\",\"Senegal\",\"Senegal\",\"Senegal\",\"Senegal\",\"Senegal\",\"Senegal\",\"Senegal\",\"Senegal\",\"Senegal\",\"Senegal\",\"Senegal\",\"Senegal\",\"Senegal\",\"Senegal\",\"Senegal\",\"Senegal\",\"Senegal\",\"Senegal\",\"Senegal\",\"Senegal\",\"Senegal\"],\"year\":[1878,1886,1879,1880,1881,1882,1883,1877,1884,1885,1887,1893,1889,1890,1891,1892,1894,1895,1896,1897,1898,1899,1900,1876,1888,1875,1865,1873,1874,1849,1850,1852,1853,1854,1855,1856,1857,1858,1859,1851,1861,1860,1871,1872,1869,1868,1870,1866,1864,1863,1862,1867]},\"selected\":{\"id\":\"2733\"},\"selection_policy\":{\"id\":\"2811\"}},\"id\":\"2732\",\"type\":\"ColumnDataSource\"},{\"attributes\":{\"data\":{\"AverageTemperature\":{\"__ndarray__\":\"f7HkF0sWMUDIveZC0gwxQJe1OiZ4yDBAUUZvy1rtMEAQn2FXgKwvQJ020GkDJTBAAAAAAAAAAABEi2zn+9EwQClcj8L1cDFAT9S/EcooMUC4HoXrUdAwQGQ730+NLzFAQO41F5JeMUAxwYN5oi4xQPNE/RuhDDFAAbnXXEgCMUCtjgkezPswQDm0yHa+JzFA1L8RyuhtMUCXbhKDwMoxQEjhehSubzFAP8OuALlPMUDlF0t+sdQwQLhlrY4JXjFA46WbxCDAJUBnZmZmZqYxQAAAAAAAAAAAAAAAAAAAAAAvJE2pOOsuQAAAAAAAAAAAAAAAAAAAAAAAAAAAAAAAAAAAAAAAAAAAAAAAAAAAAAAAAAAAAAAAAAAAAAAAAAAAKOrfCGU0LEAAAAAAAAAAAAAAAAAAAAAAAAAAAAAAAAAAAAAAAAAAAAAAAAAAAAAAAAAAAAAAAAAAAAAAAAAAAAAAAAAAAAAAAAAAAAAAAAAAAAAAAAAAAAAAAAAAAAAAAAAAAADwMEAAAAAAAAAAAAAAAAAAAAAA\",\"dtype\":\"float64\",\"order\":\"little\",\"shape\":[51]},\"Country\":[\"Ethiopia\",\"Ethiopia\",\"Ethiopia\",\"Ethiopia\",\"Ethiopia\",\"Ethiopia\",\"Ethiopia\",\"Ethiopia\",\"Ethiopia\",\"Ethiopia\",\"Ethiopia\",\"Ethiopia\",\"Ethiopia\",\"Ethiopia\",\"Ethiopia\",\"Ethiopia\",\"Ethiopia\",\"Ethiopia\",\"Ethiopia\",\"Ethiopia\",\"Ethiopia\",\"Ethiopia\",\"Ethiopia\",\"Ethiopia\",\"Ethiopia\",\"Ethiopia\",\"Ethiopia\",\"Ethiopia\",\"Ethiopia\",\"Ethiopia\",\"Ethiopia\",\"Ethiopia\",\"Ethiopia\",\"Ethiopia\",\"Ethiopia\",\"Ethiopia\",\"Ethiopia\",\"Ethiopia\",\"Ethiopia\",\"Ethiopia\",\"Ethiopia\",\"Ethiopia\",\"Ethiopia\",\"Ethiopia\",\"Ethiopia\",\"Ethiopia\",\"Ethiopia\",\"Ethiopia\",\"Ethiopia\",\"Ethiopia\",\"Ethiopia\"],\"year\":[1886,1885,1884,1883,1880,1881,1879,1887,1877,1882,1888,1896,1890,1891,1892,1893,1894,1895,1897,1898,1899,1900,1876,1889,1875,1878,1873,1874,1850,1851,1852,1854,1855,1856,1857,1858,1859,1860,1853,1862,1861,1871,1872,1869,1868,1870,1866,1865,1864,1863,1867]},\"selected\":{\"id\":\"1517\"},\"selection_policy\":{\"id\":\"1557\"}},\"id\":\"1516\",\"type\":\"ColumnDataSource\"},{\"attributes\":{\"line_alpha\":0.2,\"line_color\":\"#bcbd22\",\"line_width\":2,\"x\":{\"field\":\"year\"},\"y\":{\"field\":\"AverageTemperature\"}},\"id\":\"1435\",\"type\":\"Line\"},{\"attributes\":{\"line_color\":\"#17becf\",\"line_width\":2,\"x\":{\"field\":\"year\"},\"y\":{\"field\":\"AverageTemperature\"}},\"id\":\"2569\",\"type\":\"Line\"},{\"attributes\":{},\"id\":\"1467\",\"type\":\"UnionRenderers\"},{\"attributes\":{\"label\":{\"value\":\"Dominican Republic\"},\"renderers\":[{\"id\":\"1436\"}]},\"id\":\"1470\",\"type\":\"LegendItem\"},{\"attributes\":{},\"id\":\"2571\",\"type\":\"Selection\"},{\"attributes\":{\"line_alpha\":0.1,\"line_color\":\"#9467bd\",\"line_width\":2,\"x\":{\"field\":\"year\"},\"y\":{\"field\":\"AverageTemperature\"}},\"id\":\"2574\",\"type\":\"Line\"},{\"attributes\":{\"coordinates\":null,\"data_source\":{\"id\":\"2570\"},\"glyph\":{\"id\":\"2573\"},\"group\":null,\"hover_glyph\":null,\"muted_glyph\":{\"id\":\"2575\"},\"nonselection_glyph\":{\"id\":\"2574\"},\"selection_glyph\":{\"id\":\"2649\"},\"view\":{\"id\":\"2577\"}},\"id\":\"2576\",\"type\":\"GlyphRenderer\"},{\"attributes\":{\"line_color\":\"#d62728\",\"line_width\":2,\"x\":{\"field\":\"year\"},\"y\":{\"field\":\"AverageTemperature\"}},\"id\":\"2653\",\"type\":\"Line\"},{\"attributes\":{\"data\":{\"AverageTemperature\":{\"__ndarray__\":\"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\",\"dtype\":\"float64\",\"order\":\"little\",\"shape\":[316]},\"Country\":[\"Russia\",\"Russia\",\"Russia\",\"Russia\",\"Russia\",\"Russia\",\"Russia\",\"Russia\",\"Russia\",\"Russia\",\"Russia\",\"Russia\",\"Russia\",\"Russia\",\"Russia\",\"Russia\",\"Russia\",\"Russia\",\"Russia\",\"Russia\",\"Russia\",\"Russia\",\"Russia\",\"Russia\",\"Russia\",\"Russia\",\"Russia\",\"Russia\",\"Russia\",\"Russia\",\"Russia\",\"Russia\",\"Russia\",\"Russia\",\"Russia\",\"Russia\",\"Russia\",\"Russia\",\"Russia\",\"Russia\",\"Russia\",\"Russia\",\"Russia\",\"Russia\",\"Russia\",\"Russia\",\"Russia\",\"Russia\",\"Russia\",\"Russia\",\"Russia\",\"Russia\",\"Russia\",\"Russia\",\"Russia\",\"Russia\",\"Russia\",\"Russia\",\"Russia\",\"Russia\",\"Russia\",\"Russia\",\"Russia\",\"Russia\",\"Russia\",\"Russia\",\"Russia\",\"Russia\",\"Russia\",\"Russia\",\"Russia\",\"Russia\",\"Russia\",\"Russia\",\"Russia\",\"Russia\",\"Russia\",\"Russia\",\"Russia\",\"Russia\",\"Russia\",\"Russia\",\"Russia\",\"Russia\",\"Russia\",\"Russia\",\"Russia\",\"Russia\",\"Russia\",\"Russia\",\"Russia\",\"Russia\",\"Russia\",\"Russia\",\"Russia\",\"Russia\",\"Russia\",\"Russia\",\"Russia\",\"Russia\",\"Russia\",\"Russia\",\"Russia\",\"Russia\",\"Russia\",\"Russia\",\"Russia\",\"Russia\",\"Russia\",\"Russia\",\"Russia\",\"Russia\",\"Russia\",\"Russia\",\"Russia\",\"Russia\",\"Russia\",\"Russia\",\"Russia\",\"Russia\",\"Russia\",\"Russia\",\"Russia\",\"Russia\",\"Russia\",\"Russia\",\"Russia\",\"Russia\",\"Russia\",\"Russia\",\"Russia\",\"Russia\",\"Russia\",\"Russia\",\"Russia\",\"Russia\",\"Russia\",\"Russia\",\"Russia\",\"Russia\",\"Russia\",\"Russia\",\"Russia\",\"Russia\",\"Russia\",\"Russia\",\"Russia\",\"Russia\",\"Russia\",\"Russia\",\"Russia\",\"Russia\",\"Russia\",\"Russia\",\"Russia\",\"Russia\",\"Russia\",\"Russia\",\"Russia\",\"Russia\",\"Russia\",\"Russia\",\"Russia\",\"Russia\",\"Russia\",\"Russia\",\"Russia\",\"Russia\",\"Russia\",\"Russia\",\"Russia\",\"Russia\",\"Russia\",\"Russia\",\"Russia\",\"Russia\",\"Russia\",\"Russia\",\"Russia\",\"Russia\",\"Russia\",\"Russia\",\"Russia\",\"Russia\",\"Russia\",\"Russia\",\"Russia\",\"Russia\",\"Russia\",\"Russia\",\"Russia\",\"Russia\",\"Russia\",\"Russia\",\"Russia\",\"Russia\",\"Russia\",\"Russia\",\"Russia\",\"Russia\",\"Russia\",\"Russia\",\"Russia\",\"Russia\",\"Russia\",\"Russia\",\"Russia\",\"Russia\",\"Russia\",\"Russia\",\"Russia\",\"Russia\",\"Russia\",\"Russia\",\"Russia\",\"Russia\",\"Russia\",\"Russia\",\"Russia\",\"Russia\",\"Russia\",\"Russia\",\"Russia\",\"Russia\",\"Russia\",\"Russia\",\"Russia\",\"Russia\",\"Russia\",\"Russia\",\"Russia\",\"Russia\",\"Russia\",\"Russia\",\"Russia\",\"Russia\",\"Russia\",\"Russia\",\"Russia\",\"Russia\",\"Russia\",\"Russia\",\"Russia\",\"Russia\",\"Russia\",\"Russia\",\"Russia\",\"Russia\",\"Russia\",\"Russia\",\"Russia\",\"Russia\",\"Russia\",\"Russia\",\"Russia\",\"Russia\",\"Russia\",\"Russia\",\"Russia\",\"Russia\",\"Russia\",\"Russia\",\"Russia\",\"Russia\",\"Russia\",\"Russia\",\"Russia\",\"Russia\",\"Russia\",\"Russia\",\"Russia\",\"Russia\",\"Russia\",\"Russia\",\"Russia\",\"Russia\",\"Russia\",\"Russia\",\"Russia\",\"Russia\",\"Russia\",\"Russia\",\"Russia\",\"Russia\",\"Russia\",\"Russia\",\"Russia\",\"Russia\",\"Russia\",\"Russia\",\"Russia\",\"Russia\",\"Russia\",\"Russia\",\"Russia\",\"Russia\",\"Russia\",\"Russia\",\"Russia\",\"Russia\",\"Russia\",\"Russia\",\"Russia\",\"Russia\",\"Russia\",\"Russia\",\"Russia\",\"Russia\",\"Russia\",\"Russia\",\"Russia\",\"Russia\",\"Russia\",\"Russia\",\"Russia\",\"Russia\"],\"year\":[1799,1794,1798,1797,1796,1795,1793,1787,1791,1790,1789,1788,1786,1785,1800,1792,1801,1814,1803,1819,1818,1817,1816,1815,1784,1813,1802,1812,1810,1809,1808,1807,1806,1805,1804,1811,1783,1770,1781,1760,1759,1758,1757,1756,1755,1754,1761,1753,1751,1750,1749,1748,1747,1746,1745,1752,1782,1762,1764,1780,1779,1778,1777,1776,1775,1774,1763,1773,1771,1820,1769,1768,1900,1766,1765,1772,1821,1835,1823,1880,1879,1878,1877,1876,1875,1874,1881,1873,1871,1870,1869,1868,1867,1866,1865,1872,1864,1882,1884,1744,1899,1898,1897,1896,1895,1894,1883,1893,1891,1890,1889,1888,1887,1886,1885,1892,1822,1863,1861,1840,1839,1838,1837,1836,1834,1833,1841,1832,1830,1829,1828,1827,1826,1825,1824,1831,1862,1842,1844,1860,1859,1858,1857,1856,1855,1854,1843,1853,1851,1850,1849,1848,1847,1846,1845,1852,1743,1767,1899,1798,1797,1796,1795,1794,1793,1791,1799,1790,1788,1787,1786,1785,1784,1783,1782,1789,1781,1800,1802,1818,1817,1816,1815,1814,1813,1812,1801,1811,1809,1808,1807,1806,1805,1804,1803,1810,1819,1780,1778,1757,1756,1755,1754,1753,1752,1751,1758,1750,1748,1747,1746,1745,1744,1743,1900,1749,1779,1759,1761,1777,1776,1775,1774,1773,1772,1771,1760,1770,1768,1767,1766,1765,1764,1763,1762,1769,1820,1792,1822,1878,1877,1876,1875,1874,1873,1872,1879,1871,1869,1868,1867,1866,1865,1864,1863,1870,1862,1880,1882,1898,1897,1896,1895,1894,1893,1892,1881,1891,1889,1821,1887,1886,1885,1884,1883,1890,1861,1888,1859,1838,1837,1836,1835,1834,1833,1832,1839,1831,1829,1827,1826,1825,1824,1823,1860,1830,1840,1828,1842,1858,1841,1857,1856,1854,1853,1852,1851,1855,1849,1843,1848,1847,1846,1845,1850,1844]},\"selected\":{\"id\":\"2571\"},\"selection_policy\":{\"id\":\"2645\"}},\"id\":\"2570\",\"type\":\"ColumnDataSource\"},{\"attributes\":{\"line_alpha\":0.2,\"line_color\":\"#9467bd\",\"line_width\":2,\"x\":{\"field\":\"year\"},\"y\":{\"field\":\"AverageTemperature\"}},\"id\":\"2575\",\"type\":\"Line\"},{\"attributes\":{\"label\":{\"value\":\"Russia\"},\"renderers\":[{\"id\":\"2576\"}]},\"id\":\"2648\",\"type\":\"LegendItem\"},{\"attributes\":{},\"id\":\"2645\",\"type\":\"UnionRenderers\"}],\"root_ids\":[\"1005\",\"5704\"]},\"title\":\"Bokeh Application\",\"version\":\"2.4.1\"}};\n",
       "    var render_items = [{\"docid\":\"8e68c957-e37a-4f05-8b47-f2796db6a490\",\"root_ids\":[\"1005\"],\"roots\":{\"1005\":\"51eb3b58-33a6-4461-be0e-21ad871df192\"}}];\n",
       "    root.Bokeh.embed.embed_items_notebook(docs_json, render_items);\n",
       "  }\n",
       "  if (root.Bokeh !== undefined && root.Bokeh.Panel !== undefined && ( root['Tabulator'] !== undefined)) {\n",
       "    embed_document(root);\n",
       "  } else {\n",
       "    var attempts = 0;\n",
       "    var timer = setInterval(function(root) {\n",
       "      if (root.Bokeh !== undefined && root.Bokeh.Panel !== undefined && (root['Tabulator'] !== undefined)) {\n",
       "        clearInterval(timer);\n",
       "        embed_document(root);\n",
       "      } else if (document.readyState == \"complete\") {\n",
       "        attempts++;\n",
       "        if (attempts > 200) {\n",
       "          clearInterval(timer);\n",
       "          console.log(\"Bokeh: ERROR: Unable to run BokehJS code because BokehJS library is missing\");\n",
       "        }\n",
       "      }\n",
       "    }, 25, root)\n",
       "  }\n",
       "})(window);</script>"
      ],
      "text/plain": [
       "<hvplot.interactive.Interactive at 0x1e50cefe580>"
      ]
     },
     "execution_count": 24,
     "metadata": {
      "application/vnd.holoviews_exec.v0+json": {
       "id": "1005"
      }
     },
     "output_type": "execute_result"
    }
   ],
   "source": [
    "temp_plot = temp_pipeline.hvplot(x = 'year', by='Country', y=yaxis_temp,line_width=2, title=\"Average temperature by country\")\n",
    "temp_plot"
   ]
  },
  {
   "cell_type": "code",
   "execution_count": 25,
   "id": "c19b6b87-cdcd-4543-a454-7171f6124c12",
   "metadata": {},
   "outputs": [
    {
     "data": {},
     "metadata": {},
     "output_type": "display_data"
    },
    {
     "data": {
      "application/vnd.holoviews_exec.v0+json": "",
      "text/html": [
       "<div id='6235'>\n",
       "\n",
       "\n",
       "\n",
       "\n",
       "\n",
       "  <div class=\"bk-root\" id=\"8ad25329-1588-44e5-9dcd-711f43181958\" data-root-id=\"6235\"></div>\n",
       "</div>\n",
       "<script type=\"application/javascript\">(function(root) {\n",
       "  function embed_document(root) {\n",
       "    var docs_json = {\"b1ff9b3d-6c1c-420a-9382-be5d02d854fc\":{\"defs\":[{\"extends\":null,\"module\":null,\"name\":\"ReactiveHTML1\",\"overrides\":[],\"properties\":[]},{\"extends\":null,\"module\":null,\"name\":\"FlexBox1\",\"overrides\":[],\"properties\":[{\"default\":\"flex-start\",\"kind\":null,\"name\":\"align_content\"},{\"default\":\"flex-start\",\"kind\":null,\"name\":\"align_items\"},{\"default\":\"row\",\"kind\":null,\"name\":\"flex_direction\"},{\"default\":\"wrap\",\"kind\":null,\"name\":\"flex_wrap\"},{\"default\":\"flex-start\",\"kind\":null,\"name\":\"justify_content\"}]},{\"extends\":null,\"module\":null,\"name\":\"TemplateActions1\",\"overrides\":[],\"properties\":[{\"default\":0,\"kind\":null,\"name\":\"open_modal\"},{\"default\":0,\"kind\":null,\"name\":\"close_modal\"}]},{\"extends\":null,\"module\":null,\"name\":\"MaterialTemplateActions1\",\"overrides\":[],\"properties\":[{\"default\":0,\"kind\":null,\"name\":\"open_modal\"},{\"default\":0,\"kind\":null,\"name\":\"close_modal\"}]}],\"roots\":{\"references\":[{\"attributes\":{},\"id\":\"6245\",\"type\":\"NumberFormatter\"},{\"attributes\":{\"indices\":[]},\"id\":\"6244\",\"type\":\"Selection\"},{\"attributes\":{\"children\":[{\"id\":\"6237\"},{\"id\":\"6242\"}],\"margin\":[0,0,0,0],\"name\":\"Column10743\"},\"id\":\"6236\",\"type\":\"Column\"},{\"attributes\":{\"active\":0,\"button_type\":\"success\",\"labels\":[\"AverageTemperature\",\"AverageTemperatureUncertainty\"],\"margin\":[5,10,5,10]},\"id\":\"6240\",\"type\":\"RadioButtonGroup\"},{\"attributes\":{},\"id\":\"6257\",\"type\":\"StringEditor\"},{\"attributes\":{\"format\":\"0,0.0[00000]\"},\"id\":\"6266\",\"type\":\"NumberFormatter\"},{\"attributes\":{\"editor\":{\"id\":\"6257\"},\"field\":\"City\",\"formatter\":{\"id\":\"6256\"},\"title\":\"City\",\"width\":0},\"id\":\"6258\",\"type\":\"TableColumn\"},{\"attributes\":{},\"id\":\"6267\",\"type\":\"NumberEditor\"},{\"attributes\":{\"data\":{\"AverageTemperature\":{\"__ndarray__\":\"YZ6ofyPUK0Bg5dAi2wksQHA9CtejQCxAEzyYJ+rvK0CZ4ME8UV8sQGDl0CLbmSxAn6h/I5RxLEBDGb0tawUtQClcj8L1mCtAXQFyr7nAK0A=\",\"dtype\":\"float64\",\"order\":\"little\",\"shape\":[10]},\"City\":[\"Kabul\",\"Kabul\",\"Kabul\",\"Kabul\",\"Kabul\",\"Kabul\",\"Kabul\",\"Kabul\",\"Kabul\",\"Kabul\"],\"Country\":[\"Afghanistan\",\"Afghanistan\",\"Afghanistan\",\"Afghanistan\",\"Afghanistan\",\"Afghanistan\",\"Afghanistan\",\"Afghanistan\",\"Afghanistan\",\"Afghanistan\"],\"index\":[0,1,2,3,4,5,6,7,8,9],\"year\":[1833,1869,1870,1871,1872,1873,1874,1875,1876,1878]},\"selected\":{\"id\":\"6244\"},\"selection_policy\":{\"id\":\"6273\"}},\"id\":\"6243\",\"type\":\"ColumnDataSource\"},{\"attributes\":{\"editor\":{\"id\":\"6262\"},\"field\":\"year\",\"formatter\":{\"id\":\"6261\"},\"title\":\"year\",\"width\":0},\"id\":\"6263\",\"type\":\"TableColumn\"},{\"attributes\":{\"columns\":[{\"id\":\"6248\"},{\"id\":\"6253\"},{\"id\":\"6258\"},{\"id\":\"6263\"},{\"id\":\"6268\"}],\"configuration\":{\"columns\":[{\"field\":\"index\"},{\"field\":\"Country\"},{\"field\":\"City\"},{\"field\":\"year\"},{\"field\":\"AverageTemperature\"}],\"dataTree\":false,\"selectable\":true},\"height\":330,\"indexes\":[\"index\"],\"layout\":\"fit_data_table\",\"margin\":[5,10,5,10],\"max_page\":868,\"name\":\"\",\"page\":1,\"page_size\":10,\"pagination\":\"remote\",\"selectable_rows\":null,\"sizing_mode\":\"stretch_width\",\"source\":{\"id\":\"6243\"}},\"id\":\"6271\",\"type\":\"panel.models.tabulator.DataTabulator\"},{\"attributes\":{\"client_comm_id\":\"dad7d67b0ed2475abe8e93b1f7e5877f\",\"comm_id\":\"d99cf0c569c94cc5b3475a14cbabec18\",\"plot_id\":\"6235\"},\"id\":\"6279\",\"type\":\"panel.models.comm_manager.CommManager\"},{\"attributes\":{\"editor\":{\"id\":\"6267\"},\"field\":\"AverageTemperature\",\"formatter\":{\"id\":\"6266\"},\"title\":\"AverageTemperature\",\"width\":0},\"id\":\"6268\",\"type\":\"TableColumn\"},{\"attributes\":{},\"id\":\"6273\",\"type\":\"UnionRenderers\"},{\"attributes\":{\"editor\":{\"id\":\"6252\"},\"field\":\"Country\",\"formatter\":{\"id\":\"6251\"},\"title\":\"Country\",\"width\":0},\"id\":\"6253\",\"type\":\"TableColumn\"},{\"attributes\":{\"children\":[{\"id\":\"6239\"},{\"id\":\"6240\"}],\"margin\":[0,0,0,0],\"name\":\"Column10709\"},\"id\":\"6238\",\"type\":\"Column\"},{\"attributes\":{},\"id\":\"6262\",\"type\":\"IntEditor\"},{\"attributes\":{},\"id\":\"6251\",\"type\":\"StringFormatter\"},{\"attributes\":{},\"id\":\"6256\",\"type\":\"StringFormatter\"},{\"attributes\":{\"children\":[{\"id\":\"6238\"},{\"id\":\"6241\"}],\"margin\":[0,0,0,0],\"name\":\"Row10742\"},\"id\":\"6237\",\"type\":\"Row\"},{\"attributes\":{},\"id\":\"6261\",\"type\":\"NumberFormatter\"},{\"attributes\":{},\"id\":\"6247\",\"type\":\"CellEditor\"},{\"attributes\":{\"end\":2013,\"margin\":[5,10,5,10],\"start\":1791,\"step\":5,\"title\":\"Year slider\",\"value\":1900},\"id\":\"6239\",\"type\":\"Slider\"},{\"attributes\":{},\"id\":\"6252\",\"type\":\"StringEditor\"},{\"attributes\":{\"editor\":{\"id\":\"6247\"},\"field\":\"index\",\"formatter\":{\"id\":\"6245\"},\"title\":\"index\",\"width\":0},\"id\":\"6248\",\"type\":\"TableColumn\"},{\"attributes\":{\"children\":[{\"id\":\"6271\"}],\"margin\":[0,0,0,0],\"name\":\"Row10714\"},\"id\":\"6242\",\"type\":\"Row\"},{\"attributes\":{\"children\":[{\"id\":\"6236\"}],\"margin\":[0,0,0,0],\"name\":\"Row10744\"},\"id\":\"6235\",\"type\":\"Row\"},{\"attributes\":{\"margin\":[5,5,5,5],\"name\":\"HSpacer10741\",\"sizing_mode\":\"stretch_width\"},\"id\":\"6241\",\"type\":\"Spacer\"}],\"root_ids\":[\"6235\",\"6279\"]},\"title\":\"Bokeh Application\",\"version\":\"2.4.1\"}};\n",
       "    var render_items = [{\"docid\":\"b1ff9b3d-6c1c-420a-9382-be5d02d854fc\",\"root_ids\":[\"6235\"],\"roots\":{\"6235\":\"8ad25329-1588-44e5-9dcd-711f43181958\"}}];\n",
       "    root.Bokeh.embed.embed_items_notebook(docs_json, render_items);\n",
       "  }\n",
       "  if (root.Bokeh !== undefined && root.Bokeh.Panel !== undefined && ( root['Tabulator'] !== undefined)) {\n",
       "    embed_document(root);\n",
       "  } else {\n",
       "    var attempts = 0;\n",
       "    var timer = setInterval(function(root) {\n",
       "      if (root.Bokeh !== undefined && root.Bokeh.Panel !== undefined && (root['Tabulator'] !== undefined)) {\n",
       "        clearInterval(timer);\n",
       "        embed_document(root);\n",
       "      } else if (document.readyState == \"complete\") {\n",
       "        attempts++;\n",
       "        if (attempts > 200) {\n",
       "          clearInterval(timer);\n",
       "          console.log(\"Bokeh: ERROR: Unable to run BokehJS code because BokehJS library is missing\");\n",
       "        }\n",
       "      }\n",
       "    }, 25, root)\n",
       "  }\n",
       "})(window);</script>"
      ],
      "text/plain": [
       "<hvplot.interactive.Interactive at 0x1e50cee3070>"
      ]
     },
     "execution_count": 25,
     "metadata": {
      "application/vnd.holoviews_exec.v0+json": {
       "id": "6235"
      }
     },
     "output_type": "execute_result"
    }
   ],
   "source": [
    "temp_table = temp_pipeline.pipe(pn.widgets.Tabulator, pagination='remote', page_size = 10, sizing_mode='stretch_width') \n",
    "temp_table"
   ]
  },
  {
   "cell_type": "code",
   "execution_count": 26,
   "id": "12b815bc-78cf-4c03-8108-78612f0d9082",
   "metadata": {},
   "outputs": [],
   "source": [
    "continents = ['AS ', 'AF', 'EU', 'SA', 'NA', 'OC']\n",
    "\n",
    "cont_pipeline = (\n",
    "    idf[\n",
    "        (idf.year <= year_slider) &\n",
    "        (idf.Country_continent.isin(continents))\n",
    "    ]\n",
    "    .groupby(['year','Country_continent'])[yaxis_temp].mean()\n",
    "    .to_frame()\n",
    "    .reset_index()\n",
    "    .sort_values(by='year')  \n",
    "    .reset_index(drop=True)\n",
    ")"
   ]
  },
  {
   "cell_type": "code",
   "execution_count": 27,
   "id": "cfee3bec-ad37-47bf-b092-7ceedef2b61c",
   "metadata": {},
   "outputs": [],
   "source": [
    "#cont_pipeline"
   ]
  },
  {
   "cell_type": "code",
   "execution_count": 28,
   "id": "4e78d962-94ff-43ec-9aab-9ca1180989c5",
   "metadata": {},
   "outputs": [
    {
     "data": {},
     "metadata": {},
     "output_type": "display_data"
    },
    {
     "data": {},
     "metadata": {},
     "output_type": "display_data"
    },
    {
     "data": {
      "application/vnd.holoviews_exec.v0+json": "",
      "text/html": [
       "<div id='6290'>\n",
       "\n",
       "\n",
       "\n",
       "\n",
       "\n",
       "  <div class=\"bk-root\" id=\"854ded6a-43fa-4f67-add5-be8efab2c140\" data-root-id=\"6290\"></div>\n",
       "</div>\n",
       "<script type=\"application/javascript\">(function(root) {\n",
       "  function embed_document(root) {\n",
       "    var docs_json = {\"9a0962e7-64fd-439a-a4e9-aaf6a6a21870\":{\"defs\":[{\"extends\":null,\"module\":null,\"name\":\"ReactiveHTML1\",\"overrides\":[],\"properties\":[]},{\"extends\":null,\"module\":null,\"name\":\"FlexBox1\",\"overrides\":[],\"properties\":[{\"default\":\"flex-start\",\"kind\":null,\"name\":\"align_content\"},{\"default\":\"flex-start\",\"kind\":null,\"name\":\"align_items\"},{\"default\":\"row\",\"kind\":null,\"name\":\"flex_direction\"},{\"default\":\"wrap\",\"kind\":null,\"name\":\"flex_wrap\"},{\"default\":\"flex-start\",\"kind\":null,\"name\":\"justify_content\"}]},{\"extends\":null,\"module\":null,\"name\":\"TemplateActions1\",\"overrides\":[],\"properties\":[{\"default\":0,\"kind\":null,\"name\":\"open_modal\"},{\"default\":0,\"kind\":null,\"name\":\"close_modal\"}]},{\"extends\":null,\"module\":null,\"name\":\"MaterialTemplateActions1\",\"overrides\":[],\"properties\":[{\"default\":0,\"kind\":null,\"name\":\"open_modal\"},{\"default\":0,\"kind\":null,\"name\":\"close_modal\"}]}],\"roots\":{\"references\":[{\"attributes\":{\"axis\":{\"id\":\"6313\"},\"coordinates\":null,\"dimension\":1,\"grid_line_color\":null,\"group\":null,\"ticker\":null},\"id\":\"6316\",\"type\":\"Grid\"},{\"attributes\":{\"fill_alpha\":{\"value\":0.1},\"fill_color\":{\"value\":\"#30a2da\"},\"hatch_alpha\":{\"value\":0.1},\"hatch_color\":{\"value\":\"#30a2da\"},\"line_alpha\":{\"value\":0.1},\"top\":{\"field\":\"AverageTemperature\"},\"width\":{\"value\":0.8},\"x\":{\"field\":\"Country_continent\"}},\"id\":\"6334\",\"type\":\"VBar\"},{\"attributes\":{\"bottom_units\":\"screen\",\"coordinates\":null,\"fill_alpha\":0.5,\"fill_color\":\"lightgrey\",\"group\":null,\"left_units\":\"screen\",\"level\":\"overlay\",\"line_alpha\":1.0,\"line_color\":\"black\",\"line_dash\":[4,4],\"line_width\":2,\"right_units\":\"screen\",\"syncable\":false,\"top_units\":\"screen\"},\"id\":\"6322\",\"type\":\"BoxAnnotation\"},{\"attributes\":{\"children\":[{\"id\":\"6294\"},{\"id\":\"6295\"}],\"margin\":[0,0,0,0],\"name\":\"Column11126\"},\"id\":\"6293\",\"type\":\"Column\"},{\"attributes\":{\"axis_label\":\"AverageTemperature\",\"coordinates\":null,\"formatter\":{\"id\":\"6343\"},\"group\":null,\"major_label_policy\":{\"id\":\"6344\"},\"ticker\":{\"id\":\"6314\"}},\"id\":\"6313\",\"type\":\"LinearAxis\"},{\"attributes\":{},\"id\":\"6314\",\"type\":\"BasicTicker\"},{\"attributes\":{},\"id\":\"6343\",\"type\":\"BasicTickFormatter\"},{\"attributes\":{},\"id\":\"6341\",\"type\":\"AllLabels\"},{\"attributes\":{\"fill_color\":{\"value\":\"#30a2da\"},\"hatch_color\":{\"value\":\"#30a2da\"},\"top\":{\"field\":\"AverageTemperature\"},\"width\":{\"value\":0.8},\"x\":{\"field\":\"Country_continent\"}},\"id\":\"6333\",\"type\":\"VBar\"},{\"attributes\":{\"children\":[{\"id\":\"6291\"}],\"margin\":[0,0,0,0],\"name\":\"Row11240\"},\"id\":\"6290\",\"type\":\"Row\"},{\"attributes\":{},\"id\":\"6317\",\"type\":\"SaveTool\"},{\"attributes\":{\"coordinates\":null,\"data_source\":{\"id\":\"6330\"},\"glyph\":{\"id\":\"6333\"},\"group\":null,\"hover_glyph\":null,\"muted_glyph\":{\"id\":\"6335\"},\"nonselection_glyph\":{\"id\":\"6334\"},\"selection_glyph\":{\"id\":\"6338\"},\"view\":{\"id\":\"6337\"}},\"id\":\"6336\",\"type\":\"GlyphRenderer\"},{\"attributes\":{},\"id\":\"6318\",\"type\":\"PanTool\"},{\"attributes\":{\"source\":{\"id\":\"6330\"}},\"id\":\"6337\",\"type\":\"CDSView\"},{\"attributes\":{},\"id\":\"6319\",\"type\":\"WheelZoomTool\"},{\"attributes\":{\"children\":[{\"id\":\"6292\"},{\"id\":\"6297\"}],\"margin\":[0,0,0,0],\"name\":\"Column11239\"},\"id\":\"6291\",\"type\":\"Column\"},{\"attributes\":{\"bottom\":{\"value\":0},\"fill_alpha\":{\"value\":1.0},\"fill_color\":{\"value\":\"#30a2da\"},\"hatch_alpha\":{\"value\":1.0},\"hatch_color\":{\"value\":\"#30a2da\"},\"hatch_scale\":{\"value\":12.0},\"hatch_weight\":{\"value\":1.0},\"line_alpha\":{\"value\":1.0},\"line_cap\":{\"value\":\"butt\"},\"line_color\":{\"value\":\"black\"},\"line_dash\":{\"value\":[]},\"line_dash_offset\":{\"value\":0},\"line_join\":{\"value\":\"bevel\"},\"line_width\":{\"value\":1},\"top\":{\"field\":\"AverageTemperature\"},\"width\":{\"value\":0.8},\"x\":{\"field\":\"Country_continent\"}},\"id\":\"6338\",\"type\":\"VBar\"},{\"attributes\":{\"overlay\":{\"id\":\"6322\"}},\"id\":\"6320\",\"type\":\"BoxZoomTool\"},{\"attributes\":{},\"id\":\"6352\",\"type\":\"UnionRenderers\"},{\"attributes\":{},\"id\":\"6321\",\"type\":\"ResetTool\"},{\"attributes\":{},\"id\":\"6306\",\"type\":\"CategoricalScale\"},{\"attributes\":{\"fill_alpha\":{\"value\":0.2},\"fill_color\":{\"value\":\"#30a2da\"},\"hatch_alpha\":{\"value\":0.2},\"hatch_color\":{\"value\":\"#30a2da\"},\"line_alpha\":{\"value\":0.2},\"top\":{\"field\":\"AverageTemperature\"},\"width\":{\"value\":0.8},\"x\":{\"field\":\"Country_continent\"}},\"id\":\"6335\",\"type\":\"VBar\"},{\"attributes\":{\"below\":[{\"id\":\"6310\"}],\"center\":[{\"id\":\"6312\"},{\"id\":\"6316\"}],\"height\":300,\"left\":[{\"id\":\"6313\"}],\"margin\":[5,5,5,5],\"min_border_bottom\":10,\"min_border_left\":10,\"min_border_right\":10,\"min_border_top\":10,\"renderers\":[{\"id\":\"6336\"}],\"sizing_mode\":\"fixed\",\"title\":{\"id\":\"6302\"},\"toolbar\":{\"id\":\"6323\"},\"width\":700,\"x_range\":{\"id\":\"6298\"},\"x_scale\":{\"id\":\"6306\"},\"y_range\":{\"id\":\"6299\"},\"y_scale\":{\"id\":\"6308\"}},\"id\":\"6301\",\"subtype\":\"Figure\",\"type\":\"Plot\"},{\"attributes\":{},\"id\":\"6340\",\"type\":\"CategoricalTickFormatter\"},{\"attributes\":{\"tools\":[{\"id\":\"6300\"},{\"id\":\"6317\"},{\"id\":\"6318\"},{\"id\":\"6319\"},{\"id\":\"6320\"},{\"id\":\"6321\"}]},\"id\":\"6323\",\"type\":\"Toolbar\"},{\"attributes\":{\"client_comm_id\":\"d6a5737b1efb485d8f2bf57a310577b6\",\"comm_id\":\"856672ba6c364d92a06a0e6bdc00898f\",\"plot_id\":\"6290\"},\"id\":\"6395\",\"type\":\"panel.models.comm_manager.CommManager\"},{\"attributes\":{\"end\":24.930190021929825,\"reset_end\":24.930190021929825,\"reset_start\":-2.910721820175439,\"start\":-2.910721820175439,\"tags\":[[[\"AverageTemperature\",\"AverageTemperature\",null]]]},\"id\":\"6299\",\"type\":\"Range1d\"},{\"attributes\":{\"end\":2013,\"margin\":[5,10,5,10],\"start\":1791,\"step\":5,\"title\":\"Year slider\",\"value\":1900},\"id\":\"6294\",\"type\":\"Slider\"},{\"attributes\":{},\"id\":\"6344\",\"type\":\"AllLabels\"},{\"attributes\":{\"factors\":[\"EU\",\"NA\",\"AF\",\"SA\",\"OC\"],\"tags\":[[[\"Country_continent\",\"Country_continent\",null]]]},\"id\":\"6298\",\"type\":\"FactorRange\"},{\"attributes\":{\"coordinates\":null,\"group\":null,\"text\":\"Temperature by continents\",\"text_color\":\"black\",\"text_font_size\":\"12pt\"},\"id\":\"6302\",\"type\":\"Title\"},{\"attributes\":{},\"id\":\"6308\",\"type\":\"LinearScale\"},{\"attributes\":{\"children\":[{\"id\":\"6293\"},{\"id\":\"6296\"}],\"margin\":[0,0,0,0],\"name\":\"Row11238\"},\"id\":\"6292\",\"type\":\"Row\"},{\"attributes\":{\"active\":0,\"button_type\":\"success\",\"labels\":[\"AverageTemperature\",\"AverageTemperatureUncertainty\"],\"margin\":[5,10,5,10]},\"id\":\"6295\",\"type\":\"RadioButtonGroup\"},{\"attributes\":{\"data\":{\"AverageTemperature\":{\"__ndarray__\":\"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\",\"dtype\":\"float64\",\"order\":\"little\",\"shape\":[591]},\"Country_continent\":[\"EU\",\"NA\",\"EU\",\"NA\",\"EU\",\"NA\",\"EU\",\"NA\",\"NA\",\"EU\",\"EU\",\"NA\",\"EU\",\"NA\",\"EU\",\"NA\",\"NA\",\"EU\",\"EU\",\"NA\",\"EU\",\"NA\",\"EU\",\"NA\",\"EU\",\"NA\",\"EU\",\"NA\",\"EU\",\"NA\",\"EU\",\"NA\",\"EU\",\"NA\",\"NA\",\"EU\",\"EU\",\"NA\",\"EU\",\"NA\",\"AF\",\"EU\",\"NA\",\"NA\",\"AF\",\"EU\",\"AF\",\"EU\",\"NA\",\"AF\",\"EU\",\"NA\",\"NA\",\"AF\",\"EU\",\"AF\",\"EU\",\"NA\",\"AF\",\"EU\",\"NA\",\"AF\",\"EU\",\"NA\",\"NA\",\"AF\",\"EU\",\"EU\",\"NA\",\"AF\",\"EU\",\"NA\",\"AF\",\"AF\",\"EU\",\"NA\",\"AF\",\"EU\",\"NA\",\"NA\",\"EU\",\"AF\",\"AF\",\"EU\",\"NA\",\"AF\",\"EU\",\"NA\",\"NA\",\"EU\",\"AF\",\"AF\",\"EU\",\"NA\",\"AF\",\"EU\",\"NA\",\"NA\",\"EU\",\"AF\",\"AF\",\"EU\",\"NA\",\"AF\",\"EU\",\"NA\",\"NA\",\"EU\",\"AF\",\"AF\",\"EU\",\"NA\",\"AF\",\"EU\",\"NA\",\"NA\",\"EU\",\"AF\",\"AF\",\"EU\",\"NA\",\"AF\",\"EU\",\"NA\",\"NA\",\"EU\",\"AF\",\"AF\",\"EU\",\"NA\",\"AF\",\"EU\",\"NA\",\"NA\",\"EU\",\"AF\",\"AF\",\"EU\",\"NA\",\"AF\",\"EU\",\"NA\",\"EU\",\"NA\",\"AF\",\"NA\",\"EU\",\"AF\",\"AF\",\"EU\",\"NA\",\"AF\",\"EU\",\"NA\",\"NA\",\"EU\",\"AF\",\"AF\",\"EU\",\"NA\",\"AF\",\"EU\",\"NA\",\"NA\",\"EU\",\"AF\",\"AF\",\"EU\",\"NA\",\"AF\",\"EU\",\"NA\",\"NA\",\"EU\",\"AF\",\"AF\",\"EU\",\"NA\",\"AF\",\"EU\",\"NA\",\"NA\",\"EU\",\"AF\",\"AF\",\"EU\",\"NA\",\"AF\",\"EU\",\"NA\",\"NA\",\"EU\",\"AF\",\"AF\",\"EU\",\"NA\",\"AF\",\"EU\",\"NA\",\"NA\",\"EU\",\"AF\",\"AF\",\"EU\",\"NA\",\"AF\",\"EU\",\"NA\",\"NA\",\"EU\",\"AF\",\"AF\",\"EU\",\"NA\",\"AF\",\"EU\",\"NA\",\"EU\",\"NA\",\"AF\",\"AF\",\"EU\",\"NA\",\"AF\",\"EU\",\"NA\",\"SA\",\"SA\",\"NA\",\"AF\",\"EU\",\"AF\",\"EU\",\"NA\",\"SA\",\"SA\",\"NA\",\"AF\",\"EU\",\"AF\",\"EU\",\"NA\",\"SA\",\"AF\",\"EU\",\"NA\",\"SA\",\"SA\",\"AF\",\"EU\",\"NA\",\"NA\",\"SA\",\"AF\",\"EU\",\"SA\",\"NA\",\"AF\",\"EU\",\"AF\",\"EU\",\"NA\",\"SA\",\"AF\",\"EU\",\"NA\",\"SA\",\"AF\",\"EU\",\"NA\",\"SA\",\"SA\",\"NA\",\"EU\",\"AF\",\"AF\",\"EU\",\"NA\",\"SA\",\"AF\",\"EU\",\"NA\",\"SA\",\"AF\",\"EU\",\"NA\",\"SA\",\"EU\",\"NA\",\"AF\",\"SA\",\"OC\",\"NA\",\"SA\",\"AF\",\"EU\",\"AF\",\"EU\",\"NA\",\"OC\",\"SA\",\"SA\",\"NA\",\"OC\",\"AF\",\"EU\",\"AF\",\"EU\",\"NA\",\"OC\",\"SA\",\"SA\",\"NA\",\"OC\",\"AF\",\"EU\",\"AF\",\"EU\",\"NA\",\"OC\",\"SA\",\"NA\",\"SA\",\"OC\",\"EU\",\"AF\",\"AF\",\"EU\",\"NA\",\"OC\",\"SA\",\"SA\",\"OC\",\"AF\",\"EU\",\"NA\",\"AF\",\"EU\",\"NA\",\"OC\",\"SA\",\"AF\",\"EU\",\"NA\",\"OC\",\"SA\",\"OC\",\"NA\",\"SA\",\"AF\",\"EU\",\"AF\",\"EU\",\"NA\",\"OC\",\"SA\",\"SA\",\"OC\",\"EU\",\"AF\",\"NA\",\"SA\",\"AF\",\"EU\",\"NA\",\"OC\",\"SA\",\"OC\",\"NA\",\"EU\",\"AF\",\"AF\",\"EU\",\"NA\",\"OC\",\"SA\",\"AF\",\"EU\",\"NA\",\"OC\",\"SA\",\"OC\",\"NA\",\"SA\",\"AF\",\"EU\",\"AF\",\"EU\",\"NA\",\"OC\",\"SA\",\"SA\",\"OC\",\"NA\",\"AF\",\"EU\",\"AF\",\"EU\",\"NA\",\"OC\",\"SA\",\"OC\",\"NA\",\"SA\",\"AF\",\"EU\",\"AF\",\"EU\",\"NA\",\"OC\",\"SA\",\"SA\",\"OC\",\"AF\",\"EU\",\"NA\",\"AF\",\"EU\",\"NA\",\"OC\",\"SA\",\"OC\",\"SA\",\"NA\",\"AF\",\"EU\",\"AF\",\"EU\",\"NA\",\"OC\",\"SA\",\"SA\",\"OC\",\"NA\",\"AF\",\"EU\",\"AF\",\"EU\",\"NA\",\"OC\",\"SA\",\"SA\",\"OC\",\"EU\",\"AF\",\"NA\",\"AF\",\"EU\",\"NA\",\"OC\",\"SA\",\"SA\",\"NA\",\"OC\",\"AF\",\"EU\",\"AF\",\"EU\",\"NA\",\"OC\",\"SA\",\"SA\",\"OC\",\"AF\",\"EU\",\"NA\",\"AF\",\"EU\",\"NA\",\"OC\",\"SA\",\"AF\",\"EU\",\"NA\",\"OC\",\"SA\",\"OC\",\"NA\",\"SA\",\"AF\",\"EU\",\"SA\",\"OC\",\"AF\",\"EU\",\"NA\",\"AF\",\"EU\",\"NA\",\"OC\",\"SA\",\"AF\",\"EU\",\"NA\",\"OC\",\"SA\",\"OC\",\"SA\",\"NA\",\"AF\",\"EU\",\"AF\",\"EU\",\"NA\",\"OC\",\"SA\",\"SA\",\"OC\",\"EU\",\"AF\",\"NA\",\"AF\",\"EU\",\"NA\",\"OC\",\"SA\",\"SA\",\"OC\",\"EU\",\"AF\",\"NA\",\"AF\",\"EU\",\"NA\",\"OC\",\"SA\",\"AF\",\"EU\",\"NA\",\"OC\",\"SA\",\"OC\",\"NA\",\"SA\",\"AF\",\"EU\",\"AF\",\"EU\",\"NA\",\"OC\",\"SA\",\"SA\",\"OC\",\"NA\",\"AF\",\"EU\",\"AF\",\"EU\",\"NA\",\"OC\",\"SA\",\"SA\",\"NA\",\"OC\",\"AF\",\"EU\",\"AF\",\"EU\",\"NA\",\"OC\",\"SA\",\"SA\",\"OC\",\"AF\",\"EU\",\"NA\",\"AF\",\"EU\",\"NA\",\"OC\",\"SA\",\"OC\",\"SA\",\"EU\",\"AF\",\"NA\",\"AF\",\"EU\",\"NA\",\"OC\",\"SA\",\"SA\",\"OC\",\"EU\",\"AF\",\"NA\",\"OC\",\"AF\",\"EU\",\"NA\",\"SA\"]},\"selected\":{\"id\":\"6331\"},\"selection_policy\":{\"id\":\"6352\"}},\"id\":\"6330\",\"type\":\"ColumnDataSource\"},{\"attributes\":{\"callback\":null,\"renderers\":[{\"id\":\"6336\"}],\"tags\":[\"hv_created\"],\"tooltips\":[[\"Country_continent\",\"@{Country_continent}\"],[\"AverageTemperature\",\"@{AverageTemperature}\"]]},\"id\":\"6300\",\"type\":\"HoverTool\"},{\"attributes\":{\"margin\":[5,5,5,5],\"name\":\"HSpacer11237\",\"sizing_mode\":\"stretch_width\"},\"id\":\"6296\",\"type\":\"Spacer\"},{\"attributes\":{},\"id\":\"6311\",\"type\":\"CategoricalTicker\"},{\"attributes\":{},\"id\":\"6331\",\"type\":\"Selection\"},{\"attributes\":{\"children\":[{\"id\":\"6301\"}],\"margin\":[0,0,0,0],\"name\":\"Row11131\"},\"id\":\"6297\",\"type\":\"Row\"},{\"attributes\":{\"axis\":{\"id\":\"6310\"},\"coordinates\":null,\"grid_line_color\":null,\"group\":null,\"ticker\":null},\"id\":\"6312\",\"type\":\"Grid\"},{\"attributes\":{\"axis_label\":\"Country_continent\",\"coordinates\":null,\"formatter\":{\"id\":\"6340\"},\"group\":null,\"major_label_policy\":{\"id\":\"6341\"},\"ticker\":{\"id\":\"6311\"}},\"id\":\"6310\",\"type\":\"CategoricalAxis\"}],\"root_ids\":[\"6290\",\"6395\"]},\"title\":\"Bokeh Application\",\"version\":\"2.4.1\"}};\n",
       "    var render_items = [{\"docid\":\"9a0962e7-64fd-439a-a4e9-aaf6a6a21870\",\"root_ids\":[\"6290\"],\"roots\":{\"6290\":\"854ded6a-43fa-4f67-add5-be8efab2c140\"}}];\n",
       "    root.Bokeh.embed.embed_items_notebook(docs_json, render_items);\n",
       "  }\n",
       "  if (root.Bokeh !== undefined && root.Bokeh.Panel !== undefined && ( root['Tabulator'] !== undefined)) {\n",
       "    embed_document(root);\n",
       "  } else {\n",
       "    var attempts = 0;\n",
       "    var timer = setInterval(function(root) {\n",
       "      if (root.Bokeh !== undefined && root.Bokeh.Panel !== undefined && (root['Tabulator'] !== undefined)) {\n",
       "        clearInterval(timer);\n",
       "        embed_document(root);\n",
       "      } else if (document.readyState == \"complete\") {\n",
       "        attempts++;\n",
       "        if (attempts > 200) {\n",
       "          clearInterval(timer);\n",
       "          console.log(\"Bokeh: ERROR: Unable to run BokehJS code because BokehJS library is missing\");\n",
       "        }\n",
       "      }\n",
       "    }, 25, root)\n",
       "  }\n",
       "})(window);</script>"
      ],
      "text/plain": [
       "<hvplot.interactive.Interactive at 0x1e50cfdc700>"
      ]
     },
     "execution_count": 28,
     "metadata": {
      "application/vnd.holoviews_exec.v0+json": {
       "id": "6290"
      }
     },
     "output_type": "execute_result"
    }
   ],
   "source": [
    "cont_pipeline_bar_plot = cont_pipeline.hvplot(kind='bar', \n",
    "                                                     x='Country_continent', \n",
    "                                                     y=yaxis_temp, \n",
    "                                                     title='Temperature by continents')\n",
    "cont_pipeline_bar_plot"
   ]
  },
  {
   "cell_type": "markdown",
   "id": "c19f74b5-544a-4015-8824-38d1b820d50a",
   "metadata": {},
   "source": [
    "# Creating attractive Dashboard"
   ]
  },
  {
   "cell_type": "code",
   "execution_count": 62,
   "id": "d769977a-b737-4203-b43c-ad286efd86d6",
   "metadata": {},
   "outputs": [
    {
     "name": "stdout",
     "output_type": "stream",
     "text": [
      "Launching server at http://localhost:62508\n"
     ]
    },
    {
     "data": {
      "text/plain": [
       "<bokeh.server.server.Server at 0x1e518cea400>"
      ]
     },
     "execution_count": 62,
     "metadata": {},
     "output_type": "execute_result"
    }
   ],
   "source": [
    "#Layout using Template\n",
    "template = pn.template.FastListTemplate(\n",
    "    title='Earth Surface Temperature dashboard', \n",
    "    sidebar=[pn.pane.Markdown(\"# Earth Surface Temperature and Climate Change\"), \n",
    "             pn.pane.Markdown(\"#### High Temperature are the primary driver of global climate change. It’s widely recognised that to avoid the worst impacts of climate change, the world needs to urgently reduce temperature. But, how this responsibility is shared between regions, countries, and individuals has been an endless point of contention in international discussions.\"), \n",
    "             pn.pane.PNG('Earth_Surface_Temperature.png', sizing_mode='scale_both'),\n",
    "             pn.pane.Markdown(\"## Settings\"),   \n",
    "             year_slider],\n",
    "    main=[pn.Row(pn.Column(yaxis_temp, \n",
    "                           cont_pipeline_bar_plot.panel(width=300), margin=(0,25)), \n",
    "                 temp_table.panel(width=600)), \n",
    "          pn.Row(pn.Column(temp_plot.panel(width=1000), margin=(0,25)), \n",
    "                 )],\n",
    "    accent_base_color=\"#88d8b0\",\n",
    "    header_background=\"#FF4500\",\n",
    ")\n",
    "template.show()\n",
    "#template.servable();"
   ]
  },
  {
   "cell_type": "code",
   "execution_count": null,
   "id": "e6f4d8f0-ae1c-46fd-bc7c-811651ceef0b",
   "metadata": {},
   "outputs": [],
   "source": []
  }
 ],
 "metadata": {
  "kernelspec": {
   "display_name": "Python 3 (ipykernel)",
   "language": "python",
   "name": "python3"
  },
  "language_info": {
   "codemirror_mode": {
    "name": "ipython",
    "version": 3
   },
   "file_extension": ".py",
   "mimetype": "text/x-python",
   "name": "python",
   "nbconvert_exporter": "python",
   "pygments_lexer": "ipython3",
   "version": "3.9.7"
  }
 },
 "nbformat": 4,
 "nbformat_minor": 5
}
